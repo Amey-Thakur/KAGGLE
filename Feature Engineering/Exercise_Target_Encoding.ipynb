{
  "nbformat": 4,
  "nbformat_minor": 0,
  "metadata": {
    "jupytext": {
      "cell_metadata_filter": "-all",
      "formats": "ipynb"
    },
    "kernelspec": {
      "display_name": "Python 3",
      "language": "python",
      "name": "python3"
    },
    "language_info": {
      "name": "python",
      "version": "3.7.10",
      "mimetype": "text/x-python",
      "codemirror_mode": {
        "name": "ipython",
        "version": 3
      },
      "pygments_lexer": "ipython3",
      "nbconvert_exporter": "python",
      "file_extension": ".py"
    },
    "colab": {
      "name": "Exercise: Target Encoding.ipynb",
      "provenance": [],
      "include_colab_link": true
    }
  },
  "cells": [
    {
      "cell_type": "markdown",
      "metadata": {
        "id": "view-in-github",
        "colab_type": "text"
      },
      "source": [
        "<a href=\"https://colab.research.google.com/github/Amey-Thakur/KAGGLE/blob/main/Exercise_Target_Encoding.ipynb\" target=\"_parent\"><img src=\"https://colab.research.google.com/assets/colab-badge.svg\" alt=\"Open In Colab\"/></a>"
      ]
    },
    {
      "cell_type": "markdown",
      "metadata": {
        "id": "cNrQ4nYgJwXs"
      },
      "source": [
        "**This notebook is an exercise in the [Feature Engineering](https://www.kaggle.com/learn/feature-engineering) course.  You can reference the tutorial at [this link](https://www.kaggle.com/ryanholbrook/target-encoding).**\n",
        "\n",
        "---\n"
      ]
    },
    {
      "cell_type": "markdown",
      "metadata": {
        "id": "iTxwsPv6JwXt"
      },
      "source": [
        "# Introduction #\n",
        "\n",
        "In this exercise, you'll apply target encoding to features in the [*Ames*](https://www.kaggle.com/c/house-prices-advanced-regression-techniques/data) dataset.\n",
        "\n",
        "Run this cell to set everything up!"
      ]
    },
    {
      "cell_type": "code",
      "metadata": {
        "execution": {
          "iopub.status.busy": "2021-07-25T05:32:13.351863Z",
          "iopub.execute_input": "2021-07-25T05:32:13.352221Z",
          "iopub.status.idle": "2021-07-25T05:32:13.405760Z",
          "shell.execute_reply.started": "2021-07-25T05:32:13.352161Z",
          "shell.execute_reply": "2021-07-25T05:32:13.404896Z"
        },
        "trusted": true,
        "id": "zj4YnEGsJwXu"
      },
      "source": [
        "# Setup feedback system\n",
        "from learntools.core import binder\n",
        "binder.bind(globals())\n",
        "from learntools.feature_engineering_new.ex6 import *\n",
        "\n",
        "import matplotlib.pyplot as plt\n",
        "import numpy as np\n",
        "import pandas as pd\n",
        "import seaborn as sns\n",
        "import warnings\n",
        "from category_encoders import MEstimateEncoder\n",
        "from sklearn.model_selection import cross_val_score\n",
        "from xgboost import XGBRegressor\n",
        "\n",
        "# Set Matplotlib defaults\n",
        "plt.style.use(\"seaborn-whitegrid\")\n",
        "plt.rc(\"figure\", autolayout=True)\n",
        "plt.rc(\n",
        "    \"axes\",\n",
        "    labelweight=\"bold\",\n",
        "    labelsize=\"large\",\n",
        "    titleweight=\"bold\",\n",
        "    titlesize=14,\n",
        "    titlepad=10,\n",
        ")\n",
        "warnings.filterwarnings('ignore')\n",
        "\n",
        "\n",
        "def score_dataset(X, y, model=XGBRegressor()):\n",
        "    # Label encoding for categoricals\n",
        "    for colname in X.select_dtypes([\"category\", \"object\"]):\n",
        "        X[colname], _ = X[colname].factorize()\n",
        "    # Metric for Housing competition is RMSLE (Root Mean Squared Log Error)\n",
        "    score = cross_val_score(\n",
        "        model, X, y, cv=5, scoring=\"neg_mean_squared_log_error\",\n",
        "    )\n",
        "    score = -1 * score.mean()\n",
        "    score = np.sqrt(score)\n",
        "    return score\n",
        "\n",
        "\n",
        "df = pd.read_csv(\"../input/fe-course-data/ames.csv\")"
      ],
      "execution_count": null,
      "outputs": []
    },
    {
      "cell_type": "markdown",
      "metadata": {
        "id": "0GGReJWPJwXv"
      },
      "source": [
        "-------------------------------------------------------------------------------\n",
        "\n",
        "First you'll need to choose which features you want to apply a target encoding to. Categorical features with a large number of categories are often good candidates. Run this cell to see how many categories each categorical feature in the *Ames* dataset has."
      ]
    },
    {
      "cell_type": "code",
      "metadata": {
        "execution": {
          "iopub.status.busy": "2021-07-25T05:32:13.407092Z",
          "iopub.execute_input": "2021-07-25T05:32:13.407401Z",
          "iopub.status.idle": "2021-07-25T05:32:13.442569Z",
          "shell.execute_reply.started": "2021-07-25T05:32:13.407372Z",
          "shell.execute_reply": "2021-07-25T05:32:13.441606Z"
        },
        "trusted": true,
        "id": "GkvL0HFUJwXw",
        "outputId": "3494126a-573b-440f-ac18-cb8aef5b0b3f"
      },
      "source": [
        "df.select_dtypes([\"object\"]).nunique()"
      ],
      "execution_count": null,
      "outputs": [
        {
          "output_type": "execute_result",
          "data": {
            "text/plain": [
              "MSSubClass       16\n",
              "MSZoning          7\n",
              "Street            2\n",
              "Alley             3\n",
              "LotShape          4\n",
              "LandContour       4\n",
              "Utilities         3\n",
              "LotConfig         5\n",
              "LandSlope         3\n",
              "Neighborhood     28\n",
              "Condition1        9\n",
              "Condition2        8\n",
              "BldgType          5\n",
              "HouseStyle        8\n",
              "OverallQual      10\n",
              "OverallCond       9\n",
              "RoofStyle         6\n",
              "RoofMatl          8\n",
              "Exterior1st      16\n",
              "Exterior2nd      17\n",
              "MasVnrType        5\n",
              "ExterQual         4\n",
              "ExterCond         5\n",
              "Foundation        6\n",
              "BsmtQual          6\n",
              "BsmtCond          6\n",
              "BsmtExposure      5\n",
              "BsmtFinType1      7\n",
              "BsmtFinType2      7\n",
              "Heating           6\n",
              "HeatingQC         5\n",
              "CentralAir        2\n",
              "Electrical        6\n",
              "KitchenQual       5\n",
              "Functional        8\n",
              "FireplaceQu       6\n",
              "GarageType        7\n",
              "GarageFinish      4\n",
              "GarageQual        6\n",
              "GarageCond        6\n",
              "PavedDrive        3\n",
              "PoolQC            5\n",
              "Fence             5\n",
              "MiscFeature       6\n",
              "SaleType         10\n",
              "SaleCondition     6\n",
              "dtype: int64"
            ]
          },
          "metadata": {
            "tags": []
          },
          "execution_count": 9
        }
      ]
    },
    {
      "cell_type": "markdown",
      "metadata": {
        "id": "WTHhdXWIJwXw"
      },
      "source": [
        "We talked about how the M-estimate encoding uses smoothing to improve estimates for rare categories. To see how many times a category occurs in the dataset, you can use the `value_counts` method. This cell shows the counts for `SaleType`, but you might want to consider others as well."
      ]
    },
    {
      "cell_type": "code",
      "metadata": {
        "execution": {
          "iopub.status.busy": "2021-07-25T05:32:13.444297Z",
          "iopub.execute_input": "2021-07-25T05:32:13.444563Z",
          "iopub.status.idle": "2021-07-25T05:32:13.452185Z",
          "shell.execute_reply.started": "2021-07-25T05:32:13.444538Z",
          "shell.execute_reply": "2021-07-25T05:32:13.451264Z"
        },
        "trusted": true,
        "id": "i1bxkuJKJwXx",
        "outputId": "264d999d-65ca-4d7a-a433-94b97f186ca3"
      },
      "source": [
        "df[\"SaleType\"].value_counts()"
      ],
      "execution_count": null,
      "outputs": [
        {
          "output_type": "execute_result",
          "data": {
            "text/plain": [
              "WD       2536\n",
              "New       239\n",
              "COD        87\n",
              "ConLD      26\n",
              "CWD        12\n",
              "ConLI       9\n",
              "ConLw       8\n",
              "Oth         7\n",
              "Con         5\n",
              "VWD         1\n",
              "Name: SaleType, dtype: int64"
            ]
          },
          "metadata": {
            "tags": []
          },
          "execution_count": 10
        }
      ]
    },
    {
      "cell_type": "markdown",
      "metadata": {
        "id": "DFbnW41_JwXy"
      },
      "source": [
        "# 1) Choose Features for Encoding\n",
        "\n",
        "Which features did you identify for target encoding? After you've thought about your answer, run the next cell for some discussion."
      ]
    },
    {
      "cell_type": "code",
      "metadata": {
        "execution": {
          "iopub.status.busy": "2021-07-25T05:32:13.453745Z",
          "iopub.execute_input": "2021-07-25T05:32:13.454306Z",
          "iopub.status.idle": "2021-07-25T05:32:13.464489Z",
          "shell.execute_reply.started": "2021-07-25T05:32:13.454264Z",
          "shell.execute_reply": "2021-07-25T05:32:13.463550Z"
        },
        "trusted": true,
        "id": "T6LPv0iqJwXy",
        "outputId": "4b2acea3-b948-477c-e8c0-5a85d0b4f6ac"
      },
      "source": [
        "# View the solution (Run this cell to receive credit!)\n",
        "q_1.check()"
      ],
      "execution_count": null,
      "outputs": [
        {
          "output_type": "display_data",
          "data": {
            "text/plain": [
              "<IPython.core.display.Javascript object>"
            ],
            "application/javascript": [
              "parent.postMessage({\"jupyterEvent\": \"custom.exercise_interaction\", \"data\": {\"outcomeType\": 1, \"valueTowardsCompletion\": 0.3333333333333333, \"interactionType\": 1, \"questionType\": 4, \"questionId\": \"1_Q1\", \"learnToolsVersion\": \"0.3.4\", \"failureMessage\": \"\", \"exceptionClass\": \"\", \"trace\": \"\"}}, \"*\")"
            ]
          },
          "metadata": {
            "tags": []
          }
        },
        {
          "output_type": "display_data",
          "data": {
            "text/plain": [
              "Correct: \n",
              "\n",
              " The `Neighborhood` feature looks promising. It has the most categories of any feature, and several categories are rare. Others that could be worth considering are `SaleType`, `MSSubClass`, `Exterior1st`, `Exterior2nd`. In fact, almost any of the nominal features would be worth trying because of the prevalence of rare categories."
            ],
            "text/markdown": "<span style=\"color:#33cc33\">Correct:</span> \n\n The `Neighborhood` feature looks promising. It has the most categories of any feature, and several categories are rare. Others that could be worth considering are `SaleType`, `MSSubClass`, `Exterior1st`, `Exterior2nd`. In fact, almost any of the nominal features would be worth trying because of the prevalence of rare categories."
          },
          "metadata": {
            "tags": []
          }
        }
      ]
    },
    {
      "cell_type": "markdown",
      "metadata": {
        "id": "BTUOII1SJwXz"
      },
      "source": [
        "-------------------------------------------------------------------------------\n",
        "\n",
        "Now you'll apply a target encoding to your choice of feature. As we discussed in the tutorial, to avoid overfitting, we need to fit the encoder on data heldout from the training set. Run this cell to create the encoding and training splits:"
      ]
    },
    {
      "cell_type": "code",
      "metadata": {
        "lines_to_next_cell": 2,
        "execution": {
          "iopub.status.busy": "2021-07-25T05:32:13.465785Z",
          "iopub.execute_input": "2021-07-25T05:32:13.466197Z",
          "iopub.status.idle": "2021-07-25T05:32:13.477203Z",
          "shell.execute_reply.started": "2021-07-25T05:32:13.466137Z",
          "shell.execute_reply": "2021-07-25T05:32:13.476291Z"
        },
        "trusted": true,
        "id": "4KdALQ87JwXz"
      },
      "source": [
        "# Encoding split\n",
        "X_encode = df.sample(frac=0.20, random_state=0)\n",
        "y_encode = X_encode.pop(\"SalePrice\")\n",
        "\n",
        "# Training split\n",
        "X_pretrain = df.drop(X_encode.index)\n",
        "y_train = X_pretrain.pop(\"SalePrice\")"
      ],
      "execution_count": null,
      "outputs": []
    },
    {
      "cell_type": "markdown",
      "metadata": {
        "id": "WZA8Q7lZJwX0"
      },
      "source": [
        "# 2) Apply M-Estimate Encoding\n",
        "\n",
        "Apply a target encoding to your choice of categorical features. Also choose a value for the smoothing parameter `m` (any value is okay for a correct answer)."
      ]
    },
    {
      "cell_type": "code",
      "metadata": {
        "lines_to_next_cell": 0,
        "execution": {
          "iopub.status.busy": "2021-07-25T05:32:13.478285Z",
          "iopub.execute_input": "2021-07-25T05:32:13.478777Z",
          "iopub.status.idle": "2021-07-25T05:32:13.546489Z",
          "shell.execute_reply.started": "2021-07-25T05:32:13.478748Z",
          "shell.execute_reply": "2021-07-25T05:32:13.545721Z"
        },
        "trusted": true,
        "id": "KsRGkxr2JwX0",
        "outputId": "bda68c48-f2e5-4f52-c6ac-9b13e312b7ef"
      },
      "source": [
        "# YOUR CODE HERE: Create the MEstimateEncoder\n",
        "# Choose a set of features to encode and a value for m\n",
        "encoder = MEstimateEncoder(\n",
        "    cols=[\"Neighborhood\"],\n",
        "    m=1.0,\n",
        ")\n",
        "\n",
        "# Fit the encoder on the encoding split\n",
        "encoder.fit(X_encode, y_encode)\n",
        "\n",
        "# Encode the training split\n",
        "X_train = encoder.transform(X_pretrain, y_train)\n",
        "# Check your answer\n",
        "q_2.check()"
      ],
      "execution_count": null,
      "outputs": [
        {
          "output_type": "display_data",
          "data": {
            "text/plain": [
              "<IPython.core.display.Javascript object>"
            ],
            "application/javascript": [
              "parent.postMessage({\"jupyterEvent\": \"custom.exercise_interaction\", \"data\": {\"outcomeType\": 1, \"valueTowardsCompletion\": 0.3333333333333333, \"interactionType\": 1, \"questionType\": 2, \"questionId\": \"2_Q2\", \"learnToolsVersion\": \"0.3.4\", \"failureMessage\": \"\", \"exceptionClass\": \"\", \"trace\": \"\"}}, \"*\")"
            ]
          },
          "metadata": {
            "tags": []
          }
        },
        {
          "output_type": "display_data",
          "data": {
            "text/plain": [
              "Correct"
            ],
            "text/markdown": "<span style=\"color:#33cc33\">Correct</span>"
          },
          "metadata": {
            "tags": []
          }
        }
      ]
    },
    {
      "cell_type": "code",
      "metadata": {
        "lines_to_next_cell": 0,
        "execution": {
          "iopub.status.busy": "2021-07-25T05:32:13.547453Z",
          "iopub.execute_input": "2021-07-25T05:32:13.547820Z",
          "iopub.status.idle": "2021-07-25T05:32:13.550784Z",
          "shell.execute_reply.started": "2021-07-25T05:32:13.547793Z",
          "shell.execute_reply": "2021-07-25T05:32:13.549830Z"
        },
        "trusted": true,
        "id": "faQuB9KQJwX1"
      },
      "source": [
        "# Lines below will give you a hint or solution code\n",
        "#q_2.hint()\n",
        "#q_2.solution()"
      ],
      "execution_count": null,
      "outputs": []
    },
    {
      "cell_type": "markdown",
      "metadata": {
        "id": "S3iwQoOZJwX1"
      },
      "source": [
        "If you'd like to see how the encoded feature compares to the target, you can run this cell:"
      ]
    },
    {
      "cell_type": "code",
      "metadata": {
        "execution": {
          "iopub.status.busy": "2021-07-25T05:32:13.552603Z",
          "iopub.execute_input": "2021-07-25T05:32:13.553098Z",
          "iopub.status.idle": "2021-07-25T05:32:14.014431Z",
          "shell.execute_reply.started": "2021-07-25T05:32:13.553070Z",
          "shell.execute_reply": "2021-07-25T05:32:14.013380Z"
        },
        "trusted": true,
        "id": "5xhtOl2HJwX2",
        "outputId": "83282b30-7575-4cf4-b411-27ecb58bc1b5"
      },
      "source": [
        "feature = encoder.cols\n",
        "\n",
        "plt.figure(dpi=90)\n",
        "ax = sns.distplot(y_train, kde=True, hist=False)\n",
        "ax = sns.distplot(X_train[feature], color='r', ax=ax, hist=True, kde=False, norm_hist=True)\n",
        "ax.set_xlabel(\"SalePrice\");"
      ],
      "execution_count": null,
      "outputs": [
        {
          "output_type": "display_data",
          "data": {
            "text/plain": [
              "<Figure size 540x360 with 1 Axes>"
            ],
            "image/png": "[encoded data removed]"
          },
          "metadata": {
            "tags": []
          }
        }
      ]
    },
    {
      "cell_type": "markdown",
      "metadata": {
        "id": "1aQmzMoXJwX2"
      },
      "source": [
        "From the distribution plots, does it seem like the encoding is informative?\n",
        "\n",
        "And this cell will show you the score of the encoded set compared to the original set:"
      ]
    },
    {
      "cell_type": "code",
      "metadata": {
        "execution": {
          "iopub.status.busy": "2021-07-25T05:32:14.016124Z",
          "iopub.execute_input": "2021-07-25T05:32:14.016577Z",
          "iopub.status.idle": "2021-07-25T05:32:19.407739Z",
          "shell.execute_reply.started": "2021-07-25T05:32:14.016532Z",
          "shell.execute_reply": "2021-07-25T05:32:19.406953Z"
        },
        "trusted": true,
        "id": "PsTB2kVjJwX2",
        "outputId": "1ad2ce84-3d6f-4d5d-8933-21842f85c5fb"
      },
      "source": [
        "X = df.copy()\n",
        "y = X.pop(\"SalePrice\")\n",
        "score_base = score_dataset(X, y)\n",
        "score_new = score_dataset(X_train, y_train)\n",
        "\n",
        "print(f\"Baseline Score: {score_base:.4f} RMSLE\")\n",
        "print(f\"Score with Encoding: {score_new:.4f} RMSLE\")"
      ],
      "execution_count": null,
      "outputs": [
        {
          "output_type": "stream",
          "text": [
            "Baseline Score: 0.1428 RMSLE\n",
            "Score with Encoding: 0.1402 RMSLE\n"
          ],
          "name": "stdout"
        }
      ]
    },
    {
      "cell_type": "markdown",
      "metadata": {
        "id": "veLoPSisJwX3"
      },
      "source": [
        "Do you think that target encoding was worthwhile in this case? Depending on which feature or features you chose, you may have ended up with a score significantly worse than the baseline. In that case, it's likely the extra information gained by the encoding couldn't make up for the loss of data used for the encoding."
      ]
    },
    {
      "cell_type": "markdown",
      "metadata": {
        "id": "1qFufpxsJwX4"
      },
      "source": [
        "-------------------------------------------------------------------------------\n",
        "\n",
        "In this question, you'll explore the problem of overfitting with target encodings. This will illustrate this importance of training fitting target encoders on data held-out from the training set.\n",
        "\n",
        "So let's see what happens when we fit the encoder and the model on the *same* dataset. To emphasize how dramatic the overfitting can be, we'll mean-encode a feature that should have no relationship with `SalePrice`, a count: `0, 1, 2, 3, 4, 5, ...`."
      ]
    },
    {
      "cell_type": "code",
      "metadata": {
        "execution": {
          "iopub.status.busy": "2021-07-25T05:32:19.408919Z",
          "iopub.execute_input": "2021-07-25T05:32:19.409347Z",
          "iopub.status.idle": "2021-07-25T05:32:22.509415Z",
          "shell.execute_reply.started": "2021-07-25T05:32:19.409307Z",
          "shell.execute_reply": "2021-07-25T05:32:22.508324Z"
        },
        "trusted": true,
        "id": "PvFHbqfiJwX4",
        "outputId": "a5045197-774d-4549-e184-1902dad269a4"
      },
      "source": [
        "# Try experimenting with the smoothing parameter m\n",
        "# Try 0, 1, 5, 50\n",
        "m = 0\n",
        "\n",
        "X = df.copy()\n",
        "y = X.pop('SalePrice')\n",
        "\n",
        "# Create an uninformative feature\n",
        "X[\"Count\"] = range(len(X))\n",
        "X[\"Count\"][1] = 0  # actually need one duplicate value to circumvent error-checking in MEstimateEncoder\n",
        "\n",
        "# fit and transform on the same dataset\n",
        "encoder = MEstimateEncoder(cols=\"Count\", m=m)\n",
        "X = encoder.fit_transform(X, y)\n",
        "\n",
        "# Results\n",
        "score =  score_dataset(X, y)\n",
        "print(f\"Score: {score:.4f} RMSLE\")"
      ],
      "execution_count": null,
      "outputs": [
        {
          "output_type": "stream",
          "text": [
            "Score: 0.0293 RMSLE\n"
          ],
          "name": "stdout"
        }
      ]
    },
    {
      "cell_type": "markdown",
      "metadata": {
        "id": "xOZ_xvjUJwX5"
      },
      "source": [
        "Almost a perfect score!"
      ]
    },
    {
      "cell_type": "code",
      "metadata": {
        "execution": {
          "iopub.status.busy": "2021-07-25T05:32:22.510852Z",
          "iopub.execute_input": "2021-07-25T05:32:22.511441Z",
          "iopub.status.idle": "2021-07-25T05:32:22.915652Z",
          "shell.execute_reply.started": "2021-07-25T05:32:22.511391Z",
          "shell.execute_reply": "2021-07-25T05:32:22.914677Z"
        },
        "trusted": true,
        "id": "MoZ6WPesJwX5",
        "outputId": "824fb988-fa25-47a9-d205-2c8fa448a3da"
      },
      "source": [
        "plt.figure(dpi=90)\n",
        "ax = sns.distplot(y, kde=True, hist=False)\n",
        "ax = sns.distplot(X[\"Count\"], color='r', ax=ax, hist=True, kde=False, norm_hist=True)\n",
        "ax.set_xlabel(\"SalePrice\");"
      ],
      "execution_count": null,
      "outputs": [
        {
          "output_type": "display_data",
          "data": {
            "text/plain": [
              "<Figure size 540x360 with 1 Axes>"
            ],
            "image/png": "[encoded data removed]"
          },
          "metadata": {
            "tags": []
          }
        }
      ]
    },
    {
      "cell_type": "markdown",
      "metadata": {
        "id": "M-IlZ6DAJwX5"
      },
      "source": [
        "And the distributions are almost exactly the same, too.\n",
        "\n",
        "# 3) Overfitting with Target Encoders\n",
        "\n",
        "Based on your understanding of how mean-encoding works, can you explain how XGBoost was able to get an almost a perfect fit after mean-encoding the count feature?"
      ]
    },
    {
      "cell_type": "code",
      "metadata": {
        "lines_to_next_cell": 0,
        "execution": {
          "iopub.status.busy": "2021-07-25T05:32:22.917009Z",
          "iopub.execute_input": "2021-07-25T05:32:22.917558Z",
          "iopub.status.idle": "2021-07-25T05:32:22.925324Z",
          "shell.execute_reply.started": "2021-07-25T05:32:22.917515Z",
          "shell.execute_reply": "2021-07-25T05:32:22.924344Z"
        },
        "trusted": true,
        "id": "n1LrcZDnJwX6",
        "outputId": "3d67d48d-ef29-4b3c-ddf6-89488d8680bb"
      },
      "source": [
        "# View the solution (Run this cell to receive credit!)\n",
        "q_3.check()"
      ],
      "execution_count": null,
      "outputs": [
        {
          "output_type": "display_data",
          "data": {
            "text/plain": [
              "<IPython.core.display.Javascript object>"
            ],
            "application/javascript": [
              "parent.postMessage({\"jupyterEvent\": \"custom.exercise_interaction\", \"data\": {\"outcomeType\": 1, \"valueTowardsCompletion\": 0.3333333333333333, \"interactionType\": 1, \"questionType\": 4, \"questionId\": \"3_Q3\", \"learnToolsVersion\": \"0.3.4\", \"failureMessage\": \"\", \"exceptionClass\": \"\", \"trace\": \"\"}}, \"*\")"
            ]
          },
          "metadata": {
            "tags": []
          }
        },
        {
          "output_type": "display_data",
          "data": {
            "text/plain": [
              "Correct: \n",
              "\n",
              "\n",
              "Since `Count` never has any duplicate values, the mean-encoded `Count` is essentially an exact copy of the target. In other words, mean-encoding turned a completely meaningless feature into a perfect feature.\n",
              "\n",
              "Now, the only reason this worked is because we trained XGBoost on the same set we used to train the encoder. If we had used a hold-out set instead, none of this \"fake\" encoding would have transferred to the training data.\n",
              "\n",
              "The lesson is that when using a target encoder it's very important to use separate data sets for training the encoder and training the model. Otherwise the results can be very disappointing!"
            ],
            "text/markdown": "<span style=\"color:#33cc33\">Correct:</span> \n\n\nSince `Count` never has any duplicate values, the mean-encoded `Count` is essentially an exact copy of the target. In other words, mean-encoding turned a completely meaningless feature into a perfect feature.\n\nNow, the only reason this worked is because we trained XGBoost on the same set we used to train the encoder. If we had used a hold-out set instead, none of this \"fake\" encoding would have transferred to the training data.\n\nThe lesson is that when using a target encoder it's very important to use separate data sets for training the encoder and training the model. Otherwise the results can be very disappointing!\n"
          },
          "metadata": {
            "tags": []
          }
        }
      ]
    },
    {
      "cell_type": "code",
      "metadata": {
        "execution": {
          "iopub.status.busy": "2021-07-25T05:32:22.926679Z",
          "iopub.execute_input": "2021-07-25T05:32:22.927008Z",
          "iopub.status.idle": "2021-07-25T05:32:22.933632Z",
          "shell.execute_reply.started": "2021-07-25T05:32:22.926968Z",
          "shell.execute_reply": "2021-07-25T05:32:22.932719Z"
        },
        "trusted": true,
        "id": "Obj_CHI9JwX6"
      },
      "source": [
        "# Uncomment this if you'd like a hint before seeing the answer\n",
        "#q_3.hint()"
      ],
      "execution_count": null,
      "outputs": []
    },
    {
      "cell_type": "markdown",
      "metadata": {
        "id": "2-aEwR_MJwX6"
      },
      "source": [
        "# The End #\n",
        "\n",
        "That's it for *Feature Engineering*! We hope you enjoyed your time with us.\n",
        "\n",
        "Now, are you ready to try out your new skills? Now would be a great time to join our [Housing Prices](https://www.kaggle.com/c/house-prices-advanced-regression-techniques) Getting Started competition. We've even prepared a [Bonus Lesson]() that collects all the work we've done together into a starter notebook.\n",
        "\n",
        "# References #\n",
        "Here are some great resources you might like to consult for more information. They all played a part in shaping this course:\n",
        "- *The Art of Feature Engineering*, a book by Pablo Duboue.\n",
        "- *An Empirical Analysis of Feature Engineering for Predictive Modeling*, an article by Jeff Heaton.\n",
        "- *Feature Engineering for Machine Learning*, a book by Alice Zheng and Amanda Casari. The tutorial on clustering was inspired by this excellent book.\n",
        "- *Feature Engineering and Selection*, a book by Max Kuhn and Kjell Johnson."
      ]
    },
    {
      "cell_type": "markdown",
      "metadata": {
        "id": "sX2eKo0tJwX6"
      },
      "source": [
        "---\n",
        "\n",
        "\n",
        "\n",
        "\n",
        "*Have questions or comments? Visit the [Learn Discussion forum](https://www.kaggle.com/learn-forum/221677) to chat with other Learners.*"
      ]
    }
  ]
}