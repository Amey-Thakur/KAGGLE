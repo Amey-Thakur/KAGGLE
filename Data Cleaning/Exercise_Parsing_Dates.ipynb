{
  "nbformat": 4,
  "nbformat_minor": 0,
  "metadata": {
    "kernelspec": {
      "language": "python",
      "display_name": "Python 3",
      "name": "python3"
    },
    "language_info": {
      "name": "python",
      "version": "3.7.10",
      "mimetype": "text/x-python",
      "codemirror_mode": {
        "name": "ipython",
        "version": 3
      },
      "pygments_lexer": "ipython3",
      "nbconvert_exporter": "python",
      "file_extension": ".py"
    },
    "colab": {
      "name": "Exercise: Parsing Dates.ipynb",
      "provenance": [],
      "include_colab_link": true
    }
  },
  "cells": [
    {
      "cell_type": "markdown",
      "metadata": {
        "id": "view-in-github",
        "colab_type": "text"
      },
      "source": [
        "<a href=\"https://colab.research.google.com/github/Amey-Thakur/KAGGLE/blob/main/Exercise_Parsing_Dates.ipynb\" target=\"_parent\"><img src=\"https://colab.research.google.com/assets/colab-badge.svg\" alt=\"Open In Colab\"/></a>"
      ]
    },
    {
      "cell_type": "markdown",
      "metadata": {
        "id": "jBMXf9jVXbyQ"
      },
      "source": [
        "**This notebook is an exercise in the [Data Cleaning](https://www.kaggle.com/learn/data-cleaning) course.  You can reference the tutorial at [this link](https://www.kaggle.com/alexisbcook/parsing-dates).**\n",
        "\n",
        "---\n"
      ]
    },
    {
      "cell_type": "markdown",
      "metadata": {
        "id": "v9W5rhXGXbyT"
      },
      "source": [
        "In this exercise, you'll apply what you learned in the **Parsing dates** tutorial.\n",
        "\n",
        "# Setup\n",
        "\n",
        "The questions below will give you feedback on your work. Run the following cell to set up the feedback system."
      ]
    },
    {
      "cell_type": "code",
      "metadata": {
        "execution": {
          "iopub.status.busy": "2021-07-23T07:55:57.293656Z",
          "iopub.execute_input": "2021-07-23T07:55:57.294326Z",
          "iopub.status.idle": "2021-07-23T07:55:57.300060Z",
          "shell.execute_reply.started": "2021-07-23T07:55:57.294265Z",
          "shell.execute_reply": "2021-07-23T07:55:57.299074Z"
        },
        "trusted": true,
        "id": "4WsnkKZaXbyU",
        "outputId": "fc8a440e-e8b4-4e92-84df-3355b5082375"
      },
      "source": [
        "from learntools.core import binder\n",
        "binder.bind(globals())\n",
        "from learntools.data_cleaning.ex3 import *\n",
        "print(\"Setup Complete\")"
      ],
      "execution_count": null,
      "outputs": [
        {
          "output_type": "stream",
          "text": [
            "Setup Complete\n"
          ],
          "name": "stdout"
        }
      ]
    },
    {
      "cell_type": "markdown",
      "metadata": {
        "id": "b6RPcPqDXbyV"
      },
      "source": [
        "# Get our environment set up\n",
        "\n",
        "The first thing we'll need to do is load in the libraries and dataset we'll be using. We'll be working with a dataset containing information on earthquakes that occured between 1965 and 2016."
      ]
    },
    {
      "cell_type": "code",
      "metadata": {
        "execution": {
          "iopub.status.busy": "2021-07-23T07:55:57.301704Z",
          "iopub.execute_input": "2021-07-23T07:55:57.302149Z",
          "iopub.status.idle": "2021-07-23T07:55:57.410437Z",
          "shell.execute_reply.started": "2021-07-23T07:55:57.302116Z",
          "shell.execute_reply": "2021-07-23T07:55:57.409482Z"
        },
        "trusted": true,
        "id": "AzVBpBw2XbyV"
      },
      "source": [
        "# modules we'll use\n",
        "import pandas as pd\n",
        "import numpy as np\n",
        "import seaborn as sns\n",
        "import datetime\n",
        "\n",
        "# read in our data\n",
        "earthquakes = pd.read_csv(\"../input/earthquake-database/database.csv\")\n",
        "\n",
        "# set seed for reproducibility\n",
        "np.random.seed(0)"
      ],
      "execution_count": null,
      "outputs": []
    },
    {
      "cell_type": "markdown",
      "metadata": {
        "id": "lBIRZkt8XbyV"
      },
      "source": [
        "# 1) Check the data type of our date column\n",
        "\n",
        "You'll be working with the \"Date\" column from the `earthquakes` dataframe.  Investigate this column now: does it look like it contains dates?  What is the dtype of the column?"
      ]
    },
    {
      "cell_type": "code",
      "metadata": {
        "execution": {
          "iopub.status.busy": "2021-07-23T07:55:57.411981Z",
          "iopub.execute_input": "2021-07-23T07:55:57.412540Z",
          "iopub.status.idle": "2021-07-23T07:55:57.419478Z",
          "shell.execute_reply.started": "2021-07-23T07:55:57.412490Z",
          "shell.execute_reply": "2021-07-23T07:55:57.418398Z"
        },
        "trusted": true,
        "id": "Xl4O-KAbXbyW",
        "outputId": "6679e882-1b24-497c-c4c3-03a3a00d2d3a"
      },
      "source": [
        "# TODO: Your code here!\n",
        "earthquakes['Date'].head()\n",
        "earthquakes['Date'].dtype\n"
      ],
      "execution_count": null,
      "outputs": [
        {
          "output_type": "execute_result",
          "data": {
            "text/plain": [
              "dtype('O')"
            ]
          },
          "metadata": {
            "tags": []
          },
          "execution_count": 60
        }
      ]
    },
    {
      "cell_type": "markdown",
      "metadata": {
        "id": "uKDY0p7GXbyW"
      },
      "source": [
        "Once you have answered the question above, run the code cell below to get credit for your work."
      ]
    },
    {
      "cell_type": "code",
      "metadata": {
        "execution": {
          "iopub.status.busy": "2021-07-23T07:55:57.421503Z",
          "iopub.execute_input": "2021-07-23T07:55:57.422170Z",
          "iopub.status.idle": "2021-07-23T07:55:57.437459Z",
          "shell.execute_reply.started": "2021-07-23T07:55:57.422121Z",
          "shell.execute_reply": "2021-07-23T07:55:57.436129Z"
        },
        "trusted": true,
        "id": "0z9n_ANvXbyX",
        "outputId": "c2f745a8-106f-4214-e029-d0dd6f6f5c0f"
      },
      "source": [
        "# Check your answer (Run this code cell to receive credit!)\n",
        "q1.check()"
      ],
      "execution_count": null,
      "outputs": [
        {
          "output_type": "display_data",
          "data": {
            "text/plain": [
              "<IPython.core.display.Javascript object>"
            ],
            "application/javascript": [
              "parent.postMessage({\"jupyterEvent\": \"custom.exercise_interaction\", \"data\": {\"outcomeType\": 1, \"valueTowardsCompletion\": 0.25, \"interactionType\": 1, \"questionType\": 4, \"questionId\": \"1_CheckDtype\", \"learnToolsVersion\": \"0.3.4\", \"failureMessage\": \"\", \"exceptionClass\": \"\", \"trace\": \"\"}}, \"*\")"
            ]
          },
          "metadata": {
            "tags": []
          }
        },
        {
          "output_type": "display_data",
          "data": {
            "text/plain": [
              "Correct: \n",
              "\n",
              "The \"Date\" column in the `earthquakes` DataFrame does have dates.  The dtype is \"object\"."
            ],
            "text/markdown": "<span style=\"color:#33cc33\">Correct:</span> \n\nThe \"Date\" column in the `earthquakes` DataFrame does have dates.  The dtype is \"object\"."
          },
          "metadata": {
            "tags": []
          }
        }
      ]
    },
    {
      "cell_type": "code",
      "metadata": {
        "execution": {
          "iopub.status.busy": "2021-07-23T07:55:57.439115Z",
          "iopub.execute_input": "2021-07-23T07:55:57.439540Z",
          "iopub.status.idle": "2021-07-23T07:55:57.446107Z",
          "shell.execute_reply.started": "2021-07-23T07:55:57.439495Z",
          "shell.execute_reply": "2021-07-23T07:55:57.444551Z"
        },
        "trusted": true,
        "id": "XIu-ciylXbyX"
      },
      "source": [
        "# Line below will give you a hint\n",
        "#q1.hint()"
      ],
      "execution_count": null,
      "outputs": []
    },
    {
      "cell_type": "markdown",
      "metadata": {
        "id": "Q4eBa3-iXbyX"
      },
      "source": [
        "# 2) Convert our date columns to datetime\n",
        "\n",
        "Most of the entries in the \"Date\" column follow the same format: \"month/day/four-digit year\".  However, the entry at index 3378 follows a completely different pattern.  Run the code cell below to see this."
      ]
    },
    {
      "cell_type": "code",
      "metadata": {
        "execution": {
          "iopub.status.busy": "2021-07-23T07:55:57.448242Z",
          "iopub.execute_input": "2021-07-23T07:55:57.448785Z",
          "iopub.status.idle": "2021-07-23T07:55:57.488412Z",
          "shell.execute_reply.started": "2021-07-23T07:55:57.448734Z",
          "shell.execute_reply": "2021-07-23T07:55:57.487300Z"
        },
        "trusted": true,
        "id": "CmZtYzdtXbyY",
        "outputId": "2b345180-6f4b-4e17-a0e9-24885fb3c305"
      },
      "source": [
        "earthquakes[3378:3383]"
      ],
      "execution_count": null,
      "outputs": [
        {
          "output_type": "execute_result",
          "data": {
            "text/plain": [
              "                          Date                      Time  Latitude  Longitude  \\\n",
              "3378  1975-02-23T02:58:41.000Z  1975-02-23T02:58:41.000Z     8.017    124.075   \n",
              "3379                02/23/1975                  03:53:36   -21.727    -71.356   \n",
              "3380                02/23/1975                  07:34:11   -10.879    166.667   \n",
              "3381                02/25/1975                  05:20:05    -7.388    149.798   \n",
              "3382                02/26/1975                  04:48:55    85.047     97.969   \n",
              "\n",
              "            Type  Depth  Depth Error  Depth Seismic Stations  Magnitude  \\\n",
              "3378  Earthquake  623.0          NaN                     NaN        5.6   \n",
              "3379  Earthquake   33.0          NaN                     NaN        5.6   \n",
              "3380  Earthquake   33.0          NaN                     NaN        5.5   \n",
              "3381  Earthquake   33.0          NaN                     NaN        5.5   \n",
              "3382  Earthquake   33.0          NaN                     NaN        5.6   \n",
              "\n",
              "     Magnitude Type  ...  Magnitude Seismic Stations  Azimuthal Gap  \\\n",
              "3378             MB  ...                         NaN            NaN   \n",
              "3379             MB  ...                         NaN            NaN   \n",
              "3380             MS  ...                         NaN            NaN   \n",
              "3381             MB  ...                         NaN            NaN   \n",
              "3382             MS  ...                         NaN            NaN   \n",
              "\n",
              "      Horizontal Distance  Horizontal Error  Root Mean Square          ID  \\\n",
              "3378                  NaN               NaN               NaN  USP0000A09   \n",
              "3379                  NaN               NaN               NaN  USP0000A0A   \n",
              "3380                  NaN               NaN               NaN  USP0000A0C   \n",
              "3381                  NaN               NaN               NaN  USP0000A12   \n",
              "3382                  NaN               NaN               NaN  USP0000A1H   \n",
              "\n",
              "     Source Location Source Magnitude Source    Status  \n",
              "3378     US              US               US  Reviewed  \n",
              "3379     US              US               US  Reviewed  \n",
              "3380     US              US               US  Reviewed  \n",
              "3381     US              US               US  Reviewed  \n",
              "3382     US              US               US  Reviewed  \n",
              "\n",
              "[5 rows x 21 columns]"
            ],
            "text/html": [
              "<div>\n",
              "<style scoped>\n",
              "    .dataframe tbody tr th:only-of-type {\n",
              "        vertical-align: middle;\n",
              "    }\n",
              "\n",
              "    .dataframe tbody tr th {\n",
              "        vertical-align: top;\n",
              "    }\n",
              "\n",
              "    .dataframe thead th {\n",
              "        text-align: right;\n",
              "    }\n",
              "</style>\n",
              "<table border=\"1\" class=\"dataframe\">\n",
              "  <thead>\n",
              "    <tr style=\"text-align: right;\">\n",
              "      <th></th>\n",
              "      <th>Date</th>\n",
              "      <th>Time</th>\n",
              "      <th>Latitude</th>\n",
              "      <th>Longitude</th>\n",
              "      <th>Type</th>\n",
              "      <th>Depth</th>\n",
              "      <th>Depth Error</th>\n",
              "      <th>Depth Seismic Stations</th>\n",
              "      <th>Magnitude</th>\n",
              "      <th>Magnitude Type</th>\n",
              "      <th>...</th>\n",
              "      <th>Magnitude Seismic Stations</th>\n",
              "      <th>Azimuthal Gap</th>\n",
              "      <th>Horizontal Distance</th>\n",
              "      <th>Horizontal Error</th>\n",
              "      <th>Root Mean Square</th>\n",
              "      <th>ID</th>\n",
              "      <th>Source</th>\n",
              "      <th>Location Source</th>\n",
              "      <th>Magnitude Source</th>\n",
              "      <th>Status</th>\n",
              "    </tr>\n",
              "  </thead>\n",
              "  <tbody>\n",
              "    <tr>\n",
              "      <th>3378</th>\n",
              "      <td>1975-02-23T02:58:41.000Z</td>\n",
              "      <td>1975-02-23T02:58:41.000Z</td>\n",
              "      <td>8.017</td>\n",
              "      <td>124.075</td>\n",
              "      <td>Earthquake</td>\n",
              "      <td>623.0</td>\n",
              "      <td>NaN</td>\n",
              "      <td>NaN</td>\n",
              "      <td>5.6</td>\n",
              "      <td>MB</td>\n",
              "      <td>...</td>\n",
              "      <td>NaN</td>\n",
              "      <td>NaN</td>\n",
              "      <td>NaN</td>\n",
              "      <td>NaN</td>\n",
              "      <td>NaN</td>\n",
              "      <td>USP0000A09</td>\n",
              "      <td>US</td>\n",
              "      <td>US</td>\n",
              "      <td>US</td>\n",
              "      <td>Reviewed</td>\n",
              "    </tr>\n",
              "    <tr>\n",
              "      <th>3379</th>\n",
              "      <td>02/23/1975</td>\n",
              "      <td>03:53:36</td>\n",
              "      <td>-21.727</td>\n",
              "      <td>-71.356</td>\n",
              "      <td>Earthquake</td>\n",
              "      <td>33.0</td>\n",
              "      <td>NaN</td>\n",
              "      <td>NaN</td>\n",
              "      <td>5.6</td>\n",
              "      <td>MB</td>\n",
              "      <td>...</td>\n",
              "      <td>NaN</td>\n",
              "      <td>NaN</td>\n",
              "      <td>NaN</td>\n",
              "      <td>NaN</td>\n",
              "      <td>NaN</td>\n",
              "      <td>USP0000A0A</td>\n",
              "      <td>US</td>\n",
              "      <td>US</td>\n",
              "      <td>US</td>\n",
              "      <td>Reviewed</td>\n",
              "    </tr>\n",
              "    <tr>\n",
              "      <th>3380</th>\n",
              "      <td>02/23/1975</td>\n",
              "      <td>07:34:11</td>\n",
              "      <td>-10.879</td>\n",
              "      <td>166.667</td>\n",
              "      <td>Earthquake</td>\n",
              "      <td>33.0</td>\n",
              "      <td>NaN</td>\n",
              "      <td>NaN</td>\n",
              "      <td>5.5</td>\n",
              "      <td>MS</td>\n",
              "      <td>...</td>\n",
              "      <td>NaN</td>\n",
              "      <td>NaN</td>\n",
              "      <td>NaN</td>\n",
              "      <td>NaN</td>\n",
              "      <td>NaN</td>\n",
              "      <td>USP0000A0C</td>\n",
              "      <td>US</td>\n",
              "      <td>US</td>\n",
              "      <td>US</td>\n",
              "      <td>Reviewed</td>\n",
              "    </tr>\n",
              "    <tr>\n",
              "      <th>3381</th>\n",
              "      <td>02/25/1975</td>\n",
              "      <td>05:20:05</td>\n",
              "      <td>-7.388</td>\n",
              "      <td>149.798</td>\n",
              "      <td>Earthquake</td>\n",
              "      <td>33.0</td>\n",
              "      <td>NaN</td>\n",
              "      <td>NaN</td>\n",
              "      <td>5.5</td>\n",
              "      <td>MB</td>\n",
              "      <td>...</td>\n",
              "      <td>NaN</td>\n",
              "      <td>NaN</td>\n",
              "      <td>NaN</td>\n",
              "      <td>NaN</td>\n",
              "      <td>NaN</td>\n",
              "      <td>USP0000A12</td>\n",
              "      <td>US</td>\n",
              "      <td>US</td>\n",
              "      <td>US</td>\n",
              "      <td>Reviewed</td>\n",
              "    </tr>\n",
              "    <tr>\n",
              "      <th>3382</th>\n",
              "      <td>02/26/1975</td>\n",
              "      <td>04:48:55</td>\n",
              "      <td>85.047</td>\n",
              "      <td>97.969</td>\n",
              "      <td>Earthquake</td>\n",
              "      <td>33.0</td>\n",
              "      <td>NaN</td>\n",
              "      <td>NaN</td>\n",
              "      <td>5.6</td>\n",
              "      <td>MS</td>\n",
              "      <td>...</td>\n",
              "      <td>NaN</td>\n",
              "      <td>NaN</td>\n",
              "      <td>NaN</td>\n",
              "      <td>NaN</td>\n",
              "      <td>NaN</td>\n",
              "      <td>USP0000A1H</td>\n",
              "      <td>US</td>\n",
              "      <td>US</td>\n",
              "      <td>US</td>\n",
              "      <td>Reviewed</td>\n",
              "    </tr>\n",
              "  </tbody>\n",
              "</table>\n",
              "<p>5 rows × 21 columns</p>\n",
              "</div>"
            ]
          },
          "metadata": {
            "tags": []
          },
          "execution_count": 63
        }
      ]
    },
    {
      "cell_type": "markdown",
      "metadata": {
        "id": "EwOPEb_bXbyY"
      },
      "source": [
        "This does appear to be an issue with data entry: ideally, all entries in the column have the same format.  We can get an idea of how widespread this issue is by checking the length of each entry in the \"Date\" column."
      ]
    },
    {
      "cell_type": "code",
      "metadata": {
        "execution": {
          "iopub.status.busy": "2021-07-23T07:55:57.491371Z",
          "iopub.execute_input": "2021-07-23T07:55:57.492045Z",
          "iopub.status.idle": "2021-07-23T07:55:57.518441Z",
          "shell.execute_reply.started": "2021-07-23T07:55:57.491985Z",
          "shell.execute_reply": "2021-07-23T07:55:57.517290Z"
        },
        "trusted": true,
        "id": "z84j5DzXXbyY",
        "outputId": "61b52b84-4689-4f2d-973c-fc46a0ec4aa7"
      },
      "source": [
        "date_lengths = earthquakes.Date.str.len()\n",
        "date_lengths.value_counts()"
      ],
      "execution_count": null,
      "outputs": [
        {
          "output_type": "execute_result",
          "data": {
            "text/plain": [
              "10    23409\n",
              "24        3\n",
              "Name: Date, dtype: int64"
            ]
          },
          "metadata": {
            "tags": []
          },
          "execution_count": 64
        }
      ]
    },
    {
      "cell_type": "markdown",
      "metadata": {
        "id": "cJxJP69sXbyY"
      },
      "source": [
        "Looks like there are two more rows that has a date in a different format.  Run the code cell below to obtain the indices corresponding to those rows and print the data."
      ]
    },
    {
      "cell_type": "code",
      "metadata": {
        "execution": {
          "iopub.status.busy": "2021-07-23T07:55:57.520338Z",
          "iopub.execute_input": "2021-07-23T07:55:57.520681Z",
          "iopub.status.idle": "2021-07-23T07:55:57.556795Z",
          "shell.execute_reply.started": "2021-07-23T07:55:57.520650Z",
          "shell.execute_reply": "2021-07-23T07:55:57.555780Z"
        },
        "trusted": true,
        "id": "ii25yh1IXbyZ",
        "outputId": "1b4a9cdb-7ffa-4b79-ac61-9e7bf52594e4"
      },
      "source": [
        "indices = np.where([date_lengths == 24])[1]\n",
        "print('Indices with corrupted data:', indices)\n",
        "earthquakes.loc[indices]"
      ],
      "execution_count": null,
      "outputs": [
        {
          "output_type": "stream",
          "text": [
            "Indices with corrupted data: [ 3378  7512 20650]\n"
          ],
          "name": "stdout"
        },
        {
          "output_type": "execute_result",
          "data": {
            "text/plain": [
              "                           Date                      Time  Latitude  \\\n",
              "3378   1975-02-23T02:58:41.000Z  1975-02-23T02:58:41.000Z     8.017   \n",
              "7512   1985-04-28T02:53:41.530Z  1985-04-28T02:53:41.530Z   -32.998   \n",
              "20650  2011-03-13T02:23:34.520Z  2011-03-13T02:23:34.520Z    36.344   \n",
              "\n",
              "       Longitude        Type  Depth  Depth Error  Depth Seismic Stations  \\\n",
              "3378     124.075  Earthquake  623.0          NaN                     NaN   \n",
              "7512     -71.766  Earthquake   33.0          NaN                     NaN   \n",
              "20650    142.344  Earthquake   10.1         13.9                   289.0   \n",
              "\n",
              "       Magnitude Magnitude Type  ...  Magnitude Seismic Stations  \\\n",
              "3378         5.6             MB  ...                         NaN   \n",
              "7512         5.6             MW  ...                         NaN   \n",
              "20650        5.8            MWC  ...                         NaN   \n",
              "\n",
              "       Azimuthal Gap  Horizontal Distance  Horizontal Error  Root Mean Square  \\\n",
              "3378             NaN                  NaN               NaN               NaN   \n",
              "7512             NaN                  NaN               NaN              1.30   \n",
              "20650           32.3                  NaN               NaN              1.06   \n",
              "\n",
              "               ID Source Location Source Magnitude Source    Status  \n",
              "3378   USP0000A09     US              US               US  Reviewed  \n",
              "7512   USP0002E81     US              US              HRV  Reviewed  \n",
              "20650  USP000HWQP     US              US             GCMT  Reviewed  \n",
              "\n",
              "[3 rows x 21 columns]"
            ],
            "text/html": [
              "<div>\n",
              "<style scoped>\n",
              "    .dataframe tbody tr th:only-of-type {\n",
              "        vertical-align: middle;\n",
              "    }\n",
              "\n",
              "    .dataframe tbody tr th {\n",
              "        vertical-align: top;\n",
              "    }\n",
              "\n",
              "    .dataframe thead th {\n",
              "        text-align: right;\n",
              "    }\n",
              "</style>\n",
              "<table border=\"1\" class=\"dataframe\">\n",
              "  <thead>\n",
              "    <tr style=\"text-align: right;\">\n",
              "      <th></th>\n",
              "      <th>Date</th>\n",
              "      <th>Time</th>\n",
              "      <th>Latitude</th>\n",
              "      <th>Longitude</th>\n",
              "      <th>Type</th>\n",
              "      <th>Depth</th>\n",
              "      <th>Depth Error</th>\n",
              "      <th>Depth Seismic Stations</th>\n",
              "      <th>Magnitude</th>\n",
              "      <th>Magnitude Type</th>\n",
              "      <th>...</th>\n",
              "      <th>Magnitude Seismic Stations</th>\n",
              "      <th>Azimuthal Gap</th>\n",
              "      <th>Horizontal Distance</th>\n",
              "      <th>Horizontal Error</th>\n",
              "      <th>Root Mean Square</th>\n",
              "      <th>ID</th>\n",
              "      <th>Source</th>\n",
              "      <th>Location Source</th>\n",
              "      <th>Magnitude Source</th>\n",
              "      <th>Status</th>\n",
              "    </tr>\n",
              "  </thead>\n",
              "  <tbody>\n",
              "    <tr>\n",
              "      <th>3378</th>\n",
              "      <td>1975-02-23T02:58:41.000Z</td>\n",
              "      <td>1975-02-23T02:58:41.000Z</td>\n",
              "      <td>8.017</td>\n",
              "      <td>124.075</td>\n",
              "      <td>Earthquake</td>\n",
              "      <td>623.0</td>\n",
              "      <td>NaN</td>\n",
              "      <td>NaN</td>\n",
              "      <td>5.6</td>\n",
              "      <td>MB</td>\n",
              "      <td>...</td>\n",
              "      <td>NaN</td>\n",
              "      <td>NaN</td>\n",
              "      <td>NaN</td>\n",
              "      <td>NaN</td>\n",
              "      <td>NaN</td>\n",
              "      <td>USP0000A09</td>\n",
              "      <td>US</td>\n",
              "      <td>US</td>\n",
              "      <td>US</td>\n",
              "      <td>Reviewed</td>\n",
              "    </tr>\n",
              "    <tr>\n",
              "      <th>7512</th>\n",
              "      <td>1985-04-28T02:53:41.530Z</td>\n",
              "      <td>1985-04-28T02:53:41.530Z</td>\n",
              "      <td>-32.998</td>\n",
              "      <td>-71.766</td>\n",
              "      <td>Earthquake</td>\n",
              "      <td>33.0</td>\n",
              "      <td>NaN</td>\n",
              "      <td>NaN</td>\n",
              "      <td>5.6</td>\n",
              "      <td>MW</td>\n",
              "      <td>...</td>\n",
              "      <td>NaN</td>\n",
              "      <td>NaN</td>\n",
              "      <td>NaN</td>\n",
              "      <td>NaN</td>\n",
              "      <td>1.30</td>\n",
              "      <td>USP0002E81</td>\n",
              "      <td>US</td>\n",
              "      <td>US</td>\n",
              "      <td>HRV</td>\n",
              "      <td>Reviewed</td>\n",
              "    </tr>\n",
              "    <tr>\n",
              "      <th>20650</th>\n",
              "      <td>2011-03-13T02:23:34.520Z</td>\n",
              "      <td>2011-03-13T02:23:34.520Z</td>\n",
              "      <td>36.344</td>\n",
              "      <td>142.344</td>\n",
              "      <td>Earthquake</td>\n",
              "      <td>10.1</td>\n",
              "      <td>13.9</td>\n",
              "      <td>289.0</td>\n",
              "      <td>5.8</td>\n",
              "      <td>MWC</td>\n",
              "      <td>...</td>\n",
              "      <td>NaN</td>\n",
              "      <td>32.3</td>\n",
              "      <td>NaN</td>\n",
              "      <td>NaN</td>\n",
              "      <td>1.06</td>\n",
              "      <td>USP000HWQP</td>\n",
              "      <td>US</td>\n",
              "      <td>US</td>\n",
              "      <td>GCMT</td>\n",
              "      <td>Reviewed</td>\n",
              "    </tr>\n",
              "  </tbody>\n",
              "</table>\n",
              "<p>3 rows × 21 columns</p>\n",
              "</div>"
            ]
          },
          "metadata": {
            "tags": []
          },
          "execution_count": 65
        }
      ]
    },
    {
      "cell_type": "markdown",
      "metadata": {
        "id": "tmygT88gXbyZ"
      },
      "source": [
        "Given all of this information, it's your turn to create a new column \"date_parsed\" in the `earthquakes` dataset that has correctly parsed dates in it.  \n",
        "\n",
        "**Note**: When completing this problem, you are allowed to (but are not required to) amend the entries in the \"Date\" and \"Time\" columns.  Do not remove any rows from the dataset."
      ]
    },
    {
      "cell_type": "code",
      "metadata": {
        "execution": {
          "iopub.status.busy": "2021-07-23T07:55:57.558117Z",
          "iopub.execute_input": "2021-07-23T07:55:57.558425Z",
          "iopub.status.idle": "2021-07-23T07:55:57.635105Z",
          "shell.execute_reply.started": "2021-07-23T07:55:57.558395Z",
          "shell.execute_reply": "2021-07-23T07:55:57.634011Z"
        },
        "trusted": true,
        "id": "2pPpJ3UeXbyZ",
        "outputId": "efd8a748-7502-4d89-a9c2-03dd54a1f0f3"
      },
      "source": [
        "# TODO: Your code here\n",
        "earthquakes.loc[3378, \"Date\"] = \"02/23/1975\"\n",
        "earthquakes.loc[7512, \"Date\"] = \"04/28/1985\"\n",
        "earthquakes.loc[20650, \"Date\"] = \"03/13/2011\"\n",
        "earthquakes['date_parsed'] = pd.to_datetime(earthquakes['Date'], format=\"%m/%d/%Y\")\n",
        "\n",
        "# Check your answer\n",
        "q2.check()"
      ],
      "execution_count": null,
      "outputs": [
        {
          "output_type": "display_data",
          "data": {
            "text/plain": [
              "<IPython.core.display.Javascript object>"
            ],
            "application/javascript": [
              "parent.postMessage({\"jupyterEvent\": \"custom.exercise_interaction\", \"data\": {\"outcomeType\": 1, \"valueTowardsCompletion\": 0.25, \"interactionType\": 1, \"questionType\": 2, \"questionId\": \"2_ConvertToDatetime\", \"learnToolsVersion\": \"0.3.4\", \"failureMessage\": \"\", \"exceptionClass\": \"\", \"trace\": \"\"}}, \"*\")"
            ]
          },
          "metadata": {
            "tags": []
          }
        },
        {
          "output_type": "display_data",
          "data": {
            "text/plain": [
              "Correct"
            ],
            "text/markdown": "<span style=\"color:#33cc33\">Correct</span>"
          },
          "metadata": {
            "tags": []
          }
        }
      ]
    },
    {
      "cell_type": "code",
      "metadata": {
        "execution": {
          "iopub.status.busy": "2021-07-23T07:55:57.637614Z",
          "iopub.execute_input": "2021-07-23T07:55:57.637985Z",
          "iopub.status.idle": "2021-07-23T07:55:57.642396Z",
          "shell.execute_reply.started": "2021-07-23T07:55:57.637934Z",
          "shell.execute_reply": "2021-07-23T07:55:57.641689Z"
        },
        "trusted": true,
        "id": "znHxAOz2Xbya"
      },
      "source": [
        "# Lines below will give you a hint or solution code\n",
        "#q2.hint()\n",
        "#q2.solution()"
      ],
      "execution_count": null,
      "outputs": []
    },
    {
      "cell_type": "markdown",
      "metadata": {
        "id": "hsA78DkhXbya"
      },
      "source": [
        "# 3) Select the day of the month\n",
        "\n",
        "Create a Pandas Series `day_of_month_earthquakes` containing the day of the month from the \"date_parsed\" column."
      ]
    },
    {
      "cell_type": "code",
      "metadata": {
        "execution": {
          "iopub.status.busy": "2021-07-23T07:55:57.643703Z",
          "iopub.execute_input": "2021-07-23T07:55:57.644222Z",
          "iopub.status.idle": "2021-07-23T07:55:57.664320Z",
          "shell.execute_reply.started": "2021-07-23T07:55:57.644182Z",
          "shell.execute_reply": "2021-07-23T07:55:57.663118Z"
        },
        "trusted": true,
        "id": "qEAvpP1PXbya",
        "outputId": "031d3ddf-21b6-449a-e2d5-81c1e452ec27"
      },
      "source": [
        "# try to get the day of the month from the date column\n",
        "day_of_month_earthquakes = earthquakes['date_parsed'].dt.day\n",
        "\n",
        "# Check your answer\n",
        "q3.check()"
      ],
      "execution_count": null,
      "outputs": [
        {
          "output_type": "display_data",
          "data": {
            "text/plain": [
              "<IPython.core.display.Javascript object>"
            ],
            "application/javascript": [
              "parent.postMessage({\"jupyterEvent\": \"custom.exercise_interaction\", \"data\": {\"outcomeType\": 1, \"valueTowardsCompletion\": 0.25, \"interactionType\": 1, \"questionType\": 1, \"questionId\": \"3_DayOfMonth\", \"learnToolsVersion\": \"0.3.4\", \"failureMessage\": \"\", \"exceptionClass\": \"\", \"trace\": \"\"}}, \"*\")"
            ]
          },
          "metadata": {
            "tags": []
          }
        },
        {
          "output_type": "display_data",
          "data": {
            "text/plain": [
              "Correct"
            ],
            "text/markdown": "<span style=\"color:#33cc33\">Correct</span>"
          },
          "metadata": {
            "tags": []
          }
        }
      ]
    },
    {
      "cell_type": "code",
      "metadata": {
        "execution": {
          "iopub.status.busy": "2021-07-23T07:55:57.666165Z",
          "iopub.execute_input": "2021-07-23T07:55:57.666621Z",
          "iopub.status.idle": "2021-07-23T07:55:57.671893Z",
          "shell.execute_reply.started": "2021-07-23T07:55:57.666567Z",
          "shell.execute_reply": "2021-07-23T07:55:57.671062Z"
        },
        "trusted": true,
        "id": "LnP9D4nFXbya"
      },
      "source": [
        "# Lines below will give you a hint or solution code\n",
        "#q3.hint()\n",
        "#q3.solution()"
      ],
      "execution_count": null,
      "outputs": []
    },
    {
      "cell_type": "markdown",
      "metadata": {
        "id": "ZOIP9HTiXbyb"
      },
      "source": [
        "# 4) Plot the day of the month to check the date parsing\n",
        "\n",
        "Plot the days of the month from your earthquake dataset."
      ]
    },
    {
      "cell_type": "code",
      "metadata": {
        "execution": {
          "iopub.status.busy": "2021-07-23T07:55:57.673248Z",
          "iopub.execute_input": "2021-07-23T07:55:57.673707Z",
          "iopub.status.idle": "2021-07-23T07:55:57.936897Z",
          "shell.execute_reply.started": "2021-07-23T07:55:57.673667Z",
          "shell.execute_reply": "2021-07-23T07:55:57.936019Z"
        },
        "trusted": true,
        "id": "GrxCVd3aXbyb",
        "outputId": "0488b6eb-85c5-4339-fe28-9685c0ecb6d5"
      },
      "source": [
        "# TODO: Your code here!\n",
        "\n",
        "# remove na's\n",
        "day_of_month_earthquakes = day_of_month_earthquakes.dropna()\n",
        "\n",
        "# plot the day of the month\n",
        "sns.distplot(day_of_month_earthquakes, kde=False, bins=31)"
      ],
      "execution_count": null,
      "outputs": [
        {
          "output_type": "stream",
          "text": [
            "/opt/conda/lib/python3.7/site-packages/seaborn/distributions.py:2557: FutureWarning: `distplot` is a deprecated function and will be removed in a future version. Please adapt your code to use either `displot` (a figure-level function with similar flexibility) or `histplot` (an axes-level function for histograms).\n",
            "  warnings.warn(msg, FutureWarning)\n"
          ],
          "name": "stderr"
        },
        {
          "output_type": "execute_result",
          "data": {
            "text/plain": [
              "<AxesSubplot:xlabel='date_parsed'>"
            ]
          },
          "metadata": {
            "tags": []
          },
          "execution_count": 70
        },
        {
          "output_type": "display_data",
          "data": {
            "text/plain": [
              "<Figure size 432x288 with 1 Axes>"
            ],
            "image/png": "[encoded data removed]"
          },
          "metadata": {
            "tags": [],
            "needs_background": "light"
          }
        }
      ]
    },
    {
      "cell_type": "markdown",
      "metadata": {
        "id": "yOSz5b7JXbyb"
      },
      "source": [
        "Does the graph make sense to you?"
      ]
    },
    {
      "cell_type": "code",
      "metadata": {
        "execution": {
          "iopub.status.busy": "2021-07-23T07:55:57.938290Z",
          "iopub.execute_input": "2021-07-23T07:55:57.938928Z",
          "iopub.status.idle": "2021-07-23T07:55:57.948802Z",
          "shell.execute_reply.started": "2021-07-23T07:55:57.938863Z",
          "shell.execute_reply": "2021-07-23T07:55:57.947894Z"
        },
        "trusted": true,
        "id": "Q1S9Q5ihXbyb",
        "outputId": "0e30df03-5afe-4939-b84c-41ec7c249d08"
      },
      "source": [
        "# Check your answer (Run this code cell to receive credit!)\n",
        "q4.check()"
      ],
      "execution_count": null,
      "outputs": [
        {
          "output_type": "display_data",
          "data": {
            "text/plain": [
              "<IPython.core.display.Javascript object>"
            ],
            "application/javascript": [
              "parent.postMessage({\"jupyterEvent\": \"custom.exercise_interaction\", \"data\": {\"outcomeType\": 1, \"valueTowardsCompletion\": 0.25, \"interactionType\": 1, \"questionType\": 4, \"questionId\": \"4_PlotDayOfMonth\", \"learnToolsVersion\": \"0.3.4\", \"failureMessage\": \"\", \"exceptionClass\": \"\", \"trace\": \"\"}}, \"*\")"
            ]
          },
          "metadata": {
            "tags": []
          }
        },
        {
          "output_type": "display_data",
          "data": {
            "text/plain": [
              "Correct: \n",
              "\n",
              "The graph should make sense: it shows a relatively even distribution in days of the month,which is what we would expect."
            ],
            "text/markdown": "<span style=\"color:#33cc33\">Correct:</span> \n\nThe graph should make sense: it shows a relatively even distribution in days of the month,which is what we would expect."
          },
          "metadata": {
            "tags": []
          }
        }
      ]
    },
    {
      "cell_type": "code",
      "metadata": {
        "execution": {
          "iopub.status.busy": "2021-07-23T07:55:57.950311Z",
          "iopub.execute_input": "2021-07-23T07:55:57.950612Z",
          "iopub.status.idle": "2021-07-23T07:55:57.956935Z",
          "shell.execute_reply.started": "2021-07-23T07:55:57.950580Z",
          "shell.execute_reply": "2021-07-23T07:55:57.955792Z"
        },
        "trusted": true,
        "id": "T7LsQy0GXbyc"
      },
      "source": [
        "# Line below will give you a hint\n",
        "#q4.hint()"
      ],
      "execution_count": null,
      "outputs": []
    },
    {
      "cell_type": "markdown",
      "metadata": {
        "id": "nT1xczZeXbyc"
      },
      "source": [
        "# (Optional) Bonus Challenge\n",
        "\n",
        "For an extra challenge, you'll work with a [Smithsonian dataset](https://www.kaggle.com/smithsonian/volcanic-eruptions) that documents Earth's volcanoes and their eruptive history over the past 10,000 years \n",
        "\n",
        "Run the next code cell to load the data."
      ]
    },
    {
      "cell_type": "code",
      "metadata": {
        "execution": {
          "iopub.status.busy": "2021-07-23T07:55:57.958300Z",
          "iopub.execute_input": "2021-07-23T07:55:57.958607Z",
          "iopub.status.idle": "2021-07-23T07:55:57.983612Z",
          "shell.execute_reply.started": "2021-07-23T07:55:57.958576Z",
          "shell.execute_reply": "2021-07-23T07:55:57.982615Z"
        },
        "trusted": true,
        "id": "43FWn5UTXbyc"
      },
      "source": [
        "volcanos = pd.read_csv(\"../input/volcanic-eruptions/database.csv\")"
      ],
      "execution_count": null,
      "outputs": []
    },
    {
      "cell_type": "markdown",
      "metadata": {
        "id": "L11H7I-QXbyc"
      },
      "source": [
        "Try parsing the column \"Last Known Eruption\" from the `volcanos` dataframe. This column contains a mixture of text (\"Unknown\") and years both before the common era (BCE, also known as BC) and in the common era (CE, also known as AD)."
      ]
    },
    {
      "cell_type": "code",
      "metadata": {
        "execution": {
          "iopub.status.busy": "2021-07-23T07:55:57.984940Z",
          "iopub.execute_input": "2021-07-23T07:55:57.985239Z",
          "iopub.status.idle": "2021-07-23T07:55:57.993782Z",
          "shell.execute_reply.started": "2021-07-23T07:55:57.985209Z",
          "shell.execute_reply": "2021-07-23T07:55:57.992645Z"
        },
        "trusted": true,
        "id": "MAxMYZ24Xbyd",
        "outputId": "7ebbc9e2-8374-47dc-e4ca-bb29206cef8e"
      },
      "source": [
        "volcanos['Last Known Eruption'].sample(5)"
      ],
      "execution_count": null,
      "outputs": [
        {
          "output_type": "execute_result",
          "data": {
            "text/plain": [
              "764     Unknown\n",
              "1069    1996 CE\n",
              "34      1855 CE\n",
              "489     2016 CE\n",
              "9       1302 CE\n",
              "Name: Last Known Eruption, dtype: object"
            ]
          },
          "metadata": {
            "tags": []
          },
          "execution_count": 74
        }
      ]
    },
    {
      "cell_type": "markdown",
      "metadata": {
        "id": "K3nZ8uW9Xbyd"
      },
      "source": [
        "# (Optional) More practice\n",
        "\n",
        "If you're interested in graphing time series, [check out this tutorial](https://www.kaggle.com/residentmario/time-series-plotting-optional).\n",
        "\n",
        "You can also look into passing columns that you know have dates in them  the `parse_dates` argument in `read_csv`. (The documention [is here](https://pandas.pydata.org/pandas-docs/stable/generated/pandas.read_csv.html).) Do note that this method can be very slow, but depending on your needs it may sometimes be handy to use.\n",
        "\n",
        "# Keep going\n",
        "\n",
        "In the next lesson, learn how to [**work with character encodings**](https://www.kaggle.com/alexisbcook/character-encodings)."
      ]
    },
    {
      "cell_type": "markdown",
      "metadata": {
        "id": "G2un-l0GXbye"
      },
      "source": [
        "---\n",
        "\n",
        "\n",
        "\n",
        "\n",
        "*Have questions or comments? Visit the [Learn Discussion forum](https://www.kaggle.com/learn-forum/172650) to chat with other Learners.*"
      ]
    }
  ]
}