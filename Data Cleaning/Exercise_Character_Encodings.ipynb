{
  "nbformat": 4,
  "nbformat_minor": 0,
  "metadata": {
    "kernelspec": {
      "language": "python",
      "display_name": "Python 3",
      "name": "python3"
    },
    "language_info": {
      "name": "python",
      "version": "3.7.10",
      "mimetype": "text/x-python",
      "codemirror_mode": {
        "name": "ipython",
        "version": 3
      },
      "pygments_lexer": "ipython3",
      "nbconvert_exporter": "python",
      "file_extension": ".py"
    },
    "colab": {
      "name": "Exercise: Character Encodings.ipynb",
      "provenance": [],
      "include_colab_link": true
    }
  },
  "cells": [
    {
      "cell_type": "markdown",
      "metadata": {
        "id": "view-in-github",
        "colab_type": "text"
      },
      "source": [
        "<a href=\"https://colab.research.google.com/github/Amey-Thakur/KAGGLE/blob/main/Exercise_Character_Encodings.ipynb\" target=\"_parent\"><img src=\"https://colab.research.google.com/assets/colab-badge.svg\" alt=\"Open In Colab\"/></a>"
      ]
    },
    {
      "cell_type": "markdown",
      "metadata": {
        "id": "dJ3bAGdIYamh"
      },
      "source": [
        "**This notebook is an exercise in the [Data Cleaning](https://www.kaggle.com/learn/data-cleaning) course.  You can reference the tutorial at [this link](https://www.kaggle.com/alexisbcook/character-encodings).**\n",
        "\n",
        "---\n"
      ]
    },
    {
      "cell_type": "markdown",
      "metadata": {
        "id": "ZHsCfBxcYaml"
      },
      "source": [
        "In this exercise, you'll apply what you learned in the **Character encodings** tutorial.\n",
        "\n",
        "# Setup\n",
        "\n",
        "The questions below will give you feedback on your work. Run the following cell to set up the feedback system."
      ]
    },
    {
      "cell_type": "code",
      "metadata": {
        "execution": {
          "iopub.status.busy": "2021-07-23T08:00:24.327936Z",
          "iopub.execute_input": "2021-07-23T08:00:24.328214Z",
          "iopub.status.idle": "2021-07-23T08:00:24.333271Z",
          "shell.execute_reply.started": "2021-07-23T08:00:24.328191Z",
          "shell.execute_reply": "2021-07-23T08:00:24.332318Z"
        },
        "trusted": true,
        "id": "dv6QXpH_Yamm",
        "outputId": "03d24bac-3755-427a-901a-ec6237560ffc"
      },
      "source": [
        "from learntools.core import binder\n",
        "binder.bind(globals())\n",
        "from learntools.data_cleaning.ex4 import *\n",
        "print(\"Setup Complete\")"
      ],
      "execution_count": null,
      "outputs": [
        {
          "output_type": "stream",
          "text": [
            "Setup Complete\n"
          ],
          "name": "stdout"
        }
      ]
    },
    {
      "cell_type": "markdown",
      "metadata": {
        "id": "6TJvdjsQYamn"
      },
      "source": [
        "# Get our environment set up\n",
        "\n",
        "The first thing we'll need to do is load in the libraries we'll be using."
      ]
    },
    {
      "cell_type": "code",
      "metadata": {
        "execution": {
          "iopub.status.busy": "2021-07-23T08:00:24.334475Z",
          "iopub.execute_input": "2021-07-23T08:00:24.334893Z",
          "iopub.status.idle": "2021-07-23T08:00:24.356142Z",
          "shell.execute_reply.started": "2021-07-23T08:00:24.334867Z",
          "shell.execute_reply": "2021-07-23T08:00:24.354575Z"
        },
        "trusted": true,
        "id": "ec3vg8PPYamo"
      },
      "source": [
        "# modules we'll use\n",
        "import pandas as pd\n",
        "import numpy as np\n",
        "\n",
        "# helpful character encoding module\n",
        "import chardet\n",
        "\n",
        "# set seed for reproducibility\n",
        "np.random.seed(0)"
      ],
      "execution_count": null,
      "outputs": []
    },
    {
      "cell_type": "markdown",
      "metadata": {
        "id": "Sg7_G6ppYamo"
      },
      "source": [
        "# 1) What are encodings?\n",
        "\n",
        "You're working with a dataset composed of bytes.  Run the code cell below to print a sample entry."
      ]
    },
    {
      "cell_type": "code",
      "metadata": {
        "execution": {
          "iopub.status.busy": "2021-07-23T08:00:24.358030Z",
          "iopub.execute_input": "2021-07-23T08:00:24.358616Z",
          "iopub.status.idle": "2021-07-23T08:00:24.375627Z",
          "shell.execute_reply.started": "2021-07-23T08:00:24.358582Z",
          "shell.execute_reply": "2021-07-23T08:00:24.374749Z"
        },
        "trusted": true,
        "id": "_ew2vXV9Yamp",
        "outputId": "3f99efdd-372b-490d-adaa-8b8b73b77a2a"
      },
      "source": [
        "sample_entry = b'\\xa7A\\xa6n'\n",
        "print(sample_entry)\n",
        "print('data type:', type(sample_entry))"
      ],
      "execution_count": null,
      "outputs": [
        {
          "output_type": "stream",
          "text": [
            "b'\\xa7A\\xa6n'\n",
            "data type: <class 'bytes'>\n"
          ],
          "name": "stdout"
        }
      ]
    },
    {
      "cell_type": "markdown",
      "metadata": {
        "id": "SpmQz2xsYamp"
      },
      "source": [
        "You notice that it doesn't use the standard UTF-8 encoding. \n",
        "\n",
        "Use the next code cell to create a variable `new_entry` that changes the encoding from `\"big5-tw\"` to `\"utf-8\"`.  `new_entry` should have the bytes datatype."
      ]
    },
    {
      "cell_type": "code",
      "metadata": {
        "execution": {
          "iopub.status.busy": "2021-07-23T08:00:24.377686Z",
          "iopub.execute_input": "2021-07-23T08:00:24.378064Z",
          "iopub.status.idle": "2021-07-23T08:00:24.399288Z",
          "shell.execute_reply.started": "2021-07-23T08:00:24.378038Z",
          "shell.execute_reply": "2021-07-23T08:00:24.398034Z"
        },
        "trusted": true,
        "id": "Y0Pk6yxOYamp",
        "outputId": "679dda1b-432e-47d3-c6e6-861bfa7fd7f2"
      },
      "source": [
        "before = sample_entry.decode(\"big5-tw\")\n",
        "new_entry = before.encode()\n",
        "\n",
        "# Check your answer\n",
        "q1.check()"
      ],
      "execution_count": null,
      "outputs": [
        {
          "output_type": "display_data",
          "data": {
            "text/plain": [
              "<IPython.core.display.Javascript object>"
            ],
            "application/javascript": [
              "parent.postMessage({\"jupyterEvent\": \"custom.exercise_interaction\", \"data\": {\"outcomeType\": 1, \"valueTowardsCompletion\": 0.3333333333333333, \"interactionType\": 1, \"questionType\": 1, \"questionId\": \"1_EncodingsIntro\", \"learnToolsVersion\": \"0.3.4\", \"failureMessage\": \"\", \"exceptionClass\": \"\", \"trace\": \"\"}}, \"*\")"
            ]
          },
          "metadata": {
            "tags": []
          }
        },
        {
          "output_type": "display_data",
          "data": {
            "text/plain": [
              "Correct"
            ],
            "text/markdown": "<span style=\"color:#33cc33\">Correct</span>"
          },
          "metadata": {
            "tags": []
          }
        }
      ]
    },
    {
      "cell_type": "code",
      "metadata": {
        "execution": {
          "iopub.status.busy": "2021-07-23T08:00:24.401209Z",
          "iopub.execute_input": "2021-07-23T08:00:24.401545Z",
          "iopub.status.idle": "2021-07-23T08:00:24.407313Z",
          "shell.execute_reply.started": "2021-07-23T08:00:24.401496Z",
          "shell.execute_reply": "2021-07-23T08:00:24.406277Z"
        },
        "trusted": true,
        "id": "ezHr019mYamq"
      },
      "source": [
        "# Lines below will give you a hint or solution code\n",
        "#q1.hint()\n",
        "#q1.solution()"
      ],
      "execution_count": null,
      "outputs": []
    },
    {
      "cell_type": "markdown",
      "metadata": {
        "id": "DRaIPszfYamq"
      },
      "source": [
        "# 2) Reading in files with encoding problems\n",
        "\n",
        "Use the code cell below to read in this file at path `\"../input/fatal-police-shootings-in-the-us/PoliceKillingsUS.csv\"`.  \n",
        "\n",
        "Figure out what the correct encoding should be and read in the file to a DataFrame `police_killings`."
      ]
    },
    {
      "cell_type": "code",
      "metadata": {
        "execution": {
          "iopub.status.busy": "2021-07-23T08:00:24.408672Z",
          "iopub.execute_input": "2021-07-23T08:00:24.409207Z",
          "iopub.status.idle": "2021-07-23T08:00:24.448392Z",
          "shell.execute_reply.started": "2021-07-23T08:00:24.409167Z",
          "shell.execute_reply": "2021-07-23T08:00:24.447665Z"
        },
        "trusted": true,
        "id": "by9F2JB-Yamr",
        "outputId": "4c4f6509-6e79-4f0c-b0c8-88e6ac079299"
      },
      "source": [
        "# TODO: Load in the DataFrame correctly.\n",
        "police_killings = pd.read_csv(\"../input/fatal-police-shootings-in-the-us/PoliceKillingsUS.csv\", encoding='Windows-1252')\n",
        "\n",
        "# Check your answer\n",
        "q2.check()"
      ],
      "execution_count": null,
      "outputs": [
        {
          "output_type": "display_data",
          "data": {
            "text/plain": [
              "<IPython.core.display.Javascript object>"
            ],
            "application/javascript": [
              "parent.postMessage({\"jupyterEvent\": \"custom.exercise_interaction\", \"data\": {\"outcomeType\": 1, \"valueTowardsCompletion\": 0.3333333333333333, \"interactionType\": 1, \"questionType\": 1, \"questionId\": \"2_ReadIn\", \"learnToolsVersion\": \"0.3.4\", \"failureMessage\": \"\", \"exceptionClass\": \"\", \"trace\": \"\"}}, \"*\")"
            ]
          },
          "metadata": {
            "tags": []
          }
        },
        {
          "output_type": "display_data",
          "data": {
            "text/plain": [
              "Correct"
            ],
            "text/markdown": "<span style=\"color:#33cc33\">Correct</span>"
          },
          "metadata": {
            "tags": []
          }
        }
      ]
    },
    {
      "cell_type": "markdown",
      "metadata": {
        "id": "cj7kBtoZYamr"
      },
      "source": [
        "Feel free to use any additional code cells for supplemental work.  To get credit for finishing this question, you'll need to run `q2.check()` and get a result of **Correct**."
      ]
    },
    {
      "cell_type": "code",
      "metadata": {
        "execution": {
          "iopub.status.busy": "2021-07-23T08:00:24.449403Z",
          "iopub.execute_input": "2021-07-23T08:00:24.449641Z",
          "iopub.status.idle": "2021-07-23T08:00:24.453251Z",
          "shell.execute_reply.started": "2021-07-23T08:00:24.449615Z",
          "shell.execute_reply": "2021-07-23T08:00:24.452307Z"
        },
        "trusted": true,
        "id": "xo29JTB8Yamr"
      },
      "source": [
        "# (Optional) Use this code cell for any additional work."
      ],
      "execution_count": null,
      "outputs": []
    },
    {
      "cell_type": "code",
      "metadata": {
        "execution": {
          "iopub.status.busy": "2021-07-23T08:00:24.454184Z",
          "iopub.execute_input": "2021-07-23T08:00:24.454468Z",
          "iopub.status.idle": "2021-07-23T08:00:24.476439Z",
          "shell.execute_reply.started": "2021-07-23T08:00:24.454446Z",
          "shell.execute_reply": "2021-07-23T08:00:24.475881Z"
        },
        "trusted": true,
        "id": "jcYcTD7cYams"
      },
      "source": [
        "# Lines below will give you a hint or solution code\n",
        "#q2.hint()\n",
        "#q2.solution()"
      ],
      "execution_count": null,
      "outputs": []
    },
    {
      "cell_type": "markdown",
      "metadata": {
        "id": "vSIeq2cfYams"
      },
      "source": [
        "# 3) Saving your files with UTF-8 encoding\n",
        "\n",
        "Save a version of the police killings dataset to CSV with UTF-8 encoding.  Your answer will be marked correct after saving this file.  \n",
        "\n",
        "Note: When using the `to_csv()` method, supply only the name of the file (e.g., `\"my_file.csv\"`).  This saves the file at the filepath `\"/kaggle/working/my_file.csv\"`."
      ]
    },
    {
      "cell_type": "code",
      "metadata": {
        "execution": {
          "iopub.status.busy": "2021-07-23T08:00:24.478042Z",
          "iopub.execute_input": "2021-07-23T08:00:24.478411Z",
          "iopub.status.idle": "2021-07-23T08:00:24.518750Z",
          "shell.execute_reply.started": "2021-07-23T08:00:24.478388Z",
          "shell.execute_reply": "2021-07-23T08:00:24.517863Z"
        },
        "trusted": true,
        "id": "cpIFfUCnYams",
        "outputId": "b19b30f6-760f-4f54-ed88-8807d66b62d7"
      },
      "source": [
        "# TODO: Save the police killings dataset to CSV\n",
        "police_killings.to_csv(\"my_file.csv\")\n",
        "\n",
        "# Check your answer\n",
        "q3.check()"
      ],
      "execution_count": null,
      "outputs": [
        {
          "output_type": "display_data",
          "data": {
            "text/plain": [
              "<IPython.core.display.Javascript object>"
            ],
            "application/javascript": [
              "parent.postMessage({\"jupyterEvent\": \"custom.exercise_interaction\", \"data\": {\"outcomeType\": 1, \"valueTowardsCompletion\": 0.3333333333333333, \"interactionType\": 1, \"questionType\": 2, \"questionId\": \"3_SaveCSV\", \"learnToolsVersion\": \"0.3.4\", \"failureMessage\": \"\", \"exceptionClass\": \"\", \"trace\": \"\"}}, \"*\")"
            ]
          },
          "metadata": {
            "tags": []
          }
        },
        {
          "output_type": "display_data",
          "data": {
            "text/plain": [
              "Correct"
            ],
            "text/markdown": "<span style=\"color:#33cc33\">Correct</span>"
          },
          "metadata": {
            "tags": []
          }
        }
      ]
    },
    {
      "cell_type": "code",
      "metadata": {
        "execution": {
          "iopub.status.busy": "2021-07-23T08:00:24.519757Z",
          "iopub.execute_input": "2021-07-23T08:00:24.520072Z",
          "iopub.status.idle": "2021-07-23T08:00:24.522534Z",
          "shell.execute_reply.started": "2021-07-23T08:00:24.520040Z",
          "shell.execute_reply": "2021-07-23T08:00:24.522035Z"
        },
        "trusted": true,
        "id": "k95m_UBBYams"
      },
      "source": [
        "# Lines below will give you a hint or solution code\n",
        "#q3.hint()\n",
        "#q3.solution()"
      ],
      "execution_count": null,
      "outputs": []
    },
    {
      "cell_type": "markdown",
      "metadata": {
        "id": "Dq6Wk-mhYamt"
      },
      "source": [
        "# (Optional) More practice\n",
        "\n",
        "Check out [this dataset of files in different character encodings](https://www.kaggle.com/rtatman/character-encoding-examples). Can you read in all the files with their original encodings and them save them out as UTF-8 files?\n",
        "\n",
        "If you have a file that's in UTF-8 but has just a couple of weird-looking characters in it, you can try out the [ftfy module](https://ftfy.readthedocs.io/en/latest/#) and see if it helps. \n",
        "\n",
        "# Keep going\n",
        "\n",
        "In the final lesson, learn how to [**clean up inconsistent text entries**](https://www.kaggle.com/alexisbcook/inconsistent-data-entry) in your dataset."
      ]
    },
    {
      "cell_type": "markdown",
      "metadata": {
        "id": "EEeKFbobYamt"
      },
      "source": [
        "---\n",
        "\n",
        "\n",
        "\n",
        "\n",
        "*Have questions or comments? Visit the [Learn Discussion forum](https://www.kaggle.com/learn-forum/172650) to chat with other Learners.*"
      ]
    }
  ]
}