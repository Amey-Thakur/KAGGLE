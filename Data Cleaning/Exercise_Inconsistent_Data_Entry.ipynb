{
  "nbformat": 4,
  "nbformat_minor": 0,
  "metadata": {
    "kernelspec": {
      "language": "python",
      "display_name": "Python 3",
      "name": "python3"
    },
    "language_info": {
      "name": "python",
      "version": "3.7.10",
      "mimetype": "text/x-python",
      "codemirror_mode": {
        "name": "ipython",
        "version": 3
      },
      "pygments_lexer": "ipython3",
      "nbconvert_exporter": "python",
      "file_extension": ".py"
    },
    "colab": {
      "name": "Exercise: Inconsistent Data Entry.ipynb",
      "provenance": [],
      "include_colab_link": true
    }
  },
  "cells": [
    {
      "cell_type": "markdown",
      "metadata": {
        "id": "view-in-github",
        "colab_type": "text"
      },
      "source": [
        "<a href=\"https://colab.research.google.com/github/Amey-Thakur/KAGGLE/blob/main/Exercise_Inconsistent_Data_Entry.ipynb\" target=\"_parent\"><img src=\"https://colab.research.google.com/assets/colab-badge.svg\" alt=\"Open In Colab\"/></a>"
      ]
    },
    {
      "cell_type": "markdown",
      "metadata": {
        "id": "ko-INYryZcGf"
      },
      "source": [
        "**This notebook is an exercise in the [Data Cleaning](https://www.kaggle.com/learn/data-cleaning) course.  You can reference the tutorial at [this link](https://www.kaggle.com/alexisbcook/inconsistent-data-entry).**\n",
        "\n",
        "---\n"
      ]
    },
    {
      "cell_type": "markdown",
      "metadata": {
        "id": "XYjU7jPhZcGi"
      },
      "source": [
        "In this exercise, you'll apply what you learned in the **Inconsistent data entry** tutorial.\n",
        "\n",
        "# Setup\n",
        "\n",
        "The questions below will give you feedback on your work. Run the following cell to set up the feedback system."
      ]
    },
    {
      "cell_type": "code",
      "metadata": {
        "execution": {
          "iopub.status.busy": "2021-07-23T08:04:51.540466Z",
          "iopub.execute_input": "2021-07-23T08:04:51.540862Z",
          "iopub.status.idle": "2021-07-23T08:04:51.548561Z",
          "shell.execute_reply.started": "2021-07-23T08:04:51.540830Z",
          "shell.execute_reply": "2021-07-23T08:04:51.547209Z"
        },
        "trusted": true,
        "id": "yhqSIm7XZcGj",
        "outputId": "298930d6-cc25-4c04-fac5-7b433f19cf65"
      },
      "source": [
        "from learntools.core import binder\n",
        "binder.bind(globals())\n",
        "from learntools.data_cleaning.ex5 import *\n",
        "print(\"Setup Complete\")"
      ],
      "execution_count": null,
      "outputs": [
        {
          "output_type": "stream",
          "text": [
            "Setup Complete\n"
          ],
          "name": "stdout"
        }
      ]
    },
    {
      "cell_type": "markdown",
      "metadata": {
        "id": "wEVK4pXfZcGk"
      },
      "source": [
        "# Get our environment set up\n",
        "\n",
        "The first thing we'll need to do is load in the libraries and dataset we'll be using.  We use the same dataset from the tutorial."
      ]
    },
    {
      "cell_type": "code",
      "metadata": {
        "execution": {
          "iopub.status.busy": "2021-07-23T08:04:51.550699Z",
          "iopub.execute_input": "2021-07-23T08:04:51.551162Z",
          "iopub.status.idle": "2021-07-23T08:04:51.578067Z",
          "shell.execute_reply.started": "2021-07-23T08:04:51.551121Z",
          "shell.execute_reply": "2021-07-23T08:04:51.576863Z"
        },
        "trusted": true,
        "id": "vbuQ3aFVZcGk"
      },
      "source": [
        "# modules we'll use\n",
        "import pandas as pd\n",
        "import numpy as np\n",
        "\n",
        "# helpful modules\n",
        "import fuzzywuzzy\n",
        "from fuzzywuzzy import process\n",
        "import chardet\n",
        "\n",
        "# read in all our data\n",
        "professors = pd.read_csv(\"../input/pakistan-intellectual-capital/pakistan_intellectual_capital.csv\")\n",
        "\n",
        "# set seed for reproducibility\n",
        "np.random.seed(0)"
      ],
      "execution_count": null,
      "outputs": []
    },
    {
      "cell_type": "markdown",
      "metadata": {
        "id": "4WnzdnYYZcGl"
      },
      "source": [
        "Next, we'll redo all of the work that we did in the tutorial."
      ]
    },
    {
      "cell_type": "code",
      "metadata": {
        "execution": {
          "iopub.status.busy": "2021-07-23T08:04:51.579993Z",
          "iopub.execute_input": "2021-07-23T08:04:51.580305Z",
          "iopub.status.idle": "2021-07-23T08:04:51.598902Z",
          "shell.execute_reply.started": "2021-07-23T08:04:51.580275Z",
          "shell.execute_reply": "2021-07-23T08:04:51.597489Z"
        },
        "trusted": true,
        "id": "wOKUwlrnZcGl",
        "outputId": "7363dfda-48a1-4195-aece-b94e4632686a"
      },
      "source": [
        "# convert to lower case\n",
        "professors['Country'] = professors['Country'].str.lower()\n",
        "# remove trailing white spaces\n",
        "professors['Country'] = professors['Country'].str.strip()\n",
        "\n",
        "# get the top 10 closest matches to \"south korea\"\n",
        "countries = professors['Country'].unique()\n",
        "matches = fuzzywuzzy.process.extract(\"south korea\", countries, limit=10, scorer=fuzzywuzzy.fuzz.token_sort_ratio)\n",
        "\n",
        "def replace_matches_in_column(df, column, string_to_match, min_ratio = 47):\n",
        "    # get a list of unique strings\n",
        "    strings = df[column].unique()\n",
        "    \n",
        "    # get the top 10 closest matches to our input string\n",
        "    matches = fuzzywuzzy.process.extract(string_to_match, strings, \n",
        "                                         limit=10, scorer=fuzzywuzzy.fuzz.token_sort_ratio)\n",
        "\n",
        "    # only get matches with a ratio > 90\n",
        "    close_matches = [matches[0] for matches in matches if matches[1] >= min_ratio]\n",
        "\n",
        "    # get the rows of all the close matches in our dataframe\n",
        "    rows_with_matches = df[column].isin(close_matches)\n",
        "\n",
        "    # replace all rows with close matches with the input matches \n",
        "    df.loc[rows_with_matches, column] = string_to_match\n",
        "    \n",
        "    # let us know the function's done\n",
        "    print(\"All done!\")\n",
        "    \n",
        "replace_matches_in_column(df=professors, column='Country', string_to_match=\"south korea\")\n",
        "countries = professors['Country'].unique()"
      ],
      "execution_count": null,
      "outputs": [
        {
          "output_type": "stream",
          "text": [
            "All done!\n"
          ],
          "name": "stdout"
        }
      ]
    },
    {
      "cell_type": "markdown",
      "metadata": {
        "id": "xh4N8bDbZcGm"
      },
      "source": [
        "# 1) Examine another column\n",
        "\n",
        "Write code below to take a look at all the unique values in the \"Graduated from\" column."
      ]
    },
    {
      "cell_type": "code",
      "metadata": {
        "execution": {
          "iopub.status.busy": "2021-07-23T08:04:51.601074Z",
          "iopub.execute_input": "2021-07-23T08:04:51.601709Z",
          "iopub.status.idle": "2021-07-23T08:04:51.612086Z",
          "shell.execute_reply.started": "2021-07-23T08:04:51.601664Z",
          "shell.execute_reply": "2021-07-23T08:04:51.611033Z"
        },
        "trusted": true,
        "id": "Ute-PLycZcGm"
      },
      "source": [
        "# TODO: Your code here\n",
        "\n",
        "unis = professors['Graduated from'].unique()"
      ],
      "execution_count": null,
      "outputs": []
    },
    {
      "cell_type": "markdown",
      "metadata": {
        "id": "Ehf0RLhOZcGm"
      },
      "source": [
        "Do you notice any inconsistencies in the data?  Can any of the inconsistencies in the data be fixed by removing white spaces at the beginning and end of cells?\n",
        "\n",
        "Once you have answered these questions, run the code cell below to get credit for your work."
      ]
    },
    {
      "cell_type": "code",
      "metadata": {
        "execution": {
          "iopub.status.busy": "2021-07-23T08:04:51.613456Z",
          "iopub.execute_input": "2021-07-23T08:04:51.613919Z",
          "iopub.status.idle": "2021-07-23T08:04:51.630763Z",
          "shell.execute_reply.started": "2021-07-23T08:04:51.613874Z",
          "shell.execute_reply": "2021-07-23T08:04:51.629663Z"
        },
        "trusted": true,
        "id": "PwiphnXWZcGn",
        "outputId": "61bf9e75-5ed0-44f1-ed59-b11b035cbe92"
      },
      "source": [
        "# Check your answer (Run this code cell to receive credit!)\n",
        "q1.check()"
      ],
      "execution_count": null,
      "outputs": [
        {
          "output_type": "display_data",
          "data": {
            "text/plain": [
              "<IPython.core.display.Javascript object>"
            ],
            "application/javascript": [
              "parent.postMessage({\"jupyterEvent\": \"custom.exercise_interaction\", \"data\": {\"outcomeType\": 1, \"valueTowardsCompletion\": 0.3333333333333333, \"interactionType\": 1, \"questionType\": 4, \"questionId\": \"1_ExamineProvince\", \"learnToolsVersion\": \"0.3.4\", \"failureMessage\": \"\", \"exceptionClass\": \"\", \"trace\": \"\"}}, \"*\")"
            ]
          },
          "metadata": {
            "tags": []
          }
        },
        {
          "output_type": "display_data",
          "data": {
            "text/plain": [
              "Correct: \n",
              "\n",
              "There are inconsistencies that can be fixed by removing white spaces at the beginning and end of cells.  For instance, \"University of Central Florida\" and \" University of Central Florida\" both appear in the column."
            ],
            "text/markdown": "<span style=\"color:#33cc33\">Correct:</span> \n\nThere are inconsistencies that can be fixed by removing white spaces at the beginning and end of cells.  For instance, \"University of Central Florida\" and \" University of Central Florida\" both appear in the column."
          },
          "metadata": {
            "tags": []
          }
        }
      ]
    },
    {
      "cell_type": "code",
      "metadata": {
        "execution": {
          "iopub.status.busy": "2021-07-23T08:04:51.632777Z",
          "iopub.execute_input": "2021-07-23T08:04:51.633424Z",
          "iopub.status.idle": "2021-07-23T08:04:51.646757Z",
          "shell.execute_reply.started": "2021-07-23T08:04:51.633370Z",
          "shell.execute_reply": "2021-07-23T08:04:51.645526Z"
        },
        "trusted": true,
        "id": "U4koC1lYZcGn"
      },
      "source": [
        "# Line below will give you a hint\n",
        "#q1.hint()"
      ],
      "execution_count": null,
      "outputs": []
    },
    {
      "cell_type": "markdown",
      "metadata": {
        "id": "g07YfSL8ZcGn"
      },
      "source": [
        "# 2) Do some text pre-processing\n",
        "\n",
        "Convert every entry in the \"Graduated from\" column in the `professors` DataFrame to remove white spaces at the beginning and end of cells."
      ]
    },
    {
      "cell_type": "code",
      "metadata": {
        "execution": {
          "iopub.status.busy": "2021-07-23T08:04:51.648503Z",
          "iopub.execute_input": "2021-07-23T08:04:51.649022Z",
          "iopub.status.idle": "2021-07-23T08:04:51.671003Z",
          "shell.execute_reply.started": "2021-07-23T08:04:51.648986Z",
          "shell.execute_reply": "2021-07-23T08:04:51.669719Z"
        },
        "trusted": true,
        "id": "3csJDP3RZcGn",
        "outputId": "a00cd54c-98eb-4e48-f14d-14ee25859f03"
      },
      "source": [
        "# TODO: Your code here\n",
        "professors['Graduated from'] = professors['Graduated from'].str.strip()\n",
        "\n",
        "# Check your answer\n",
        "q2.check()"
      ],
      "execution_count": null,
      "outputs": [
        {
          "output_type": "display_data",
          "data": {
            "text/plain": [
              "<IPython.core.display.Javascript object>"
            ],
            "application/javascript": [
              "parent.postMessage({\"jupyterEvent\": \"custom.exercise_interaction\", \"data\": {\"outcomeType\": 1, \"valueTowardsCompletion\": 0.3333333333333333, \"interactionType\": 1, \"questionType\": 1, \"questionId\": \"2_TextProcessing\", \"learnToolsVersion\": \"0.3.4\", \"failureMessage\": \"\", \"exceptionClass\": \"\", \"trace\": \"\"}}, \"*\")"
            ]
          },
          "metadata": {
            "tags": []
          }
        },
        {
          "output_type": "display_data",
          "data": {
            "text/plain": [
              "Correct"
            ],
            "text/markdown": "<span style=\"color:#33cc33\">Correct</span>"
          },
          "metadata": {
            "tags": []
          }
        }
      ]
    },
    {
      "cell_type": "code",
      "metadata": {
        "execution": {
          "iopub.status.busy": "2021-07-23T08:04:51.673611Z",
          "iopub.execute_input": "2021-07-23T08:04:51.674107Z",
          "iopub.status.idle": "2021-07-23T08:04:51.690084Z",
          "shell.execute_reply.started": "2021-07-23T08:04:51.674067Z",
          "shell.execute_reply": "2021-07-23T08:04:51.689016Z"
        },
        "trusted": true,
        "id": "kJfJiemtZcGo"
      },
      "source": [
        "# Lines below will give you a hint or solution code\n",
        "#q2.hint()\n",
        "#q2.solution()"
      ],
      "execution_count": null,
      "outputs": []
    },
    {
      "cell_type": "markdown",
      "metadata": {
        "id": "GwwfHtGYZcGo"
      },
      "source": [
        "# 3) Continue working with countries\n",
        "\n",
        "In the tutorial, we focused on cleaning up inconsistencies in the \"Country\" column.  Run the code cell below to view the list of unique values that we ended with."
      ]
    },
    {
      "cell_type": "code",
      "metadata": {
        "execution": {
          "iopub.status.busy": "2021-07-23T08:04:51.691420Z",
          "iopub.execute_input": "2021-07-23T08:04:51.691899Z",
          "iopub.status.idle": "2021-07-23T08:04:51.710935Z",
          "shell.execute_reply.started": "2021-07-23T08:04:51.691865Z",
          "shell.execute_reply": "2021-07-23T08:04:51.709447Z"
        },
        "trusted": true,
        "id": "v0VnhVbhZcGo",
        "outputId": "3db4d1b6-dbd0-490a-ce60-4559a97526be"
      },
      "source": [
        "# get all the unique values in the 'City' column\n",
        "countries = professors['Country'].unique()\n",
        "\n",
        "# sort them alphabetically and then take a closer look\n",
        "countries.sort()\n",
        "countries"
      ],
      "execution_count": null,
      "outputs": [
        {
          "output_type": "execute_result",
          "data": {
            "text/plain": [
              "array(['australia', 'austria', 'canada', 'china', 'finland', 'france',\n",
              "       'germany', 'greece', 'hongkong', 'ireland', 'italy', 'japan',\n",
              "       'macau', 'malaysia', 'mauritius', 'netherland', 'new zealand',\n",
              "       'norway', 'pakistan', 'portugal', 'russian federation',\n",
              "       'saudi arabia', 'scotland', 'singapore', 'south korea', 'spain',\n",
              "       'sweden', 'thailand', 'turkey', 'uk', 'urbana', 'usa', 'usofa'],\n",
              "      dtype=object)"
            ]
          },
          "metadata": {
            "tags": []
          },
          "execution_count": 23
        }
      ]
    },
    {
      "cell_type": "markdown",
      "metadata": {
        "id": "tKibiLXKZcGo"
      },
      "source": [
        "Take another look at the \"Country\" column and see if there's any more data cleaning we need to do.\n",
        "\n",
        "It looks like 'usa' and 'usofa' should be the same country.  Correct the \"Country\" column in the dataframe so that 'usofa' appears instead as 'usa'.\n",
        "\n",
        "**Use the most recent version of the DataFrame (with the whitespaces at the beginning and end of cells removed) from question 2.**"
      ]
    },
    {
      "cell_type": "code",
      "metadata": {
        "execution": {
          "iopub.status.busy": "2021-07-23T08:04:51.713514Z",
          "iopub.execute_input": "2021-07-23T08:04:51.713917Z",
          "iopub.status.idle": "2021-07-23T08:04:51.741438Z",
          "shell.execute_reply.started": "2021-07-23T08:04:51.713882Z",
          "shell.execute_reply": "2021-07-23T08:04:51.740088Z"
        },
        "trusted": true,
        "id": "p-qEjl_sZcGp",
        "outputId": "19b57723-bc46-4bba-ef37-c04e16a46901"
      },
      "source": [
        "# TODO: Your code here!\n",
        "matches = fuzzywuzzy.process.extract(\"usa\", countries, limit=10, scorer=fuzzywuzzy.fuzz.token_sort_ratio)\n",
        "replace_matches_in_column(df=professors, column='Country', string_to_match=\"usa\", min_ratio=70)\n",
        "\n",
        "# Check your answer\n",
        "q3.check()"
      ],
      "execution_count": null,
      "outputs": [
        {
          "output_type": "stream",
          "text": [
            "All done!\n"
          ],
          "name": "stdout"
        },
        {
          "output_type": "display_data",
          "data": {
            "text/plain": [
              "<IPython.core.display.Javascript object>"
            ],
            "application/javascript": [
              "parent.postMessage({\"jupyterEvent\": \"custom.exercise_interaction\", \"data\": {\"outcomeType\": 1, \"valueTowardsCompletion\": 0.3333333333333333, \"interactionType\": 1, \"questionType\": 1, \"questionId\": \"3_WorkingWithCities\", \"learnToolsVersion\": \"0.3.4\", \"failureMessage\": \"\", \"exceptionClass\": \"\", \"trace\": \"\"}}, \"*\")"
            ]
          },
          "metadata": {
            "tags": []
          }
        },
        {
          "output_type": "display_data",
          "data": {
            "text/plain": [
              "Correct"
            ],
            "text/markdown": "<span style=\"color:#33cc33\">Correct</span>"
          },
          "metadata": {
            "tags": []
          }
        }
      ]
    },
    {
      "cell_type": "code",
      "metadata": {
        "execution": {
          "iopub.status.busy": "2021-07-23T08:04:51.743342Z",
          "iopub.execute_input": "2021-07-23T08:04:51.743716Z",
          "iopub.status.idle": "2021-07-23T08:04:51.753001Z",
          "shell.execute_reply.started": "2021-07-23T08:04:51.743683Z",
          "shell.execute_reply": "2021-07-23T08:04:51.751791Z"
        },
        "trusted": true,
        "id": "pQKDw0wLZcGp"
      },
      "source": [
        "# Lines below will give you a hint or solution code\n",
        "#q3.hint()\n",
        "#q3.solution()"
      ],
      "execution_count": null,
      "outputs": []
    },
    {
      "cell_type": "markdown",
      "metadata": {
        "id": "suy35avHZcGp"
      },
      "source": [
        "# Congratulations!\n",
        "\n",
        "Congratulations for completing the **Data Cleaning** course on Kaggle Learn!\n",
        "\n",
        "To practice your new skills, you're encouraged to download and investigate some of [Kaggle's Datasets](https://www.kaggle.com/datasets)."
      ]
    },
    {
      "cell_type": "markdown",
      "metadata": {
        "id": "0Kp2v_FrZcGq"
      },
      "source": [
        "---\n",
        "\n",
        "\n",
        "\n",
        "\n",
        "*Have questions or comments? Visit the [Learn Discussion forum](https://www.kaggle.com/learn-forum/172650) to chat with other Learners.*"
      ]
    }
  ]
}