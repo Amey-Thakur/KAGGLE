{
  "nbformat": 4,
  "nbformat_minor": 0,
  "metadata": {
    "kernelspec": {
      "display_name": "Python 3",
      "language": "python",
      "name": "python3"
    },
    "language_info": {
      "name": "python",
      "version": "3.7.10",
      "mimetype": "text/x-python",
      "codemirror_mode": {
        "name": "ipython",
        "version": 3
      },
      "pygments_lexer": "ipython3",
      "nbconvert_exporter": "python",
      "file_extension": ".py"
    },
    "colab": {
      "name": "Exercise: SHAP Values.ipynb",
      "provenance": [],
      "include_colab_link": true
    }
  },
  "cells": [
    {
      "cell_type": "markdown",
      "metadata": {
        "id": "view-in-github",
        "colab_type": "text"
      },
      "source": [
        "<a href=\"https://colab.research.google.com/github/Amey-Thakur/KAGGLE/blob/main/Exercise_SHAP_Values.ipynb\" target=\"_parent\"><img src=\"https://colab.research.google.com/assets/colab-badge.svg\" alt=\"Open In Colab\"/></a>"
      ]
    },
    {
      "cell_type": "markdown",
      "metadata": {
        "id": "63pUld5R_VAq"
      },
      "source": [
        "**This notebook is an exercise in the [Machine Learning Explainability](https://www.kaggle.com/learn/machine-learning-explainability) course.  You can reference the tutorial at [this link](https://www.kaggle.com/dansbecker/shap-values).**\n",
        "\n",
        "---\n"
      ]
    },
    {
      "cell_type": "markdown",
      "metadata": {
        "id": "CTzUoLrb_VAr"
      },
      "source": [
        "## Set Up\n",
        "\n",
        "At this point, you have enough tools to put together compelling solutions to real-world problems. You will ned to pick the right techniques for each part of the following data science scenario. Along the way, you'll use SHAP values along with your other insights tools.\n",
        "\n",
        "**The questions below give you feedback on your work by using some checking code. Run the following cell to set up our feedback system.**"
      ]
    },
    {
      "cell_type": "code",
      "metadata": {
        "execution": {
          "iopub.status.busy": "2021-07-25T14:05:54.068428Z",
          "iopub.execute_input": "2021-07-25T14:05:54.068956Z",
          "iopub.status.idle": "2021-07-25T14:05:54.073289Z",
          "shell.execute_reply.started": "2021-07-25T14:05:54.068922Z",
          "shell.execute_reply": "2021-07-25T14:05:54.072572Z"
        },
        "trusted": true,
        "id": "GVQnZR87_VAs",
        "outputId": "fe14b6c0-efec-4918-d394-9779d3998a0f"
      },
      "source": [
        "from learntools.ml_explainability.ex4 import *\n",
        "print(\"Setup Complete\")"
      ],
      "execution_count": null,
      "outputs": [
        {
          "output_type": "stream",
          "text": [
            "Setup Complete\n"
          ],
          "name": "stdout"
        }
      ]
    },
    {
      "cell_type": "markdown",
      "metadata": {
        "id": "O2S59Ic-_VAt"
      },
      "source": [
        "## The Scenario\n",
        "A hospital has struggled with \"readmissions,\" where they release a patient before the patient has recovered enough, and the patient returns with health complications. \n",
        "\n",
        "The hospital wants your help identifying patients at highest risk of being readmitted. Doctors (rather than your model) will make the final decision about when to release each patient; but they hope your model will highlight issues the doctors should consider when releasing a patient.\n",
        "\n",
        "The hospital has given you relevant patient medical information.  Here is a list of columns in the data:\n"
      ]
    },
    {
      "cell_type": "code",
      "metadata": {
        "execution": {
          "iopub.status.busy": "2021-07-25T14:05:54.074583Z",
          "iopub.execute_input": "2021-07-25T14:05:54.075112Z",
          "iopub.status.idle": "2021-07-25T14:05:54.247071Z",
          "shell.execute_reply.started": "2021-07-25T14:05:54.075078Z",
          "shell.execute_reply": "2021-07-25T14:05:54.245986Z"
        },
        "trusted": true,
        "id": "pfFt0Lh2_VAt",
        "outputId": "5d852e3c-2024-498c-cfd7-0ec4ded92e6b"
      },
      "source": [
        "import pandas as pd\n",
        "data = pd.read_csv('../input/hospital-readmissions/train.csv')\n",
        "data.columns"
      ],
      "execution_count": null,
      "outputs": [
        {
          "output_type": "execute_result",
          "data": {
            "text/plain": [
              "Index(['time_in_hospital', 'num_lab_procedures', 'num_procedures',\n",
              "       'num_medications', 'number_outpatient', 'number_emergency',\n",
              "       'number_inpatient', 'number_diagnoses', 'race_Caucasian',\n",
              "       'race_AfricanAmerican', 'gender_Female', 'age_[70-80)', 'age_[60-70)',\n",
              "       'age_[50-60)', 'age_[80-90)', 'age_[40-50)', 'payer_code_?',\n",
              "       'payer_code_MC', 'payer_code_HM', 'payer_code_SP', 'payer_code_BC',\n",
              "       'medical_specialty_?', 'medical_specialty_InternalMedicine',\n",
              "       'medical_specialty_Emergency/Trauma',\n",
              "       'medical_specialty_Family/GeneralPractice',\n",
              "       'medical_specialty_Cardiology', 'diag_1_428', 'diag_1_414',\n",
              "       'diag_1_786', 'diag_2_276', 'diag_2_428', 'diag_2_250', 'diag_2_427',\n",
              "       'diag_3_250', 'diag_3_401', 'diag_3_276', 'diag_3_428',\n",
              "       'max_glu_serum_None', 'A1Cresult_None', 'metformin_No',\n",
              "       'repaglinide_No', 'nateglinide_No', 'chlorpropamide_No',\n",
              "       'glimepiride_No', 'acetohexamide_No', 'glipizide_No', 'glyburide_No',\n",
              "       'tolbutamide_No', 'pioglitazone_No', 'rosiglitazone_No', 'acarbose_No',\n",
              "       'miglitol_No', 'troglitazone_No', 'tolazamide_No', 'examide_No',\n",
              "       'citoglipton_No', 'insulin_No', 'glyburide-metformin_No',\n",
              "       'glipizide-metformin_No', 'glimepiride-pioglitazone_No',\n",
              "       'metformin-rosiglitazone_No', 'metformin-pioglitazone_No', 'change_No',\n",
              "       'diabetesMed_Yes', 'readmitted'],\n",
              "      dtype='object')"
            ]
          },
          "metadata": {
            "tags": []
          },
          "execution_count": 25
        }
      ]
    },
    {
      "cell_type": "markdown",
      "metadata": {
        "id": "DWQ-p1GJ_VAt"
      },
      "source": [
        "Here are some quick hints at interpreting the field names:\n",
        "\n",
        "- Your prediction target is `readmitted`\n",
        "- Columns with the word `diag` indicate the diagnostic code of the illness or illnesses the patient was admitted with. For example, `diag_1_428` means the doctor said their first illness diagnosis is number \"428\".  What illness does 428 correspond to? You could look it up in a codebook, but without more medical background it wouldn't mean anything to you anyway.\n",
        "- A column names like `glimepiride_No` mean the patient did not have the medicine `glimepiride`. If this feature had a value of False, then the patient did take the drug `glimepiride`\n",
        "- Features whose names begin with `medical_specialty` describe the specialty of the doctor seeing the patient. The values in these fields are all `True` or `False`.\n"
      ]
    },
    {
      "cell_type": "markdown",
      "metadata": {
        "id": "8Uu6k0_t_VAu"
      },
      "source": [
        "## Your Code Library\n",
        "As you write code to work through this scenario, these code snippets from previous tutorials may be useful. You'll still need to modify them, but we've copied them here to save you from having to look them up.\n",
        "\n",
        "**Calculate and show permutation importance:**\n",
        "```\n",
        "import eli5\n",
        "from eli5.sklearn import PermutationImportance\n",
        "\n",
        "perm = PermutationImportance(my_model, random_state=1).fit(val_X, val_y)\n",
        "eli5.show_weights(perm, feature_names = val_X.columns.tolist())\n",
        "```\n",
        "\n",
        "**Calculate and show partial dependence plot:**\n",
        "```\n",
        "from matplotlib import pyplot as plt\n",
        "from pdpbox import pdp, get_dataset, info_plots\n",
        "\n",
        "# Create the data that we will plot\n",
        "pdp_goals = pdp.pdp_isolate(model=my_model, dataset=val_X, model_features=feature_names, feature='Goal Scored')\n",
        "\n",
        "# plot it\n",
        "pdp.pdp_plot(pdp_goals, 'Goal Scored')\n",
        "plt.show()\n",
        "```\n",
        "\n",
        "**Calculate and show Shap Values for One Prediction:**\n",
        "```\n",
        "import shap  # package used to calculate Shap values\n",
        "\n",
        "data_for_prediction = val_X.iloc[0,:]  # use 1 row of data here. Could use multiple rows if desired\n",
        "\n",
        "# Create object that can calculate shap values\n",
        "explainer = shap.TreeExplainer(my_model)\n",
        "shap_values = explainer.shap_values(data_for_prediction)\n",
        "shap.initjs()\n",
        "shap.force_plot(explainer.expected_value[0], shap_values[0], data_for_prediction)\n",
        "```\n",
        "\n",
        "## Step 1\n",
        "You have built a simple model, but the doctors say they don't know how to evaluate a model, and they'd like you to show them some evidence the model is doing something in line with their medical intuition. Create any graphics or tables that will show them a quick overview of what the model is doing?\n",
        "\n",
        "They are very busy. So they want you to condense your model overview into just 1 or 2 graphics, rather than a long string of graphics.\n",
        "\n",
        "We'll start after the point where you've built a basic model. Just run the following cell to build the model called `my_model`."
      ]
    },
    {
      "cell_type": "code",
      "metadata": {
        "execution": {
          "iopub.status.busy": "2021-07-25T14:05:54.250082Z",
          "iopub.execute_input": "2021-07-25T14:05:54.250410Z",
          "iopub.status.idle": "2021-07-25T14:05:55.483568Z",
          "shell.execute_reply.started": "2021-07-25T14:05:54.250382Z",
          "shell.execute_reply": "2021-07-25T14:05:55.482414Z"
        },
        "trusted": true,
        "id": "h2qe85s0_VAu"
      },
      "source": [
        "import pandas as pd\n",
        "from sklearn.ensemble import RandomForestClassifier\n",
        "from sklearn.model_selection import train_test_split\n",
        "\n",
        "data = pd.read_csv('../input/hospital-readmissions/train.csv')\n",
        "\n",
        "y = data.readmitted\n",
        "\n",
        "base_features = [c for c in data.columns if c != \"readmitted\"]\n",
        "\n",
        "X = data[base_features]\n",
        "\n",
        "train_X, val_X, train_y, val_y = train_test_split(X, y, random_state=1)\n",
        "my_model = RandomForestClassifier(n_estimators=30, random_state=1).fit(train_X, train_y)"
      ],
      "execution_count": null,
      "outputs": []
    },
    {
      "cell_type": "markdown",
      "metadata": {
        "id": "2IQN0M5p_VAv"
      },
      "source": [
        "Now use the following cell to create the materials for the doctors."
      ]
    },
    {
      "cell_type": "code",
      "metadata": {
        "execution": {
          "iopub.status.busy": "2021-07-25T14:05:55.485240Z",
          "iopub.execute_input": "2021-07-25T14:05:55.485582Z",
          "iopub.status.idle": "2021-07-25T14:06:15.884446Z",
          "shell.execute_reply.started": "2021-07-25T14:05:55.485548Z",
          "shell.execute_reply": "2021-07-25T14:06:15.883459Z"
        },
        "trusted": true,
        "id": "j8bSu0H8_VAv",
        "outputId": "35f41170-61f6-4646-b376-e8d6f0a5b9be"
      },
      "source": [
        "import eli5\n",
        "from eli5.sklearn import PermutationImportance\n",
        "\n",
        "perm = PermutationImportance(my_model, random_state=1).fit(val_X, val_y)\n",
        "eli5.show_weights(perm, feature_names = val_X.columns.tolist())"
      ],
      "execution_count": null,
      "outputs": [
        {
          "output_type": "execute_result",
          "data": {
            "text/plain": [
              "<IPython.core.display.HTML object>"
            ],
            "text/html": [
              "\n",
              "    <style>\n",
              "    table.eli5-weights tr:hover {\n",
              "        filter: brightness(85%);\n",
              "    }\n",
              "</style>\n",
              "\n",
              "\n",
              "\n",
              "    \n",
              "\n",
              "    \n",
              "\n",
              "    \n",
              "\n",
              "    \n",
              "\n",
              "    \n",
              "\n",
              "    \n",
              "\n",
              "\n",
              "    \n",
              "\n",
              "    \n",
              "\n",
              "    \n",
              "\n",
              "    \n",
              "\n",
              "    \n",
              "\n",
              "    \n",
              "\n",
              "\n",
              "    \n",
              "\n",
              "    \n",
              "\n",
              "    \n",
              "\n",
              "    \n",
              "\n",
              "    \n",
              "        <table class=\"eli5-weights eli5-feature-importances\" style=\"border-collapse: collapse; border: none; margin-top: 0em; table-layout: auto;\">\n",
              "    <thead>\n",
              "    <tr style=\"border: none;\">\n",
              "        <th style=\"padding: 0 1em 0 0.5em; text-align: right; border: none;\">Weight</th>\n",
              "        <th style=\"padding: 0 0.5em 0 0.5em; text-align: left; border: none;\">Feature</th>\n",
              "    </tr>\n",
              "    </thead>\n",
              "    <tbody>\n",
              "    \n",
              "        <tr style=\"background-color: hsl(120, 100.00%, 80.00%); border: none;\">\n",
              "            <td style=\"padding: 0 1em 0 0.5em; text-align: right; border: none;\">\n",
              "                0.0451\n",
              "                \n",
              "                    &plusmn; 0.0068\n",
              "                \n",
              "            </td>\n",
              "            <td style=\"padding: 0 0.5em 0 0.5em; text-align: left; border: none;\">\n",
              "                number_inpatient\n",
              "            </td>\n",
              "        </tr>\n",
              "    \n",
              "        <tr style=\"background-color: hsl(120, 100.00%, 93.66%); border: none;\">\n",
              "            <td style=\"padding: 0 1em 0 0.5em; text-align: right; border: none;\">\n",
              "                0.0087\n",
              "                \n",
              "                    &plusmn; 0.0046\n",
              "                \n",
              "            </td>\n",
              "            <td style=\"padding: 0 0.5em 0 0.5em; text-align: left; border: none;\">\n",
              "                number_emergency\n",
              "            </td>\n",
              "        </tr>\n",
              "    \n",
              "        <tr style=\"background-color: hsl(120, 100.00%, 95.01%); border: none;\">\n",
              "            <td style=\"padding: 0 1em 0 0.5em; text-align: right; border: none;\">\n",
              "                0.0062\n",
              "                \n",
              "                    &plusmn; 0.0053\n",
              "                \n",
              "            </td>\n",
              "            <td style=\"padding: 0 0.5em 0 0.5em; text-align: left; border: none;\">\n",
              "                number_outpatient\n",
              "            </td>\n",
              "        </tr>\n",
              "    \n",
              "        <tr style=\"background-color: hsl(120, 100.00%, 96.82%); border: none;\">\n",
              "            <td style=\"padding: 0 1em 0 0.5em; text-align: right; border: none;\">\n",
              "                0.0033\n",
              "                \n",
              "                    &plusmn; 0.0016\n",
              "                \n",
              "            </td>\n",
              "            <td style=\"padding: 0 0.5em 0 0.5em; text-align: left; border: none;\">\n",
              "                payer_code_MC\n",
              "            </td>\n",
              "        </tr>\n",
              "    \n",
              "        <tr style=\"background-color: hsl(120, 100.00%, 97.70%); border: none;\">\n",
              "            <td style=\"padding: 0 1em 0 0.5em; text-align: right; border: none;\">\n",
              "                0.0020\n",
              "                \n",
              "                    &plusmn; 0.0016\n",
              "                \n",
              "            </td>\n",
              "            <td style=\"padding: 0 0.5em 0 0.5em; text-align: left; border: none;\">\n",
              "                diag_3_401\n",
              "            </td>\n",
              "        </tr>\n",
              "    \n",
              "        <tr style=\"background-color: hsl(120, 100.00%, 98.09%); border: none;\">\n",
              "            <td style=\"padding: 0 1em 0 0.5em; text-align: right; border: none;\">\n",
              "                0.0016\n",
              "                \n",
              "                    &plusmn; 0.0031\n",
              "                \n",
              "            </td>\n",
              "            <td style=\"padding: 0 0.5em 0 0.5em; text-align: left; border: none;\">\n",
              "                medical_specialty_Emergency/Trauma\n",
              "            </td>\n",
              "        </tr>\n",
              "    \n",
              "        <tr style=\"background-color: hsl(120, 100.00%, 98.21%); border: none;\">\n",
              "            <td style=\"padding: 0 1em 0 0.5em; text-align: right; border: none;\">\n",
              "                0.0014\n",
              "                \n",
              "                    &plusmn; 0.0024\n",
              "                \n",
              "            </td>\n",
              "            <td style=\"padding: 0 0.5em 0 0.5em; text-align: left; border: none;\">\n",
              "                A1Cresult_None\n",
              "            </td>\n",
              "        </tr>\n",
              "    \n",
              "        <tr style=\"background-color: hsl(120, 100.00%, 98.23%); border: none;\">\n",
              "            <td style=\"padding: 0 1em 0 0.5em; text-align: right; border: none;\">\n",
              "                0.0014\n",
              "                \n",
              "                    &plusmn; 0.0021\n",
              "                \n",
              "            </td>\n",
              "            <td style=\"padding: 0 0.5em 0 0.5em; text-align: left; border: none;\">\n",
              "                medical_specialty_Family/GeneralPractice\n",
              "            </td>\n",
              "        </tr>\n",
              "    \n",
              "        <tr style=\"background-color: hsl(120, 100.00%, 98.35%); border: none;\">\n",
              "            <td style=\"padding: 0 1em 0 0.5em; text-align: right; border: none;\">\n",
              "                0.0013\n",
              "                \n",
              "                    &plusmn; 0.0010\n",
              "                \n",
              "            </td>\n",
              "            <td style=\"padding: 0 0.5em 0 0.5em; text-align: left; border: none;\">\n",
              "                diag_2_427\n",
              "            </td>\n",
              "        </tr>\n",
              "    \n",
              "        <tr style=\"background-color: hsl(120, 100.00%, 98.35%); border: none;\">\n",
              "            <td style=\"padding: 0 1em 0 0.5em; text-align: right; border: none;\">\n",
              "                0.0013\n",
              "                \n",
              "                    &plusmn; 0.0011\n",
              "                \n",
              "            </td>\n",
              "            <td style=\"padding: 0 0.5em 0 0.5em; text-align: left; border: none;\">\n",
              "                diag_2_276\n",
              "            </td>\n",
              "        </tr>\n",
              "    \n",
              "        <tr style=\"background-color: hsl(120, 100.00%, 98.56%); border: none;\">\n",
              "            <td style=\"padding: 0 1em 0 0.5em; text-align: right; border: none;\">\n",
              "                0.0011\n",
              "                \n",
              "                    &plusmn; 0.0022\n",
              "                \n",
              "            </td>\n",
              "            <td style=\"padding: 0 0.5em 0 0.5em; text-align: left; border: none;\">\n",
              "                age_[50-60)\n",
              "            </td>\n",
              "        </tr>\n",
              "    \n",
              "        <tr style=\"background-color: hsl(120, 100.00%, 98.62%); border: none;\">\n",
              "            <td style=\"padding: 0 1em 0 0.5em; text-align: right; border: none;\">\n",
              "                0.0010\n",
              "                \n",
              "                    &plusmn; 0.0022\n",
              "                \n",
              "            </td>\n",
              "            <td style=\"padding: 0 0.5em 0 0.5em; text-align: left; border: none;\">\n",
              "                age_[80-90)\n",
              "            </td>\n",
              "        </tr>\n",
              "    \n",
              "        <tr style=\"background-color: hsl(120, 100.00%, 98.88%); border: none;\">\n",
              "            <td style=\"padding: 0 1em 0 0.5em; text-align: right; border: none;\">\n",
              "                0.0007\n",
              "                \n",
              "                    &plusmn; 0.0006\n",
              "                \n",
              "            </td>\n",
              "            <td style=\"padding: 0 0.5em 0 0.5em; text-align: left; border: none;\">\n",
              "                repaglinide_No\n",
              "            </td>\n",
              "        </tr>\n",
              "    \n",
              "        <tr style=\"background-color: hsl(120, 100.00%, 99.02%); border: none;\">\n",
              "            <td style=\"padding: 0 1em 0 0.5em; text-align: right; border: none;\">\n",
              "                0.0006\n",
              "                \n",
              "                    &plusmn; 0.0010\n",
              "                \n",
              "            </td>\n",
              "            <td style=\"padding: 0 0.5em 0 0.5em; text-align: left; border: none;\">\n",
              "                diag_1_428\n",
              "            </td>\n",
              "        </tr>\n",
              "    \n",
              "        <tr style=\"background-color: hsl(120, 100.00%, 99.05%); border: none;\">\n",
              "            <td style=\"padding: 0 1em 0 0.5em; text-align: right; border: none;\">\n",
              "                0.0006\n",
              "                \n",
              "                    &plusmn; 0.0022\n",
              "                \n",
              "            </td>\n",
              "            <td style=\"padding: 0 0.5em 0 0.5em; text-align: left; border: none;\">\n",
              "                payer_code_SP\n",
              "            </td>\n",
              "        </tr>\n",
              "    \n",
              "        <tr style=\"background-color: hsl(120, 100.00%, 99.17%); border: none;\">\n",
              "            <td style=\"padding: 0 1em 0 0.5em; text-align: right; border: none;\">\n",
              "                0.0005\n",
              "                \n",
              "                    &plusmn; 0.0030\n",
              "                \n",
              "            </td>\n",
              "            <td style=\"padding: 0 0.5em 0 0.5em; text-align: left; border: none;\">\n",
              "                insulin_No\n",
              "            </td>\n",
              "        </tr>\n",
              "    \n",
              "        <tr style=\"background-color: hsl(120, 100.00%, 99.25%); border: none;\">\n",
              "            <td style=\"padding: 0 1em 0 0.5em; text-align: right; border: none;\">\n",
              "                0.0004\n",
              "                \n",
              "                    &plusmn; 0.0028\n",
              "                \n",
              "            </td>\n",
              "            <td style=\"padding: 0 0.5em 0 0.5em; text-align: left; border: none;\">\n",
              "                diabetesMed_Yes\n",
              "            </td>\n",
              "        </tr>\n",
              "    \n",
              "        <tr style=\"background-color: hsl(120, 100.00%, 99.33%); border: none;\">\n",
              "            <td style=\"padding: 0 1em 0 0.5em; text-align: right; border: none;\">\n",
              "                0.0004\n",
              "                \n",
              "                    &plusmn; 0.0021\n",
              "                \n",
              "            </td>\n",
              "            <td style=\"padding: 0 0.5em 0 0.5em; text-align: left; border: none;\">\n",
              "                diag_3_250\n",
              "            </td>\n",
              "        </tr>\n",
              "    \n",
              "        <tr style=\"background-color: hsl(120, 100.00%, 99.37%); border: none;\">\n",
              "            <td style=\"padding: 0 1em 0 0.5em; text-align: right; border: none;\">\n",
              "                0.0003\n",
              "                \n",
              "                    &plusmn; 0.0018\n",
              "                \n",
              "            </td>\n",
              "            <td style=\"padding: 0 0.5em 0 0.5em; text-align: left; border: none;\">\n",
              "                diag_2_250\n",
              "            </td>\n",
              "        </tr>\n",
              "    \n",
              "        <tr style=\"background-color: hsl(120, 100.00%, 99.46%); border: none;\">\n",
              "            <td style=\"padding: 0 1em 0 0.5em; text-align: right; border: none;\">\n",
              "                0.0003\n",
              "                \n",
              "                    &plusmn; 0.0015\n",
              "                \n",
              "            </td>\n",
              "            <td style=\"padding: 0 0.5em 0 0.5em; text-align: left; border: none;\">\n",
              "                glipizide_No\n",
              "            </td>\n",
              "        </tr>\n",
              "    \n",
              "    \n",
              "        \n",
              "            <tr style=\"background-color: hsl(120, 100.00%, 99.46%); border: none;\">\n",
              "                <td colspan=\"2\" style=\"padding: 0 0.5em 0 0.5em; text-align: center; border: none; white-space: nowrap;\">\n",
              "                    <i>&hellip; 44 more &hellip;</i>\n",
              "                </td>\n",
              "            </tr>\n",
              "        \n",
              "    \n",
              "    </tbody>\n",
              "</table>\n",
              "    \n",
              "\n",
              "    \n",
              "\n",
              "\n",
              "    \n",
              "\n",
              "    \n",
              "\n",
              "    \n",
              "\n",
              "    \n",
              "\n",
              "    \n",
              "\n",
              "    \n",
              "\n",
              "\n",
              "\n"
            ]
          },
          "metadata": {
            "tags": []
          },
          "execution_count": 27
        }
      ]
    },
    {
      "cell_type": "markdown",
      "metadata": {
        "id": "W--IkRUM_VAw"
      },
      "source": [
        "For our idea of what to show, run the cell below.  "
      ]
    },
    {
      "cell_type": "code",
      "metadata": {
        "execution": {
          "iopub.status.busy": "2021-07-25T14:06:15.885496Z",
          "iopub.execute_input": "2021-07-25T14:06:15.885767Z",
          "iopub.status.idle": "2021-07-25T14:06:15.889848Z",
          "shell.execute_reply.started": "2021-07-25T14:06:15.885740Z",
          "shell.execute_reply": "2021-07-25T14:06:15.888787Z"
        },
        "trusted": true,
        "id": "BmGv0sXo_VAw"
      },
      "source": [
        "# Run this code cell to receive credit!\n",
        "# q_1.solution()"
      ],
      "execution_count": null,
      "outputs": []
    },
    {
      "cell_type": "markdown",
      "metadata": {
        "id": "CM5xLGYI_VAw"
      },
      "source": [
        "If you'd like to discuss your approach or see what others have done, we have a discussion forum [here](https://www.kaggle.com/learn-forum/66267#latest-390149).\n",
        "\n"
      ]
    },
    {
      "cell_type": "markdown",
      "metadata": {
        "id": "7kC5MXFT_VAx"
      },
      "source": [
        "## Step 2\n",
        "\n",
        "It appears `number_inpatient` is a really important feature. The doctors would like to know more about that. Create a graph for them that shows how `num_inpatient` affects the model's predictions."
      ]
    },
    {
      "cell_type": "code",
      "metadata": {
        "execution": {
          "iopub.status.busy": "2021-07-25T14:06:15.891292Z",
          "iopub.execute_input": "2021-07-25T14:06:15.891565Z",
          "iopub.status.idle": "2021-07-25T14:06:16.476103Z",
          "shell.execute_reply.started": "2021-07-25T14:06:15.891537Z",
          "shell.execute_reply": "2021-07-25T14:06:16.474964Z"
        },
        "trusted": true,
        "id": "ukIp7y3n_VAx",
        "outputId": "5b8507eb-029b-411a-be0e-4ebbc0e485b0"
      },
      "source": [
        "from matplotlib import pyplot as plt\n",
        "from pdpbox import pdp, get_dataset, info_plots\n",
        "\n",
        "feature_name = 'number_inpatient'\n",
        "# Create the data that we will plot\n",
        "my_pdp = pdp.pdp_isolate(model=my_model, dataset=val_X, model_features=val_X.columns, feature=feature_name)\n",
        "\n",
        "# plot it\n",
        "pdp.pdp_plot(my_pdp, feature_name)\n",
        "plt.show()"
      ],
      "execution_count": null,
      "outputs": [
        {
          "output_type": "display_data",
          "data": {
            "text/plain": [
              "<Figure size 1080x684 with 2 Axes>"
            ],
            "image/png": "[encoded data removed]"
          },
          "metadata": {
            "tags": [],
            "needs_background": "light"
          }
        }
      ]
    },
    {
      "cell_type": "markdown",
      "metadata": {
        "id": "LASo2f3H_VAx"
      },
      "source": [
        "For our solution, run the line below."
      ]
    },
    {
      "cell_type": "code",
      "metadata": {
        "execution": {
          "iopub.status.busy": "2021-07-25T14:06:16.478450Z",
          "iopub.execute_input": "2021-07-25T14:06:16.478756Z",
          "iopub.status.idle": "2021-07-25T14:06:16.482839Z",
          "shell.execute_reply.started": "2021-07-25T14:06:16.478726Z",
          "shell.execute_reply": "2021-07-25T14:06:16.481706Z"
        },
        "trusted": true,
        "id": "SZaKWjMM_VAx"
      },
      "source": [
        "# Check your answer (Run this code cell to receive credit!)\n",
        "# q_2.solution()"
      ],
      "execution_count": null,
      "outputs": []
    },
    {
      "cell_type": "markdown",
      "metadata": {
        "id": "-BP4cGr__VAy"
      },
      "source": [
        "## Step 3\n",
        "\n",
        "The doctors think it's a good sign that increasing the number of inpatient procedures leads to increased predictions.  But they can't tell from this plot whether that change in the plot is big or small. They'd like you to create something similar for `time_in_hospital` to see how that compares."
      ]
    },
    {
      "cell_type": "code",
      "metadata": {
        "execution": {
          "iopub.status.busy": "2021-07-25T14:06:16.484327Z",
          "iopub.execute_input": "2021-07-25T14:06:16.484737Z",
          "iopub.status.idle": "2021-07-25T14:06:17.434240Z",
          "shell.execute_reply.started": "2021-07-25T14:06:16.484689Z",
          "shell.execute_reply": "2021-07-25T14:06:17.433164Z"
        },
        "trusted": true,
        "id": "KYIqqOHt_VAy",
        "outputId": "f5b0507c-cdc3-4e1b-ca4f-5e3226e10931"
      },
      "source": [
        "from matplotlib import pyplot as plt\n",
        "from pdpbox import pdp, get_dataset, info_plots\n",
        "\n",
        "feature_name = 'time_in_hospital'\n",
        "# Create the data that we will plot\n",
        "my_pdp = pdp.pdp_isolate(model=my_model, dataset=val_X, model_features=val_X.columns, feature=feature_name)\n",
        "\n",
        "# plot it\n",
        "pdp.pdp_plot(my_pdp, feature_name)\n",
        "plt.show()"
      ],
      "execution_count": null,
      "outputs": [
        {
          "output_type": "display_data",
          "data": {
            "text/plain": [
              "<Figure size 1080x684 with 2 Axes>"
            ],
            "image/png": "[encoded data removed]"
          },
          "metadata": {
            "tags": [],
            "needs_background": "light"
          }
        }
      ]
    },
    {
      "cell_type": "markdown",
      "metadata": {
        "id": "jk5rF4Q2_VAy"
      },
      "source": [
        "Uncomment the relevant line below to see one solution."
      ]
    },
    {
      "cell_type": "code",
      "metadata": {
        "execution": {
          "iopub.status.busy": "2021-07-25T14:06:17.435964Z",
          "iopub.execute_input": "2021-07-25T14:06:17.436405Z",
          "iopub.status.idle": "2021-07-25T14:06:17.440826Z",
          "shell.execute_reply.started": "2021-07-25T14:06:17.436363Z",
          "shell.execute_reply": "2021-07-25T14:06:17.439720Z"
        },
        "trusted": true,
        "id": "ABZPK8JX_VAy"
      },
      "source": [
        "# Check your answer (Run this code cell to receive credit!)\n",
        "# q_3.solution()"
      ],
      "execution_count": null,
      "outputs": []
    },
    {
      "cell_type": "markdown",
      "metadata": {
        "id": "skeagH9h_VAy"
      },
      "source": [
        "## Step 4\n",
        "\n",
        "Woah!  It seems like `time_in_hospital` doesn't matter at all.  The difference between the lowest value on the partial dependence plot and the highest value is about 5%.\n",
        "\n",
        "If that is what your model concluded, the doctors will believe it. But it seems so low. Could  the data be wrong, or is your model doing something more complex than they expect?  \n",
        "\n",
        "They'd like you to show them the raw readmission rate for each value of `time_in_hospital` to see how it compares to the partial dependence plot.\n",
        "\n",
        "- Make that plot. \n",
        "- Are the results similar or different?"
      ]
    },
    {
      "cell_type": "code",
      "metadata": {
        "execution": {
          "iopub.status.busy": "2021-07-25T14:06:17.442492Z",
          "iopub.execute_input": "2021-07-25T14:06:17.442947Z",
          "iopub.status.idle": "2021-07-25T14:06:17.608830Z",
          "shell.execute_reply.started": "2021-07-25T14:06:17.442891Z",
          "shell.execute_reply": "2021-07-25T14:06:17.608001Z"
        },
        "trusted": true,
        "id": "Kzrk81SO_VAz",
        "outputId": "e7faa120-410d-4104-a37a-048016f65160"
      },
      "source": [
        "all_train = pd.concat([train_X, train_y], axis=1)\n",
        "\n",
        "all_train.groupby(['time_in_hospital']).mean().readmitted.plot()\n",
        "plt.show()"
      ],
      "execution_count": null,
      "outputs": [
        {
          "output_type": "display_data",
          "data": {
            "text/plain": [
              "<Figure size 432x288 with 1 Axes>"
            ],
            "image/png": "[encoded data removed]"
          },
          "metadata": {
            "tags": [],
            "needs_background": "light"
          }
        }
      ]
    },
    {
      "cell_type": "markdown",
      "metadata": {
        "id": "XqbM5Ws3_VAz"
      },
      "source": [
        "For a hint, uncomment the line below."
      ]
    },
    {
      "cell_type": "code",
      "metadata": {
        "execution": {
          "iopub.status.busy": "2021-07-25T14:06:17.610086Z",
          "iopub.execute_input": "2021-07-25T14:06:17.610366Z",
          "iopub.status.idle": "2021-07-25T14:06:17.614267Z",
          "shell.execute_reply.started": "2021-07-25T14:06:17.610339Z",
          "shell.execute_reply": "2021-07-25T14:06:17.613375Z"
        },
        "trusted": true,
        "id": "elVLYCy1_VAz"
      },
      "source": [
        "# q_4.hint()"
      ],
      "execution_count": null,
      "outputs": []
    },
    {
      "cell_type": "code",
      "metadata": {
        "execution": {
          "iopub.status.busy": "2021-07-25T14:06:17.615704Z",
          "iopub.execute_input": "2021-07-25T14:06:17.616054Z",
          "iopub.status.idle": "2021-07-25T14:06:17.626908Z",
          "shell.execute_reply.started": "2021-07-25T14:06:17.616018Z",
          "shell.execute_reply": "2021-07-25T14:06:17.625684Z"
        },
        "trusted": true,
        "id": "CG9EWEp__VAz"
      },
      "source": [
        "# Check your answer (Run this code cell to receive credit!)\n",
        "# q_4.solution()"
      ],
      "execution_count": null,
      "outputs": []
    },
    {
      "cell_type": "markdown",
      "metadata": {
        "id": "6orw0eoE_VAz"
      },
      "source": [
        "## Step 5\n",
        "Now the doctors are convinced you have the right data, and the model overview looked reasonable.  It's time to turn this into a finished product they can use. Specifically, the hospital wants you to create a function `patient_risk_factors` that does the following\n",
        "- Takes a single row with patient data (of the same format you as your raw data)\n",
        "- Creates a visualization showing what features of that patient increased their risk of readmission, what features decreased it, and how much those features mattered.\n",
        "\n",
        "It's not important to show every feature with every miniscule impact on the readmission risk.  It's fine to focus on only the most important features for that patient."
      ]
    },
    {
      "cell_type": "code",
      "metadata": {
        "execution": {
          "iopub.status.busy": "2021-07-25T14:06:17.628352Z",
          "iopub.execute_input": "2021-07-25T14:06:17.628658Z",
          "iopub.status.idle": "2021-07-25T14:06:17.639178Z",
          "shell.execute_reply.started": "2021-07-25T14:06:17.628617Z",
          "shell.execute_reply": "2021-07-25T14:06:17.638106Z"
        },
        "trusted": true,
        "id": "XJxAv4S6_VA0"
      },
      "source": [
        "import shap  # package used to calculate Shap values\n",
        "\n",
        "sample_data_for_prediction = val_X.iloc[0].astype(float)  # to test function\n",
        "\n",
        "def patient_risk_factors(model, patient_data):\n",
        "    # Create object that can calculate shap values\n",
        "    explainer = shap.TreeExplainer(model)\n",
        "    shap_values = explainer.shap_values(patient_data)\n",
        "    shap.initjs()\n",
        "    return shap.force_plot(explainer.expected_value[1], shap_values[1], patient_data)"
      ],
      "execution_count": null,
      "outputs": []
    },
    {
      "cell_type": "markdown",
      "metadata": {
        "id": "JVk3xlHr_VA0"
      },
      "source": [
        "For a hint, uncomment the line below."
      ]
    },
    {
      "cell_type": "code",
      "metadata": {
        "execution": {
          "iopub.status.busy": "2021-07-25T14:06:17.640210Z",
          "iopub.execute_input": "2021-07-25T14:06:17.640486Z",
          "iopub.status.idle": "2021-07-25T14:06:17.651049Z",
          "shell.execute_reply.started": "2021-07-25T14:06:17.640459Z",
          "shell.execute_reply": "2021-07-25T14:06:17.650090Z"
        },
        "trusted": true,
        "id": "7IkGT7Ug_VA0"
      },
      "source": [
        "# q_5.hint()"
      ],
      "execution_count": null,
      "outputs": []
    },
    {
      "cell_type": "code",
      "metadata": {
        "execution": {
          "iopub.status.busy": "2021-07-25T14:06:17.652367Z",
          "iopub.execute_input": "2021-07-25T14:06:17.652704Z",
          "iopub.status.idle": "2021-07-25T14:06:17.661475Z",
          "shell.execute_reply.started": "2021-07-25T14:06:17.652673Z",
          "shell.execute_reply": "2021-07-25T14:06:17.660599Z"
        },
        "trusted": true,
        "id": "ZFovR3_U_VA0"
      },
      "source": [
        "# Check your answer (Run this code cell to receive credit!)\n",
        "# q_5.solution()"
      ],
      "execution_count": null,
      "outputs": []
    },
    {
      "cell_type": "markdown",
      "metadata": {
        "id": "e_bbZWgT_VA0"
      },
      "source": [
        "## Keep Going\n",
        "You have some powerful tools to get insights about both models and individual predictions. Next you will look at **[aggregations of SHAP values](https://www.kaggle.com/dansbecker/advanced-uses-of-shap-values)** to link the model-level and prediction-level insights.\n"
      ]
    },
    {
      "cell_type": "markdown",
      "metadata": {
        "id": "BvRSGjr6_VA0"
      },
      "source": [
        "---\n",
        "\n",
        "\n",
        "\n",
        "\n",
        "*Have questions or comments? Visit the [Learn Discussion forum](https://www.kaggle.com/learn-forum/161307) to chat with other Learners.*"
      ]
    }
  ]
}