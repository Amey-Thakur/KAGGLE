{
  "nbformat": 4,
  "nbformat_minor": 0,
  "metadata": {
    "kernelspec": {
      "display_name": "Python 3",
      "language": "python",
      "name": "python3"
    },
    "language_info": {
      "name": "python",
      "version": "3.7.10",
      "mimetype": "text/x-python",
      "codemirror_mode": {
        "name": "ipython",
        "version": 3
      },
      "pygments_lexer": "ipython3",
      "nbconvert_exporter": "python",
      "file_extension": ".py"
    },
    "colab": {
      "name": "Exercise: Distributions.ipynb",
      "provenance": [],
      "include_colab_link": true
    }
  },
  "cells": [
    {
      "cell_type": "markdown",
      "metadata": {
        "id": "view-in-github",
        "colab_type": "text"
      },
      "source": [
        "<a href=\"https://colab.research.google.com/github/Amey-Thakur/KAGGLE/blob/main/Exercise_Distributions.ipynb\" target=\"_parent\"><img src=\"https://colab.research.google.com/assets/colab-badge.svg\" alt=\"Open In Colab\"/></a>"
      ]
    },
    {
      "cell_type": "markdown",
      "metadata": {
        "id": "6tjjY7h2s2jU"
      },
      "source": [
        "**This notebook is an exercise in the [Data Visualization](https://www.kaggle.com/learn/data-visualization) course.  You can reference the tutorial at [this link](https://www.kaggle.com/alexisbcook/distributions).**\n",
        "\n",
        "---\n"
      ]
    },
    {
      "cell_type": "markdown",
      "metadata": {
        "id": "W1gN8KzBs2jY"
      },
      "source": [
        "In this exercise, you will use your new knowledge to propose a solution to a real-world scenario.  To succeed, you will need to import data into Python, answer questions using the data, and generate **histograms** and **density plots** to understand patterns in the data.\n",
        "\n",
        "## Scenario\n",
        "\n",
        "You'll work with a real-world dataset containing information collected from microscopic images of breast cancer tumors, similar to the image below.\n",
        "\n",
        "![ex4_cancer_image](https://i.imgur.com/qUESsJe.png)\n",
        "\n",
        "Each tumor has been labeled as either [**benign**](https://en.wikipedia.org/wiki/Benign_tumor) (_noncancerous_) or **malignant** (_cancerous_).\n",
        "\n",
        "To learn more about how this kind of data is used to create intelligent algorithms to classify tumors in medical settings, **watch the short video [at this link](https://www.youtube.com/watch?v=9Mz84cwVmS0)**!"
      ]
    },
    {
      "cell_type": "markdown",
      "metadata": {
        "id": "I0C21yzzs2jY"
      },
      "source": [
        "\n",
        "\n",
        "## Setup\n",
        "\n",
        "Run the next cell to import and configure the Python libraries that you need to complete the exercise."
      ]
    },
    {
      "cell_type": "code",
      "metadata": {
        "execution": {
          "iopub.status.busy": "2021-07-23T14:09:21.944268Z",
          "iopub.execute_input": "2021-07-23T14:09:21.944620Z",
          "iopub.status.idle": "2021-07-23T14:09:21.952479Z",
          "shell.execute_reply.started": "2021-07-23T14:09:21.944589Z",
          "shell.execute_reply": "2021-07-23T14:09:21.951073Z"
        },
        "trusted": true,
        "id": "krt4ccXis2jZ",
        "outputId": "3d18ada3-3bae-4e86-d902-ecdc47641098"
      },
      "source": [
        "import pandas as pd\n",
        "pd.plotting.register_matplotlib_converters()\n",
        "import matplotlib.pyplot as plt\n",
        "%matplotlib inline\n",
        "import seaborn as sns\n",
        "print(\"Setup Complete\")"
      ],
      "execution_count": null,
      "outputs": [
        {
          "output_type": "stream",
          "text": [
            "Setup Complete\n"
          ],
          "name": "stdout"
        }
      ]
    },
    {
      "cell_type": "markdown",
      "metadata": {
        "id": "h9oJumg3s2ja"
      },
      "source": [
        "The questions below will give you feedback on your work. Run the following cell to set up our feedback system."
      ]
    },
    {
      "cell_type": "code",
      "metadata": {
        "execution": {
          "iopub.status.busy": "2021-07-23T14:09:21.958032Z",
          "iopub.execute_input": "2021-07-23T14:09:21.958490Z",
          "iopub.status.idle": "2021-07-23T14:09:21.973325Z",
          "shell.execute_reply.started": "2021-07-23T14:09:21.958457Z",
          "shell.execute_reply": "2021-07-23T14:09:21.972260Z"
        },
        "trusted": true,
        "id": "qhIA54kHs2ja",
        "outputId": "fc5ab764-d824-4281-80cc-b205bf342303"
      },
      "source": [
        "# Set up code checking\n",
        "import os\n",
        "if not os.path.exists(\"../input/cancer_b.csv\"):\n",
        "    os.symlink(\"../input/data-for-datavis/cancer_b.csv\", \"../input/cancer_b.csv\")\n",
        "    os.symlink(\"../input/data-for-datavis/cancer_m.csv\", \"../input/cancer_m.csv\")\n",
        "from learntools.core import binder\n",
        "binder.bind(globals())\n",
        "from learntools.data_viz_to_coder.ex5 import *\n",
        "print(\"Setup Complete\")"
      ],
      "execution_count": null,
      "outputs": [
        {
          "output_type": "stream",
          "text": [
            "Setup Complete\n"
          ],
          "name": "stdout"
        }
      ]
    },
    {
      "cell_type": "markdown",
      "metadata": {
        "id": "qsu-Va9cs2jb"
      },
      "source": [
        "## Step 1: Load the data\n",
        "\n",
        "In this step, you will load two data files.\n",
        "- Load the data file corresponding to **benign** tumors into a DataFrame called `cancer_b_data`.  The corresponding filepath is `cancer_b_filepath`.  Use the `\"Id\"` column to label the rows.\n",
        "- Load the data file corresponding to **malignant** tumors into a DataFrame called `cancer_m_data`.  The corresponding filepath is `cancer_m_filepath`.  Use the `\"Id\"` column to label the rows."
      ]
    },
    {
      "cell_type": "code",
      "metadata": {
        "execution": {
          "iopub.status.busy": "2021-07-23T14:09:21.975045Z",
          "iopub.execute_input": "2021-07-23T14:09:21.975504Z",
          "iopub.status.idle": "2021-07-23T14:09:22.009257Z",
          "shell.execute_reply.started": "2021-07-23T14:09:21.975472Z",
          "shell.execute_reply": "2021-07-23T14:09:22.008223Z"
        },
        "trusted": true,
        "id": "41YRO8gms2jb",
        "outputId": "64db292f-af8f-40f6-f820-549019b98866"
      },
      "source": [
        "# Paths of the files to read\n",
        "cancer_b_filepath = \"../input/cancer_b.csv\"\n",
        "cancer_m_filepath = \"../input/cancer_m.csv\"\n",
        "\n",
        "# Fill in the line below to read the (benign) file into a variable cancer_b_data\n",
        "cancer_b_data = pd.read_csv(cancer_b_filepath, index_col=\"Id\")\n",
        "\n",
        "# Fill in the line below to read the (malignant) file into a variable cancer_m_data\n",
        "cancer_m_data = pd.read_csv(cancer_m_filepath, index_col=\"Id\")\n",
        "\n",
        "# Run the line below with no changes to check that you've loaded the data correctly\n",
        "step_1.check()"
      ],
      "execution_count": null,
      "outputs": [
        {
          "output_type": "display_data",
          "data": {
            "text/plain": [
              "<IPython.core.display.Javascript object>"
            ],
            "application/javascript": [
              "parent.postMessage({\"jupyterEvent\": \"custom.exercise_interaction\", \"data\": {\"outcomeType\": 1, \"valueTowardsCompletion\": 0.5, \"interactionType\": 1, \"questionType\": 1, \"questionId\": \"1_LoadCancerData\", \"learnToolsVersion\": \"0.3.4\", \"failureMessage\": \"\", \"exceptionClass\": \"\", \"trace\": \"\"}}, \"*\")"
            ]
          },
          "metadata": {
            "tags": []
          }
        },
        {
          "output_type": "display_data",
          "data": {
            "text/plain": [
              "Correct"
            ],
            "text/markdown": "<span style=\"color:#33cc33\">Correct</span>"
          },
          "metadata": {
            "tags": []
          }
        }
      ]
    },
    {
      "cell_type": "code",
      "metadata": {
        "execution": {
          "iopub.status.busy": "2021-07-23T14:09:22.011445Z",
          "iopub.execute_input": "2021-07-23T14:09:22.011817Z",
          "iopub.status.idle": "2021-07-23T14:09:22.016169Z",
          "shell.execute_reply.started": "2021-07-23T14:09:22.011781Z",
          "shell.execute_reply": "2021-07-23T14:09:22.015124Z"
        },
        "trusted": true,
        "id": "9bRfgKN3s2jc"
      },
      "source": [
        "# Lines below will give you a hint or solution code\n",
        "#step_1.hint()\n",
        "#step_1.solution()"
      ],
      "execution_count": null,
      "outputs": []
    },
    {
      "cell_type": "markdown",
      "metadata": {
        "id": "B967xBKjs2jd"
      },
      "source": [
        "## Step 2: Review the data\n",
        "\n",
        "Use a Python command to print the first 5 rows of the data for benign tumors."
      ]
    },
    {
      "cell_type": "code",
      "metadata": {
        "execution": {
          "iopub.status.busy": "2021-07-23T14:09:22.017513Z",
          "iopub.execute_input": "2021-07-23T14:09:22.017944Z",
          "iopub.status.idle": "2021-07-23T14:09:22.035367Z",
          "shell.execute_reply.started": "2021-07-23T14:09:22.017910Z",
          "shell.execute_reply": "2021-07-23T14:09:22.034294Z"
        },
        "trusted": true,
        "id": "347wWQqKs2jd",
        "outputId": "1f261118-c176-4daa-f906-3aeb7218f1b0"
      },
      "source": [
        "# Print the first five rows of the (benign) data\n",
        "____ # Your code here"
      ],
      "execution_count": null,
      "outputs": [
        {
          "output_type": "execute_result",
          "data": {
            "text/plain": [
              "<learntools.core.constants.PlaceholderValue at 0x7fc5de854d90>"
            ],
            "text/markdown": ""
          },
          "metadata": {
            "tags": []
          },
          "execution_count": 25
        }
      ]
    },
    {
      "cell_type": "markdown",
      "metadata": {
        "id": "c8gDlSJgs2jd"
      },
      "source": [
        "Use a Python command to print the first 5 rows of the data for malignant tumors."
      ]
    },
    {
      "cell_type": "code",
      "metadata": {
        "execution": {
          "iopub.status.busy": "2021-07-23T14:09:22.036683Z",
          "iopub.execute_input": "2021-07-23T14:09:22.037326Z",
          "iopub.status.idle": "2021-07-23T14:09:22.092832Z",
          "shell.execute_reply.started": "2021-07-23T14:09:22.037276Z",
          "shell.execute_reply": "2021-07-23T14:09:22.091814Z"
        },
        "trusted": true,
        "id": "hpWPLBF1s2jd",
        "outputId": "45911d4c-5dcb-44e1-cba3-6326e1512d18"
      },
      "source": [
        "# Print the first five rows of the (malignant) data\n",
        "cancer_b_data.head()\n",
        "cancer_m_data.head()"
      ],
      "execution_count": null,
      "outputs": [
        {
          "output_type": "execute_result",
          "data": {
            "text/plain": [
              "         Diagnosis  Radius (mean)  Texture (mean)  Perimeter (mean)  \\\n",
              "Id                                                                    \n",
              "842302           M          17.99           10.38            122.80   \n",
              "842517           M          20.57           17.77            132.90   \n",
              "84300903         M          19.69           21.25            130.00   \n",
              "84348301         M          11.42           20.38             77.58   \n",
              "84358402         M          20.29           14.34            135.10   \n",
              "\n",
              "          Area (mean)  Smoothness (mean)  Compactness (mean)  \\\n",
              "Id                                                             \n",
              "842302         1001.0            0.11840             0.27760   \n",
              "842517         1326.0            0.08474             0.07864   \n",
              "84300903       1203.0            0.10960             0.15990   \n",
              "84348301        386.1            0.14250             0.28390   \n",
              "84358402       1297.0            0.10030             0.13280   \n",
              "\n",
              "          Concavity (mean)  Concave points (mean)  Symmetry (mean)  ...  \\\n",
              "Id                                                                  ...   \n",
              "842302              0.3001                0.14710           0.2419  ...   \n",
              "842517              0.0869                0.07017           0.1812  ...   \n",
              "84300903            0.1974                0.12790           0.2069  ...   \n",
              "84348301            0.2414                0.10520           0.2597  ...   \n",
              "84358402            0.1980                0.10430           0.1809  ...   \n",
              "\n",
              "          Radius (worst)  Texture (worst)  Perimeter (worst)  Area (worst)  \\\n",
              "Id                                                                           \n",
              "842302             25.38            17.33             184.60        2019.0   \n",
              "842517             24.99            23.41             158.80        1956.0   \n",
              "84300903           23.57            25.53             152.50        1709.0   \n",
              "84348301           14.91            26.50              98.87         567.7   \n",
              "84358402           22.54            16.67             152.20        1575.0   \n",
              "\n",
              "          Smoothness (worst)  Compactness (worst)  Concavity (worst)  \\\n",
              "Id                                                                     \n",
              "842302                0.1622               0.6656             0.7119   \n",
              "842517                0.1238               0.1866             0.2416   \n",
              "84300903              0.1444               0.4245             0.4504   \n",
              "84348301              0.2098               0.8663             0.6869   \n",
              "84358402              0.1374               0.2050             0.4000   \n",
              "\n",
              "          Concave points (worst)  Symmetry (worst)  Fractal dimension (worst)  \n",
              "Id                                                                             \n",
              "842302                    0.2654            0.4601                    0.11890  \n",
              "842517                    0.1860            0.2750                    0.08902  \n",
              "84300903                  0.2430            0.3613                    0.08758  \n",
              "84348301                  0.2575            0.6638                    0.17300  \n",
              "84358402                  0.1625            0.2364                    0.07678  \n",
              "\n",
              "[5 rows x 31 columns]"
            ],
            "text/html": [
              "<div>\n",
              "<style scoped>\n",
              "    .dataframe tbody tr th:only-of-type {\n",
              "        vertical-align: middle;\n",
              "    }\n",
              "\n",
              "    .dataframe tbody tr th {\n",
              "        vertical-align: top;\n",
              "    }\n",
              "\n",
              "    .dataframe thead th {\n",
              "        text-align: right;\n",
              "    }\n",
              "</style>\n",
              "<table border=\"1\" class=\"dataframe\">\n",
              "  <thead>\n",
              "    <tr style=\"text-align: right;\">\n",
              "      <th></th>\n",
              "      <th>Diagnosis</th>\n",
              "      <th>Radius (mean)</th>\n",
              "      <th>Texture (mean)</th>\n",
              "      <th>Perimeter (mean)</th>\n",
              "      <th>Area (mean)</th>\n",
              "      <th>Smoothness (mean)</th>\n",
              "      <th>Compactness (mean)</th>\n",
              "      <th>Concavity (mean)</th>\n",
              "      <th>Concave points (mean)</th>\n",
              "      <th>Symmetry (mean)</th>\n",
              "      <th>...</th>\n",
              "      <th>Radius (worst)</th>\n",
              "      <th>Texture (worst)</th>\n",
              "      <th>Perimeter (worst)</th>\n",
              "      <th>Area (worst)</th>\n",
              "      <th>Smoothness (worst)</th>\n",
              "      <th>Compactness (worst)</th>\n",
              "      <th>Concavity (worst)</th>\n",
              "      <th>Concave points (worst)</th>\n",
              "      <th>Symmetry (worst)</th>\n",
              "      <th>Fractal dimension (worst)</th>\n",
              "    </tr>\n",
              "    <tr>\n",
              "      <th>Id</th>\n",
              "      <th></th>\n",
              "      <th></th>\n",
              "      <th></th>\n",
              "      <th></th>\n",
              "      <th></th>\n",
              "      <th></th>\n",
              "      <th></th>\n",
              "      <th></th>\n",
              "      <th></th>\n",
              "      <th></th>\n",
              "      <th></th>\n",
              "      <th></th>\n",
              "      <th></th>\n",
              "      <th></th>\n",
              "      <th></th>\n",
              "      <th></th>\n",
              "      <th></th>\n",
              "      <th></th>\n",
              "      <th></th>\n",
              "      <th></th>\n",
              "      <th></th>\n",
              "    </tr>\n",
              "  </thead>\n",
              "  <tbody>\n",
              "    <tr>\n",
              "      <th>842302</th>\n",
              "      <td>M</td>\n",
              "      <td>17.99</td>\n",
              "      <td>10.38</td>\n",
              "      <td>122.80</td>\n",
              "      <td>1001.0</td>\n",
              "      <td>0.11840</td>\n",
              "      <td>0.27760</td>\n",
              "      <td>0.3001</td>\n",
              "      <td>0.14710</td>\n",
              "      <td>0.2419</td>\n",
              "      <td>...</td>\n",
              "      <td>25.38</td>\n",
              "      <td>17.33</td>\n",
              "      <td>184.60</td>\n",
              "      <td>2019.0</td>\n",
              "      <td>0.1622</td>\n",
              "      <td>0.6656</td>\n",
              "      <td>0.7119</td>\n",
              "      <td>0.2654</td>\n",
              "      <td>0.4601</td>\n",
              "      <td>0.11890</td>\n",
              "    </tr>\n",
              "    <tr>\n",
              "      <th>842517</th>\n",
              "      <td>M</td>\n",
              "      <td>20.57</td>\n",
              "      <td>17.77</td>\n",
              "      <td>132.90</td>\n",
              "      <td>1326.0</td>\n",
              "      <td>0.08474</td>\n",
              "      <td>0.07864</td>\n",
              "      <td>0.0869</td>\n",
              "      <td>0.07017</td>\n",
              "      <td>0.1812</td>\n",
              "      <td>...</td>\n",
              "      <td>24.99</td>\n",
              "      <td>23.41</td>\n",
              "      <td>158.80</td>\n",
              "      <td>1956.0</td>\n",
              "      <td>0.1238</td>\n",
              "      <td>0.1866</td>\n",
              "      <td>0.2416</td>\n",
              "      <td>0.1860</td>\n",
              "      <td>0.2750</td>\n",
              "      <td>0.08902</td>\n",
              "    </tr>\n",
              "    <tr>\n",
              "      <th>84300903</th>\n",
              "      <td>M</td>\n",
              "      <td>19.69</td>\n",
              "      <td>21.25</td>\n",
              "      <td>130.00</td>\n",
              "      <td>1203.0</td>\n",
              "      <td>0.10960</td>\n",
              "      <td>0.15990</td>\n",
              "      <td>0.1974</td>\n",
              "      <td>0.12790</td>\n",
              "      <td>0.2069</td>\n",
              "      <td>...</td>\n",
              "      <td>23.57</td>\n",
              "      <td>25.53</td>\n",
              "      <td>152.50</td>\n",
              "      <td>1709.0</td>\n",
              "      <td>0.1444</td>\n",
              "      <td>0.4245</td>\n",
              "      <td>0.4504</td>\n",
              "      <td>0.2430</td>\n",
              "      <td>0.3613</td>\n",
              "      <td>0.08758</td>\n",
              "    </tr>\n",
              "    <tr>\n",
              "      <th>84348301</th>\n",
              "      <td>M</td>\n",
              "      <td>11.42</td>\n",
              "      <td>20.38</td>\n",
              "      <td>77.58</td>\n",
              "      <td>386.1</td>\n",
              "      <td>0.14250</td>\n",
              "      <td>0.28390</td>\n",
              "      <td>0.2414</td>\n",
              "      <td>0.10520</td>\n",
              "      <td>0.2597</td>\n",
              "      <td>...</td>\n",
              "      <td>14.91</td>\n",
              "      <td>26.50</td>\n",
              "      <td>98.87</td>\n",
              "      <td>567.7</td>\n",
              "      <td>0.2098</td>\n",
              "      <td>0.8663</td>\n",
              "      <td>0.6869</td>\n",
              "      <td>0.2575</td>\n",
              "      <td>0.6638</td>\n",
              "      <td>0.17300</td>\n",
              "    </tr>\n",
              "    <tr>\n",
              "      <th>84358402</th>\n",
              "      <td>M</td>\n",
              "      <td>20.29</td>\n",
              "      <td>14.34</td>\n",
              "      <td>135.10</td>\n",
              "      <td>1297.0</td>\n",
              "      <td>0.10030</td>\n",
              "      <td>0.13280</td>\n",
              "      <td>0.1980</td>\n",
              "      <td>0.10430</td>\n",
              "      <td>0.1809</td>\n",
              "      <td>...</td>\n",
              "      <td>22.54</td>\n",
              "      <td>16.67</td>\n",
              "      <td>152.20</td>\n",
              "      <td>1575.0</td>\n",
              "      <td>0.1374</td>\n",
              "      <td>0.2050</td>\n",
              "      <td>0.4000</td>\n",
              "      <td>0.1625</td>\n",
              "      <td>0.2364</td>\n",
              "      <td>0.07678</td>\n",
              "    </tr>\n",
              "  </tbody>\n",
              "</table>\n",
              "<p>5 rows × 31 columns</p>\n",
              "</div>"
            ]
          },
          "metadata": {
            "tags": []
          },
          "execution_count": 26
        }
      ]
    },
    {
      "cell_type": "markdown",
      "metadata": {
        "id": "7NbTToFCs2je"
      },
      "source": [
        "In the datasets, each row corresponds to a different image.  Each dataset has 31 different columns, corresponding to:\n",
        "- 1 column (`'Diagnosis'`) that classifies tumors as either benign (which appears in the dataset as **`B`**) or malignant (__`M`__), and\n",
        "- 30 columns containing different measurements collected from the images.\n",
        "\n",
        "Use the first 5 rows of the data (for benign and malignant tumors) to answer the questions below."
      ]
    },
    {
      "cell_type": "code",
      "metadata": {
        "execution": {
          "iopub.status.busy": "2021-07-23T14:09:22.094185Z",
          "iopub.execute_input": "2021-07-23T14:09:22.094486Z",
          "iopub.status.idle": "2021-07-23T14:09:22.102760Z",
          "shell.execute_reply.started": "2021-07-23T14:09:22.094458Z",
          "shell.execute_reply": "2021-07-23T14:09:22.101670Z"
        },
        "trusted": true,
        "id": "9Jq36Kb2s2je",
        "outputId": "543fddc2-4c2a-428f-cdf8-7a109fc62896"
      },
      "source": [
        "# Fill in the line below: In the first five rows of the data for benign tumors, what is the\n",
        "# largest value for 'Perimeter (mean)'?\n",
        "max_perim = 87.46\n",
        "\n",
        "# Fill in the line below: What is the value for 'Radius (mean)' for the tumor with Id 842517?\n",
        "mean_radius = 20.57\n",
        "\n",
        "# Check your answers\n",
        "step_2.check()"
      ],
      "execution_count": null,
      "outputs": [
        {
          "output_type": "display_data",
          "data": {
            "text/plain": [
              "<IPython.core.display.Javascript object>"
            ],
            "application/javascript": [
              "parent.postMessage({\"jupyterEvent\": \"custom.exercise_interaction\", \"data\": {\"outcomeType\": 1, \"valueTowardsCompletion\": 0.5, \"interactionType\": 1, \"questionType\": 1, \"questionId\": \"2_ReviewData\", \"learnToolsVersion\": \"0.3.4\", \"failureMessage\": \"\", \"exceptionClass\": \"\", \"trace\": \"\"}}, \"*\")"
            ]
          },
          "metadata": {
            "tags": []
          }
        },
        {
          "output_type": "display_data",
          "data": {
            "text/plain": [
              "Correct"
            ],
            "text/markdown": "<span style=\"color:#33cc33\">Correct</span>"
          },
          "metadata": {
            "tags": []
          }
        }
      ]
    },
    {
      "cell_type": "code",
      "metadata": {
        "execution": {
          "iopub.status.busy": "2021-07-23T14:09:22.104230Z",
          "iopub.execute_input": "2021-07-23T14:09:22.104543Z",
          "iopub.status.idle": "2021-07-23T14:09:22.114094Z",
          "shell.execute_reply.started": "2021-07-23T14:09:22.104514Z",
          "shell.execute_reply": "2021-07-23T14:09:22.112851Z"
        },
        "trusted": true,
        "id": "-4AveVCus2je"
      },
      "source": [
        "# Lines below will give you a hint or solution code\n",
        "#step_2.hint()\n",
        "#step_2.solution()"
      ],
      "execution_count": null,
      "outputs": []
    },
    {
      "cell_type": "markdown",
      "metadata": {
        "id": "zpZNzfVos2jf"
      },
      "source": [
        "## Step 3: Investigating differences"
      ]
    },
    {
      "cell_type": "markdown",
      "metadata": {
        "id": "ue5iXpVvs2jf"
      },
      "source": [
        "#### Part A\n",
        "\n",
        "Use the code cell below to create two histograms that show the distribution in values for `'Area (mean)'` for both benign and malignant tumors.  (_To permit easy comparison, create a single figure containing both histograms in the code cell below._)"
      ]
    },
    {
      "cell_type": "code",
      "metadata": {
        "execution": {
          "iopub.status.busy": "2021-07-23T14:09:22.115661Z",
          "iopub.execute_input": "2021-07-23T14:09:22.116176Z",
          "iopub.status.idle": "2021-07-23T14:09:22.427287Z",
          "shell.execute_reply.started": "2021-07-23T14:09:22.116138Z",
          "shell.execute_reply": "2021-07-23T14:09:22.425983Z"
        },
        "trusted": true,
        "id": "1Jv1usaJs2jf",
        "outputId": "c3502c74-e06c-4ced-d09e-c733883b0137"
      },
      "source": [
        "# Histograms for benign and maligant tumors\n",
        "sns.distplot(a=cancer_b_data['Area (mean)'], label=\"Benign\", kde=False)\n",
        "sns.distplot(a=cancer_m_data['Area (mean)'], label=\"Malignant\", kde=False)\n",
        "plt.legend()\n",
        "\n",
        "# Check your answer\n",
        "step_3.a.check()"
      ],
      "execution_count": null,
      "outputs": [
        {
          "output_type": "display_data",
          "data": {
            "text/plain": [
              "<IPython.core.display.Javascript object>"
            ],
            "application/javascript": [
              "parent.postMessage({\"jupyterEvent\": \"custom.exercise_interaction\", \"data\": {\"outcomeType\": 1, \"valueTowardsCompletion\": 0.5, \"interactionType\": 1, \"questionType\": 2, \"questionId\": \"3.1_PlotHist\", \"learnToolsVersion\": \"0.3.4\", \"failureMessage\": \"\", \"exceptionClass\": \"\", \"trace\": \"\"}}, \"*\")"
            ]
          },
          "metadata": {
            "tags": []
          }
        },
        {
          "output_type": "display_data",
          "data": {
            "text/plain": [
              "Correct"
            ],
            "text/markdown": "<span style=\"color:#33cc33\">Correct</span>"
          },
          "metadata": {
            "tags": []
          }
        },
        {
          "output_type": "display_data",
          "data": {
            "text/plain": [
              "<Figure size 432x288 with 1 Axes>"
            ],
            "image/png": "[encoded data removed]"
          },
          "metadata": {
            "tags": [],
            "needs_background": "light"
          }
        }
      ]
    },
    {
      "cell_type": "code",
      "metadata": {
        "execution": {
          "iopub.status.busy": "2021-07-23T14:09:22.430639Z",
          "iopub.execute_input": "2021-07-23T14:09:22.431111Z",
          "iopub.status.idle": "2021-07-23T14:09:22.435235Z",
          "shell.execute_reply.started": "2021-07-23T14:09:22.431072Z",
          "shell.execute_reply": "2021-07-23T14:09:22.433873Z"
        },
        "trusted": true,
        "id": "shh6Aj_Ms2jg"
      },
      "source": [
        "# Lines below will give you a hint or solution code\n",
        "#step_3.a.hint()\n",
        "#step_3.a.solution_plot()"
      ],
      "execution_count": null,
      "outputs": []
    },
    {
      "cell_type": "markdown",
      "metadata": {
        "id": "cxur5GSps2jg"
      },
      "source": [
        "#### Part B\n",
        "\n",
        "A researcher approaches you for help with identifying how the `'Area (mean)'` column can be used to understand the difference between benign and malignant tumors.  Based on the histograms above, \n",
        "- Do malignant tumors have higher or lower values for `'Area (mean)'` (relative to benign tumors), on average?\n",
        "- Which tumor type seems to have a larger range of potential values?"
      ]
    },
    {
      "cell_type": "code",
      "metadata": {
        "execution": {
          "iopub.status.busy": "2021-07-23T14:09:22.436829Z",
          "iopub.execute_input": "2021-07-23T14:09:22.437190Z",
          "iopub.status.idle": "2021-07-23T14:09:22.451476Z",
          "shell.execute_reply.started": "2021-07-23T14:09:22.437157Z",
          "shell.execute_reply": "2021-07-23T14:09:22.450404Z"
        },
        "trusted": true,
        "id": "QciAgzH7s2jg"
      },
      "source": [
        "#step_3.b.hint()"
      ],
      "execution_count": null,
      "outputs": []
    },
    {
      "cell_type": "code",
      "metadata": {
        "execution": {
          "iopub.status.busy": "2021-07-23T14:09:22.453070Z",
          "iopub.execute_input": "2021-07-23T14:09:22.453555Z",
          "iopub.status.idle": "2021-07-23T14:09:22.470957Z",
          "shell.execute_reply.started": "2021-07-23T14:09:22.453521Z",
          "shell.execute_reply": "2021-07-23T14:09:22.469909Z"
        },
        "trusted": true,
        "id": "dEHFuub6s2jg",
        "outputId": "c44c6a68-c56c-4991-d6a6-d4df5b91f171"
      },
      "source": [
        "# Check your answer (Run this code cell to receive credit!)\n",
        "step_3.b.solution()"
      ],
      "execution_count": null,
      "outputs": [
        {
          "output_type": "display_data",
          "data": {
            "text/plain": [
              "<IPython.core.display.Javascript object>"
            ],
            "application/javascript": [
              "parent.postMessage({\"jupyterEvent\": \"custom.exercise_interaction\", \"data\": {\"interactionType\": 3, \"questionType\": 4, \"questionId\": \"3.2_ThinkHist\", \"learnToolsVersion\": \"0.3.4\", \"valueTowardsCompletion\": 0.0, \"failureMessage\": \"\", \"exceptionClass\": \"\", \"trace\": \"\", \"outcomeType\": 4}}, \"*\")"
            ]
          },
          "metadata": {
            "tags": []
          }
        },
        {
          "output_type": "display_data",
          "data": {
            "text/plain": [
              "Solution: Malignant tumors have higher values for `'Area (mean)'`, on average. Malignant tumors have a larger range of potential values."
            ],
            "text/markdown": "<span style=\"color:#33cc99\">Solution:</span> Malignant tumors have higher values for `'Area (mean)'`, on average. Malignant tumors have a larger range of potential values."
          },
          "metadata": {
            "tags": []
          }
        }
      ]
    },
    {
      "cell_type": "markdown",
      "metadata": {
        "id": "Lmp8M74Cs2jh"
      },
      "source": [
        "## Step 4: A very useful column\n",
        "\n",
        "#### Part A\n",
        "\n",
        "Use the code cell below to create two KDE plots that show the distribution in values for `'Radius (worst)'` for both benign and malignant tumors.  (_To permit easy comparison, create a single figure containing both KDE plots in the code cell below._)"
      ]
    },
    {
      "cell_type": "code",
      "metadata": {
        "execution": {
          "iopub.status.busy": "2021-07-23T14:09:22.472552Z",
          "iopub.execute_input": "2021-07-23T14:09:22.473100Z",
          "iopub.status.idle": "2021-07-23T14:09:22.722140Z",
          "shell.execute_reply.started": "2021-07-23T14:09:22.473050Z",
          "shell.execute_reply": "2021-07-23T14:09:22.721005Z"
        },
        "trusted": true,
        "id": "sPlIW0HZs2jh",
        "outputId": "45f8beda-9abb-42b8-e280-9928fb1a2f2f"
      },
      "source": [
        "# KDE plots for benign and malignant tumors\n",
        "sns.kdeplot(data=cancer_b_data['Radius (worst)'], shade=True, label=\"Benign\")\n",
        "sns.kdeplot(data=cancer_m_data['Radius (worst)'], shade=True, label=\"Malignant\")\n",
        "\n",
        "# Check your answer\n",
        "step_4.a.check()"
      ],
      "execution_count": null,
      "outputs": [
        {
          "output_type": "display_data",
          "data": {
            "text/plain": [
              "<IPython.core.display.Javascript object>"
            ],
            "application/javascript": [
              "parent.postMessage({\"jupyterEvent\": \"custom.exercise_interaction\", \"data\": {\"outcomeType\": 1, \"valueTowardsCompletion\": 0.5, \"interactionType\": 1, \"questionType\": 2, \"questionId\": \"4.1_PlotThreshold\", \"learnToolsVersion\": \"0.3.4\", \"failureMessage\": \"\", \"exceptionClass\": \"\", \"trace\": \"\"}}, \"*\")"
            ]
          },
          "metadata": {
            "tags": []
          }
        },
        {
          "output_type": "display_data",
          "data": {
            "text/plain": [
              "Correct"
            ],
            "text/markdown": "<span style=\"color:#33cc33\">Correct</span>"
          },
          "metadata": {
            "tags": []
          }
        },
        {
          "output_type": "display_data",
          "data": {
            "text/plain": [
              "<Figure size 432x288 with 1 Axes>"
            ],
            "image/png": "[encoded data removed]"
          },
          "metadata": {
            "tags": [],
            "needs_background": "light"
          }
        }
      ]
    },
    {
      "cell_type": "code",
      "metadata": {
        "execution": {
          "iopub.status.busy": "2021-07-23T14:09:22.723784Z",
          "iopub.execute_input": "2021-07-23T14:09:22.724211Z",
          "iopub.status.idle": "2021-07-23T14:09:22.728775Z",
          "shell.execute_reply.started": "2021-07-23T14:09:22.724167Z",
          "shell.execute_reply": "2021-07-23T14:09:22.727663Z"
        },
        "trusted": true,
        "id": "HyOK3XJAs2jh"
      },
      "source": [
        "# Lines below will give you a hint or solution code\n",
        "#step_4.a.hint()\n",
        "#step_4.a.solution_plot()"
      ],
      "execution_count": null,
      "outputs": []
    },
    {
      "cell_type": "markdown",
      "metadata": {
        "id": "ObhYBDjGs2jh"
      },
      "source": [
        "#### Part B\n",
        "\n",
        "A hospital has recently started using an algorithm that can diagnose tumors with high accuracy.  Given a tumor with a value for `'Radius (worst)'` of 25, do you think the algorithm is more likely to classify the tumor as benign or malignant?"
      ]
    },
    {
      "cell_type": "code",
      "metadata": {
        "execution": {
          "iopub.status.busy": "2021-07-23T14:09:22.730652Z",
          "iopub.execute_input": "2021-07-23T14:09:22.731227Z",
          "iopub.status.idle": "2021-07-23T14:09:22.742110Z",
          "shell.execute_reply.started": "2021-07-23T14:09:22.731182Z",
          "shell.execute_reply": "2021-07-23T14:09:22.741259Z"
        },
        "trusted": true,
        "id": "avtJDBU2s2jh"
      },
      "source": [
        "#step_4.b.hint()"
      ],
      "execution_count": null,
      "outputs": []
    },
    {
      "cell_type": "code",
      "metadata": {
        "execution": {
          "iopub.status.busy": "2021-07-23T14:09:22.743652Z",
          "iopub.execute_input": "2021-07-23T14:09:22.744076Z",
          "iopub.status.idle": "2021-07-23T14:09:22.761176Z",
          "shell.execute_reply.started": "2021-07-23T14:09:22.744034Z",
          "shell.execute_reply": "2021-07-23T14:09:22.760014Z"
        },
        "trusted": true,
        "id": "sF-jPkWYs2ji",
        "outputId": "385b124b-3702-44f7-8a49-9301d6a45b15"
      },
      "source": [
        "# Check your answer (Run this code cell to receive credit!)\n",
        "step_4.b.solution()"
      ],
      "execution_count": null,
      "outputs": [
        {
          "output_type": "display_data",
          "data": {
            "text/plain": [
              "<IPython.core.display.Javascript object>"
            ],
            "application/javascript": [
              "parent.postMessage({\"jupyterEvent\": \"custom.exercise_interaction\", \"data\": {\"interactionType\": 3, \"questionType\": 4, \"questionId\": \"4.2_ThinkThreshold\", \"learnToolsVersion\": \"0.3.4\", \"valueTowardsCompletion\": 0.0, \"failureMessage\": \"\", \"exceptionClass\": \"\", \"trace\": \"\", \"outcomeType\": 4}}, \"*\")"
            ]
          },
          "metadata": {
            "tags": []
          }
        },
        {
          "output_type": "display_data",
          "data": {
            "text/plain": [
              "Solution: The algorithm is more likely to classify the tumor as malignant. This is because the curve for malignant tumors is much higher than the curve for benign tumors around a value of 25 -- and an algorithm that gets high accuracy is likely to make decisions based on this pattern in the data."
            ],
            "text/markdown": "<span style=\"color:#33cc99\">Solution:</span> The algorithm is more likely to classify the tumor as malignant. This is because the curve for malignant tumors is much higher than the curve for benign tumors around a value of 25 -- and an algorithm that gets high accuracy is likely to make decisions based on this pattern in the data."
          },
          "metadata": {
            "tags": []
          }
        }
      ]
    },
    {
      "cell_type": "markdown",
      "metadata": {
        "id": "0-5Nn3ups2ji"
      },
      "source": [
        "## Keep going\n",
        "\n",
        "Review all that you've learned and explore how to further customize your plots in the **[next tutorial](https://www.kaggle.com/alexisbcook/choosing-plot-types-and-custom-styles)**!"
      ]
    },
    {
      "cell_type": "markdown",
      "metadata": {
        "id": "MhpO8enRs2ji"
      },
      "source": [
        "---\n",
        "\n",
        "\n",
        "\n",
        "\n",
        "*Have questions or comments? Visit the [Learn Discussion forum](https://www.kaggle.com/learn-forum/161291) to chat with other Learners.*"
      ]
    }
  ]
}