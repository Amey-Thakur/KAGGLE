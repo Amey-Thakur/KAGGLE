{
  "nbformat": 4,
  "nbformat_minor": 0,
  "metadata": {
    "kernelspec": {
      "language": "python",
      "display_name": "Python 3",
      "name": "python3"
    },
    "language_info": {
      "name": "python",
      "version": "3.7.10",
      "mimetype": "text/x-python",
      "codemirror_mode": {
        "name": "ipython",
        "version": 3
      },
      "pygments_lexer": "ipython3",
      "nbconvert_exporter": "python",
      "file_extension": ".py"
    },
    "colab": {
      "name": "Exercise: Explore Your Data.ipynb",
      "provenance": [],
      "include_colab_link": true
    }
  },
  "cells": [
    {
      "cell_type": "markdown",
      "metadata": {
        "id": "view-in-github",
        "colab_type": "text"
      },
      "source": [
        "<a href=\"https://colab.research.google.com/github/Amey-Thakur/KAGGLE/blob/main/Exercise_Explore_Your_Data.ipynb\" target=\"_parent\"><img src=\"https://colab.research.google.com/assets/colab-badge.svg\" alt=\"Open In Colab\"/></a>"
      ]
    },
    {
      "cell_type": "markdown",
      "metadata": {
        "id": "rCM4WZRfzR9v"
      },
      "source": [
        "**[Machine Learning Course Home Page](https://www.kaggle.com/learn/machine-learning)**\n",
        "\n",
        "---\n"
      ]
    },
    {
      "cell_type": "markdown",
      "metadata": {
        "id": "LDt4LQvxzR9w"
      },
      "source": [
        "This exercise will test your ability to read a data file and understand statistics about the data.\n",
        "\n",
        "In later exercises, you will apply techniques to filter the data, build a machine learning model, and iteratively improve your model.\n",
        "\n",
        "The course examples use data from Melbourne. To ensure you can apply these techniques on your own, you will have to apply them to a new dataset (with house prices from Iowa).\n",
        "\n",
        "The exercises use a \"notebook\" coding environment.  In case you are unfamiliar with notebooks, we have a [90-second intro video](https://www.youtube.com/watch?v=4C2qMnaIKL4).\n",
        "\n",
        "# Exercises\n",
        "\n",
        "Run the following cell to set up code-checking, which will verify your work as you go."
      ]
    },
    {
      "cell_type": "code",
      "metadata": {
        "execution": {
          "iopub.status.busy": "2021-07-24T13:55:34.303540Z",
          "iopub.execute_input": "2021-07-24T13:55:34.303927Z",
          "iopub.status.idle": "2021-07-24T13:55:34.311186Z",
          "shell.execute_reply.started": "2021-07-24T13:55:34.303896Z",
          "shell.execute_reply": "2021-07-24T13:55:34.309760Z"
        },
        "trusted": true,
        "id": "Fp_eEmrMzR9x",
        "outputId": "b2975677-59af-407a-c76e-09e0f9f9eafb"
      },
      "source": [
        "# Set up code checking\n",
        "from learntools.core import binder\n",
        "binder.bind(globals())\n",
        "from learntools.machine_learning.ex2 import *\n",
        "print(\"Setup Complete\")"
      ],
      "execution_count": null,
      "outputs": [
        {
          "output_type": "stream",
          "text": [
            "Setup Complete\n"
          ],
          "name": "stdout"
        }
      ]
    },
    {
      "cell_type": "markdown",
      "metadata": {
        "id": "6UVj92RwzR9y"
      },
      "source": [
        "## Step 1: Loading Data\n",
        "Read the Iowa data file into a Pandas DataFrame called `home_data`."
      ]
    },
    {
      "cell_type": "code",
      "metadata": {
        "execution": {
          "iopub.status.busy": "2021-07-24T13:55:34.313139Z",
          "iopub.execute_input": "2021-07-24T13:55:34.313894Z",
          "iopub.status.idle": "2021-07-24T13:55:34.371953Z",
          "shell.execute_reply.started": "2021-07-24T13:55:34.313847Z",
          "shell.execute_reply": "2021-07-24T13:55:34.371139Z"
        },
        "trusted": true,
        "id": "t8oWRuEEzR9z",
        "outputId": "8a37c9eb-47cb-4b0d-9d27-5688a630f4f6"
      },
      "source": [
        "import pandas as pd\n",
        "\n",
        "# Path of the file to read\n",
        "iowa_file_path = '../input/home-data-for-ml-course/train.csv'\n",
        "\n",
        "# Fill in the line below to read the file into a variable home_data\n",
        "home_data = pd.read_csv(iowa_file_path)\n",
        "\n",
        "# Call line below with no argument to check that you've loaded the data correctly\n",
        "step_1.check()"
      ],
      "execution_count": null,
      "outputs": [
        {
          "output_type": "display_data",
          "data": {
            "text/plain": [
              "<IPython.core.display.Javascript object>"
            ],
            "application/javascript": [
              "parent.postMessage({\"jupyterEvent\": \"custom.exercise_interaction\", \"data\": {\"outcomeType\": 1, \"valueTowardsCompletion\": 0.5, \"interactionType\": 1, \"questionType\": 1, \"questionId\": \"1_LoadHomeData\", \"learnToolsVersion\": \"0.3.4\", \"failureMessage\": \"\", \"exceptionClass\": \"\", \"trace\": \"\"}}, \"*\")"
            ]
          },
          "metadata": {
            "tags": []
          }
        },
        {
          "output_type": "display_data",
          "data": {
            "text/plain": [
              "Correct"
            ],
            "text/markdown": "<span style=\"color:#33cc33\">Correct</span>"
          },
          "metadata": {
            "tags": []
          }
        }
      ]
    },
    {
      "cell_type": "code",
      "metadata": {
        "execution": {
          "iopub.status.busy": "2021-07-24T13:55:34.373307Z",
          "iopub.execute_input": "2021-07-24T13:55:34.373745Z",
          "iopub.status.idle": "2021-07-24T13:55:34.377024Z",
          "shell.execute_reply.started": "2021-07-24T13:55:34.373714Z",
          "shell.execute_reply": "2021-07-24T13:55:34.375970Z"
        },
        "trusted": true,
        "id": "hWbRXqJtzR90"
      },
      "source": [
        "# Lines below will give you a hint or solution code\n",
        "#step_1.hint()\n",
        "#step_1.solution()"
      ],
      "execution_count": null,
      "outputs": []
    },
    {
      "cell_type": "markdown",
      "metadata": {
        "id": "yaVj8WsGzR90"
      },
      "source": [
        "## Step 2: Review The Data\n",
        "Use the command you learned to view summary statistics of the data. Then fill in variables to answer the following questions"
      ]
    },
    {
      "cell_type": "code",
      "metadata": {
        "execution": {
          "iopub.status.busy": "2021-07-24T13:55:34.378247Z",
          "iopub.execute_input": "2021-07-24T13:55:34.378847Z",
          "iopub.status.idle": "2021-07-24T13:55:34.396326Z",
          "shell.execute_reply.started": "2021-07-24T13:55:34.378811Z",
          "shell.execute_reply": "2021-07-24T13:55:34.395011Z"
        },
        "trusted": true,
        "id": "qTegwnpfzR91",
        "outputId": "69149f09-c107-49eb-bd91-5da2148b9098"
      },
      "source": [
        "# Print summary statistics in next line\n",
        "____"
      ],
      "execution_count": null,
      "outputs": [
        {
          "output_type": "execute_result",
          "data": {
            "text/plain": [
              "<learntools.core.constants.PlaceholderValue at 0x7f5e197d55d0>"
            ],
            "text/markdown": ""
          },
          "metadata": {
            "tags": []
          },
          "execution_count": 12
        }
      ]
    },
    {
      "cell_type": "code",
      "metadata": {
        "execution": {
          "iopub.status.busy": "2021-07-24T13:55:34.397730Z",
          "iopub.execute_input": "2021-07-24T13:55:34.398056Z",
          "iopub.status.idle": "2021-07-24T13:55:34.411860Z",
          "shell.execute_reply.started": "2021-07-24T13:55:34.398024Z",
          "shell.execute_reply": "2021-07-24T13:55:34.410928Z"
        },
        "trusted": true,
        "id": "_lxhbFY2zR92",
        "outputId": "c93e0ea4-9ead-447e-b89f-fa30068cdeb4"
      },
      "source": [
        "# What is the average lot size (rounded to nearest integer)?\n",
        "avg_lot_size = 10517\n",
        "\n",
        "# As of today, how old is the newest home (current year - the date in which it was built)\n",
        "newest_home_age = 11\n",
        "\n",
        "# Checks your answers\n",
        "step_2.check()"
      ],
      "execution_count": null,
      "outputs": [
        {
          "output_type": "display_data",
          "data": {
            "text/plain": [
              "<IPython.core.display.Javascript object>"
            ],
            "application/javascript": [
              "parent.postMessage({\"jupyterEvent\": \"custom.exercise_interaction\", \"data\": {\"outcomeType\": 1, \"valueTowardsCompletion\": 0.5, \"interactionType\": 1, \"questionType\": 1, \"questionId\": \"2_HomeDescription\", \"learnToolsVersion\": \"0.3.4\", \"failureMessage\": \"\", \"exceptionClass\": \"\", \"trace\": \"\"}}, \"*\")"
            ]
          },
          "metadata": {
            "tags": []
          }
        },
        {
          "output_type": "display_data",
          "data": {
            "text/plain": [
              "Correct"
            ],
            "text/markdown": "<span style=\"color:#33cc33\">Correct</span>"
          },
          "metadata": {
            "tags": []
          }
        }
      ]
    },
    {
      "cell_type": "code",
      "metadata": {
        "execution": {
          "iopub.status.busy": "2021-07-24T13:55:34.413050Z",
          "iopub.execute_input": "2021-07-24T13:55:34.413803Z",
          "iopub.status.idle": "2021-07-24T13:55:34.423747Z",
          "shell.execute_reply.started": "2021-07-24T13:55:34.413768Z",
          "shell.execute_reply": "2021-07-24T13:55:34.422790Z"
        },
        "trusted": true,
        "id": "2p3NSDXBzR92"
      },
      "source": [
        "#step_2.hint()\n",
        "#step_2.solution()"
      ],
      "execution_count": null,
      "outputs": []
    },
    {
      "cell_type": "markdown",
      "metadata": {
        "id": "niX-Do4tzR93"
      },
      "source": [
        "## Think About Your Data\n",
        "\n",
        "The newest house in your data isn't that new.  A few potential explanations for this:\n",
        "1. They haven't built new houses where this data was collected.\n",
        "1. The data was collected a long time ago. Houses built after the data publication wouldn't show up.\n",
        "\n",
        "If the reason is explanation #1 above, does that affect your trust in the model you build with this data? What about if it is reason #2?\n",
        "\n",
        "How could you dig into the data to see which explanation is more plausible?\n",
        "\n",
        "Check out this **[discussion thread](https://www.kaggle.com/learn-forum/60581)** to see what others think or to add your ideas.\n",
        "\n",
        "# Keep Going\n",
        "\n",
        "You are ready for **[Your First Machine Learning Model](https://www.kaggle.com/dansbecker/your-first-machine-learning-model).**\n"
      ]
    },
    {
      "cell_type": "markdown",
      "metadata": {
        "id": "LSLGPutuzR94"
      },
      "source": [
        "---\n",
        "**[Machine Learning Course Home Page](https://www.kaggle.com/learn/machine-learning)**\n",
        "\n"
      ]
    }
  ]
}