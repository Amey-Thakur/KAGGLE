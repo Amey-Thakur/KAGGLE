{
  "nbformat": 4,
  "nbformat_minor": 0,
  "metadata": {
    "kernelspec": {
      "language": "python",
      "display_name": "Python 3",
      "name": "python3"
    },
    "language_info": {
      "name": "python",
      "version": "3.7.10",
      "mimetype": "text/x-python",
      "codemirror_mode": {
        "name": "ipython",
        "version": 3
      },
      "pygments_lexer": "ipython3",
      "nbconvert_exporter": "python",
      "file_extension": ".py"
    },
    "colab": {
      "name": "Exercise: Final Project.ipynb",
      "provenance": [],
      "include_colab_link": true
    }
  },
  "cells": [
    {
      "cell_type": "markdown",
      "metadata": {
        "id": "view-in-github",
        "colab_type": "text"
      },
      "source": [
        "<a href=\"https://colab.research.google.com/github/Amey-Thakur/KAGGLE/blob/main/Exercise_Final_Project.ipynb\" target=\"_parent\"><img src=\"https://colab.research.google.com/assets/colab-badge.svg\" alt=\"Open In Colab\"/></a>"
      ]
    },
    {
      "cell_type": "markdown",
      "metadata": {
        "id": "4JuH40kFS2Ns"
      },
      "source": [
        "**This notebook is an exercise in the [Data Visualization](https://www.kaggle.com/learn/data-visualization) course.  You can reference the tutorial at [this link](https://www.kaggle.com/alexisbcook/final-project).**\n",
        "\n",
        "---\n"
      ]
    },
    {
      "cell_type": "markdown",
      "metadata": {
        "id": "EdjMv23VS2Ns"
      },
      "source": [
        "Now it's time for you to demonstrate your new skills with a project of your own!\n",
        "\n",
        "In this exercise, you will work with a dataset of your choosing.  Once you've selected a dataset, you'll design and create your own plot to tell interesting stories behind the data!\n",
        "\n",
        "## Setup\n",
        "\n",
        "Run the next cell to import and configure the Python libraries that you need to complete the exercise."
      ]
    },
    {
      "cell_type": "code",
      "metadata": {
        "execution": {
          "iopub.status.busy": "2021-07-25T10:51:16.001182Z",
          "iopub.execute_input": "2021-07-25T10:51:16.001610Z",
          "iopub.status.idle": "2021-07-25T10:51:16.954924Z",
          "shell.execute_reply.started": "2021-07-25T10:51:16.001523Z",
          "shell.execute_reply": "2021-07-25T10:51:16.954053Z"
        },
        "trusted": true,
        "id": "m7_JjqEXS2Nt",
        "outputId": "e21296ee-3f61-47e5-f937-65b31d79d430"
      },
      "source": [
        "import pandas as pd\n",
        "import matplotlib.pyplot as plt\n",
        "%matplotlib inline\n",
        "import seaborn as sns\n",
        "print(\"Setup Complete\")"
      ],
      "execution_count": null,
      "outputs": [
        {
          "output_type": "stream",
          "text": [
            "Setup Complete\n"
          ],
          "name": "stdout"
        }
      ]
    },
    {
      "cell_type": "markdown",
      "metadata": {
        "id": "LQfktjlbS2Nu"
      },
      "source": [
        "The questions below will give you feedback on your work. Run the following cell to set up the feedback system."
      ]
    },
    {
      "cell_type": "code",
      "metadata": {
        "execution": {
          "iopub.status.busy": "2021-07-25T10:51:16.956281Z",
          "iopub.execute_input": "2021-07-25T10:51:16.956555Z",
          "iopub.status.idle": "2021-07-25T10:51:16.998929Z",
          "shell.execute_reply.started": "2021-07-25T10:51:16.956529Z",
          "shell.execute_reply": "2021-07-25T10:51:16.998119Z"
        },
        "trusted": true,
        "id": "Bpd4w9YBS2Nv",
        "outputId": "295724a8-8e36-45fb-80b6-7ba42a893523"
      },
      "source": [
        "# Set up code checking\n",
        "from learntools.core import binder\n",
        "binder.bind(globals())\n",
        "from learntools.data_viz_to_coder.ex7 import *\n",
        "print(\"Setup Complete\")"
      ],
      "execution_count": null,
      "outputs": [
        {
          "output_type": "stream",
          "text": [
            "Setup Complete\n"
          ],
          "name": "stdout"
        }
      ]
    },
    {
      "cell_type": "markdown",
      "metadata": {
        "id": "quC9N0V6S2Nv"
      },
      "source": [
        "## Step 1: Attach a dataset to the notebook\n",
        "\n",
        "Begin by selecting a CSV dataset from [Kaggle Datasets](https://www.kaggle.com/datasets).  If you're unsure how to do this or would like to work with your own data, please revisit the instructions in the previous tutorial.\n",
        "\n",
        "Once you have selected a dataset, click on the **[+ Add Data]** option in the top right corner.  This will generate a pop-up window that you can use to search for your chosen dataset.  \n",
        "\n",
        "![ex6_search_dataset](https://i.imgur.com/cIIWPUS.png)\n",
        "\n",
        "Once you have found the dataset, click on the **[Add]** button to attach it to the notebook.  You can check that it was successful by looking at the **Data** dropdown menu to the right of the notebook -- look for an **input** folder containing a subfolder that matches the name of the dataset.\n",
        "\n",
        "<center>\n",
        "<img src=\"https://i.imgur.com/nMYc1Nu.png\" width=30%><br/>\n",
        "</center>\n",
        "\n",
        "You can click on the carat to the left of the name of the dataset to double-check that it contains a CSV file.  For instance, the image below shows that the example dataset contains two CSV files: (1) **dc-wikia-data.csv**, and (2) **marvel-wikia-data.csv**.\n",
        "\n",
        "<center>\n",
        "<img src=\"https://i.imgur.com/B4sJkVA.png\" width=30%><br/>\n",
        "</center>\n",
        "\n",
        "Once you've uploaded a dataset with a CSV file, run the code cell below **without changes** to receive credit for your work!"
      ]
    },
    {
      "cell_type": "code",
      "metadata": {
        "execution": {
          "iopub.status.busy": "2021-07-25T10:51:17.000481Z",
          "iopub.execute_input": "2021-07-25T10:51:17.000754Z",
          "iopub.status.idle": "2021-07-25T10:51:17.018829Z",
          "shell.execute_reply.started": "2021-07-25T10:51:17.000726Z",
          "shell.execute_reply": "2021-07-25T10:51:17.017862Z"
        },
        "trusted": true,
        "id": "GnpIZS72S2Nw",
        "outputId": "8935795c-70f5-451e-bd0f-1eb4a15e26a0"
      },
      "source": [
        "# Check for a dataset with a CSV file\n",
        "step_1.check()"
      ],
      "execution_count": null,
      "outputs": [
        {
          "output_type": "display_data",
          "data": {
            "text/plain": [
              "<IPython.core.display.Javascript object>"
            ],
            "application/javascript": [
              "parent.postMessage({\"jupyterEvent\": \"custom.exercise_interaction\", \"data\": {\"outcomeType\": 1, \"valueTowardsCompletion\": 0.25, \"interactionType\": 1, \"questionType\": 2, \"questionId\": \"1_AttachData\", \"learnToolsVersion\": \"0.3.4\", \"failureMessage\": \"\", \"exceptionClass\": \"\", \"trace\": \"\"}}, \"*\")"
            ]
          },
          "metadata": {
            "tags": []
          }
        },
        {
          "output_type": "display_data",
          "data": {
            "text/plain": [
              "Correct: \n"
            ],
            "text/markdown": "<span style=\"color:#33cc33\">Correct:</span> \n\n"
          },
          "metadata": {
            "tags": []
          }
        }
      ]
    },
    {
      "cell_type": "markdown",
      "metadata": {
        "id": "DWdhIb8VS2Nw"
      },
      "source": [
        "## Step 2: Specify the filepath\n",
        "\n",
        "Now that the dataset is attached to the notebook, you can find its filepath.  To do this, begin by clicking on the CSV file you'd like to use.  This will open the CSV file in a tab below the notebook.  You can find the filepath towards the top of this new tab.  \n",
        "\n",
        "![ex6_filepath](https://i.imgur.com/fgXQV47.png)\n",
        "\n",
        "After you find the filepath corresponding to your dataset, fill it in as the value for `my_filepath` in the code cell below, and run the code cell to check that you've provided a valid filepath.  For instance, in the case of this example dataset, we would set\n",
        "```\n",
        "my_filepath = \"../input/fivethirtyeight-comic-characters-dataset/dc-wikia-data.csv\"\n",
        "```  \n",
        "Note that **you must enclose the filepath in quotation marks**; otherwise, the code will return an error.\n",
        "\n",
        "Once you've entered the filepath, you can close the tab below the notebook by clicking on the **[X]** at the top of the tab."
      ]
    },
    {
      "cell_type": "code",
      "metadata": {
        "execution": {
          "iopub.status.busy": "2021-07-25T10:51:17.020120Z",
          "iopub.execute_input": "2021-07-25T10:51:17.020417Z",
          "iopub.status.idle": "2021-07-25T10:51:17.028063Z",
          "shell.execute_reply.started": "2021-07-25T10:51:17.020388Z",
          "shell.execute_reply": "2021-07-25T10:51:17.027068Z"
        },
        "trusted": true,
        "id": "Q8t6rXAhS2Nx",
        "outputId": "1c5701aa-c084-4685-b28c-fdc67187053b"
      },
      "source": [
        "# Fill in the line below: Specify the path of the CSV file to read\n",
        "my_filepath = '../input/fivethirtyeight-comic-characters-dataset/dc-wikia-data.csv'\n",
        "\n",
        "# Check for a valid filepath to a CSV file in a dataset\n",
        "step_2.check()"
      ],
      "execution_count": null,
      "outputs": [
        {
          "output_type": "display_data",
          "data": {
            "text/plain": [
              "<IPython.core.display.Javascript object>"
            ],
            "application/javascript": [
              "parent.postMessage({\"jupyterEvent\": \"custom.exercise_interaction\", \"data\": {\"outcomeType\": 1, \"valueTowardsCompletion\": 0.25, \"interactionType\": 1, \"questionType\": 2, \"questionId\": \"2_Filepath\", \"learnToolsVersion\": \"0.3.4\", \"failureMessage\": \"\", \"exceptionClass\": \"\", \"trace\": \"\"}}, \"*\")"
            ]
          },
          "metadata": {
            "tags": []
          }
        },
        {
          "output_type": "display_data",
          "data": {
            "text/plain": [
              "Correct: \n"
            ],
            "text/markdown": "<span style=\"color:#33cc33\">Correct:</span> \n\n"
          },
          "metadata": {
            "tags": []
          }
        }
      ]
    },
    {
      "cell_type": "markdown",
      "metadata": {
        "id": "wD44yOXDS2Ny"
      },
      "source": [
        "## Step 3: Load the data\n",
        "\n",
        "Use the next code cell to load your data file into `my_data`.  Use the filepath that you specified in the previous step."
      ]
    },
    {
      "cell_type": "code",
      "metadata": {
        "execution": {
          "iopub.status.busy": "2021-07-25T10:51:17.029517Z",
          "iopub.execute_input": "2021-07-25T10:51:17.029837Z",
          "iopub.status.idle": "2021-07-25T10:51:17.085561Z",
          "shell.execute_reply.started": "2021-07-25T10:51:17.029804Z",
          "shell.execute_reply": "2021-07-25T10:51:17.084628Z"
        },
        "trusted": true,
        "id": "gP3zw9xnS2Ny",
        "outputId": "76a465f8-54bc-4224-c02e-471b2c737cfc"
      },
      "source": [
        "# Fill in the line below: Read the file into a variable my_data\n",
        "my_data = pd.read_csv(my_filepath)\n",
        "\n",
        "# Check that a dataset has been uploaded into my_data\n",
        "step_3.check()"
      ],
      "execution_count": null,
      "outputs": [
        {
          "output_type": "display_data",
          "data": {
            "text/plain": [
              "<IPython.core.display.Javascript object>"
            ],
            "application/javascript": [
              "parent.postMessage({\"jupyterEvent\": \"custom.exercise_interaction\", \"data\": {\"outcomeType\": 1, \"valueTowardsCompletion\": 0.25, \"interactionType\": 1, \"questionType\": 2, \"questionId\": \"3_LoadData\", \"learnToolsVersion\": \"0.3.4\", \"failureMessage\": \"\", \"exceptionClass\": \"\", \"trace\": \"\"}}, \"*\")"
            ]
          },
          "metadata": {
            "tags": []
          }
        },
        {
          "output_type": "display_data",
          "data": {
            "text/plain": [
              "Correct: \n"
            ],
            "text/markdown": "<span style=\"color:#33cc33\">Correct:</span> \n\n"
          },
          "metadata": {
            "tags": []
          }
        }
      ]
    },
    {
      "cell_type": "markdown",
      "metadata": {
        "id": "otaasuUNS2Ny"
      },
      "source": [
        "**_After the code cell above is marked correct_**, run the code cell below without changes to view the first five rows of the data."
      ]
    },
    {
      "cell_type": "code",
      "metadata": {
        "execution": {
          "iopub.status.busy": "2021-07-25T10:51:17.087031Z",
          "iopub.execute_input": "2021-07-25T10:51:17.087452Z",
          "iopub.status.idle": "2021-07-25T10:51:17.123221Z",
          "shell.execute_reply.started": "2021-07-25T10:51:17.087421Z",
          "shell.execute_reply": "2021-07-25T10:51:17.122075Z"
        },
        "trusted": true,
        "id": "PnAwQPfvS2Nz",
        "outputId": "dec5cca1-91fa-45cb-93e6-0a8f6d357b6f"
      },
      "source": [
        "# Print the first five rows of the data\n",
        "my_data.head()"
      ],
      "execution_count": null,
      "outputs": [
        {
          "output_type": "execute_result",
          "data": {
            "text/plain": [
              "   page_id                         name                              urlslug  \\\n",
              "0     1422         Batman (Bruce Wayne)         \\/wiki\\/Batman_(Bruce_Wayne)   \n",
              "1    23387        Superman (Clark Kent)        \\/wiki\\/Superman_(Clark_Kent)   \n",
              "2     1458   Green Lantern (Hal Jordan)   \\/wiki\\/Green_Lantern_(Hal_Jordan)   \n",
              "3     1659     James Gordon (New Earth)     \\/wiki\\/James_Gordon_(New_Earth)   \n",
              "4     1576  Richard Grayson (New Earth)  \\/wiki\\/Richard_Grayson_(New_Earth)   \n",
              "\n",
              "                ID            ALIGN         EYE        HAIR              SEX  \\\n",
              "0  Secret Identity  Good Characters   Blue Eyes  Black Hair  Male Characters   \n",
              "1  Secret Identity  Good Characters   Blue Eyes  Black Hair  Male Characters   \n",
              "2  Secret Identity  Good Characters  Brown Eyes  Brown Hair  Male Characters   \n",
              "3  Public Identity  Good Characters  Brown Eyes  White Hair  Male Characters   \n",
              "4  Secret Identity  Good Characters   Blue Eyes  Black Hair  Male Characters   \n",
              "\n",
              "   GSM              ALIVE  APPEARANCES FIRST APPEARANCE    YEAR  \n",
              "0  NaN  Living Characters       3093.0        1939, May  1939.0  \n",
              "1  NaN  Living Characters       2496.0    1986, October  1986.0  \n",
              "2  NaN  Living Characters       1565.0    1959, October  1959.0  \n",
              "3  NaN  Living Characters       1316.0   1987, February  1987.0  \n",
              "4  NaN  Living Characters       1237.0      1940, April  1940.0  "
            ],
            "text/html": [
              "<div>\n",
              "<style scoped>\n",
              "    .dataframe tbody tr th:only-of-type {\n",
              "        vertical-align: middle;\n",
              "    }\n",
              "\n",
              "    .dataframe tbody tr th {\n",
              "        vertical-align: top;\n",
              "    }\n",
              "\n",
              "    .dataframe thead th {\n",
              "        text-align: right;\n",
              "    }\n",
              "</style>\n",
              "<table border=\"1\" class=\"dataframe\">\n",
              "  <thead>\n",
              "    <tr style=\"text-align: right;\">\n",
              "      <th></th>\n",
              "      <th>page_id</th>\n",
              "      <th>name</th>\n",
              "      <th>urlslug</th>\n",
              "      <th>ID</th>\n",
              "      <th>ALIGN</th>\n",
              "      <th>EYE</th>\n",
              "      <th>HAIR</th>\n",
              "      <th>SEX</th>\n",
              "      <th>GSM</th>\n",
              "      <th>ALIVE</th>\n",
              "      <th>APPEARANCES</th>\n",
              "      <th>FIRST APPEARANCE</th>\n",
              "      <th>YEAR</th>\n",
              "    </tr>\n",
              "  </thead>\n",
              "  <tbody>\n",
              "    <tr>\n",
              "      <th>0</th>\n",
              "      <td>1422</td>\n",
              "      <td>Batman (Bruce Wayne)</td>\n",
              "      <td>\\/wiki\\/Batman_(Bruce_Wayne)</td>\n",
              "      <td>Secret Identity</td>\n",
              "      <td>Good Characters</td>\n",
              "      <td>Blue Eyes</td>\n",
              "      <td>Black Hair</td>\n",
              "      <td>Male Characters</td>\n",
              "      <td>NaN</td>\n",
              "      <td>Living Characters</td>\n",
              "      <td>3093.0</td>\n",
              "      <td>1939, May</td>\n",
              "      <td>1939.0</td>\n",
              "    </tr>\n",
              "    <tr>\n",
              "      <th>1</th>\n",
              "      <td>23387</td>\n",
              "      <td>Superman (Clark Kent)</td>\n",
              "      <td>\\/wiki\\/Superman_(Clark_Kent)</td>\n",
              "      <td>Secret Identity</td>\n",
              "      <td>Good Characters</td>\n",
              "      <td>Blue Eyes</td>\n",
              "      <td>Black Hair</td>\n",
              "      <td>Male Characters</td>\n",
              "      <td>NaN</td>\n",
              "      <td>Living Characters</td>\n",
              "      <td>2496.0</td>\n",
              "      <td>1986, October</td>\n",
              "      <td>1986.0</td>\n",
              "    </tr>\n",
              "    <tr>\n",
              "      <th>2</th>\n",
              "      <td>1458</td>\n",
              "      <td>Green Lantern (Hal Jordan)</td>\n",
              "      <td>\\/wiki\\/Green_Lantern_(Hal_Jordan)</td>\n",
              "      <td>Secret Identity</td>\n",
              "      <td>Good Characters</td>\n",
              "      <td>Brown Eyes</td>\n",
              "      <td>Brown Hair</td>\n",
              "      <td>Male Characters</td>\n",
              "      <td>NaN</td>\n",
              "      <td>Living Characters</td>\n",
              "      <td>1565.0</td>\n",
              "      <td>1959, October</td>\n",
              "      <td>1959.0</td>\n",
              "    </tr>\n",
              "    <tr>\n",
              "      <th>3</th>\n",
              "      <td>1659</td>\n",
              "      <td>James Gordon (New Earth)</td>\n",
              "      <td>\\/wiki\\/James_Gordon_(New_Earth)</td>\n",
              "      <td>Public Identity</td>\n",
              "      <td>Good Characters</td>\n",
              "      <td>Brown Eyes</td>\n",
              "      <td>White Hair</td>\n",
              "      <td>Male Characters</td>\n",
              "      <td>NaN</td>\n",
              "      <td>Living Characters</td>\n",
              "      <td>1316.0</td>\n",
              "      <td>1987, February</td>\n",
              "      <td>1987.0</td>\n",
              "    </tr>\n",
              "    <tr>\n",
              "      <th>4</th>\n",
              "      <td>1576</td>\n",
              "      <td>Richard Grayson (New Earth)</td>\n",
              "      <td>\\/wiki\\/Richard_Grayson_(New_Earth)</td>\n",
              "      <td>Secret Identity</td>\n",
              "      <td>Good Characters</td>\n",
              "      <td>Blue Eyes</td>\n",
              "      <td>Black Hair</td>\n",
              "      <td>Male Characters</td>\n",
              "      <td>NaN</td>\n",
              "      <td>Living Characters</td>\n",
              "      <td>1237.0</td>\n",
              "      <td>1940, April</td>\n",
              "      <td>1940.0</td>\n",
              "    </tr>\n",
              "  </tbody>\n",
              "</table>\n",
              "</div>"
            ]
          },
          "metadata": {
            "tags": []
          },
          "execution_count": 6
        }
      ]
    },
    {
      "cell_type": "markdown",
      "metadata": {
        "id": "SN1B8shwS2Nz"
      },
      "source": [
        "## Step 4: Visualize the data\n",
        "\n",
        "Use the next code cell to create a figure that tells a story behind your dataset.  You can use any chart type (_line chart, bar chart, heatmap, etc_) of your choosing!"
      ]
    },
    {
      "cell_type": "code",
      "metadata": {
        "execution": {
          "iopub.status.busy": "2021-07-25T10:51:40.023419Z",
          "iopub.execute_input": "2021-07-25T10:51:40.023784Z",
          "iopub.status.idle": "2021-07-25T10:51:40.241574Z",
          "shell.execute_reply.started": "2021-07-25T10:51:40.023754Z",
          "shell.execute_reply": "2021-07-25T10:51:40.240503Z"
        },
        "trusted": true,
        "id": "pYyVeRHiS2Nz",
        "outputId": "21e98636-adec-4de5-d8ac-e605a159e58a"
      },
      "source": [
        "# Check that a figure appears below\n",
        "plt.figure(figsize=(14,7))\n",
        "sns.countplot(x=my_data['SEX'])\n",
        "\n",
        "step_4.check()"
      ],
      "execution_count": null,
      "outputs": [
        {
          "output_type": "display_data",
          "data": {
            "text/plain": [
              "<IPython.core.display.Javascript object>"
            ],
            "application/javascript": [
              "parent.postMessage({\"jupyterEvent\": \"custom.exercise_interaction\", \"data\": {\"outcomeType\": 1, \"valueTowardsCompletion\": 0.25, \"interactionType\": 1, \"questionType\": 2, \"questionId\": \"4_CreatePlot\", \"learnToolsVersion\": \"0.3.4\", \"failureMessage\": \"\", \"exceptionClass\": \"\", \"trace\": \"\"}}, \"*\")"
            ]
          },
          "metadata": {
            "tags": []
          }
        },
        {
          "output_type": "display_data",
          "data": {
            "text/plain": [
              "Correct: \n"
            ],
            "text/markdown": "<span style=\"color:#33cc33\">Correct:</span> \n\n"
          },
          "metadata": {
            "tags": []
          }
        },
        {
          "output_type": "display_data",
          "data": {
            "text/plain": [
              "<Figure size 1008x504 with 1 Axes>"
            ],
            "image/png": "[encoded data removed]"
          },
          "metadata": {
            "tags": [],
            "needs_background": "light"
          }
        }
      ]
    },
    {
      "cell_type": "markdown",
      "metadata": {
        "id": "r-iCICVQS2N0"
      },
      "source": [
        "## Keep going\n",
        "\n",
        "Learn how to use your skills after completing the micro-course to create data visualizations in a **[final tutorial](https://www.kaggle.com/alexisbcook/creating-your-own-notebooks)**."
      ]
    },
    {
      "cell_type": "markdown",
      "metadata": {
        "id": "2VZSUia9S2N1"
      },
      "source": [
        "---\n",
        "\n",
        "\n",
        "\n",
        "\n",
        "*Have questions or comments? Visit the [Learn Discussion forum](https://www.kaggle.com/learn-forum/161291) to chat with other Learners.*"
      ]
    }
  ]
}