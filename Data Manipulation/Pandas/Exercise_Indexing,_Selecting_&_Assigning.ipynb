{
  "nbformat": 4,
  "nbformat_minor": 0,
  "metadata": {
    "kernelspec": {
      "display_name": "Python 3",
      "language": "python",
      "name": "python3"
    },
    "language_info": {
      "name": "python",
      "version": "3.7.10",
      "mimetype": "text/x-python",
      "codemirror_mode": {
        "name": "ipython",
        "version": 3
      },
      "pygments_lexer": "ipython3",
      "nbconvert_exporter": "python",
      "file_extension": ".py"
    },
    "colab": {
      "name": "Exercise: Indexing, Selecting & Assigning.ipynb",
      "provenance": [],
      "include_colab_link": true
    }
  },
  "cells": [
    {
      "cell_type": "markdown",
      "metadata": {
        "id": "view-in-github",
        "colab_type": "text"
      },
      "source": [
        "<a href=\"https://colab.research.google.com/github/Amey-Thakur/KAGGLE/blob/main/Exercise_Indexing%2C_Selecting_%26_Assigning.ipynb\" target=\"_parent\"><img src=\"https://colab.research.google.com/assets/colab-badge.svg\" alt=\"Open In Colab\"/></a>"
      ]
    },
    {
      "cell_type": "markdown",
      "metadata": {
        "id": "PfJAe_pB1Phf"
      },
      "source": [
        "**This notebook is an exercise in the [Pandas](https://www.kaggle.com/learn/pandas) course.  You can reference the tutorial at [this link](https://www.kaggle.com/residentmario/indexing-selecting-assigning).**\n",
        "\n",
        "---\n"
      ]
    },
    {
      "cell_type": "markdown",
      "metadata": {
        "id": "COKndUCe1Phj"
      },
      "source": [
        "# Introduction\n",
        "\n",
        "In this set of exercises we will work with the [Wine Reviews dataset](https://www.kaggle.com/zynicide/wine-reviews). "
      ]
    },
    {
      "cell_type": "markdown",
      "metadata": {
        "id": "Gb8v9MlZ1Phj"
      },
      "source": [
        "Run the following cell to load your data and some utility functions (including code to check your answers)."
      ]
    },
    {
      "cell_type": "code",
      "metadata": {
        "execution": {
          "iopub.status.busy": "2021-07-23T14:44:34.883972Z",
          "iopub.execute_input": "2021-07-23T14:44:34.884352Z",
          "iopub.status.idle": "2021-07-23T14:44:35.935617Z",
          "shell.execute_reply.started": "2021-07-23T14:44:34.884313Z",
          "shell.execute_reply": "2021-07-23T14:44:35.934611Z"
        },
        "trusted": true,
        "id": "ja8Dk4vS1Phj",
        "outputId": "edee4d09-2a84-400c-c4b2-04c2e676c88c"
      },
      "source": [
        "import pandas as pd\n",
        "\n",
        "reviews = pd.read_csv(\"../input/wine-reviews/winemag-data-130k-v2.csv\", index_col=0)\n",
        "pd.set_option(\"display.max_rows\", 5)\n",
        "\n",
        "from learntools.core import binder; binder.bind(globals())\n",
        "from learntools.pandas.indexing_selecting_and_assigning import *\n",
        "print(\"Setup complete.\")"
      ],
      "execution_count": null,
      "outputs": [
        {
          "output_type": "stream",
          "text": [
            "Setup complete.\n"
          ],
          "name": "stdout"
        }
      ]
    },
    {
      "cell_type": "markdown",
      "metadata": {
        "id": "75yKQ4dZ1Phl"
      },
      "source": [
        "Look at an overview of your data by running the following line."
      ]
    },
    {
      "cell_type": "code",
      "metadata": {
        "execution": {
          "iopub.status.busy": "2021-07-23T14:44:35.937235Z",
          "iopub.execute_input": "2021-07-23T14:44:35.937633Z",
          "iopub.status.idle": "2021-07-23T14:44:35.960104Z",
          "shell.execute_reply.started": "2021-07-23T14:44:35.937592Z",
          "shell.execute_reply": "2021-07-23T14:44:35.958942Z"
        },
        "trusted": true,
        "id": "LRC--EYz1Phl",
        "outputId": "9814de25-5d97-43a2-d3ea-74da4a4d331a"
      },
      "source": [
        "reviews.head()"
      ],
      "execution_count": null,
      "outputs": [
        {
          "output_type": "execute_result",
          "data": {
            "text/plain": [
              "    country                                        description  \\\n",
              "0     Italy  Aromas include tropical fruit, broom, brimston...   \n",
              "1  Portugal  This is ripe and fruity, a wine that is smooth...   \n",
              "2        US  Tart and snappy, the flavors of lime flesh and...   \n",
              "3        US  Pineapple rind, lemon pith and orange blossom ...   \n",
              "4        US  Much like the regular bottling from 2012, this...   \n",
              "\n",
              "                          designation  points  price           province  \\\n",
              "0                        Vulkà Bianco      87    NaN  Sicily & Sardinia   \n",
              "1                            Avidagos      87   15.0              Douro   \n",
              "2                                 NaN      87   14.0             Oregon   \n",
              "3                Reserve Late Harvest      87   13.0           Michigan   \n",
              "4  Vintner's Reserve Wild Child Block      87   65.0             Oregon   \n",
              "\n",
              "              region_1           region_2         taster_name  \\\n",
              "0                 Etna                NaN       Kerin O’Keefe   \n",
              "1                  NaN                NaN          Roger Voss   \n",
              "2    Willamette Valley  Willamette Valley        Paul Gregutt   \n",
              "3  Lake Michigan Shore                NaN  Alexander Peartree   \n",
              "4    Willamette Valley  Willamette Valley        Paul Gregutt   \n",
              "\n",
              "  taster_twitter_handle                                              title  \\\n",
              "0          @kerinokeefe                  Nicosia 2013 Vulkà Bianco  (Etna)   \n",
              "1            @vossroger      Quinta dos Avidagos 2011 Avidagos Red (Douro)   \n",
              "2           @paulgwine       Rainstorm 2013 Pinot Gris (Willamette Valley)   \n",
              "3                   NaN  St. Julian 2013 Reserve Late Harvest Riesling ...   \n",
              "4           @paulgwine   Sweet Cheeks 2012 Vintner's Reserve Wild Child...   \n",
              "\n",
              "          variety               winery  \n",
              "0     White Blend              Nicosia  \n",
              "1  Portuguese Red  Quinta dos Avidagos  \n",
              "2      Pinot Gris            Rainstorm  \n",
              "3        Riesling           St. Julian  \n",
              "4      Pinot Noir         Sweet Cheeks  "
            ],
            "text/html": [
              "<div>\n",
              "<style scoped>\n",
              "    .dataframe tbody tr th:only-of-type {\n",
              "        vertical-align: middle;\n",
              "    }\n",
              "\n",
              "    .dataframe tbody tr th {\n",
              "        vertical-align: top;\n",
              "    }\n",
              "\n",
              "    .dataframe thead th {\n",
              "        text-align: right;\n",
              "    }\n",
              "</style>\n",
              "<table border=\"1\" class=\"dataframe\">\n",
              "  <thead>\n",
              "    <tr style=\"text-align: right;\">\n",
              "      <th></th>\n",
              "      <th>country</th>\n",
              "      <th>description</th>\n",
              "      <th>designation</th>\n",
              "      <th>points</th>\n",
              "      <th>price</th>\n",
              "      <th>province</th>\n",
              "      <th>region_1</th>\n",
              "      <th>region_2</th>\n",
              "      <th>taster_name</th>\n",
              "      <th>taster_twitter_handle</th>\n",
              "      <th>title</th>\n",
              "      <th>variety</th>\n",
              "      <th>winery</th>\n",
              "    </tr>\n",
              "  </thead>\n",
              "  <tbody>\n",
              "    <tr>\n",
              "      <th>0</th>\n",
              "      <td>Italy</td>\n",
              "      <td>Aromas include tropical fruit, broom, brimston...</td>\n",
              "      <td>Vulkà Bianco</td>\n",
              "      <td>87</td>\n",
              "      <td>NaN</td>\n",
              "      <td>Sicily &amp; Sardinia</td>\n",
              "      <td>Etna</td>\n",
              "      <td>NaN</td>\n",
              "      <td>Kerin O’Keefe</td>\n",
              "      <td>@kerinokeefe</td>\n",
              "      <td>Nicosia 2013 Vulkà Bianco  (Etna)</td>\n",
              "      <td>White Blend</td>\n",
              "      <td>Nicosia</td>\n",
              "    </tr>\n",
              "    <tr>\n",
              "      <th>1</th>\n",
              "      <td>Portugal</td>\n",
              "      <td>This is ripe and fruity, a wine that is smooth...</td>\n",
              "      <td>Avidagos</td>\n",
              "      <td>87</td>\n",
              "      <td>15.0</td>\n",
              "      <td>Douro</td>\n",
              "      <td>NaN</td>\n",
              "      <td>NaN</td>\n",
              "      <td>Roger Voss</td>\n",
              "      <td>@vossroger</td>\n",
              "      <td>Quinta dos Avidagos 2011 Avidagos Red (Douro)</td>\n",
              "      <td>Portuguese Red</td>\n",
              "      <td>Quinta dos Avidagos</td>\n",
              "    </tr>\n",
              "    <tr>\n",
              "      <th>2</th>\n",
              "      <td>US</td>\n",
              "      <td>Tart and snappy, the flavors of lime flesh and...</td>\n",
              "      <td>NaN</td>\n",
              "      <td>87</td>\n",
              "      <td>14.0</td>\n",
              "      <td>Oregon</td>\n",
              "      <td>Willamette Valley</td>\n",
              "      <td>Willamette Valley</td>\n",
              "      <td>Paul Gregutt</td>\n",
              "      <td>@paulgwine</td>\n",
              "      <td>Rainstorm 2013 Pinot Gris (Willamette Valley)</td>\n",
              "      <td>Pinot Gris</td>\n",
              "      <td>Rainstorm</td>\n",
              "    </tr>\n",
              "    <tr>\n",
              "      <th>3</th>\n",
              "      <td>US</td>\n",
              "      <td>Pineapple rind, lemon pith and orange blossom ...</td>\n",
              "      <td>Reserve Late Harvest</td>\n",
              "      <td>87</td>\n",
              "      <td>13.0</td>\n",
              "      <td>Michigan</td>\n",
              "      <td>Lake Michigan Shore</td>\n",
              "      <td>NaN</td>\n",
              "      <td>Alexander Peartree</td>\n",
              "      <td>NaN</td>\n",
              "      <td>St. Julian 2013 Reserve Late Harvest Riesling ...</td>\n",
              "      <td>Riesling</td>\n",
              "      <td>St. Julian</td>\n",
              "    </tr>\n",
              "    <tr>\n",
              "      <th>4</th>\n",
              "      <td>US</td>\n",
              "      <td>Much like the regular bottling from 2012, this...</td>\n",
              "      <td>Vintner's Reserve Wild Child Block</td>\n",
              "      <td>87</td>\n",
              "      <td>65.0</td>\n",
              "      <td>Oregon</td>\n",
              "      <td>Willamette Valley</td>\n",
              "      <td>Willamette Valley</td>\n",
              "      <td>Paul Gregutt</td>\n",
              "      <td>@paulgwine</td>\n",
              "      <td>Sweet Cheeks 2012 Vintner's Reserve Wild Child...</td>\n",
              "      <td>Pinot Noir</td>\n",
              "      <td>Sweet Cheeks</td>\n",
              "    </tr>\n",
              "  </tbody>\n",
              "</table>\n",
              "</div>"
            ]
          },
          "metadata": {
            "tags": []
          },
          "execution_count": 32
        }
      ]
    },
    {
      "cell_type": "markdown",
      "metadata": {
        "id": "5NEEW5HC1Phl"
      },
      "source": [
        "# Exercises"
      ]
    },
    {
      "cell_type": "markdown",
      "metadata": {
        "id": "_OwqwTp01Phm"
      },
      "source": [
        "## 1.\n",
        "\n",
        "Select the `description` column from `reviews` and assign the result to the variable `desc`."
      ]
    },
    {
      "cell_type": "code",
      "metadata": {
        "execution": {
          "iopub.status.busy": "2021-07-23T14:44:35.962528Z",
          "iopub.execute_input": "2021-07-23T14:44:35.962974Z",
          "iopub.status.idle": "2021-07-23T14:44:35.974891Z",
          "shell.execute_reply.started": "2021-07-23T14:44:35.962932Z",
          "shell.execute_reply": "2021-07-23T14:44:35.973826Z"
        },
        "trusted": true,
        "id": "y7p3ZeAD1Phm",
        "outputId": "1aef80d9-312a-48de-d55b-eac205dbd68d"
      },
      "source": [
        "# Your code here\n",
        "desc = reviews.description\n",
        "\n",
        "# Check your answer\n",
        "q1.check()"
      ],
      "execution_count": null,
      "outputs": [
        {
          "output_type": "display_data",
          "data": {
            "text/plain": [
              "<IPython.core.display.Javascript object>"
            ],
            "application/javascript": [
              "parent.postMessage({\"jupyterEvent\": \"custom.exercise_interaction\", \"data\": {\"outcomeType\": 1, \"valueTowardsCompletion\": 0.1111111111111111, \"interactionType\": 1, \"questionType\": 1, \"questionId\": \"1_SelectDescCol\", \"learnToolsVersion\": \"0.3.4\", \"failureMessage\": \"\", \"exceptionClass\": \"\", \"trace\": \"\"}}, \"*\")"
            ]
          },
          "metadata": {
            "tags": []
          }
        },
        {
          "output_type": "display_data",
          "data": {
            "text/plain": [
              "Correct"
            ],
            "text/markdown": "<span style=\"color:#33cc33\">Correct</span>"
          },
          "metadata": {
            "tags": []
          }
        }
      ]
    },
    {
      "cell_type": "markdown",
      "metadata": {
        "id": "kYHUP8mi1Phm"
      },
      "source": [
        "Follow-up question: what type of object is `desc`? If you're not sure, you can check by calling Python's `type` function: `type(desc)`."
      ]
    },
    {
      "cell_type": "code",
      "metadata": {
        "execution": {
          "iopub.status.busy": "2021-07-23T14:44:35.976772Z",
          "iopub.execute_input": "2021-07-23T14:44:35.977192Z",
          "iopub.status.idle": "2021-07-23T14:44:35.982682Z",
          "shell.execute_reply.started": "2021-07-23T14:44:35.977153Z",
          "shell.execute_reply": "2021-07-23T14:44:35.981614Z"
        },
        "trusted": true,
        "id": "tWXSZTjB1Phn"
      },
      "source": [
        "#q1.hint()\n",
        "#q1.solution()"
      ],
      "execution_count": null,
      "outputs": []
    },
    {
      "cell_type": "markdown",
      "metadata": {
        "id": "bj7hgbQ_1Phn"
      },
      "source": [
        "## 2.\n",
        "\n",
        "Select the first value from the description column of `reviews`, assigning it to variable `first_description`."
      ]
    },
    {
      "cell_type": "code",
      "metadata": {
        "execution": {
          "iopub.status.busy": "2021-07-23T14:44:35.984019Z",
          "iopub.execute_input": "2021-07-23T14:44:35.984390Z",
          "iopub.status.idle": "2021-07-23T14:44:36.000894Z",
          "shell.execute_reply.started": "2021-07-23T14:44:35.984360Z",
          "shell.execute_reply": "2021-07-23T14:44:35.999928Z"
        },
        "trusted": true,
        "id": "qp-hGxKs1Phn",
        "outputId": "5c2fc7d7-95fa-4996-b113-2a03255d0231"
      },
      "source": [
        "first_description = reviews.description.iloc[0]\n",
        "\n",
        "# Check your answer\n",
        "q2.check()\n",
        "first_description"
      ],
      "execution_count": null,
      "outputs": [
        {
          "output_type": "display_data",
          "data": {
            "text/plain": [
              "<IPython.core.display.Javascript object>"
            ],
            "application/javascript": [
              "parent.postMessage({\"jupyterEvent\": \"custom.exercise_interaction\", \"data\": {\"outcomeType\": 1, \"valueTowardsCompletion\": 0.1111111111111111, \"interactionType\": 1, \"questionType\": 1, \"questionId\": \"2_FirstDesc\", \"learnToolsVersion\": \"0.3.4\", \"failureMessage\": \"\", \"exceptionClass\": \"\", \"trace\": \"\"}}, \"*\")"
            ]
          },
          "metadata": {
            "tags": []
          }
        },
        {
          "output_type": "display_data",
          "data": {
            "text/plain": [
              "Correct: \n",
              "\n",
              "\n",
              "```python\n",
              "first_description = reviews.description.iloc[0]\n",
              "```\n",
              "Note that while this is the preferred way to obtain the entry in the DataFrame, many other options will return a valid result, such as `reviews.description.loc[0]`, `reviews.description[0]`, and more!  "
            ],
            "text/markdown": "<span style=\"color:#33cc33\">Correct:</span> \n\n\n```python\nfirst_description = reviews.description.iloc[0]\n```\nNote that while this is the preferred way to obtain the entry in the DataFrame, many other options will return a valid result, such as `reviews.description.loc[0]`, `reviews.description[0]`, and more!  \n"
          },
          "metadata": {
            "tags": []
          }
        },
        {
          "output_type": "execute_result",
          "data": {
            "text/plain": [
              "\"Aromas include tropical fruit, broom, brimstone and dried herb. The palate isn't overly expressive, offering unripened apple, citrus and dried sage alongside brisk acidity.\""
            ]
          },
          "metadata": {
            "tags": []
          },
          "execution_count": 35
        }
      ]
    },
    {
      "cell_type": "code",
      "metadata": {
        "execution": {
          "iopub.status.busy": "2021-07-23T14:44:36.002048Z",
          "iopub.execute_input": "2021-07-23T14:44:36.002359Z",
          "iopub.status.idle": "2021-07-23T14:44:36.013326Z",
          "shell.execute_reply.started": "2021-07-23T14:44:36.002330Z",
          "shell.execute_reply": "2021-07-23T14:44:36.012195Z"
        },
        "trusted": true,
        "id": "lGjcKlzu1Phn"
      },
      "source": [
        "#q2.hint()\n",
        "#q2.solution()"
      ],
      "execution_count": null,
      "outputs": []
    },
    {
      "cell_type": "markdown",
      "metadata": {
        "id": "bE2Ran_Z1Pho"
      },
      "source": [
        "## 3. \n",
        "\n",
        "Select the first row of data (the first record) from `reviews`, assigning it to the variable `first_row`."
      ]
    },
    {
      "cell_type": "code",
      "metadata": {
        "execution": {
          "iopub.status.busy": "2021-07-23T14:44:36.014203Z",
          "iopub.execute_input": "2021-07-23T14:44:36.014646Z",
          "iopub.status.idle": "2021-07-23T14:44:36.034599Z",
          "shell.execute_reply.started": "2021-07-23T14:44:36.014617Z",
          "shell.execute_reply": "2021-07-23T14:44:36.033611Z"
        },
        "trusted": true,
        "id": "mVrK2a7p1Pho",
        "outputId": "91786b0d-11bc-4d2d-d8bc-0c8143a83676"
      },
      "source": [
        "first_row = reviews.iloc[0]\n",
        "\n",
        "# Check your answer\n",
        "q3.check()\n",
        "first_row"
      ],
      "execution_count": null,
      "outputs": [
        {
          "output_type": "display_data",
          "data": {
            "text/plain": [
              "<IPython.core.display.Javascript object>"
            ],
            "application/javascript": [
              "parent.postMessage({\"jupyterEvent\": \"custom.exercise_interaction\", \"data\": {\"outcomeType\": 1, \"valueTowardsCompletion\": 0.1111111111111111, \"interactionType\": 1, \"questionType\": 1, \"questionId\": \"3_FirstRow\", \"learnToolsVersion\": \"0.3.4\", \"failureMessage\": \"\", \"exceptionClass\": \"\", \"trace\": \"\"}}, \"*\")"
            ]
          },
          "metadata": {
            "tags": []
          }
        },
        {
          "output_type": "display_data",
          "data": {
            "text/plain": [
              "Correct"
            ],
            "text/markdown": "<span style=\"color:#33cc33\">Correct</span>"
          },
          "metadata": {
            "tags": []
          }
        },
        {
          "output_type": "execute_result",
          "data": {
            "text/plain": [
              "country                                                    Italy\n",
              "description    Aromas include tropical fruit, broom, brimston...\n",
              "                                     ...                        \n",
              "variety                                              White Blend\n",
              "winery                                                   Nicosia\n",
              "Name: 0, Length: 13, dtype: object"
            ]
          },
          "metadata": {
            "tags": []
          },
          "execution_count": 37
        }
      ]
    },
    {
      "cell_type": "code",
      "metadata": {
        "execution": {
          "iopub.status.busy": "2021-07-23T14:44:36.036679Z",
          "iopub.execute_input": "2021-07-23T14:44:36.036993Z",
          "iopub.status.idle": "2021-07-23T14:44:36.040264Z",
          "shell.execute_reply.started": "2021-07-23T14:44:36.036964Z",
          "shell.execute_reply": "2021-07-23T14:44:36.039255Z"
        },
        "trusted": true,
        "id": "sDKS1Q9q1Pho"
      },
      "source": [
        "#q3.hint()\n",
        "#q3.solution()"
      ],
      "execution_count": null,
      "outputs": []
    },
    {
      "cell_type": "markdown",
      "metadata": {
        "id": "8DXBXJI21Php"
      },
      "source": [
        "## 4.\n",
        "\n",
        "Select the first 10 values from the `description` column in `reviews`, assigning the result to variable `first_descriptions`.\n",
        "\n",
        "Hint: format your output as a pandas Series."
      ]
    },
    {
      "cell_type": "code",
      "metadata": {
        "execution": {
          "iopub.status.busy": "2021-07-23T14:44:36.042562Z",
          "iopub.execute_input": "2021-07-23T14:44:36.043122Z",
          "iopub.status.idle": "2021-07-23T14:44:36.059801Z",
          "shell.execute_reply.started": "2021-07-23T14:44:36.043079Z",
          "shell.execute_reply": "2021-07-23T14:44:36.058834Z"
        },
        "trusted": true,
        "id": "22E-iTOj1Php",
        "outputId": "29ef5d19-1dec-47d1-d572-f01e6f5c183c"
      },
      "source": [
        "first_descriptions = reviews.description.iloc[:10]\n",
        "\n",
        "# Check your answer\n",
        "q4.check()\n",
        "first_descriptions"
      ],
      "execution_count": null,
      "outputs": [
        {
          "output_type": "display_data",
          "data": {
            "text/plain": [
              "<IPython.core.display.Javascript object>"
            ],
            "application/javascript": [
              "parent.postMessage({\"jupyterEvent\": \"custom.exercise_interaction\", \"data\": {\"outcomeType\": 1, \"valueTowardsCompletion\": 0.1111111111111111, \"interactionType\": 1, \"questionType\": 1, \"questionId\": \"4_FirstDescs\", \"learnToolsVersion\": \"0.3.4\", \"failureMessage\": \"\", \"exceptionClass\": \"\", \"trace\": \"\"}}, \"*\")"
            ]
          },
          "metadata": {
            "tags": []
          }
        },
        {
          "output_type": "display_data",
          "data": {
            "text/plain": [
              "Correct: \n",
              "\n",
              "\n",
              "```python\n",
              "first_descriptions = reviews.description.iloc[:10]\n",
              "```\n",
              "Note that many other options will return a valid result, such as `desc.head(10)` and `reviews.loc[:9, \"description\"]`.    "
            ],
            "text/markdown": "<span style=\"color:#33cc33\">Correct:</span> \n\n\n```python\nfirst_descriptions = reviews.description.iloc[:10]\n```\nNote that many other options will return a valid result, such as `desc.head(10)` and `reviews.loc[:9, \"description\"]`.    \n"
          },
          "metadata": {
            "tags": []
          }
        },
        {
          "output_type": "execute_result",
          "data": {
            "text/plain": [
              "0    Aromas include tropical fruit, broom, brimston...\n",
              "1    This is ripe and fruity, a wine that is smooth...\n",
              "                           ...                        \n",
              "8    Savory dried thyme notes accent sunnier flavor...\n",
              "9    This has great depth of flavor with its fresh ...\n",
              "Name: description, Length: 10, dtype: object"
            ]
          },
          "metadata": {
            "tags": []
          },
          "execution_count": 39
        }
      ]
    },
    {
      "cell_type": "code",
      "metadata": {
        "execution": {
          "iopub.status.busy": "2021-07-23T14:44:36.060875Z",
          "iopub.execute_input": "2021-07-23T14:44:36.061123Z",
          "iopub.status.idle": "2021-07-23T14:44:36.066084Z",
          "shell.execute_reply.started": "2021-07-23T14:44:36.061099Z",
          "shell.execute_reply": "2021-07-23T14:44:36.065273Z"
        },
        "trusted": true,
        "id": "Zem1AXc91Php"
      },
      "source": [
        "#q4.hint()\n",
        "#q4.solution()"
      ],
      "execution_count": null,
      "outputs": []
    },
    {
      "cell_type": "markdown",
      "metadata": {
        "id": "i3Iv6W6V1Phq"
      },
      "source": [
        "## 5.\n",
        "\n",
        "Select the records with index labels `1`, `2`, `3`, `5`, and `8`, assigning the result to the variable `sample_reviews`.\n",
        "\n",
        "In other words, generate the following DataFrame:\n",
        "\n",
        "![](https://i.imgur.com/sHZvI1O.png)"
      ]
    },
    {
      "cell_type": "code",
      "metadata": {
        "execution": {
          "iopub.status.busy": "2021-07-23T14:44:36.066952Z",
          "iopub.execute_input": "2021-07-23T14:44:36.067207Z",
          "iopub.status.idle": "2021-07-23T14:44:36.102263Z",
          "shell.execute_reply.started": "2021-07-23T14:44:36.067183Z",
          "shell.execute_reply": "2021-07-23T14:44:36.101212Z"
        },
        "trusted": true,
        "id": "JHOWRaeB1Phq",
        "outputId": "a065fc52-36c0-403a-8a59-6bcdbafc080e"
      },
      "source": [
        "indices = [1, 2, 3, 5, 8]\n",
        "sample_reviews = reviews.loc[indices]\n",
        "\n",
        "# Check your answer\n",
        "q5.check()\n",
        "sample_reviews"
      ],
      "execution_count": null,
      "outputs": [
        {
          "output_type": "display_data",
          "data": {
            "text/plain": [
              "<IPython.core.display.Javascript object>"
            ],
            "application/javascript": [
              "parent.postMessage({\"jupyterEvent\": \"custom.exercise_interaction\", \"data\": {\"outcomeType\": 1, \"valueTowardsCompletion\": 0.1111111111111111, \"interactionType\": 1, \"questionType\": 1, \"questionId\": \"5_SampleReviews\", \"learnToolsVersion\": \"0.3.4\", \"failureMessage\": \"\", \"exceptionClass\": \"\", \"trace\": \"\"}}, \"*\")"
            ]
          },
          "metadata": {
            "tags": []
          }
        },
        {
          "output_type": "display_data",
          "data": {
            "text/plain": [
              "Correct"
            ],
            "text/markdown": "<span style=\"color:#33cc33\">Correct</span>"
          },
          "metadata": {
            "tags": []
          }
        },
        {
          "output_type": "execute_result",
          "data": {
            "text/plain": [
              "    country                                        description  \\\n",
              "1  Portugal  This is ripe and fruity, a wine that is smooth...   \n",
              "2        US  Tart and snappy, the flavors of lime flesh and...   \n",
              "3        US  Pineapple rind, lemon pith and orange blossom ...   \n",
              "5     Spain  Blackberry and raspberry aromas show a typical...   \n",
              "8   Germany  Savory dried thyme notes accent sunnier flavor...   \n",
              "\n",
              "            designation  points  price        province             region_1  \\\n",
              "1              Avidagos      87   15.0           Douro                  NaN   \n",
              "2                   NaN      87   14.0          Oregon    Willamette Valley   \n",
              "3  Reserve Late Harvest      87   13.0        Michigan  Lake Michigan Shore   \n",
              "5          Ars In Vitro      87   15.0  Northern Spain              Navarra   \n",
              "8                 Shine      87   12.0     Rheinhessen                  NaN   \n",
              "\n",
              "            region_2         taster_name taster_twitter_handle  \\\n",
              "1                NaN          Roger Voss            @vossroger   \n",
              "2  Willamette Valley        Paul Gregutt           @paulgwine    \n",
              "3                NaN  Alexander Peartree                   NaN   \n",
              "5                NaN   Michael Schachner           @wineschach   \n",
              "8                NaN  Anna Lee C. Iijima                   NaN   \n",
              "\n",
              "                                               title             variety  \\\n",
              "1      Quinta dos Avidagos 2011 Avidagos Red (Douro)      Portuguese Red   \n",
              "2      Rainstorm 2013 Pinot Gris (Willamette Valley)          Pinot Gris   \n",
              "3  St. Julian 2013 Reserve Late Harvest Riesling ...            Riesling   \n",
              "5  Tandem 2011 Ars In Vitro Tempranillo-Merlot (N...  Tempranillo-Merlot   \n",
              "8  Heinz Eifel 2013 Shine Gewürztraminer (Rheinhe...      Gewürztraminer   \n",
              "\n",
              "                winery  \n",
              "1  Quinta dos Avidagos  \n",
              "2            Rainstorm  \n",
              "3           St. Julian  \n",
              "5               Tandem  \n",
              "8          Heinz Eifel  "
            ],
            "text/html": [
              "<div>\n",
              "<style scoped>\n",
              "    .dataframe tbody tr th:only-of-type {\n",
              "        vertical-align: middle;\n",
              "    }\n",
              "\n",
              "    .dataframe tbody tr th {\n",
              "        vertical-align: top;\n",
              "    }\n",
              "\n",
              "    .dataframe thead th {\n",
              "        text-align: right;\n",
              "    }\n",
              "</style>\n",
              "<table border=\"1\" class=\"dataframe\">\n",
              "  <thead>\n",
              "    <tr style=\"text-align: right;\">\n",
              "      <th></th>\n",
              "      <th>country</th>\n",
              "      <th>description</th>\n",
              "      <th>designation</th>\n",
              "      <th>points</th>\n",
              "      <th>price</th>\n",
              "      <th>province</th>\n",
              "      <th>region_1</th>\n",
              "      <th>region_2</th>\n",
              "      <th>taster_name</th>\n",
              "      <th>taster_twitter_handle</th>\n",
              "      <th>title</th>\n",
              "      <th>variety</th>\n",
              "      <th>winery</th>\n",
              "    </tr>\n",
              "  </thead>\n",
              "  <tbody>\n",
              "    <tr>\n",
              "      <th>1</th>\n",
              "      <td>Portugal</td>\n",
              "      <td>This is ripe and fruity, a wine that is smooth...</td>\n",
              "      <td>Avidagos</td>\n",
              "      <td>87</td>\n",
              "      <td>15.0</td>\n",
              "      <td>Douro</td>\n",
              "      <td>NaN</td>\n",
              "      <td>NaN</td>\n",
              "      <td>Roger Voss</td>\n",
              "      <td>@vossroger</td>\n",
              "      <td>Quinta dos Avidagos 2011 Avidagos Red (Douro)</td>\n",
              "      <td>Portuguese Red</td>\n",
              "      <td>Quinta dos Avidagos</td>\n",
              "    </tr>\n",
              "    <tr>\n",
              "      <th>2</th>\n",
              "      <td>US</td>\n",
              "      <td>Tart and snappy, the flavors of lime flesh and...</td>\n",
              "      <td>NaN</td>\n",
              "      <td>87</td>\n",
              "      <td>14.0</td>\n",
              "      <td>Oregon</td>\n",
              "      <td>Willamette Valley</td>\n",
              "      <td>Willamette Valley</td>\n",
              "      <td>Paul Gregutt</td>\n",
              "      <td>@paulgwine</td>\n",
              "      <td>Rainstorm 2013 Pinot Gris (Willamette Valley)</td>\n",
              "      <td>Pinot Gris</td>\n",
              "      <td>Rainstorm</td>\n",
              "    </tr>\n",
              "    <tr>\n",
              "      <th>3</th>\n",
              "      <td>US</td>\n",
              "      <td>Pineapple rind, lemon pith and orange blossom ...</td>\n",
              "      <td>Reserve Late Harvest</td>\n",
              "      <td>87</td>\n",
              "      <td>13.0</td>\n",
              "      <td>Michigan</td>\n",
              "      <td>Lake Michigan Shore</td>\n",
              "      <td>NaN</td>\n",
              "      <td>Alexander Peartree</td>\n",
              "      <td>NaN</td>\n",
              "      <td>St. Julian 2013 Reserve Late Harvest Riesling ...</td>\n",
              "      <td>Riesling</td>\n",
              "      <td>St. Julian</td>\n",
              "    </tr>\n",
              "    <tr>\n",
              "      <th>5</th>\n",
              "      <td>Spain</td>\n",
              "      <td>Blackberry and raspberry aromas show a typical...</td>\n",
              "      <td>Ars In Vitro</td>\n",
              "      <td>87</td>\n",
              "      <td>15.0</td>\n",
              "      <td>Northern Spain</td>\n",
              "      <td>Navarra</td>\n",
              "      <td>NaN</td>\n",
              "      <td>Michael Schachner</td>\n",
              "      <td>@wineschach</td>\n",
              "      <td>Tandem 2011 Ars In Vitro Tempranillo-Merlot (N...</td>\n",
              "      <td>Tempranillo-Merlot</td>\n",
              "      <td>Tandem</td>\n",
              "    </tr>\n",
              "    <tr>\n",
              "      <th>8</th>\n",
              "      <td>Germany</td>\n",
              "      <td>Savory dried thyme notes accent sunnier flavor...</td>\n",
              "      <td>Shine</td>\n",
              "      <td>87</td>\n",
              "      <td>12.0</td>\n",
              "      <td>Rheinhessen</td>\n",
              "      <td>NaN</td>\n",
              "      <td>NaN</td>\n",
              "      <td>Anna Lee C. Iijima</td>\n",
              "      <td>NaN</td>\n",
              "      <td>Heinz Eifel 2013 Shine Gewürztraminer (Rheinhe...</td>\n",
              "      <td>Gewürztraminer</td>\n",
              "      <td>Heinz Eifel</td>\n",
              "    </tr>\n",
              "  </tbody>\n",
              "</table>\n",
              "</div>"
            ]
          },
          "metadata": {
            "tags": []
          },
          "execution_count": 41
        }
      ]
    },
    {
      "cell_type": "code",
      "metadata": {
        "execution": {
          "iopub.status.busy": "2021-07-23T14:44:36.103551Z",
          "iopub.execute_input": "2021-07-23T14:44:36.103908Z",
          "iopub.status.idle": "2021-07-23T14:44:36.107343Z",
          "shell.execute_reply.started": "2021-07-23T14:44:36.103875Z",
          "shell.execute_reply": "2021-07-23T14:44:36.106614Z"
        },
        "trusted": true,
        "id": "8quyUf7c1Phr"
      },
      "source": [
        "#q5.hint()\n",
        "#q5.solution()"
      ],
      "execution_count": null,
      "outputs": []
    },
    {
      "cell_type": "markdown",
      "metadata": {
        "id": "0oZuTyuM1Phr"
      },
      "source": [
        "## 6.\n",
        "\n",
        "Create a variable `df` containing the `country`, `province`, `region_1`, and `region_2` columns of the records with the index labels `0`, `1`, `10`, and `100`. In other words, generate the following DataFrame:\n",
        "\n",
        "![](https://i.imgur.com/FUCGiKP.png)"
      ]
    },
    {
      "cell_type": "code",
      "metadata": {
        "execution": {
          "iopub.status.busy": "2021-07-23T14:44:36.108289Z",
          "iopub.execute_input": "2021-07-23T14:44:36.108548Z",
          "iopub.status.idle": "2021-07-23T14:44:36.138452Z",
          "shell.execute_reply.started": "2021-07-23T14:44:36.108523Z",
          "shell.execute_reply": "2021-07-23T14:44:36.137717Z"
        },
        "trusted": true,
        "id": "h-qpDkDt1Phs",
        "outputId": "416b396e-e749-4825-aa4c-73ffc30ce408"
      },
      "source": [
        "cols = ['country', 'province', 'region_1', 'region_2']\n",
        "indices = [0, 1, 10, 100]\n",
        "df = reviews.loc[indices, cols]\n",
        "\n",
        "# Check your answer\n",
        "q6.check()\n",
        "df"
      ],
      "execution_count": null,
      "outputs": [
        {
          "output_type": "display_data",
          "data": {
            "text/plain": [
              "<IPython.core.display.Javascript object>"
            ],
            "application/javascript": [
              "parent.postMessage({\"jupyterEvent\": \"custom.exercise_interaction\", \"data\": {\"outcomeType\": 1, \"valueTowardsCompletion\": 0.1111111111111111, \"interactionType\": 1, \"questionType\": 1, \"questionId\": \"6_RowColSelect\", \"learnToolsVersion\": \"0.3.4\", \"failureMessage\": \"\", \"exceptionClass\": \"\", \"trace\": \"\"}}, \"*\")"
            ]
          },
          "metadata": {
            "tags": []
          }
        },
        {
          "output_type": "display_data",
          "data": {
            "text/plain": [
              "Correct"
            ],
            "text/markdown": "<span style=\"color:#33cc33\">Correct</span>"
          },
          "metadata": {
            "tags": []
          }
        },
        {
          "output_type": "execute_result",
          "data": {
            "text/plain": [
              "      country           province      region_1      region_2\n",
              "0       Italy  Sicily & Sardinia          Etna           NaN\n",
              "1    Portugal              Douro           NaN           NaN\n",
              "10         US         California   Napa Valley          Napa\n",
              "100        US           New York  Finger Lakes  Finger Lakes"
            ],
            "text/html": [
              "<div>\n",
              "<style scoped>\n",
              "    .dataframe tbody tr th:only-of-type {\n",
              "        vertical-align: middle;\n",
              "    }\n",
              "\n",
              "    .dataframe tbody tr th {\n",
              "        vertical-align: top;\n",
              "    }\n",
              "\n",
              "    .dataframe thead th {\n",
              "        text-align: right;\n",
              "    }\n",
              "</style>\n",
              "<table border=\"1\" class=\"dataframe\">\n",
              "  <thead>\n",
              "    <tr style=\"text-align: right;\">\n",
              "      <th></th>\n",
              "      <th>country</th>\n",
              "      <th>province</th>\n",
              "      <th>region_1</th>\n",
              "      <th>region_2</th>\n",
              "    </tr>\n",
              "  </thead>\n",
              "  <tbody>\n",
              "    <tr>\n",
              "      <th>0</th>\n",
              "      <td>Italy</td>\n",
              "      <td>Sicily &amp; Sardinia</td>\n",
              "      <td>Etna</td>\n",
              "      <td>NaN</td>\n",
              "    </tr>\n",
              "    <tr>\n",
              "      <th>1</th>\n",
              "      <td>Portugal</td>\n",
              "      <td>Douro</td>\n",
              "      <td>NaN</td>\n",
              "      <td>NaN</td>\n",
              "    </tr>\n",
              "    <tr>\n",
              "      <th>10</th>\n",
              "      <td>US</td>\n",
              "      <td>California</td>\n",
              "      <td>Napa Valley</td>\n",
              "      <td>Napa</td>\n",
              "    </tr>\n",
              "    <tr>\n",
              "      <th>100</th>\n",
              "      <td>US</td>\n",
              "      <td>New York</td>\n",
              "      <td>Finger Lakes</td>\n",
              "      <td>Finger Lakes</td>\n",
              "    </tr>\n",
              "  </tbody>\n",
              "</table>\n",
              "</div>"
            ]
          },
          "metadata": {
            "tags": []
          },
          "execution_count": 43
        }
      ]
    },
    {
      "cell_type": "code",
      "metadata": {
        "execution": {
          "iopub.status.busy": "2021-07-23T14:44:36.139817Z",
          "iopub.execute_input": "2021-07-23T14:44:36.140207Z",
          "iopub.status.idle": "2021-07-23T14:44:36.144162Z",
          "shell.execute_reply.started": "2021-07-23T14:44:36.140167Z",
          "shell.execute_reply": "2021-07-23T14:44:36.143146Z"
        },
        "trusted": true,
        "id": "2rFogm261Phs"
      },
      "source": [
        "#q6.hint()\n",
        "#q6.solution()"
      ],
      "execution_count": null,
      "outputs": []
    },
    {
      "cell_type": "markdown",
      "metadata": {
        "id": "deD-AfkU1Phs"
      },
      "source": [
        "## 7.\n",
        "\n",
        "Create a variable `df` containing the `country` and `variety` columns of the first 100 records. \n",
        "\n",
        "Hint: you may use `loc` or `iloc`. When working on the answer this question and the several of the ones that follow, keep the following \"gotcha\" described in the tutorial:\n",
        "\n",
        "> `iloc` uses the Python stdlib indexing scheme, where the first element of the range is included and the last one excluded. \n",
        "`loc`, meanwhile, indexes inclusively. \n",
        "\n",
        "> This is particularly confusing when the DataFrame index is a simple numerical list, e.g. `0,...,1000`. In this case `df.iloc[0:1000]` will return 1000 entries, while `df.loc[0:1000]` return 1001 of them! To get 1000 elements using `loc`, you will need to go one lower and ask for `df.iloc[0:999]`. "
      ]
    },
    {
      "cell_type": "code",
      "metadata": {
        "execution": {
          "iopub.status.busy": "2021-07-23T14:44:36.145510Z",
          "iopub.execute_input": "2021-07-23T14:44:36.145840Z",
          "iopub.status.idle": "2021-07-23T14:44:36.168528Z",
          "shell.execute_reply.started": "2021-07-23T14:44:36.145810Z",
          "shell.execute_reply": "2021-07-23T14:44:36.167597Z"
        },
        "trusted": true,
        "id": "ib5OJkyN1Pht",
        "outputId": "558afef9-c9bb-4d58-bb7f-49035aa5d2d2"
      },
      "source": [
        "cols = ['country', 'variety']\n",
        "df = reviews.loc[:99, cols]\n",
        "\n",
        "# Check your answer\n",
        "q7.check()\n",
        "df"
      ],
      "execution_count": null,
      "outputs": [
        {
          "output_type": "display_data",
          "data": {
            "text/plain": [
              "<IPython.core.display.Javascript object>"
            ],
            "application/javascript": [
              "parent.postMessage({\"jupyterEvent\": \"custom.exercise_interaction\", \"data\": {\"outcomeType\": 1, \"valueTowardsCompletion\": 0.1111111111111111, \"interactionType\": 1, \"questionType\": 1, \"questionId\": \"7_RowColSelect2\", \"learnToolsVersion\": \"0.3.4\", \"failureMessage\": \"\", \"exceptionClass\": \"\", \"trace\": \"\"}}, \"*\")"
            ]
          },
          "metadata": {
            "tags": []
          }
        },
        {
          "output_type": "display_data",
          "data": {
            "text/plain": [
              "Correct: \n",
              "\n",
              "\n",
              "```python\n",
              "cols = ['country', 'variety']\n",
              "df = reviews.loc[:99, cols]\n",
              "```\n",
              "or \n",
              "```python\n",
              "cols_idx = [0, 11]\n",
              "df = reviews.iloc[:100, cols_idx]\n",
              "```"
            ],
            "text/markdown": "<span style=\"color:#33cc33\">Correct:</span> \n\n\n```python\ncols = ['country', 'variety']\ndf = reviews.loc[:99, cols]\n```\nor \n```python\ncols_idx = [0, 11]\ndf = reviews.iloc[:100, cols_idx]\n```\n"
          },
          "metadata": {
            "tags": []
          }
        },
        {
          "output_type": "execute_result",
          "data": {
            "text/plain": [
              "     country                   variety\n",
              "0      Italy               White Blend\n",
              "1   Portugal            Portuguese Red\n",
              "..       ...                       ...\n",
              "98     Italy                Sangiovese\n",
              "99        US  Bordeaux-style Red Blend\n",
              "\n",
              "[100 rows x 2 columns]"
            ],
            "text/html": [
              "<div>\n",
              "<style scoped>\n",
              "    .dataframe tbody tr th:only-of-type {\n",
              "        vertical-align: middle;\n",
              "    }\n",
              "\n",
              "    .dataframe tbody tr th {\n",
              "        vertical-align: top;\n",
              "    }\n",
              "\n",
              "    .dataframe thead th {\n",
              "        text-align: right;\n",
              "    }\n",
              "</style>\n",
              "<table border=\"1\" class=\"dataframe\">\n",
              "  <thead>\n",
              "    <tr style=\"text-align: right;\">\n",
              "      <th></th>\n",
              "      <th>country</th>\n",
              "      <th>variety</th>\n",
              "    </tr>\n",
              "  </thead>\n",
              "  <tbody>\n",
              "    <tr>\n",
              "      <th>0</th>\n",
              "      <td>Italy</td>\n",
              "      <td>White Blend</td>\n",
              "    </tr>\n",
              "    <tr>\n",
              "      <th>1</th>\n",
              "      <td>Portugal</td>\n",
              "      <td>Portuguese Red</td>\n",
              "    </tr>\n",
              "    <tr>\n",
              "      <th>...</th>\n",
              "      <td>...</td>\n",
              "      <td>...</td>\n",
              "    </tr>\n",
              "    <tr>\n",
              "      <th>98</th>\n",
              "      <td>Italy</td>\n",
              "      <td>Sangiovese</td>\n",
              "    </tr>\n",
              "    <tr>\n",
              "      <th>99</th>\n",
              "      <td>US</td>\n",
              "      <td>Bordeaux-style Red Blend</td>\n",
              "    </tr>\n",
              "  </tbody>\n",
              "</table>\n",
              "<p>100 rows × 2 columns</p>\n",
              "</div>"
            ]
          },
          "metadata": {
            "tags": []
          },
          "execution_count": 45
        }
      ]
    },
    {
      "cell_type": "code",
      "metadata": {
        "execution": {
          "iopub.status.busy": "2021-07-23T14:44:36.169569Z",
          "iopub.execute_input": "2021-07-23T14:44:36.169849Z",
          "iopub.status.idle": "2021-07-23T14:44:36.172947Z",
          "shell.execute_reply.started": "2021-07-23T14:44:36.169825Z",
          "shell.execute_reply": "2021-07-23T14:44:36.171965Z"
        },
        "trusted": true,
        "id": "o__U5bTE1Pht"
      },
      "source": [
        "#q7.hint()\n",
        "#q7.solution()"
      ],
      "execution_count": null,
      "outputs": []
    },
    {
      "cell_type": "markdown",
      "metadata": {
        "id": "eKBh7J_M1Pht"
      },
      "source": [
        "## 8.\n",
        "\n",
        "Create a DataFrame `italian_wines` containing reviews of wines made in `Italy`. Hint: `reviews.country` equals what?"
      ]
    },
    {
      "cell_type": "code",
      "metadata": {
        "execution": {
          "iopub.status.busy": "2021-07-23T14:44:36.173942Z",
          "iopub.execute_input": "2021-07-23T14:44:36.174351Z",
          "iopub.status.idle": "2021-07-23T14:44:36.214718Z",
          "shell.execute_reply.started": "2021-07-23T14:44:36.174320Z",
          "shell.execute_reply": "2021-07-23T14:44:36.213789Z"
        },
        "trusted": true,
        "id": "E2qYFjBu1Pht",
        "outputId": "2fda21d3-0919-42ae-81ed-baa31b865798"
      },
      "source": [
        "italian_wines = reviews[reviews.country == 'Italy']\n",
        "\n",
        "# Check your answer\n",
        "q8.check()"
      ],
      "execution_count": null,
      "outputs": [
        {
          "output_type": "display_data",
          "data": {
            "text/plain": [
              "<IPython.core.display.Javascript object>"
            ],
            "application/javascript": [
              "parent.postMessage({\"jupyterEvent\": \"custom.exercise_interaction\", \"data\": {\"outcomeType\": 1, \"valueTowardsCompletion\": 0.1111111111111111, \"interactionType\": 1, \"questionType\": 1, \"questionId\": \"8_ItalianWines\", \"learnToolsVersion\": \"0.3.4\", \"failureMessage\": \"\", \"exceptionClass\": \"\", \"trace\": \"\"}}, \"*\")"
            ]
          },
          "metadata": {
            "tags": []
          }
        },
        {
          "output_type": "display_data",
          "data": {
            "text/plain": [
              "Correct"
            ],
            "text/markdown": "<span style=\"color:#33cc33\">Correct</span>"
          },
          "metadata": {
            "tags": []
          }
        }
      ]
    },
    {
      "cell_type": "code",
      "metadata": {
        "execution": {
          "iopub.status.busy": "2021-07-23T14:44:36.216022Z",
          "iopub.execute_input": "2021-07-23T14:44:36.216398Z",
          "iopub.status.idle": "2021-07-23T14:44:36.220151Z",
          "shell.execute_reply.started": "2021-07-23T14:44:36.216357Z",
          "shell.execute_reply": "2021-07-23T14:44:36.219526Z"
        },
        "trusted": true,
        "id": "852FAGjJ1Phu"
      },
      "source": [
        "#q8.hint()\n",
        "#q8.solution()"
      ],
      "execution_count": null,
      "outputs": []
    },
    {
      "cell_type": "markdown",
      "metadata": {
        "id": "dwmx86Bu1Phu"
      },
      "source": [
        "## 9.\n",
        "\n",
        "Create a DataFrame `top_oceania_wines` containing all reviews with at least 95 points (out of 100) for wines from Australia or New Zealand."
      ]
    },
    {
      "cell_type": "code",
      "metadata": {
        "execution": {
          "iopub.status.busy": "2021-07-23T14:44:36.221019Z",
          "iopub.execute_input": "2021-07-23T14:44:36.221285Z",
          "iopub.status.idle": "2021-07-23T14:44:36.264590Z",
          "shell.execute_reply.started": "2021-07-23T14:44:36.221260Z",
          "shell.execute_reply": "2021-07-23T14:44:36.263679Z"
        },
        "trusted": true,
        "id": "M5F5LF9F1Phu",
        "outputId": "3887fa28-27d0-449a-9752-9098dd7e447a"
      },
      "source": [
        "top_oceania_wines = reviews.loc[(reviews.country.isin(['Australia', 'New Zealand']))& (reviews.points >= 95)]\n",
        "\n",
        "# Check your answer\n",
        "q9.check()\n",
        "top_oceania_wines"
      ],
      "execution_count": null,
      "outputs": [
        {
          "output_type": "display_data",
          "data": {
            "text/plain": [
              "<IPython.core.display.Javascript object>"
            ],
            "application/javascript": [
              "parent.postMessage({\"jupyterEvent\": \"custom.exercise_interaction\", \"data\": {\"outcomeType\": 1, \"valueTowardsCompletion\": 0.1111111111111111, \"interactionType\": 1, \"questionType\": 1, \"questionId\": \"9_TopOceanicWines\", \"learnToolsVersion\": \"0.3.4\", \"failureMessage\": \"\", \"exceptionClass\": \"\", \"trace\": \"\"}}, \"*\")"
            ]
          },
          "metadata": {
            "tags": []
          }
        },
        {
          "output_type": "display_data",
          "data": {
            "text/plain": [
              "Correct"
            ],
            "text/markdown": "<span style=\"color:#33cc33\">Correct</span>"
          },
          "metadata": {
            "tags": []
          }
        },
        {
          "output_type": "execute_result",
          "data": {
            "text/plain": [
              "            country                                        description  \\\n",
              "345       Australia  This wine contains some material over 100 year...   \n",
              "346       Australia  This deep brown wine smells like a damp, mossy...   \n",
              "...             ...                                                ...   \n",
              "122507  New Zealand  This blend of Cabernet Sauvignon (62.5%), Merl...   \n",
              "122939    Australia  Full-bodied and plush yet vibrant and imbued w...   \n",
              "\n",
              "                                  designation  points  price         province  \\\n",
              "345                                      Rare     100  350.0         Victoria   \n",
              "346                                      Rare      98  350.0         Victoria   \n",
              "...                                       ...     ...    ...              ...   \n",
              "122507  SQM Gimblett Gravels Cabernets/Merlot      95   79.0      Hawke's Bay   \n",
              "122939                             The Factor      98  125.0  South Australia   \n",
              "\n",
              "              region_1 region_2     taster_name taster_twitter_handle  \\\n",
              "345         Rutherglen      NaN  Joe Czerwinski                @JoeCz   \n",
              "346         Rutherglen      NaN  Joe Czerwinski                @JoeCz   \n",
              "...                ...      ...             ...                   ...   \n",
              "122507             NaN      NaN  Joe Czerwinski                @JoeCz   \n",
              "122939  Barossa Valley      NaN  Joe Czerwinski                @JoeCz   \n",
              "\n",
              "                                                    title  \\\n",
              "345     Chambers Rosewood Vineyards NV Rare Muscat (Ru...   \n",
              "346     Chambers Rosewood Vineyards NV Rare Muscadelle...   \n",
              "...                                                   ...   \n",
              "122507  Squawking Magpie 2014 SQM Gimblett Gravels Cab...   \n",
              "122939   Torbreck 2013 The Factor Shiraz (Barossa Valley)   \n",
              "\n",
              "                         variety                       winery  \n",
              "345                       Muscat  Chambers Rosewood Vineyards  \n",
              "346                   Muscadelle  Chambers Rosewood Vineyards  \n",
              "...                          ...                          ...  \n",
              "122507  Bordeaux-style Red Blend             Squawking Magpie  \n",
              "122939                    Shiraz                     Torbreck  \n",
              "\n",
              "[49 rows x 13 columns]"
            ],
            "text/html": [
              "<div>\n",
              "<style scoped>\n",
              "    .dataframe tbody tr th:only-of-type {\n",
              "        vertical-align: middle;\n",
              "    }\n",
              "\n",
              "    .dataframe tbody tr th {\n",
              "        vertical-align: top;\n",
              "    }\n",
              "\n",
              "    .dataframe thead th {\n",
              "        text-align: right;\n",
              "    }\n",
              "</style>\n",
              "<table border=\"1\" class=\"dataframe\">\n",
              "  <thead>\n",
              "    <tr style=\"text-align: right;\">\n",
              "      <th></th>\n",
              "      <th>country</th>\n",
              "      <th>description</th>\n",
              "      <th>designation</th>\n",
              "      <th>points</th>\n",
              "      <th>price</th>\n",
              "      <th>province</th>\n",
              "      <th>region_1</th>\n",
              "      <th>region_2</th>\n",
              "      <th>taster_name</th>\n",
              "      <th>taster_twitter_handle</th>\n",
              "      <th>title</th>\n",
              "      <th>variety</th>\n",
              "      <th>winery</th>\n",
              "    </tr>\n",
              "  </thead>\n",
              "  <tbody>\n",
              "    <tr>\n",
              "      <th>345</th>\n",
              "      <td>Australia</td>\n",
              "      <td>This wine contains some material over 100 year...</td>\n",
              "      <td>Rare</td>\n",
              "      <td>100</td>\n",
              "      <td>350.0</td>\n",
              "      <td>Victoria</td>\n",
              "      <td>Rutherglen</td>\n",
              "      <td>NaN</td>\n",
              "      <td>Joe Czerwinski</td>\n",
              "      <td>@JoeCz</td>\n",
              "      <td>Chambers Rosewood Vineyards NV Rare Muscat (Ru...</td>\n",
              "      <td>Muscat</td>\n",
              "      <td>Chambers Rosewood Vineyards</td>\n",
              "    </tr>\n",
              "    <tr>\n",
              "      <th>346</th>\n",
              "      <td>Australia</td>\n",
              "      <td>This deep brown wine smells like a damp, mossy...</td>\n",
              "      <td>Rare</td>\n",
              "      <td>98</td>\n",
              "      <td>350.0</td>\n",
              "      <td>Victoria</td>\n",
              "      <td>Rutherglen</td>\n",
              "      <td>NaN</td>\n",
              "      <td>Joe Czerwinski</td>\n",
              "      <td>@JoeCz</td>\n",
              "      <td>Chambers Rosewood Vineyards NV Rare Muscadelle...</td>\n",
              "      <td>Muscadelle</td>\n",
              "      <td>Chambers Rosewood Vineyards</td>\n",
              "    </tr>\n",
              "    <tr>\n",
              "      <th>...</th>\n",
              "      <td>...</td>\n",
              "      <td>...</td>\n",
              "      <td>...</td>\n",
              "      <td>...</td>\n",
              "      <td>...</td>\n",
              "      <td>...</td>\n",
              "      <td>...</td>\n",
              "      <td>...</td>\n",
              "      <td>...</td>\n",
              "      <td>...</td>\n",
              "      <td>...</td>\n",
              "      <td>...</td>\n",
              "      <td>...</td>\n",
              "    </tr>\n",
              "    <tr>\n",
              "      <th>122507</th>\n",
              "      <td>New Zealand</td>\n",
              "      <td>This blend of Cabernet Sauvignon (62.5%), Merl...</td>\n",
              "      <td>SQM Gimblett Gravels Cabernets/Merlot</td>\n",
              "      <td>95</td>\n",
              "      <td>79.0</td>\n",
              "      <td>Hawke's Bay</td>\n",
              "      <td>NaN</td>\n",
              "      <td>NaN</td>\n",
              "      <td>Joe Czerwinski</td>\n",
              "      <td>@JoeCz</td>\n",
              "      <td>Squawking Magpie 2014 SQM Gimblett Gravels Cab...</td>\n",
              "      <td>Bordeaux-style Red Blend</td>\n",
              "      <td>Squawking Magpie</td>\n",
              "    </tr>\n",
              "    <tr>\n",
              "      <th>122939</th>\n",
              "      <td>Australia</td>\n",
              "      <td>Full-bodied and plush yet vibrant and imbued w...</td>\n",
              "      <td>The Factor</td>\n",
              "      <td>98</td>\n",
              "      <td>125.0</td>\n",
              "      <td>South Australia</td>\n",
              "      <td>Barossa Valley</td>\n",
              "      <td>NaN</td>\n",
              "      <td>Joe Czerwinski</td>\n",
              "      <td>@JoeCz</td>\n",
              "      <td>Torbreck 2013 The Factor Shiraz (Barossa Valley)</td>\n",
              "      <td>Shiraz</td>\n",
              "      <td>Torbreck</td>\n",
              "    </tr>\n",
              "  </tbody>\n",
              "</table>\n",
              "<p>49 rows × 13 columns</p>\n",
              "</div>"
            ]
          },
          "metadata": {
            "tags": []
          },
          "execution_count": 49
        }
      ]
    },
    {
      "cell_type": "code",
      "metadata": {
        "execution": {
          "iopub.status.busy": "2021-07-23T14:44:36.265758Z",
          "iopub.execute_input": "2021-07-23T14:44:36.266035Z",
          "iopub.status.idle": "2021-07-23T14:44:36.269926Z",
          "shell.execute_reply.started": "2021-07-23T14:44:36.266009Z",
          "shell.execute_reply": "2021-07-23T14:44:36.268810Z"
        },
        "trusted": true,
        "id": "inzZVKpt1Phu"
      },
      "source": [
        "#q9.hint()\n",
        "#q9.solution()"
      ],
      "execution_count": null,
      "outputs": []
    },
    {
      "cell_type": "markdown",
      "metadata": {
        "id": "lb8MYvIi1Phv"
      },
      "source": [
        "# Keep going\n",
        "\n",
        "Move on to learn about **[summary functions and maps](https://www.kaggle.com/residentmario/summary-functions-and-maps)**."
      ]
    },
    {
      "cell_type": "markdown",
      "metadata": {
        "id": "gAzmzoUc1Phv"
      },
      "source": [
        "---\n",
        "\n",
        "\n",
        "\n",
        "\n",
        "*Have questions or comments? Visit the [Learn Discussion forum](https://www.kaggle.com/learn-forum/161299) to chat with other Learners.*"
      ]
    }
  ]
}