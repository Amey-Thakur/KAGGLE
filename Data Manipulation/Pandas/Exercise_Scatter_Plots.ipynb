{
  "nbformat": 4,
  "nbformat_minor": 0,
  "metadata": {
    "kernelspec": {
      "display_name": "Python 3",
      "language": "python",
      "name": "python3"
    },
    "language_info": {
      "name": "python",
      "version": "3.7.10",
      "mimetype": "text/x-python",
      "codemirror_mode": {
        "name": "ipython",
        "version": 3
      },
      "pygments_lexer": "ipython3",
      "nbconvert_exporter": "python",
      "file_extension": ".py"
    },
    "colab": {
      "name": "Exercise: Scatter Plots.ipynb",
      "provenance": [],
      "include_colab_link": true
    }
  },
  "cells": [
    {
      "cell_type": "markdown",
      "metadata": {
        "id": "view-in-github",
        "colab_type": "text"
      },
      "source": [
        "<a href=\"https://colab.research.google.com/github/Amey-Thakur/KAGGLE/blob/main/Exercise_Scatter_Plots.ipynb\" target=\"_parent\"><img src=\"https://colab.research.google.com/assets/colab-badge.svg\" alt=\"Open In Colab\"/></a>"
      ]
    },
    {
      "cell_type": "markdown",
      "metadata": {
        "id": "As7ae8Bsr97B"
      },
      "source": [
        "**This notebook is an exercise in the [Data Visualization](https://www.kaggle.com/learn/data-visualization) course.  You can reference the tutorial at [this link](https://www.kaggle.com/alexisbcook/scatter-plots).**\n",
        "\n",
        "---\n"
      ]
    },
    {
      "cell_type": "markdown",
      "metadata": {
        "id": "LiR44gNXr97E"
      },
      "source": [
        "In this exercise, you will use your new knowledge to propose a solution to a real-world scenario.  To succeed, you will need to import data into Python, answer questions using the data, and generate **scatter plots** to understand patterns in the data.\n",
        "\n",
        "## Scenario\n",
        "\n",
        "You work for a major candy producer, and your goal is to write a report that your company can use to guide the design of its next product.  Soon after starting your research, you stumble across this [very interesting dataset](https://fivethirtyeight.com/features/the-ultimate-halloween-candy-power-ranking/) containing results from a fun survey to crowdsource favorite candies.\n",
        "\n",
        "## Setup\n",
        "\n",
        "Run the next cell to import and configure the Python libraries that you need to complete the exercise."
      ]
    },
    {
      "cell_type": "code",
      "metadata": {
        "execution": {
          "iopub.status.busy": "2021-07-23T14:05:26.152589Z",
          "iopub.execute_input": "2021-07-23T14:05:26.153044Z",
          "iopub.status.idle": "2021-07-23T14:05:26.163042Z",
          "shell.execute_reply.started": "2021-07-23T14:05:26.153004Z",
          "shell.execute_reply": "2021-07-23T14:05:26.161545Z"
        },
        "trusted": true,
        "id": "7JuL4AOnr97E",
        "outputId": "4a903c5b-400a-482e-d9a1-e16248f2a86f"
      },
      "source": [
        "import pandas as pd\n",
        "pd.plotting.register_matplotlib_converters()\n",
        "import matplotlib.pyplot as plt\n",
        "%matplotlib inline\n",
        "import seaborn as sns\n",
        "print(\"Setup Complete\")"
      ],
      "execution_count": null,
      "outputs": [
        {
          "output_type": "stream",
          "text": [
            "Setup Complete\n"
          ],
          "name": "stdout"
        }
      ]
    },
    {
      "cell_type": "markdown",
      "metadata": {
        "id": "rZyiePNPr97F"
      },
      "source": [
        "The questions below will give you feedback on your work. Run the following cell to set up our feedback system."
      ]
    },
    {
      "cell_type": "code",
      "metadata": {
        "execution": {
          "iopub.status.busy": "2021-07-23T14:05:26.165234Z",
          "iopub.execute_input": "2021-07-23T14:05:26.165666Z",
          "iopub.status.idle": "2021-07-23T14:05:26.180893Z",
          "shell.execute_reply.started": "2021-07-23T14:05:26.165619Z",
          "shell.execute_reply": "2021-07-23T14:05:26.179888Z"
        },
        "trusted": true,
        "id": "9iXPtAcNr97G",
        "outputId": "47e807ee-db62-4b33-8a24-e2c1b946ff07"
      },
      "source": [
        "# Set up code checking\n",
        "import os\n",
        "if not os.path.exists(\"../input/candy.csv\"):\n",
        "    os.symlink(\"../input/data-for-datavis/candy.csv\", \"../input/candy.csv\") \n",
        "from learntools.core import binder\n",
        "binder.bind(globals())\n",
        "from learntools.data_viz_to_coder.ex4 import *\n",
        "print(\"Setup Complete\")"
      ],
      "execution_count": null,
      "outputs": [
        {
          "output_type": "stream",
          "text": [
            "Setup Complete\n"
          ],
          "name": "stdout"
        }
      ]
    },
    {
      "cell_type": "markdown",
      "metadata": {
        "id": "tx9JxqCmr97G"
      },
      "source": [
        "## Step 1: Load the Data\n",
        "\n",
        "Read the candy data file into `candy_data`.  Use the `\"id\"` column to label the rows."
      ]
    },
    {
      "cell_type": "code",
      "metadata": {
        "execution": {
          "iopub.status.busy": "2021-07-23T14:05:26.182941Z",
          "iopub.execute_input": "2021-07-23T14:05:26.183229Z",
          "iopub.status.idle": "2021-07-23T14:05:26.209210Z",
          "shell.execute_reply.started": "2021-07-23T14:05:26.183198Z",
          "shell.execute_reply": "2021-07-23T14:05:26.207996Z"
        },
        "trusted": true,
        "id": "CmOsJ-rYr97G",
        "outputId": "da9300de-c69d-4ef1-8a18-ee8f2b2cf7da"
      },
      "source": [
        "# Path of the file to read\n",
        "candy_filepath = \"../input/candy.csv\"\n",
        "\n",
        "# Fill in the line below to read the file into a variable candy_data\n",
        "candy_data = pd.read_csv(candy_filepath, index_col=\"id\")\n",
        "\n",
        "# Run the line below with no changes to check that you've loaded the data correctly\n",
        "step_1.check()"
      ],
      "execution_count": null,
      "outputs": [
        {
          "output_type": "display_data",
          "data": {
            "text/plain": [
              "<IPython.core.display.Javascript object>"
            ],
            "application/javascript": [
              "parent.postMessage({\"jupyterEvent\": \"custom.exercise_interaction\", \"data\": {\"outcomeType\": 1, \"valueTowardsCompletion\": 0.3333333333333333, \"interactionType\": 1, \"questionType\": 1, \"questionId\": \"1_LoadData\", \"learnToolsVersion\": \"0.3.4\", \"failureMessage\": \"\", \"exceptionClass\": \"\", \"trace\": \"\"}}, \"*\")"
            ]
          },
          "metadata": {
            "tags": []
          }
        },
        {
          "output_type": "display_data",
          "data": {
            "text/plain": [
              "Correct"
            ],
            "text/markdown": "<span style=\"color:#33cc33\">Correct</span>"
          },
          "metadata": {
            "tags": []
          }
        }
      ]
    },
    {
      "cell_type": "code",
      "metadata": {
        "execution": {
          "iopub.status.busy": "2021-07-23T14:05:26.211618Z",
          "iopub.execute_input": "2021-07-23T14:05:26.212096Z",
          "iopub.status.idle": "2021-07-23T14:05:26.217753Z",
          "shell.execute_reply.started": "2021-07-23T14:05:26.212048Z",
          "shell.execute_reply": "2021-07-23T14:05:26.216495Z"
        },
        "trusted": true,
        "id": "Tk4gRUdtr97H"
      },
      "source": [
        "# Lines below will give you a hint or solution code\n",
        "#step_1.hint()\n",
        "#step_1.solution()"
      ],
      "execution_count": null,
      "outputs": []
    },
    {
      "cell_type": "markdown",
      "metadata": {
        "id": "WdBXdVLMr97H"
      },
      "source": [
        "## Step 2: Review the data\n",
        "\n",
        "Use a Python command to print the first five rows of the data."
      ]
    },
    {
      "cell_type": "code",
      "metadata": {
        "execution": {
          "iopub.status.busy": "2021-07-23T14:05:26.219824Z",
          "iopub.execute_input": "2021-07-23T14:05:26.220259Z",
          "iopub.status.idle": "2021-07-23T14:05:26.249302Z",
          "shell.execute_reply.started": "2021-07-23T14:05:26.220214Z",
          "shell.execute_reply": "2021-07-23T14:05:26.248549Z"
        },
        "trusted": true,
        "id": "_-fm5UVdr97I",
        "outputId": "01f51624-9bd4-4f7b-8616-e0557758b58b"
      },
      "source": [
        "# Print the first five rows of the data\n",
        "candy_data.head()"
      ],
      "execution_count": null,
      "outputs": [
        {
          "output_type": "execute_result",
          "data": {
            "text/plain": [
              "   competitorname chocolate fruity caramel peanutyalmondy nougat  \\\n",
              "id                                                                 \n",
              "0       100 Grand       Yes     No     Yes             No     No   \n",
              "1    3 Musketeers       Yes     No      No             No    Yes   \n",
              "2       Air Heads        No    Yes      No             No     No   \n",
              "3      Almond Joy       Yes     No      No            Yes     No   \n",
              "4       Baby Ruth       Yes     No     Yes            Yes    Yes   \n",
              "\n",
              "   crispedricewafer hard  bar pluribus  sugarpercent  pricepercent  winpercent  \n",
              "id                                                                              \n",
              "0               Yes   No  Yes       No         0.732         0.860   66.971725  \n",
              "1                No   No  Yes       No         0.604         0.511   67.602936  \n",
              "2                No   No   No       No         0.906         0.511   52.341465  \n",
              "3                No   No  Yes       No         0.465         0.767   50.347546  \n",
              "4                No   No  Yes       No         0.604         0.767   56.914547  "
            ],
            "text/html": [
              "<div>\n",
              "<style scoped>\n",
              "    .dataframe tbody tr th:only-of-type {\n",
              "        vertical-align: middle;\n",
              "    }\n",
              "\n",
              "    .dataframe tbody tr th {\n",
              "        vertical-align: top;\n",
              "    }\n",
              "\n",
              "    .dataframe thead th {\n",
              "        text-align: right;\n",
              "    }\n",
              "</style>\n",
              "<table border=\"1\" class=\"dataframe\">\n",
              "  <thead>\n",
              "    <tr style=\"text-align: right;\">\n",
              "      <th></th>\n",
              "      <th>competitorname</th>\n",
              "      <th>chocolate</th>\n",
              "      <th>fruity</th>\n",
              "      <th>caramel</th>\n",
              "      <th>peanutyalmondy</th>\n",
              "      <th>nougat</th>\n",
              "      <th>crispedricewafer</th>\n",
              "      <th>hard</th>\n",
              "      <th>bar</th>\n",
              "      <th>pluribus</th>\n",
              "      <th>sugarpercent</th>\n",
              "      <th>pricepercent</th>\n",
              "      <th>winpercent</th>\n",
              "    </tr>\n",
              "    <tr>\n",
              "      <th>id</th>\n",
              "      <th></th>\n",
              "      <th></th>\n",
              "      <th></th>\n",
              "      <th></th>\n",
              "      <th></th>\n",
              "      <th></th>\n",
              "      <th></th>\n",
              "      <th></th>\n",
              "      <th></th>\n",
              "      <th></th>\n",
              "      <th></th>\n",
              "      <th></th>\n",
              "      <th></th>\n",
              "    </tr>\n",
              "  </thead>\n",
              "  <tbody>\n",
              "    <tr>\n",
              "      <th>0</th>\n",
              "      <td>100 Grand</td>\n",
              "      <td>Yes</td>\n",
              "      <td>No</td>\n",
              "      <td>Yes</td>\n",
              "      <td>No</td>\n",
              "      <td>No</td>\n",
              "      <td>Yes</td>\n",
              "      <td>No</td>\n",
              "      <td>Yes</td>\n",
              "      <td>No</td>\n",
              "      <td>0.732</td>\n",
              "      <td>0.860</td>\n",
              "      <td>66.971725</td>\n",
              "    </tr>\n",
              "    <tr>\n",
              "      <th>1</th>\n",
              "      <td>3 Musketeers</td>\n",
              "      <td>Yes</td>\n",
              "      <td>No</td>\n",
              "      <td>No</td>\n",
              "      <td>No</td>\n",
              "      <td>Yes</td>\n",
              "      <td>No</td>\n",
              "      <td>No</td>\n",
              "      <td>Yes</td>\n",
              "      <td>No</td>\n",
              "      <td>0.604</td>\n",
              "      <td>0.511</td>\n",
              "      <td>67.602936</td>\n",
              "    </tr>\n",
              "    <tr>\n",
              "      <th>2</th>\n",
              "      <td>Air Heads</td>\n",
              "      <td>No</td>\n",
              "      <td>Yes</td>\n",
              "      <td>No</td>\n",
              "      <td>No</td>\n",
              "      <td>No</td>\n",
              "      <td>No</td>\n",
              "      <td>No</td>\n",
              "      <td>No</td>\n",
              "      <td>No</td>\n",
              "      <td>0.906</td>\n",
              "      <td>0.511</td>\n",
              "      <td>52.341465</td>\n",
              "    </tr>\n",
              "    <tr>\n",
              "      <th>3</th>\n",
              "      <td>Almond Joy</td>\n",
              "      <td>Yes</td>\n",
              "      <td>No</td>\n",
              "      <td>No</td>\n",
              "      <td>Yes</td>\n",
              "      <td>No</td>\n",
              "      <td>No</td>\n",
              "      <td>No</td>\n",
              "      <td>Yes</td>\n",
              "      <td>No</td>\n",
              "      <td>0.465</td>\n",
              "      <td>0.767</td>\n",
              "      <td>50.347546</td>\n",
              "    </tr>\n",
              "    <tr>\n",
              "      <th>4</th>\n",
              "      <td>Baby Ruth</td>\n",
              "      <td>Yes</td>\n",
              "      <td>No</td>\n",
              "      <td>Yes</td>\n",
              "      <td>Yes</td>\n",
              "      <td>Yes</td>\n",
              "      <td>No</td>\n",
              "      <td>No</td>\n",
              "      <td>Yes</td>\n",
              "      <td>No</td>\n",
              "      <td>0.604</td>\n",
              "      <td>0.767</td>\n",
              "      <td>56.914547</td>\n",
              "    </tr>\n",
              "  </tbody>\n",
              "</table>\n",
              "</div>"
            ]
          },
          "metadata": {
            "tags": []
          },
          "execution_count": 37
        }
      ]
    },
    {
      "cell_type": "markdown",
      "metadata": {
        "id": "5g98n_9Ir97I"
      },
      "source": [
        "The dataset contains 83 rows, where each corresponds to a different candy bar.  There are 13 columns:\n",
        "- `'competitorname'` contains the name of the candy bar. \n",
        "- the next **9** columns (from `'chocolate'` to `'pluribus'`) describe the candy.  For instance, rows with chocolate candies have `\"Yes\"` in the `'chocolate'` column (and candies without chocolate have `\"No\"` in the same column).\n",
        "- `'sugarpercent'` provides some indication of the amount of sugar, where higher values signify higher sugar content.\n",
        "- `'pricepercent'` shows the price per unit, relative to the other candies in the dataset.\n",
        "- `'winpercent'` is calculated from the survey results; higher values indicate that the candy was more popular with survey respondents.\n",
        "\n",
        "Use the first five rows of the data to answer the questions below."
      ]
    },
    {
      "cell_type": "code",
      "metadata": {
        "execution": {
          "iopub.status.busy": "2021-07-23T14:05:26.250458Z",
          "iopub.execute_input": "2021-07-23T14:05:26.250909Z",
          "iopub.status.idle": "2021-07-23T14:05:26.259418Z",
          "shell.execute_reply.started": "2021-07-23T14:05:26.250866Z",
          "shell.execute_reply": "2021-07-23T14:05:26.258280Z"
        },
        "trusted": true,
        "id": "tUZgZqHEr97I",
        "outputId": "c32ab9b2-7938-4360-ae26-54f54e433a28"
      },
      "source": [
        "# Fill in the line below: Which candy was more popular with survey respondents:\n",
        "# '3 Musketeers' or 'Almond Joy'?  (Please enclose your answer in single quotes.)\n",
        "more_popular = '3 Musketeers'\n",
        "\n",
        "# Fill in the line below: Which candy has higher sugar content: 'Air Heads'\n",
        "# or 'Baby Ruth'? (Please enclose your answer in single quotes.)\n",
        "more_sugar = 'Air Heads'\n",
        "\n",
        "# Check your answers\n",
        "step_2.check()"
      ],
      "execution_count": null,
      "outputs": [
        {
          "output_type": "display_data",
          "data": {
            "text/plain": [
              "<IPython.core.display.Javascript object>"
            ],
            "application/javascript": [
              "parent.postMessage({\"jupyterEvent\": \"custom.exercise_interaction\", \"data\": {\"outcomeType\": 1, \"valueTowardsCompletion\": 0.3333333333333333, \"interactionType\": 1, \"questionType\": 1, \"questionId\": \"2_ReviewData\", \"learnToolsVersion\": \"0.3.4\", \"failureMessage\": \"\", \"exceptionClass\": \"\", \"trace\": \"\"}}, \"*\")"
            ]
          },
          "metadata": {
            "tags": []
          }
        },
        {
          "output_type": "display_data",
          "data": {
            "text/plain": [
              "Correct"
            ],
            "text/markdown": "<span style=\"color:#33cc33\">Correct</span>"
          },
          "metadata": {
            "tags": []
          }
        }
      ]
    },
    {
      "cell_type": "code",
      "metadata": {
        "execution": {
          "iopub.status.busy": "2021-07-23T14:05:26.261961Z",
          "iopub.execute_input": "2021-07-23T14:05:26.262454Z",
          "iopub.status.idle": "2021-07-23T14:05:26.270325Z",
          "shell.execute_reply.started": "2021-07-23T14:05:26.262269Z",
          "shell.execute_reply": "2021-07-23T14:05:26.269072Z"
        },
        "trusted": true,
        "id": "g_LLBQjAr97J"
      },
      "source": [
        "# Lines below will give you a hint or solution code\n",
        "#step_2.hint()\n",
        "#step_2.solution()"
      ],
      "execution_count": null,
      "outputs": []
    },
    {
      "cell_type": "markdown",
      "metadata": {
        "id": "-iCA8mADr97J"
      },
      "source": [
        "## Step 3: The role of sugar\n",
        "\n",
        "Do people tend to prefer candies with higher sugar content?  \n",
        "\n",
        "#### Part A\n",
        "\n",
        "Create a scatter plot that shows the relationship between `'sugarpercent'` (on the horizontal x-axis) and `'winpercent'` (on the vertical y-axis).  _Don't add a regression line just yet -- you'll do that in the next step!_"
      ]
    },
    {
      "cell_type": "code",
      "metadata": {
        "execution": {
          "iopub.status.busy": "2021-07-23T14:05:26.272185Z",
          "iopub.execute_input": "2021-07-23T14:05:26.272557Z",
          "iopub.status.idle": "2021-07-23T14:05:26.470429Z",
          "shell.execute_reply.started": "2021-07-23T14:05:26.272527Z",
          "shell.execute_reply": "2021-07-23T14:05:26.469208Z"
        },
        "trusted": true,
        "id": "hyluPiwbr97J",
        "outputId": "42f79084-56e7-4ae3-a502-ab77df670c29"
      },
      "source": [
        "# Scatter plot showing the relationship between 'sugarpercent' and 'winpercent'\n",
        "sns.scatterplot(x=candy_data['sugarpercent'], y=candy_data['winpercent'])\n",
        "\n",
        "# Check your answer\n",
        "step_3.a.check()"
      ],
      "execution_count": null,
      "outputs": [
        {
          "output_type": "display_data",
          "data": {
            "text/plain": [
              "<IPython.core.display.Javascript object>"
            ],
            "application/javascript": [
              "parent.postMessage({\"jupyterEvent\": \"custom.exercise_interaction\", \"data\": {\"outcomeType\": 1, \"valueTowardsCompletion\": 0.3333333333333333, \"interactionType\": 1, \"questionType\": 2, \"questionId\": \"3.1_PlotBlueScatter\", \"learnToolsVersion\": \"0.3.4\", \"failureMessage\": \"\", \"exceptionClass\": \"\", \"trace\": \"\"}}, \"*\")"
            ]
          },
          "metadata": {
            "tags": []
          }
        },
        {
          "output_type": "display_data",
          "data": {
            "text/plain": [
              "Correct"
            ],
            "text/markdown": "<span style=\"color:#33cc33\">Correct</span>"
          },
          "metadata": {
            "tags": []
          }
        },
        {
          "output_type": "display_data",
          "data": {
            "text/plain": [
              "<Figure size 432x288 with 1 Axes>"
            ],
            "image/png": "[encoded data removed]"
          },
          "metadata": {
            "tags": [],
            "needs_background": "light"
          }
        }
      ]
    },
    {
      "cell_type": "code",
      "metadata": {
        "execution": {
          "iopub.status.busy": "2021-07-23T14:05:26.471825Z",
          "iopub.execute_input": "2021-07-23T14:05:26.472156Z",
          "iopub.status.idle": "2021-07-23T14:05:26.476817Z",
          "shell.execute_reply.started": "2021-07-23T14:05:26.472126Z",
          "shell.execute_reply": "2021-07-23T14:05:26.475304Z"
        },
        "trusted": true,
        "id": "nTBk6BVNr97K"
      },
      "source": [
        "# Lines below will give you a hint or solution code\n",
        "#step_3.a.hint()\n",
        "#step_3.a.solution_plot()"
      ],
      "execution_count": null,
      "outputs": []
    },
    {
      "cell_type": "markdown",
      "metadata": {
        "id": "AvomAe15r97K"
      },
      "source": [
        "#### Part B\n",
        "\n",
        "Does the scatter plot show a **strong** correlation between the two variables?  If so, are candies with more sugar relatively more or less popular with the survey respondents?"
      ]
    },
    {
      "cell_type": "code",
      "metadata": {
        "execution": {
          "iopub.status.busy": "2021-07-23T14:05:26.478492Z",
          "iopub.execute_input": "2021-07-23T14:05:26.478803Z",
          "iopub.status.idle": "2021-07-23T14:05:26.489372Z",
          "shell.execute_reply.started": "2021-07-23T14:05:26.478772Z",
          "shell.execute_reply": "2021-07-23T14:05:26.488332Z"
        },
        "trusted": true,
        "id": "LHXRhraVr97K"
      },
      "source": [
        "#step_3.b.hint()"
      ],
      "execution_count": null,
      "outputs": []
    },
    {
      "cell_type": "code",
      "metadata": {
        "execution": {
          "iopub.status.busy": "2021-07-23T14:05:26.491776Z",
          "iopub.execute_input": "2021-07-23T14:05:26.492092Z",
          "iopub.status.idle": "2021-07-23T14:05:26.505058Z",
          "shell.execute_reply.started": "2021-07-23T14:05:26.492057Z",
          "shell.execute_reply": "2021-07-23T14:05:26.503565Z"
        },
        "trusted": true,
        "id": "tpOxFRWLr97K",
        "outputId": "c0b61e99-d79e-49cb-a082-7d13daa2c9d4"
      },
      "source": [
        "# Check your answer (Run this code cell to receive credit!)\n",
        "step_3.b.solution()"
      ],
      "execution_count": null,
      "outputs": [
        {
          "output_type": "display_data",
          "data": {
            "text/plain": [
              "<IPython.core.display.Javascript object>"
            ],
            "application/javascript": [
              "parent.postMessage({\"jupyterEvent\": \"custom.exercise_interaction\", \"data\": {\"interactionType\": 3, \"questionType\": 4, \"questionId\": \"3.2_ThinkBlueScatter\", \"learnToolsVersion\": \"0.3.4\", \"valueTowardsCompletion\": 0.0, \"failureMessage\": \"\", \"exceptionClass\": \"\", \"trace\": \"\", \"outcomeType\": 4}}, \"*\")"
            ]
          },
          "metadata": {
            "tags": []
          }
        },
        {
          "output_type": "display_data",
          "data": {
            "text/plain": [
              "Solution: The scatter plot does not show a strong correlation between the two variables. Since there is no clear relationship between the two variables, this tells us that sugar content does not play a strong role in candy popularity."
            ],
            "text/markdown": "<span style=\"color:#33cc99\">Solution:</span> The scatter plot does not show a strong correlation between the two variables. Since there is no clear relationship between the two variables, this tells us that sugar content does not play a strong role in candy popularity."
          },
          "metadata": {
            "tags": []
          }
        }
      ]
    },
    {
      "cell_type": "markdown",
      "metadata": {
        "id": "c4-xDMVnr97L"
      },
      "source": [
        "## Step 4: Take a closer look\n",
        "\n",
        "#### Part A\n",
        "\n",
        "Create the same scatter plot you created in **Step 3**, but now with a regression line!"
      ]
    },
    {
      "cell_type": "code",
      "metadata": {
        "execution": {
          "iopub.status.busy": "2021-07-23T14:05:26.506951Z",
          "iopub.execute_input": "2021-07-23T14:05:26.507245Z",
          "iopub.status.idle": "2021-07-23T14:05:26.903722Z",
          "shell.execute_reply.started": "2021-07-23T14:05:26.507216Z",
          "shell.execute_reply": "2021-07-23T14:05:26.902495Z"
        },
        "trusted": true,
        "id": "oBB5Q64wr97L",
        "outputId": "7b9c7735-83ad-423d-d7ff-96dfde5e2fca"
      },
      "source": [
        "# Scatter plot w/ regression line showing the relationship between 'sugarpercent' and 'winpercent'\n",
        "sns.regplot(x=candy_data['sugarpercent'], y=candy_data['winpercent'])\n",
        "\n",
        "# Check your answer\n",
        "step_4.a.check()"
      ],
      "execution_count": null,
      "outputs": [
        {
          "output_type": "display_data",
          "data": {
            "text/plain": [
              "<IPython.core.display.Javascript object>"
            ],
            "application/javascript": [
              "parent.postMessage({\"jupyterEvent\": \"custom.exercise_interaction\", \"data\": {\"outcomeType\": 1, \"valueTowardsCompletion\": 0.3333333333333333, \"interactionType\": 1, \"questionType\": 2, \"questionId\": \"4.1_PlotBlueReg\", \"learnToolsVersion\": \"0.3.4\", \"failureMessage\": \"\", \"exceptionClass\": \"\", \"trace\": \"\"}}, \"*\")"
            ]
          },
          "metadata": {
            "tags": []
          }
        },
        {
          "output_type": "display_data",
          "data": {
            "text/plain": [
              "Correct"
            ],
            "text/markdown": "<span style=\"color:#33cc33\">Correct</span>"
          },
          "metadata": {
            "tags": []
          }
        },
        {
          "output_type": "display_data",
          "data": {
            "text/plain": [
              "<Figure size 432x288 with 1 Axes>"
            ],
            "image/png": "[encoded data removed]"
          },
          "metadata": {
            "tags": [],
            "needs_background": "light"
          }
        }
      ]
    },
    {
      "cell_type": "code",
      "metadata": {
        "execution": {
          "iopub.status.busy": "2021-07-23T14:05:26.904984Z",
          "iopub.execute_input": "2021-07-23T14:05:26.905257Z",
          "iopub.status.idle": "2021-07-23T14:05:26.909975Z",
          "shell.execute_reply.started": "2021-07-23T14:05:26.905230Z",
          "shell.execute_reply": "2021-07-23T14:05:26.908604Z"
        },
        "trusted": true,
        "id": "uUTTxwGar97M"
      },
      "source": [
        "# Lines below will give you a hint or solution code\n",
        "#step_4.a.hint()\n",
        "#step_4.a.solution_plot()"
      ],
      "execution_count": null,
      "outputs": []
    },
    {
      "cell_type": "markdown",
      "metadata": {
        "id": "Pbqm1YsPr97M"
      },
      "source": [
        "#### Part B\n",
        "\n",
        "According to the plot above, is there a **slight** correlation between `'winpercent'` and `'sugarpercent'`?  What does this tell you about the candy that people tend to prefer?"
      ]
    },
    {
      "cell_type": "code",
      "metadata": {
        "execution": {
          "iopub.status.busy": "2021-07-23T14:05:26.911511Z",
          "iopub.execute_input": "2021-07-23T14:05:26.911812Z",
          "iopub.status.idle": "2021-07-23T14:05:26.923676Z",
          "shell.execute_reply.started": "2021-07-23T14:05:26.911784Z",
          "shell.execute_reply": "2021-07-23T14:05:26.922225Z"
        },
        "trusted": true,
        "id": "SCTp1glNr97M"
      },
      "source": [
        "#step_4.b.hint()"
      ],
      "execution_count": null,
      "outputs": []
    },
    {
      "cell_type": "code",
      "metadata": {
        "execution": {
          "iopub.status.busy": "2021-07-23T14:05:26.925881Z",
          "iopub.execute_input": "2021-07-23T14:05:26.926939Z",
          "iopub.status.idle": "2021-07-23T14:05:26.938259Z",
          "shell.execute_reply.started": "2021-07-23T14:05:26.926905Z",
          "shell.execute_reply": "2021-07-23T14:05:26.936997Z"
        },
        "trusted": true,
        "id": "GUHKJ_o5r97M",
        "outputId": "e6b7599f-fb08-41ba-af13-4e5818f29e81"
      },
      "source": [
        "# Check your answer (Run this code cell to receive credit!)\n",
        "step_4.b.solution()"
      ],
      "execution_count": null,
      "outputs": [
        {
          "output_type": "display_data",
          "data": {
            "text/plain": [
              "<IPython.core.display.Javascript object>"
            ],
            "application/javascript": [
              "parent.postMessage({\"jupyterEvent\": \"custom.exercise_interaction\", \"data\": {\"interactionType\": 3, \"questionType\": 4, \"questionId\": \"4.2_ThinkBlueReg\", \"learnToolsVersion\": \"0.3.4\", \"valueTowardsCompletion\": 0.0, \"failureMessage\": \"\", \"exceptionClass\": \"\", \"trace\": \"\", \"outcomeType\": 4}}, \"*\")"
            ]
          },
          "metadata": {
            "tags": []
          }
        },
        {
          "output_type": "display_data",
          "data": {
            "text/plain": [
              "Solution: Since the regression line has a slightly positive slope, this tells us that there is a slightly positive correlation between `'winpercent'` and `'sugarpercent'`. Thus, people have a slight preference for candies containing relatively more sugar."
            ],
            "text/markdown": "<span style=\"color:#33cc99\">Solution:</span> Since the regression line has a slightly positive slope, this tells us that there is a slightly positive correlation between `'winpercent'` and `'sugarpercent'`. Thus, people have a slight preference for candies containing relatively more sugar."
          },
          "metadata": {
            "tags": []
          }
        }
      ]
    },
    {
      "cell_type": "markdown",
      "metadata": {
        "id": "0ToncU5vr97N"
      },
      "source": [
        "## Step 5: Chocolate!\n",
        "\n",
        "In the code cell below, create a scatter plot to show the relationship between `'pricepercent'` (on the horizontal x-axis) and `'winpercent'` (on the vertical y-axis). Use the `'chocolate'` column to color-code the points.  _Don't add any regression lines just yet -- you'll do that in the next step!_"
      ]
    },
    {
      "cell_type": "code",
      "metadata": {
        "execution": {
          "iopub.status.busy": "2021-07-23T14:05:26.940204Z",
          "iopub.execute_input": "2021-07-23T14:05:26.940519Z",
          "iopub.status.idle": "2021-07-23T14:05:27.210235Z",
          "shell.execute_reply.started": "2021-07-23T14:05:26.940491Z",
          "shell.execute_reply": "2021-07-23T14:05:27.209201Z"
        },
        "trusted": true,
        "id": "pFYWW3TQr97N",
        "outputId": "24ffce1e-d38a-4332-c44e-6d509f95623f"
      },
      "source": [
        "# Scatter plot showing the relationship between 'pricepercent', 'winpercent', and 'chocolate'\n",
        "sns.scatterplot(x=candy_data['pricepercent'], y=candy_data['winpercent'], hue=candy_data['chocolate'])\n",
        "\n",
        "# Check your answer\n",
        "step_5.check()"
      ],
      "execution_count": null,
      "outputs": [
        {
          "output_type": "display_data",
          "data": {
            "text/plain": [
              "<IPython.core.display.Javascript object>"
            ],
            "application/javascript": [
              "parent.postMessage({\"jupyterEvent\": \"custom.exercise_interaction\", \"data\": {\"outcomeType\": 1, \"valueTowardsCompletion\": 0.3333333333333333, \"interactionType\": 1, \"questionType\": 2, \"questionId\": \"5_ColorScatter\", \"learnToolsVersion\": \"0.3.4\", \"failureMessage\": \"\", \"exceptionClass\": \"\", \"trace\": \"\"}}, \"*\")"
            ]
          },
          "metadata": {
            "tags": []
          }
        },
        {
          "output_type": "display_data",
          "data": {
            "text/plain": [
              "Correct"
            ],
            "text/markdown": "<span style=\"color:#33cc33\">Correct</span>"
          },
          "metadata": {
            "tags": []
          }
        },
        {
          "output_type": "display_data",
          "data": {
            "text/plain": [
              "<Figure size 432x288 with 1 Axes>"
            ],
            "image/png": "[encoded data removed]"
          },
          "metadata": {
            "tags": [],
            "needs_background": "light"
          }
        }
      ]
    },
    {
      "cell_type": "code",
      "metadata": {
        "execution": {
          "iopub.status.busy": "2021-07-23T14:05:27.211909Z",
          "iopub.execute_input": "2021-07-23T14:05:27.212199Z",
          "iopub.status.idle": "2021-07-23T14:05:27.216492Z",
          "shell.execute_reply.started": "2021-07-23T14:05:27.212170Z",
          "shell.execute_reply": "2021-07-23T14:05:27.215265Z"
        },
        "trusted": true,
        "id": "QOfqhqFqr97N"
      },
      "source": [
        "# Lines below will give you a hint or solution code\n",
        "#step_5.hint()\n",
        "#step_5.solution_plot()"
      ],
      "execution_count": null,
      "outputs": []
    },
    {
      "cell_type": "markdown",
      "metadata": {
        "id": "6iqjrhnVr97N"
      },
      "source": [
        "Can you see any interesting patterns in the scatter plot?  We'll investigate this plot further  by adding regression lines in the next step!\n",
        "\n",
        "## Step 6: Investigate chocolate\n",
        "\n",
        "#### Part A\n",
        "\n",
        "Create the same scatter plot you created in **Step 5**, but now with two regression lines, corresponding to (1) chocolate candies and (2) candies without chocolate."
      ]
    },
    {
      "cell_type": "code",
      "metadata": {
        "execution": {
          "iopub.status.busy": "2021-07-23T14:05:27.219260Z",
          "iopub.execute_input": "2021-07-23T14:05:27.219548Z",
          "iopub.status.idle": "2021-07-23T14:05:27.845094Z",
          "shell.execute_reply.started": "2021-07-23T14:05:27.219521Z",
          "shell.execute_reply": "2021-07-23T14:05:27.843816Z"
        },
        "trusted": true,
        "id": "GnQoXxcBr97O",
        "outputId": "b62df3d0-3d64-4e03-8366-91125171f086"
      },
      "source": [
        "# Color-coded scatter plot w/ regression lines\n",
        "sns.lmplot(x=\"pricepercent\", y=\"winpercent\", hue=\"chocolate\", data=candy_data)\n",
        "\n",
        "# Check your answer\n",
        "step_6.a.check()"
      ],
      "execution_count": null,
      "outputs": [
        {
          "output_type": "display_data",
          "data": {
            "text/plain": [
              "<IPython.core.display.Javascript object>"
            ],
            "application/javascript": [
              "parent.postMessage({\"jupyterEvent\": \"custom.exercise_interaction\", \"data\": {\"outcomeType\": 1, \"valueTowardsCompletion\": 0.3333333333333333, \"interactionType\": 1, \"questionType\": 2, \"questionId\": \"6.1_PlotColorReg\", \"learnToolsVersion\": \"0.3.4\", \"failureMessage\": \"\", \"exceptionClass\": \"\", \"trace\": \"\"}}, \"*\")"
            ]
          },
          "metadata": {
            "tags": []
          }
        },
        {
          "output_type": "display_data",
          "data": {
            "text/plain": [
              "Correct"
            ],
            "text/markdown": "<span style=\"color:#33cc33\">Correct</span>"
          },
          "metadata": {
            "tags": []
          }
        },
        {
          "output_type": "display_data",
          "data": {
            "text/plain": [
              "<Figure size 416.375x360 with 1 Axes>"
            ],
            "image/png": "[encoded data removed]"
          },
          "metadata": {
            "tags": [],
            "needs_background": "light"
          }
        }
      ]
    },
    {
      "cell_type": "code",
      "metadata": {
        "execution": {
          "iopub.status.busy": "2021-07-23T14:05:27.847055Z",
          "iopub.execute_input": "2021-07-23T14:05:27.847472Z",
          "iopub.status.idle": "2021-07-23T14:05:27.851934Z",
          "shell.execute_reply.started": "2021-07-23T14:05:27.847419Z",
          "shell.execute_reply": "2021-07-23T14:05:27.850802Z"
        },
        "trusted": true,
        "id": "GixqYmL4r97O"
      },
      "source": [
        "# Lines below will give you a hint or solution code\n",
        "#step_6.a.hint()\n",
        "#step_6.a.solution_plot()"
      ],
      "execution_count": null,
      "outputs": []
    },
    {
      "cell_type": "markdown",
      "metadata": {
        "id": "tMb-201Ir97O"
      },
      "source": [
        "#### Part B\n",
        "\n",
        "Using the regression lines, what conclusions can you draw about the effects of chocolate and price on candy popularity?"
      ]
    },
    {
      "cell_type": "code",
      "metadata": {
        "execution": {
          "iopub.status.busy": "2021-07-23T14:05:27.853285Z",
          "iopub.execute_input": "2021-07-23T14:05:27.853594Z",
          "iopub.status.idle": "2021-07-23T14:05:27.866055Z",
          "shell.execute_reply.started": "2021-07-23T14:05:27.853562Z",
          "shell.execute_reply": "2021-07-23T14:05:27.864793Z"
        },
        "trusted": true,
        "id": "ox4lE0vxr97O"
      },
      "source": [
        "#step_6.b.hint()"
      ],
      "execution_count": null,
      "outputs": []
    },
    {
      "cell_type": "code",
      "metadata": {
        "execution": {
          "iopub.status.busy": "2021-07-23T14:05:27.868236Z",
          "iopub.execute_input": "2021-07-23T14:05:27.868764Z",
          "iopub.status.idle": "2021-07-23T14:05:27.883132Z",
          "shell.execute_reply.started": "2021-07-23T14:05:27.868717Z",
          "shell.execute_reply": "2021-07-23T14:05:27.882233Z"
        },
        "trusted": true,
        "id": "NtqBQOmPr97O",
        "outputId": "1740914c-54ec-46e2-cdc7-20b9b9aa8237"
      },
      "source": [
        "# Check your answer (Run this code cell to receive credit!)\n",
        "step_6.b.solution()"
      ],
      "execution_count": null,
      "outputs": [
        {
          "output_type": "display_data",
          "data": {
            "text/plain": [
              "<IPython.core.display.Javascript object>"
            ],
            "application/javascript": [
              "parent.postMessage({\"jupyterEvent\": \"custom.exercise_interaction\", \"data\": {\"interactionType\": 3, \"questionType\": 4, \"questionId\": \"6.2_ThinkColorReg\", \"learnToolsVersion\": \"0.3.4\", \"valueTowardsCompletion\": 0.0, \"failureMessage\": \"\", \"exceptionClass\": \"\", \"trace\": \"\", \"outcomeType\": 4}}, \"*\")"
            ]
          },
          "metadata": {
            "tags": []
          }
        },
        {
          "output_type": "display_data",
          "data": {
            "text/plain": [
              "Solution: We'll begin with the regression line for chocolate candies. Since this line has a slightly positive slope, we can say that more expensive chocolate candies tend to be more popular (than relatively cheaper chocolate candies).  Likewise, since the regression line for candies without chocolate has a negative slope, we can say that if candies don't contain chocolate, they tend to be more popular when they are cheaper.  One important note, however, is that the dataset is quite small -- so we shouldn't invest too much trust in these patterns!  To inspire more confidence in the results, we should add more candies to the dataset."
            ],
            "text/markdown": "<span style=\"color:#33cc99\">Solution:</span> We'll begin with the regression line for chocolate candies. Since this line has a slightly positive slope, we can say that more expensive chocolate candies tend to be more popular (than relatively cheaper chocolate candies).  Likewise, since the regression line for candies without chocolate has a negative slope, we can say that if candies don't contain chocolate, they tend to be more popular when they are cheaper.  One important note, however, is that the dataset is quite small -- so we shouldn't invest too much trust in these patterns!  To inspire more confidence in the results, we should add more candies to the dataset."
          },
          "metadata": {
            "tags": []
          }
        }
      ]
    },
    {
      "cell_type": "markdown",
      "metadata": {
        "id": "HCUAdIBWr97P"
      },
      "source": [
        "## Step 7: Everybody loves chocolate.\n",
        "\n",
        "#### Part A\n",
        "\n",
        "Create a categorical scatter plot to highlight the relationship between `'chocolate'` and `'winpercent'`.  Put `'chocolate'` on the (horizontal) x-axis, and `'winpercent'` on the (vertical) y-axis."
      ]
    },
    {
      "cell_type": "code",
      "metadata": {
        "execution": {
          "iopub.status.busy": "2021-07-23T14:05:27.884183Z",
          "iopub.execute_input": "2021-07-23T14:05:27.884467Z",
          "iopub.status.idle": "2021-07-23T14:05:28.090848Z",
          "shell.execute_reply.started": "2021-07-23T14:05:27.884430Z",
          "shell.execute_reply": "2021-07-23T14:05:28.089554Z"
        },
        "trusted": true,
        "id": "NYxlo4I9r97P",
        "outputId": "557836ac-32a3-4134-a41e-df4bd5e483b3"
      },
      "source": [
        "# Scatter plot showing the relationship between 'chocolate' and 'winpercent'\n",
        "sns.swarmplot(x=candy_data['chocolate'], y=candy_data['winpercent'])\n",
        "\n",
        "# Check your answer\n",
        "step_7.a.check()"
      ],
      "execution_count": null,
      "outputs": [
        {
          "output_type": "display_data",
          "data": {
            "text/plain": [
              "<IPython.core.display.Javascript object>"
            ],
            "application/javascript": [
              "parent.postMessage({\"jupyterEvent\": \"custom.exercise_interaction\", \"data\": {\"outcomeType\": 1, \"valueTowardsCompletion\": 0.3333333333333333, \"interactionType\": 1, \"questionType\": 2, \"questionId\": \"7.1_PlotSwarm\", \"learnToolsVersion\": \"0.3.4\", \"failureMessage\": \"\", \"exceptionClass\": \"\", \"trace\": \"\"}}, \"*\")"
            ]
          },
          "metadata": {
            "tags": []
          }
        },
        {
          "output_type": "display_data",
          "data": {
            "text/plain": [
              "Correct"
            ],
            "text/markdown": "<span style=\"color:#33cc33\">Correct</span>"
          },
          "metadata": {
            "tags": []
          }
        },
        {
          "output_type": "display_data",
          "data": {
            "text/plain": [
              "<Figure size 432x288 with 1 Axes>"
            ],
            "image/png": "[encoded data removed]"
          },
          "metadata": {
            "tags": [],
            "needs_background": "light"
          }
        }
      ]
    },
    {
      "cell_type": "code",
      "metadata": {
        "execution": {
          "iopub.status.busy": "2021-07-23T14:05:28.092447Z",
          "iopub.execute_input": "2021-07-23T14:05:28.092877Z",
          "iopub.status.idle": "2021-07-23T14:05:28.097965Z",
          "shell.execute_reply.started": "2021-07-23T14:05:28.092833Z",
          "shell.execute_reply": "2021-07-23T14:05:28.096746Z"
        },
        "trusted": true,
        "id": "f_AN9hD2r97P"
      },
      "source": [
        "# Lines below will give you a hint or solution code\n",
        "#step_7.a.hint()\n",
        "#step_7.a.solution_plot()"
      ],
      "execution_count": null,
      "outputs": []
    },
    {
      "cell_type": "markdown",
      "metadata": {
        "id": "x2uwm7DBr97P"
      },
      "source": [
        "#### Part B\n",
        "\n",
        "You decide to dedicate a section of your report to the fact that chocolate candies tend to be more popular than candies without chocolate.  Which plot is more appropriate to tell this story: the plot from **Step 6**, or the plot from **Step 7**?"
      ]
    },
    {
      "cell_type": "code",
      "metadata": {
        "execution": {
          "iopub.status.busy": "2021-07-23T14:05:28.099404Z",
          "iopub.execute_input": "2021-07-23T14:05:28.099762Z",
          "iopub.status.idle": "2021-07-23T14:05:28.110028Z",
          "shell.execute_reply.started": "2021-07-23T14:05:28.099713Z",
          "shell.execute_reply": "2021-07-23T14:05:28.109078Z"
        },
        "trusted": true,
        "id": "yzUdlgXhr97P"
      },
      "source": [
        "#step_7.b.hint()"
      ],
      "execution_count": null,
      "outputs": []
    },
    {
      "cell_type": "code",
      "metadata": {
        "execution": {
          "iopub.status.busy": "2021-07-23T14:05:28.111407Z",
          "iopub.execute_input": "2021-07-23T14:05:28.111894Z",
          "iopub.status.idle": "2021-07-23T14:05:28.126013Z",
          "shell.execute_reply.started": "2021-07-23T14:05:28.111846Z",
          "shell.execute_reply": "2021-07-23T14:05:28.125034Z"
        },
        "trusted": true,
        "id": "ghy-vbRAr97Q",
        "outputId": "1b78655f-ff9e-4b4a-b248-830b143361d7"
      },
      "source": [
        "# Check your answer (Run this code cell to receive credit!)\n",
        "step_7.b.solution()"
      ],
      "execution_count": null,
      "outputs": [
        {
          "output_type": "display_data",
          "data": {
            "text/plain": [
              "<IPython.core.display.Javascript object>"
            ],
            "application/javascript": [
              "parent.postMessage({\"jupyterEvent\": \"custom.exercise_interaction\", \"data\": {\"interactionType\": 3, \"questionType\": 4, \"questionId\": \"7.2_ThinkSwarm\", \"learnToolsVersion\": \"0.3.4\", \"valueTowardsCompletion\": 0.0, \"failureMessage\": \"\", \"exceptionClass\": \"\", \"trace\": \"\", \"outcomeType\": 4}}, \"*\")"
            ]
          },
          "metadata": {
            "tags": []
          }
        },
        {
          "output_type": "display_data",
          "data": {
            "text/plain": [
              "Solution: In this case, the categorical scatter plot from **Step 7** is the more appropriate plot. While both plots tell the desired story, the plot from **Step 6** conveys far more information that could distract from the main point."
            ],
            "text/markdown": "<span style=\"color:#33cc99\">Solution:</span> In this case, the categorical scatter plot from **Step 7** is the more appropriate plot. While both plots tell the desired story, the plot from **Step 6** conveys far more information that could distract from the main point."
          },
          "metadata": {
            "tags": []
          }
        }
      ]
    },
    {
      "cell_type": "markdown",
      "metadata": {
        "id": "IgnhrARgr97Q"
      },
      "source": [
        "## Keep going\n",
        "\n",
        "Explore **[histograms and density plots](https://www.kaggle.com/alexisbcook/distributions)**."
      ]
    },
    {
      "cell_type": "markdown",
      "metadata": {
        "id": "J4v8DLWqr97Q"
      },
      "source": [
        "---\n",
        "\n",
        "\n",
        "\n",
        "\n",
        "*Have questions or comments? Visit the [Learn Discussion forum](https://www.kaggle.com/learn-forum/161291) to chat with other Learners.*"
      ]
    }
  ]
}