{
  "nbformat": 4,
  "nbformat_minor": 0,
  "metadata": {
    "kernelspec": {
      "display_name": "Python 3",
      "language": "python",
      "name": "python3"
    },
    "language_info": {
      "name": "python",
      "version": "3.7.10",
      "mimetype": "text/x-python",
      "codemirror_mode": {
        "name": "ipython",
        "version": 3
      },
      "pygments_lexer": "ipython3",
      "nbconvert_exporter": "python",
      "file_extension": ".py"
    },
    "colab": {
      "name": "Exercise: Grouping and Sorting.ipynb",
      "provenance": [],
      "include_colab_link": true
    }
  },
  "cells": [
    {
      "cell_type": "markdown",
      "metadata": {
        "id": "view-in-github",
        "colab_type": "text"
      },
      "source": [
        "<a href=\"https://colab.research.google.com/github/Amey-Thakur/KAGGLE/blob/main/Exercise_Grouping_and_Sorting.ipynb\" target=\"_parent\"><img src=\"https://colab.research.google.com/assets/colab-badge.svg\" alt=\"Open In Colab\"/></a>"
      ]
    },
    {
      "cell_type": "markdown",
      "metadata": {
        "id": "vjiFkDKC3SSg"
      },
      "source": [
        "**This notebook is an exercise in the [Pandas](https://www.kaggle.com/learn/pandas) course.  You can reference the tutorial at [this link](https://www.kaggle.com/residentmario/grouping-and-sorting).**\n",
        "\n",
        "---\n"
      ]
    },
    {
      "cell_type": "markdown",
      "metadata": {
        "id": "AkB4FTJx3SSk"
      },
      "source": [
        "# Introduction\n",
        "\n",
        "In these exercises we'll apply groupwise analysis to our dataset.\n",
        "\n",
        "Run the code cell below to load the data before running the exercises."
      ]
    },
    {
      "cell_type": "code",
      "metadata": {
        "execution": {
          "iopub.status.busy": "2021-07-23T14:54:55.763724Z",
          "iopub.execute_input": "2021-07-23T14:54:55.764255Z",
          "iopub.status.idle": "2021-07-23T14:54:57.143798Z",
          "shell.execute_reply.started": "2021-07-23T14:54:55.764221Z",
          "shell.execute_reply": "2021-07-23T14:54:57.142885Z"
        },
        "trusted": true,
        "id": "R2C_wqZ63SSk",
        "outputId": "fa7a6166-9d75-4a3e-8098-404334f7c624"
      },
      "source": [
        "import pandas as pd\n",
        "\n",
        "reviews = pd.read_csv(\"../input/wine-reviews/winemag-data-130k-v2.csv\", index_col=0)\n",
        "#pd.set_option(\"display.max_rows\", 5)\n",
        "\n",
        "from learntools.core import binder; binder.bind(globals())\n",
        "from learntools.pandas.grouping_and_sorting import *\n",
        "print(\"Setup complete.\")"
      ],
      "execution_count": null,
      "outputs": [
        {
          "output_type": "stream",
          "text": [
            "Setup complete.\n"
          ],
          "name": "stdout"
        }
      ]
    },
    {
      "cell_type": "markdown",
      "metadata": {
        "id": "Y1LxhoVo3SSm"
      },
      "source": [
        "# Exercises"
      ]
    },
    {
      "cell_type": "markdown",
      "metadata": {
        "id": "9Y_q1d5c3SSm"
      },
      "source": [
        "## 1.\n",
        "Who are the most common wine reviewers in the dataset? Create a `Series` whose index is the `taster_twitter_handle` category from the dataset, and whose values count how many reviews each person wrote."
      ]
    },
    {
      "cell_type": "code",
      "metadata": {
        "execution": {
          "iopub.status.busy": "2021-07-23T14:54:57.145773Z",
          "iopub.execute_input": "2021-07-23T14:54:57.146117Z",
          "iopub.status.idle": "2021-07-23T14:54:57.177302Z",
          "shell.execute_reply.started": "2021-07-23T14:54:57.146086Z",
          "shell.execute_reply": "2021-07-23T14:54:57.175671Z"
        },
        "trusted": true,
        "id": "gjEhPiiK3SSn",
        "outputId": "09405995-c6a4-46d9-f3a8-60e3fd7b1aac"
      },
      "source": [
        "# Your code here\n",
        "reviews_written = reviews.groupby('taster_twitter_handle').size()\n",
        "\n",
        "# Check your answer\n",
        "q1.check()"
      ],
      "execution_count": null,
      "outputs": [
        {
          "output_type": "display_data",
          "data": {
            "text/plain": [
              "<IPython.core.display.Javascript object>"
            ],
            "application/javascript": [
              "parent.postMessage({\"jupyterEvent\": \"custom.exercise_interaction\", \"data\": {\"outcomeType\": 1, \"valueTowardsCompletion\": 0.16666666666666666, \"interactionType\": 1, \"questionType\": 1, \"questionId\": \"1_ReviewsWritten\", \"learnToolsVersion\": \"0.3.4\", \"failureMessage\": \"\", \"exceptionClass\": \"\", \"trace\": \"\"}}, \"*\")"
            ]
          },
          "metadata": {
            "tags": []
          }
        },
        {
          "output_type": "display_data",
          "data": {
            "text/plain": [
              "Correct: \n",
              "\n",
              "\n",
              "```python\n",
              "reviews_written = reviews.groupby('taster_twitter_handle').size()\n",
              "```\n",
              "or\n",
              "```python\n",
              "reviews_written = reviews.groupby('taster_twitter_handle').taster_twitter_handle.count()\n",
              "```"
            ],
            "text/markdown": "<span style=\"color:#33cc33\">Correct:</span> \n\n\n```python\nreviews_written = reviews.groupby('taster_twitter_handle').size()\n```\nor\n```python\nreviews_written = reviews.groupby('taster_twitter_handle').taster_twitter_handle.count()\n```\n"
          },
          "metadata": {
            "tags": []
          }
        }
      ]
    },
    {
      "cell_type": "code",
      "metadata": {
        "execution": {
          "iopub.status.busy": "2021-07-23T14:54:57.179534Z",
          "iopub.execute_input": "2021-07-23T14:54:57.180414Z",
          "iopub.status.idle": "2021-07-23T14:54:57.185148Z",
          "shell.execute_reply.started": "2021-07-23T14:54:57.180372Z",
          "shell.execute_reply": "2021-07-23T14:54:57.184154Z"
        },
        "trusted": true,
        "id": "5DwotSBN3SSn"
      },
      "source": [
        "#q1.hint()\n",
        "#q1.solution()"
      ],
      "execution_count": null,
      "outputs": []
    },
    {
      "cell_type": "markdown",
      "metadata": {
        "id": "qBgd8AaS3SSn"
      },
      "source": [
        "## 2.\n",
        "What is the best wine I can buy for a given amount of money? Create a `Series` whose index is wine prices and whose values is the maximum number of points a wine costing that much was given in a review. Sort the values by price, ascending (so that `4.0` dollars is at the top and `3300.0` dollars is at the bottom)."
      ]
    },
    {
      "cell_type": "code",
      "metadata": {
        "execution": {
          "iopub.status.busy": "2021-07-23T14:54:57.186729Z",
          "iopub.execute_input": "2021-07-23T14:54:57.187281Z",
          "iopub.status.idle": "2021-07-23T14:54:57.213055Z",
          "shell.execute_reply.started": "2021-07-23T14:54:57.187247Z",
          "shell.execute_reply": "2021-07-23T14:54:57.211770Z"
        },
        "trusted": true,
        "id": "8wcogi9r3SSo",
        "outputId": "90e53a88-3e6f-4aa4-ea4f-00794c74d34b"
      },
      "source": [
        "best_rating_per_price = reviews.groupby('price')['points'].max().sort_index()\n",
        "\n",
        "# Check your answer\n",
        "q2.check()"
      ],
      "execution_count": null,
      "outputs": [
        {
          "output_type": "display_data",
          "data": {
            "text/plain": [
              "<IPython.core.display.Javascript object>"
            ],
            "application/javascript": [
              "parent.postMessage({\"jupyterEvent\": \"custom.exercise_interaction\", \"data\": {\"outcomeType\": 1, \"valueTowardsCompletion\": 0.16666666666666666, \"interactionType\": 1, \"questionType\": 1, \"questionId\": \"2_BestRatingPerPrice\", \"learnToolsVersion\": \"0.3.4\", \"failureMessage\": \"\", \"exceptionClass\": \"\", \"trace\": \"\"}}, \"*\")"
            ]
          },
          "metadata": {
            "tags": []
          }
        },
        {
          "output_type": "display_data",
          "data": {
            "text/plain": [
              "Correct"
            ],
            "text/markdown": "<span style=\"color:#33cc33\">Correct</span>"
          },
          "metadata": {
            "tags": []
          }
        }
      ]
    },
    {
      "cell_type": "code",
      "metadata": {
        "execution": {
          "iopub.status.busy": "2021-07-23T14:54:57.214148Z",
          "iopub.execute_input": "2021-07-23T14:54:57.214463Z",
          "iopub.status.idle": "2021-07-23T14:54:57.218548Z",
          "shell.execute_reply.started": "2021-07-23T14:54:57.214436Z",
          "shell.execute_reply": "2021-07-23T14:54:57.217725Z"
        },
        "trusted": true,
        "id": "FH9DL_v83SSo"
      },
      "source": [
        "#q2.hint()\n",
        "#q2.solution()"
      ],
      "execution_count": null,
      "outputs": []
    },
    {
      "cell_type": "markdown",
      "metadata": {
        "id": "GTBEZ1Nb3SSp"
      },
      "source": [
        "## 3.\n",
        "What are the minimum and maximum prices for each `variety` of wine? Create a `DataFrame` whose index is the `variety` category from the dataset and whose values are the `min` and `max` values thereof."
      ]
    },
    {
      "cell_type": "code",
      "metadata": {
        "execution": {
          "iopub.status.busy": "2021-07-23T14:54:57.219562Z",
          "iopub.execute_input": "2021-07-23T14:54:57.219978Z",
          "iopub.status.idle": "2021-07-23T14:54:57.269710Z",
          "shell.execute_reply.started": "2021-07-23T14:54:57.219948Z",
          "shell.execute_reply": "2021-07-23T14:54:57.268560Z"
        },
        "trusted": true,
        "id": "LS0n9y9N3SSp",
        "outputId": "2204e050-d821-4fbe-d60d-9731813c0ee8"
      },
      "source": [
        "price_extremes = reviews.groupby('variety').price.agg([min, max])\n",
        "\n",
        "# Check your answer\n",
        "q3.check()"
      ],
      "execution_count": null,
      "outputs": [
        {
          "output_type": "display_data",
          "data": {
            "text/plain": [
              "<IPython.core.display.Javascript object>"
            ],
            "application/javascript": [
              "parent.postMessage({\"jupyterEvent\": \"custom.exercise_interaction\", \"data\": {\"outcomeType\": 1, \"valueTowardsCompletion\": 0.16666666666666666, \"interactionType\": 1, \"questionType\": 1, \"questionId\": \"3_PriceExtremes\", \"learnToolsVersion\": \"0.3.4\", \"failureMessage\": \"\", \"exceptionClass\": \"\", \"trace\": \"\"}}, \"*\")"
            ]
          },
          "metadata": {
            "tags": []
          }
        },
        {
          "output_type": "display_data",
          "data": {
            "text/plain": [
              "Correct"
            ],
            "text/markdown": "<span style=\"color:#33cc33\">Correct</span>"
          },
          "metadata": {
            "tags": []
          }
        }
      ]
    },
    {
      "cell_type": "code",
      "metadata": {
        "execution": {
          "iopub.status.busy": "2021-07-23T14:54:57.271034Z",
          "iopub.execute_input": "2021-07-23T14:54:57.271377Z",
          "iopub.status.idle": "2021-07-23T14:54:57.276112Z",
          "shell.execute_reply.started": "2021-07-23T14:54:57.271338Z",
          "shell.execute_reply": "2021-07-23T14:54:57.274736Z"
        },
        "trusted": true,
        "id": "J2xP40bo3SSp"
      },
      "source": [
        "#q3.hint()\n",
        "#q3.solution()"
      ],
      "execution_count": null,
      "outputs": []
    },
    {
      "cell_type": "markdown",
      "metadata": {
        "id": "UB7woDfw3SSq"
      },
      "source": [
        "## 4.\n",
        "What are the most expensive wine varieties? Create a variable `sorted_varieties` containing a copy of the dataframe from the previous question where varieties are sorted in descending order based on minimum price, then on maximum price (to break ties)."
      ]
    },
    {
      "cell_type": "code",
      "metadata": {
        "execution": {
          "iopub.status.busy": "2021-07-23T14:54:57.279133Z",
          "iopub.execute_input": "2021-07-23T14:54:57.279925Z",
          "iopub.status.idle": "2021-07-23T14:54:57.300879Z",
          "shell.execute_reply.started": "2021-07-23T14:54:57.279864Z",
          "shell.execute_reply": "2021-07-23T14:54:57.299762Z"
        },
        "trusted": true,
        "id": "xdUSB64W3SSq",
        "outputId": "b48269a1-5fd7-4b36-9739-518977120ca6"
      },
      "source": [
        "sorted_varieties = price_extremes.sort_values(by=['min', 'max'], ascending=False)\n",
        "\n",
        "# Check your answer\n",
        "q4.check()"
      ],
      "execution_count": null,
      "outputs": [
        {
          "output_type": "display_data",
          "data": {
            "text/plain": [
              "<IPython.core.display.Javascript object>"
            ],
            "application/javascript": [
              "parent.postMessage({\"jupyterEvent\": \"custom.exercise_interaction\", \"data\": {\"outcomeType\": 1, \"valueTowardsCompletion\": 0.16666666666666666, \"interactionType\": 1, \"questionType\": 1, \"questionId\": \"4_SortedVarieties\", \"learnToolsVersion\": \"0.3.4\", \"failureMessage\": \"\", \"exceptionClass\": \"\", \"trace\": \"\"}}, \"*\")"
            ]
          },
          "metadata": {
            "tags": []
          }
        },
        {
          "output_type": "display_data",
          "data": {
            "text/plain": [
              "Correct"
            ],
            "text/markdown": "<span style=\"color:#33cc33\">Correct</span>"
          },
          "metadata": {
            "tags": []
          }
        }
      ]
    },
    {
      "cell_type": "code",
      "metadata": {
        "execution": {
          "iopub.status.busy": "2021-07-23T14:54:57.302867Z",
          "iopub.execute_input": "2021-07-23T14:54:57.303558Z",
          "iopub.status.idle": "2021-07-23T14:54:57.309564Z",
          "shell.execute_reply.started": "2021-07-23T14:54:57.303484Z",
          "shell.execute_reply": "2021-07-23T14:54:57.308153Z"
        },
        "trusted": true,
        "id": "7ybJciaw3SSq"
      },
      "source": [
        "#q4.hint()\n",
        "#q4.solution()"
      ],
      "execution_count": null,
      "outputs": []
    },
    {
      "cell_type": "markdown",
      "metadata": {
        "id": "1OYjMxck3SSq"
      },
      "source": [
        "## 5.\n",
        "Create a `Series` whose index is reviewers and whose values is the average review score given out by that reviewer. Hint: you will need the `taster_name` and `points` columns."
      ]
    },
    {
      "cell_type": "code",
      "metadata": {
        "execution": {
          "iopub.status.busy": "2021-07-23T14:54:57.310922Z",
          "iopub.execute_input": "2021-07-23T14:54:57.311463Z",
          "iopub.status.idle": "2021-07-23T14:54:57.355617Z",
          "shell.execute_reply.started": "2021-07-23T14:54:57.311429Z",
          "shell.execute_reply": "2021-07-23T14:54:57.354499Z"
        },
        "trusted": true,
        "id": "Al9jtCU_3SSr",
        "outputId": "3e70d5e8-96c6-48de-ae19-b483f5b24d60"
      },
      "source": [
        "reviewer_mean_ratings = reviews.groupby('taster_name').points.mean()\n",
        "\n",
        "# Check your answer\n",
        "q5.check()"
      ],
      "execution_count": null,
      "outputs": [
        {
          "output_type": "display_data",
          "data": {
            "text/plain": [
              "<IPython.core.display.Javascript object>"
            ],
            "application/javascript": [
              "parent.postMessage({\"jupyterEvent\": \"custom.exercise_interaction\", \"data\": {\"outcomeType\": 1, \"valueTowardsCompletion\": 0.16666666666666666, \"interactionType\": 1, \"questionType\": 1, \"questionId\": \"5_ReviewerMeanRatings\", \"learnToolsVersion\": \"0.3.4\", \"failureMessage\": \"\", \"exceptionClass\": \"\", \"trace\": \"\"}}, \"*\")"
            ]
          },
          "metadata": {
            "tags": []
          }
        },
        {
          "output_type": "display_data",
          "data": {
            "text/plain": [
              "Correct"
            ],
            "text/markdown": "<span style=\"color:#33cc33\">Correct</span>"
          },
          "metadata": {
            "tags": []
          }
        }
      ]
    },
    {
      "cell_type": "code",
      "metadata": {
        "execution": {
          "iopub.status.busy": "2021-07-23T14:54:57.357083Z",
          "iopub.execute_input": "2021-07-23T14:54:57.357672Z",
          "iopub.status.idle": "2021-07-23T14:54:57.361554Z",
          "shell.execute_reply.started": "2021-07-23T14:54:57.357635Z",
          "shell.execute_reply": "2021-07-23T14:54:57.360666Z"
        },
        "trusted": true,
        "id": "Kw2zc3It3SSr"
      },
      "source": [
        "#q5.hint()\n",
        "#q5.solution()"
      ],
      "execution_count": null,
      "outputs": []
    },
    {
      "cell_type": "markdown",
      "metadata": {
        "id": "pYzlDAn43SSr"
      },
      "source": [
        "Are there significant differences in the average scores assigned by the various reviewers? Run the cell below to use the `describe()` method to see a summary of the range of values."
      ]
    },
    {
      "cell_type": "code",
      "metadata": {
        "execution": {
          "iopub.status.busy": "2021-07-23T14:54:57.362959Z",
          "iopub.execute_input": "2021-07-23T14:54:57.363457Z",
          "iopub.status.idle": "2021-07-23T14:54:57.393081Z",
          "shell.execute_reply.started": "2021-07-23T14:54:57.363380Z",
          "shell.execute_reply": "2021-07-23T14:54:57.391540Z"
        },
        "trusted": true,
        "id": "91pKsb213SSr",
        "outputId": "60618d58-f7ae-4c2e-ad44-968ab48ff7b5"
      },
      "source": [
        "reviewer_mean_ratings.describe()"
      ],
      "execution_count": null,
      "outputs": [
        {
          "output_type": "execute_result",
          "data": {
            "text/plain": [
              "count    19.000000\n",
              "mean     88.233026\n",
              "std       1.243610\n",
              "min      85.855422\n",
              "25%      87.323501\n",
              "50%      88.536235\n",
              "75%      88.975256\n",
              "max      90.562551\n",
              "Name: points, dtype: float64"
            ]
          },
          "metadata": {
            "tags": []
          },
          "execution_count": 30
        }
      ]
    },
    {
      "cell_type": "markdown",
      "metadata": {
        "id": "Wtnx_69H3SSs"
      },
      "source": [
        "## 6.\n",
        "What combination of countries and varieties are most common? Create a `Series` whose index is a `MultiIndex`of `{country, variety}` pairs. For example, a pinot noir produced in the US should map to `{\"US\", \"Pinot Noir\"}`. Sort the values in the `Series` in descending order based on wine count."
      ]
    },
    {
      "cell_type": "code",
      "metadata": {
        "execution": {
          "iopub.status.busy": "2021-07-23T14:54:57.394855Z",
          "iopub.execute_input": "2021-07-23T14:54:57.395167Z",
          "iopub.status.idle": "2021-07-23T14:54:57.453247Z",
          "shell.execute_reply.started": "2021-07-23T14:54:57.395138Z",
          "shell.execute_reply": "2021-07-23T14:54:57.451952Z"
        },
        "trusted": true,
        "id": "h9D5p8hs3SSs",
        "outputId": "b73246c6-9b4e-49da-f342-81c07ded3894"
      },
      "source": [
        "country_variety_counts = reviews.groupby(['country', 'variety']).size().sort_values(ascending=False)\n",
        "\n",
        "# Check your answer\n",
        "q6.check()"
      ],
      "execution_count": null,
      "outputs": [
        {
          "output_type": "display_data",
          "data": {
            "text/plain": [
              "<IPython.core.display.Javascript object>"
            ],
            "application/javascript": [
              "parent.postMessage({\"jupyterEvent\": \"custom.exercise_interaction\", \"data\": {\"outcomeType\": 1, \"valueTowardsCompletion\": 0.16666666666666666, \"interactionType\": 1, \"questionType\": 1, \"questionId\": \"6_GroupbyCountryVariety\", \"learnToolsVersion\": \"0.3.4\", \"failureMessage\": \"\", \"exceptionClass\": \"\", \"trace\": \"\"}}, \"*\")"
            ]
          },
          "metadata": {
            "tags": []
          }
        },
        {
          "output_type": "display_data",
          "data": {
            "text/plain": [
              "Correct"
            ],
            "text/markdown": "<span style=\"color:#33cc33\">Correct</span>"
          },
          "metadata": {
            "tags": []
          }
        }
      ]
    },
    {
      "cell_type": "code",
      "metadata": {
        "execution": {
          "iopub.status.busy": "2021-07-23T14:54:57.454779Z",
          "iopub.execute_input": "2021-07-23T14:54:57.455158Z",
          "iopub.status.idle": "2021-07-23T14:54:57.458929Z",
          "shell.execute_reply.started": "2021-07-23T14:54:57.455124Z",
          "shell.execute_reply": "2021-07-23T14:54:57.458116Z"
        },
        "trusted": true,
        "id": "9RVQsKMR3SSs"
      },
      "source": [
        "#q6.hint()\n",
        "#q6.solution()"
      ],
      "execution_count": null,
      "outputs": []
    },
    {
      "cell_type": "markdown",
      "metadata": {
        "id": "eI1FBkID3SSs"
      },
      "source": [
        "# Keep going\n",
        "\n",
        "Move on to the [**data types and missing data**](https://www.kaggle.com/residentmario/data-types-and-missing-values)."
      ]
    },
    {
      "cell_type": "markdown",
      "metadata": {
        "id": "_KkIM0Wv3SSt"
      },
      "source": [
        "---\n",
        "\n",
        "\n",
        "\n",
        "\n",
        "*Have questions or comments? Visit the [Learn Discussion forum](https://www.kaggle.com/learn-forum/161299) to chat with other Learners.*"
      ]
    }
  ]
}