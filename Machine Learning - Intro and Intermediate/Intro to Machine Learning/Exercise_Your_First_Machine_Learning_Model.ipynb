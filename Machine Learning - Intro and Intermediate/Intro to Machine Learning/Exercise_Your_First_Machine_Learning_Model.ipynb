{
  "nbformat": 4,
  "nbformat_minor": 0,
  "metadata": {
    "kernelspec": {
      "display_name": "Python 3",
      "language": "python",
      "name": "python3"
    },
    "language_info": {
      "name": "python",
      "version": "3.7.10",
      "mimetype": "text/x-python",
      "codemirror_mode": {
        "name": "ipython",
        "version": 3
      },
      "pygments_lexer": "ipython3",
      "nbconvert_exporter": "python",
      "file_extension": ".py"
    },
    "colab": {
      "name": "Exercise: Your First Machine Learning Model.ipynb",
      "provenance": [],
      "include_colab_link": true
    }
  },
  "cells": [
    {
      "cell_type": "markdown",
      "metadata": {
        "id": "view-in-github",
        "colab_type": "text"
      },
      "source": [
        "<a href=\"https://colab.research.google.com/github/Amey-Thakur/KAGGLE/blob/main/Exercise_Your_First_Machine_Learning_Model.ipynb\" target=\"_parent\"><img src=\"https://colab.research.google.com/assets/colab-badge.svg\" alt=\"Open In Colab\"/></a>"
      ]
    },
    {
      "cell_type": "markdown",
      "metadata": {
        "id": "8-lzSBoe0J0_"
      },
      "source": [
        "**This notebook is an exercise in the [Introduction to Machine Learning](https://www.kaggle.com/learn/intro-to-machine-learning) course.  You can reference the tutorial at [this link](https://www.kaggle.com/dansbecker/your-first-machine-learning-model).**\n",
        "\n",
        "---\n"
      ]
    },
    {
      "cell_type": "markdown",
      "metadata": {
        "id": "tFhD5YQG0J1A"
      },
      "source": [
        "## Recap\n",
        "So far, you have loaded your data and reviewed it with the following code. Run this cell to set up your coding environment where the previous step left off."
      ]
    },
    {
      "cell_type": "code",
      "metadata": {
        "execution": {
          "iopub.status.busy": "2021-07-24T13:59:23.790713Z",
          "iopub.execute_input": "2021-07-24T13:59:23.791304Z",
          "iopub.status.idle": "2021-07-24T13:59:23.833111Z",
          "shell.execute_reply.started": "2021-07-24T13:59:23.791236Z",
          "shell.execute_reply": "2021-07-24T13:59:23.832067Z"
        },
        "trusted": true,
        "id": "C1aX96xl0J1B",
        "outputId": "84e016fe-4474-4e08-bb49-2822ad59953c"
      },
      "source": [
        "# Code you have previously used to load data\n",
        "import pandas as pd\n",
        "\n",
        "# Path of the file to read\n",
        "iowa_file_path = '../input/home-data-for-ml-course/train.csv'\n",
        "\n",
        "home_data = pd.read_csv(iowa_file_path)\n",
        "\n",
        "# Set up code checking\n",
        "from learntools.core import binder\n",
        "binder.bind(globals())\n",
        "from learntools.machine_learning.ex3 import *\n",
        "\n",
        "print(\"Setup Complete\")"
      ],
      "execution_count": null,
      "outputs": [
        {
          "output_type": "stream",
          "text": [
            "Setup Complete\n"
          ],
          "name": "stdout"
        }
      ]
    },
    {
      "cell_type": "markdown",
      "metadata": {
        "id": "LhwbhuA50J1C"
      },
      "source": [
        "# Exercises\n",
        "\n",
        "## Step 1: Specify Prediction Target\n",
        "Select the target variable, which corresponds to the sales price. Save this to a new variable called `y`. You'll need to print a list of the columns to find the name of the column you need.\n"
      ]
    },
    {
      "cell_type": "code",
      "metadata": {
        "execution": {
          "iopub.status.busy": "2021-07-24T13:59:23.834715Z",
          "iopub.execute_input": "2021-07-24T13:59:23.835330Z",
          "iopub.status.idle": "2021-07-24T13:59:23.839597Z",
          "shell.execute_reply.started": "2021-07-24T13:59:23.835281Z",
          "shell.execute_reply": "2021-07-24T13:59:23.838477Z"
        },
        "trusted": true,
        "id": "zul7f50g0J1C"
      },
      "source": [
        "# print the list of columns in the dataset to find the name of the prediction target\n"
      ],
      "execution_count": null,
      "outputs": []
    },
    {
      "cell_type": "code",
      "metadata": {
        "execution": {
          "iopub.status.busy": "2021-07-24T13:59:23.841763Z",
          "iopub.execute_input": "2021-07-24T13:59:23.842039Z",
          "iopub.status.idle": "2021-07-24T13:59:23.863779Z",
          "shell.execute_reply.started": "2021-07-24T13:59:23.842012Z",
          "shell.execute_reply": "2021-07-24T13:59:23.862773Z"
        },
        "trusted": true,
        "id": "VoYqsssA0J1D",
        "outputId": "0eff6b9e-bc7f-4ea3-9319-bd2f150004cb"
      },
      "source": [
        "y = home_data.SalePrice\n",
        "\n",
        "# Check your answer\n",
        "step_1.check()"
      ],
      "execution_count": null,
      "outputs": [
        {
          "output_type": "display_data",
          "data": {
            "text/plain": [
              "<IPython.core.display.Javascript object>"
            ],
            "application/javascript": [
              "parent.postMessage({\"jupyterEvent\": \"custom.exercise_interaction\", \"data\": {\"outcomeType\": 1, \"valueTowardsCompletion\": 0.25, \"interactionType\": 1, \"questionType\": 2, \"questionId\": \"1_SetTarget\", \"learnToolsVersion\": \"0.3.4\", \"failureMessage\": \"\", \"exceptionClass\": \"\", \"trace\": \"\"}}, \"*\")"
            ]
          },
          "metadata": {
            "tags": []
          }
        },
        {
          "output_type": "display_data",
          "data": {
            "text/plain": [
              "Correct"
            ],
            "text/markdown": "<span style=\"color:#33cc33\">Correct</span>"
          },
          "metadata": {
            "tags": []
          }
        }
      ]
    },
    {
      "cell_type": "code",
      "metadata": {
        "execution": {
          "iopub.status.busy": "2021-07-24T13:59:23.865570Z",
          "iopub.execute_input": "2021-07-24T13:59:23.865975Z",
          "iopub.status.idle": "2021-07-24T13:59:23.875623Z",
          "shell.execute_reply.started": "2021-07-24T13:59:23.865934Z",
          "shell.execute_reply": "2021-07-24T13:59:23.874922Z"
        },
        "trusted": true,
        "id": "F52O9r-o0J1D"
      },
      "source": [
        "# The lines below will show you a hint or the solution.\n",
        "# step_1.hint() \n",
        "# step_1.solution()"
      ],
      "execution_count": null,
      "outputs": []
    },
    {
      "cell_type": "markdown",
      "metadata": {
        "id": "M67U21hn0J1E"
      },
      "source": [
        "## Step 2: Create X\n",
        "Now you will create a DataFrame called `X` holding the predictive features.\n",
        "\n",
        "Since you want only some columns from the original data, you'll first create a list with the names of the columns you want in `X`.\n",
        "\n",
        "You'll use just the following columns in the list (you can copy and paste the whole list to save some typing, though you'll still need to add quotes):\n",
        "    * LotArea\n",
        "    * YearBuilt\n",
        "    * 1stFlrSF\n",
        "    * 2ndFlrSF\n",
        "    * FullBath\n",
        "    * BedroomAbvGr\n",
        "    * TotRmsAbvGrd\n",
        "\n",
        "After you've created that list of features, use it to create the DataFrame that you'll use to fit the model."
      ]
    },
    {
      "cell_type": "code",
      "metadata": {
        "execution": {
          "iopub.status.busy": "2021-07-24T13:59:23.876771Z",
          "iopub.execute_input": "2021-07-24T13:59:23.877333Z",
          "iopub.status.idle": "2021-07-24T13:59:23.894364Z",
          "shell.execute_reply.started": "2021-07-24T13:59:23.877291Z",
          "shell.execute_reply": "2021-07-24T13:59:23.893400Z"
        },
        "trusted": true,
        "id": "EaYTeR1_0J1F",
        "outputId": "5436484e-6463-490f-a1ad-bbf2c12b4c70"
      },
      "source": [
        "# Create the list of features below\n",
        "feature_names = [\"LotArea\", \"YearBuilt\", \"1stFlrSF\", \"2ndFlrSF\", \"FullBath\", \"BedroomAbvGr\", \"TotRmsAbvGrd\"]\n",
        "\n",
        "\n",
        "# Select data corresponding to features in feature_names\n",
        "X=home_data[feature_names]\n",
        "\n",
        "# Check your answer\n",
        "step_2.check()"
      ],
      "execution_count": null,
      "outputs": [
        {
          "output_type": "display_data",
          "data": {
            "text/plain": [
              "<IPython.core.display.Javascript object>"
            ],
            "application/javascript": [
              "parent.postMessage({\"jupyterEvent\": \"custom.exercise_interaction\", \"data\": {\"outcomeType\": 1, \"valueTowardsCompletion\": 0.25, \"interactionType\": 1, \"questionType\": 2, \"questionId\": \"2_SelectPredictionData\", \"learnToolsVersion\": \"0.3.4\", \"failureMessage\": \"\", \"exceptionClass\": \"\", \"trace\": \"\"}}, \"*\")"
            ]
          },
          "metadata": {
            "tags": []
          }
        },
        {
          "output_type": "display_data",
          "data": {
            "text/plain": [
              "Correct"
            ],
            "text/markdown": "<span style=\"color:#33cc33\">Correct</span>"
          },
          "metadata": {
            "tags": []
          }
        }
      ]
    },
    {
      "cell_type": "code",
      "metadata": {
        "execution": {
          "iopub.status.busy": "2021-07-24T13:59:23.895787Z",
          "iopub.execute_input": "2021-07-24T13:59:23.896338Z",
          "iopub.status.idle": "2021-07-24T13:59:23.899775Z",
          "shell.execute_reply.started": "2021-07-24T13:59:23.896242Z",
          "shell.execute_reply": "2021-07-24T13:59:23.899107Z"
        },
        "trusted": true,
        "id": "jrlDq9-n0J1F"
      },
      "source": [
        "# step_2.hint()\n",
        "# step_2.solution()"
      ],
      "execution_count": null,
      "outputs": []
    },
    {
      "cell_type": "markdown",
      "metadata": {
        "id": "zSe_nrls0J1F"
      },
      "source": [
        "## Review Data\n",
        "Before building a model, take a quick look at **X** to verify it looks sensible"
      ]
    },
    {
      "cell_type": "code",
      "metadata": {
        "execution": {
          "iopub.status.busy": "2021-07-24T13:59:23.900994Z",
          "iopub.execute_input": "2021-07-24T13:59:23.901522Z",
          "iopub.status.idle": "2021-07-24T13:59:23.911749Z",
          "shell.execute_reply.started": "2021-07-24T13:59:23.901453Z",
          "shell.execute_reply": "2021-07-24T13:59:23.910983Z"
        },
        "trusted": true,
        "id": "q92fuVNB0J1G"
      },
      "source": [
        "# Review data\n",
        "# print description or statistics from X\n",
        "#print(_)\n",
        "\n",
        "# print the top few lines\n",
        "#print(_)"
      ],
      "execution_count": null,
      "outputs": []
    },
    {
      "cell_type": "markdown",
      "metadata": {
        "id": "BnC6zCGK0J1G"
      },
      "source": [
        "## Step 3: Specify and Fit Model\n",
        "Create a `DecisionTreeRegressor` and save it iowa_model. Ensure you've done the relevant import from sklearn to run this command.\n",
        "\n",
        "Then fit the model you just created using the data in `X` and `y` that you saved above."
      ]
    },
    {
      "cell_type": "code",
      "metadata": {
        "execution": {
          "iopub.status.busy": "2021-07-24T13:59:23.913890Z",
          "iopub.execute_input": "2021-07-24T13:59:23.914432Z",
          "iopub.status.idle": "2021-07-24T13:59:23.941747Z",
          "shell.execute_reply.started": "2021-07-24T13:59:23.914397Z",
          "shell.execute_reply": "2021-07-24T13:59:23.940690Z"
        },
        "trusted": true,
        "id": "AJnk6zwl0J1H",
        "outputId": "7f672036-7933-42da-f9d5-e5f86f9289b0"
      },
      "source": [
        "from sklearn.tree import DecisionTreeRegressor\n",
        "iowa_model = DecisionTreeRegressor(random_state=1)\n",
        "iowa_model.fit(X, y)\n",
        "\n",
        "# Check your answer\n",
        "step_3.check()"
      ],
      "execution_count": null,
      "outputs": [
        {
          "output_type": "display_data",
          "data": {
            "text/plain": [
              "<IPython.core.display.Javascript object>"
            ],
            "application/javascript": [
              "parent.postMessage({\"jupyterEvent\": \"custom.exercise_interaction\", \"data\": {\"outcomeType\": 1, \"valueTowardsCompletion\": 0.25, \"interactionType\": 1, \"questionType\": 2, \"questionId\": \"3_CreateModel\", \"learnToolsVersion\": \"0.3.4\", \"failureMessage\": \"\", \"exceptionClass\": \"\", \"trace\": \"\"}}, \"*\")"
            ]
          },
          "metadata": {
            "tags": []
          }
        },
        {
          "output_type": "display_data",
          "data": {
            "text/plain": [
              "Correct"
            ],
            "text/markdown": "<span style=\"color:#33cc33\">Correct</span>"
          },
          "metadata": {
            "tags": []
          }
        }
      ]
    },
    {
      "cell_type": "code",
      "metadata": {
        "execution": {
          "iopub.status.busy": "2021-07-24T13:59:23.943282Z",
          "iopub.execute_input": "2021-07-24T13:59:23.943871Z",
          "iopub.status.idle": "2021-07-24T13:59:23.947545Z",
          "shell.execute_reply.started": "2021-07-24T13:59:23.943826Z",
          "shell.execute_reply": "2021-07-24T13:59:23.946577Z"
        },
        "trusted": true,
        "id": "pGsqiwGv0J1H"
      },
      "source": [
        "# step_3.hint()\n",
        "# step_3.solution()"
      ],
      "execution_count": null,
      "outputs": []
    },
    {
      "cell_type": "markdown",
      "metadata": {
        "id": "K3jfV6ux0J1H"
      },
      "source": [
        "## Step 4: Make Predictions\n",
        "Make predictions with the model's `predict` command using `X` as the data. Save the results to a variable called `predictions`."
      ]
    },
    {
      "cell_type": "code",
      "metadata": {
        "execution": {
          "iopub.status.busy": "2021-07-24T13:59:23.948965Z",
          "iopub.execute_input": "2021-07-24T13:59:23.949547Z",
          "iopub.status.idle": "2021-07-24T13:59:23.970478Z",
          "shell.execute_reply.started": "2021-07-24T13:59:23.949505Z",
          "shell.execute_reply": "2021-07-24T13:59:23.969483Z"
        },
        "trusted": true,
        "id": "6nlaarUW0J1I",
        "outputId": "72799bad-9f01-4b26-a2d9-0e9faa59970d"
      },
      "source": [
        "predictions = iowa_model.predict(X)\n",
        "print(predictions)\n",
        "\n",
        "# Check your answer\n",
        "step_4.check()"
      ],
      "execution_count": null,
      "outputs": [
        {
          "output_type": "stream",
          "text": [
            "[208500. 181500. 223500. ... 266500. 142125. 147500.]\n"
          ],
          "name": "stdout"
        },
        {
          "output_type": "display_data",
          "data": {
            "text/plain": [
              "<IPython.core.display.Javascript object>"
            ],
            "application/javascript": [
              "parent.postMessage({\"jupyterEvent\": \"custom.exercise_interaction\", \"data\": {\"outcomeType\": 1, \"valueTowardsCompletion\": 0.25, \"interactionType\": 1, \"questionType\": 2, \"questionId\": \"4_MakePredictions\", \"learnToolsVersion\": \"0.3.4\", \"failureMessage\": \"\", \"exceptionClass\": \"\", \"trace\": \"\"}}, \"*\")"
            ]
          },
          "metadata": {
            "tags": []
          }
        },
        {
          "output_type": "display_data",
          "data": {
            "text/plain": [
              "Correct"
            ],
            "text/markdown": "<span style=\"color:#33cc33\">Correct</span>"
          },
          "metadata": {
            "tags": []
          }
        }
      ]
    },
    {
      "cell_type": "code",
      "metadata": {
        "execution": {
          "iopub.status.busy": "2021-07-24T13:59:23.971724Z",
          "iopub.execute_input": "2021-07-24T13:59:23.972050Z",
          "iopub.status.idle": "2021-07-24T13:59:23.975639Z",
          "shell.execute_reply.started": "2021-07-24T13:59:23.972014Z",
          "shell.execute_reply": "2021-07-24T13:59:23.974671Z"
        },
        "trusted": true,
        "id": "Z7JwTAzX0J1I"
      },
      "source": [
        "# step_4.hint()\n",
        "# step_4.solution()"
      ],
      "execution_count": null,
      "outputs": []
    },
    {
      "cell_type": "markdown",
      "metadata": {
        "id": "heAVR83N0J1I"
      },
      "source": [
        "## Think About Your Results\n",
        "\n",
        "Use the `head` method to compare the top few predictions to the actual home values (in `y`) for those same homes. Anything surprising?\n"
      ]
    },
    {
      "cell_type": "code",
      "metadata": {
        "execution": {
          "iopub.status.busy": "2021-07-24T13:59:23.977004Z",
          "iopub.execute_input": "2021-07-24T13:59:23.977428Z",
          "iopub.status.idle": "2021-07-24T13:59:23.986441Z",
          "shell.execute_reply.started": "2021-07-24T13:59:23.977384Z",
          "shell.execute_reply": "2021-07-24T13:59:23.985668Z"
        },
        "trusted": true,
        "id": "9X0SBhG70J1J"
      },
      "source": [
        "# You can write code in this cell\n"
      ],
      "execution_count": null,
      "outputs": []
    },
    {
      "cell_type": "markdown",
      "metadata": {
        "id": "szTTsupr0J1J"
      },
      "source": [
        "It's natural to ask how accurate the model's predictions will be and how you can improve that. That will be you're next step.\n",
        "\n",
        "# Keep Going\n",
        "\n",
        "You are ready for **[Model Validation](https://www.kaggle.com/dansbecker/model-validation).**\n"
      ]
    },
    {
      "cell_type": "markdown",
      "metadata": {
        "id": "6vTx_bKa0J1J"
      },
      "source": [
        "---\n",
        "\n",
        "\n",
        "\n",
        "\n",
        "*Have questions or comments? Visit the [Learn Discussion forum](https://www.kaggle.com/learn-forum/161285) to chat with other Learners.*"
      ]
    }
  ]
}