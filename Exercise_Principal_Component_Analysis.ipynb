{
  "nbformat": 4,
  "nbformat_minor": 0,
  "metadata": {
    "jupytext": {
      "cell_metadata_filter": "-all",
      "formats": "ipynb"
    },
    "kernelspec": {
      "display_name": "Python 3",
      "language": "python",
      "name": "python3"
    },
    "language_info": {
      "name": "python",
      "version": "3.7.10",
      "mimetype": "text/x-python",
      "codemirror_mode": {
        "name": "ipython",
        "version": 3
      },
      "pygments_lexer": "ipython3",
      "nbconvert_exporter": "python",
      "file_extension": ".py"
    },
    "colab": {
      "name": "Exercise: Principal Component Analysis.ipynb",
      "provenance": [],
      "include_colab_link": true
    }
  },
  "cells": [
    {
      "cell_type": "markdown",
      "metadata": {
        "id": "view-in-github",
        "colab_type": "text"
      },
      "source": [
        "<a href=\"https://colab.research.google.com/github/Amey-Thakur/KAGGLE/blob/main/Exercise_Principal_Component_Analysis.ipynb\" target=\"_parent\"><img src=\"https://colab.research.google.com/assets/colab-badge.svg\" alt=\"Open In Colab\"/></a>"
      ]
    },
    {
      "cell_type": "markdown",
      "metadata": {
        "id": "HzB-08aZxS6F"
      },
      "source": [
        "**This notebook is an exercise in the [Feature Engineering](https://www.kaggle.com/learn/feature-engineering) course.  You can reference the tutorial at [this link](https://www.kaggle.com/ryanholbrook/principal-component-analysis).**\n",
        "\n",
        "---\n"
      ]
    },
    {
      "cell_type": "markdown",
      "metadata": {
        "id": "MeoKuvR2xS6H"
      },
      "source": [
        "# Introduction #\n",
        "\n",
        "In this exercise, you'll work through several applications of PCA to the [*Ames*](https://www.kaggle.com/c/house-prices-advanced-regression-techniques/data) dataset."
      ]
    },
    {
      "cell_type": "markdown",
      "metadata": {
        "id": "Vfx8HOiUxS6I"
      },
      "source": [
        "Run this cell to set everything up!"
      ]
    },
    {
      "cell_type": "code",
      "metadata": {
        "execution": {
          "iopub.status.busy": "2021-07-24T13:46:46.788745Z",
          "iopub.execute_input": "2021-07-24T13:46:46.789142Z",
          "iopub.status.idle": "2021-07-24T13:46:46.867672Z",
          "shell.execute_reply.started": "2021-07-24T13:46:46.789108Z",
          "shell.execute_reply": "2021-07-24T13:46:46.866447Z"
        },
        "trusted": true,
        "id": "mo-9LGlJxS6I"
      },
      "source": [
        "# Setup feedback system\n",
        "from learntools.core import binder\n",
        "binder.bind(globals())\n",
        "from learntools.feature_engineering_new.ex5 import *\n",
        "\n",
        "import matplotlib.pyplot as plt\n",
        "import numpy as np\n",
        "import pandas as pd\n",
        "import seaborn as sns\n",
        "from sklearn.decomposition import PCA\n",
        "from sklearn.feature_selection import mutual_info_regression\n",
        "from sklearn.model_selection import cross_val_score\n",
        "from xgboost import XGBRegressor\n",
        "\n",
        "# Set Matplotlib defaults\n",
        "plt.style.use(\"seaborn-whitegrid\")\n",
        "plt.rc(\"figure\", autolayout=True)\n",
        "plt.rc(\n",
        "    \"axes\",\n",
        "    labelweight=\"bold\",\n",
        "    labelsize=\"large\",\n",
        "    titleweight=\"bold\",\n",
        "    titlesize=14,\n",
        "    titlepad=10,\n",
        ")\n",
        "\n",
        "\n",
        "def apply_pca(X, standardize=True):\n",
        "    # Standardize\n",
        "    if standardize:\n",
        "        X = (X - X.mean(axis=0)) / X.std(axis=0)\n",
        "    # Create principal components\n",
        "    pca = PCA()\n",
        "    X_pca = pca.fit_transform(X)\n",
        "    # Convert to dataframe\n",
        "    component_names = [f\"PC{i+1}\" for i in range(X_pca.shape[1])]\n",
        "    X_pca = pd.DataFrame(X_pca, columns=component_names)\n",
        "    # Create loadings\n",
        "    loadings = pd.DataFrame(\n",
        "        pca.components_.T,  # transpose the matrix of loadings\n",
        "        columns=component_names,  # so the columns are the principal components\n",
        "        index=X.columns,  # and the rows are the original features\n",
        "    )\n",
        "    return pca, X_pca, loadings\n",
        "\n",
        "\n",
        "def plot_variance(pca, width=8, dpi=100):\n",
        "    # Create figure\n",
        "    fig, axs = plt.subplots(1, 2)\n",
        "    n = pca.n_components_\n",
        "    grid = np.arange(1, n + 1)\n",
        "    # Explained variance\n",
        "    evr = pca.explained_variance_ratio_\n",
        "    axs[0].bar(grid, evr)\n",
        "    axs[0].set(\n",
        "        xlabel=\"Component\", title=\"% Explained Variance\", ylim=(0.0, 1.0)\n",
        "    )\n",
        "    # Cumulative Variance\n",
        "    cv = np.cumsum(evr)\n",
        "    axs[1].plot(np.r_[0, grid], np.r_[0, cv], \"o-\")\n",
        "    axs[1].set(\n",
        "        xlabel=\"Component\", title=\"% Cumulative Variance\", ylim=(0.0, 1.0)\n",
        "    )\n",
        "    # Set up figure\n",
        "    fig.set(figwidth=8, dpi=100)\n",
        "    return axs\n",
        "\n",
        "\n",
        "def make_mi_scores(X, y):\n",
        "    X = X.copy()\n",
        "    for colname in X.select_dtypes([\"object\", \"category\"]):\n",
        "        X[colname], _ = X[colname].factorize()\n",
        "    # All discrete features should now have integer dtypes\n",
        "    discrete_features = [pd.api.types.is_integer_dtype(t) for t in X.dtypes]\n",
        "    mi_scores = mutual_info_regression(X, y, discrete_features=discrete_features, random_state=0)\n",
        "    mi_scores = pd.Series(mi_scores, name=\"MI Scores\", index=X.columns)\n",
        "    mi_scores = mi_scores.sort_values(ascending=False)\n",
        "    return mi_scores\n",
        "\n",
        "\n",
        "def score_dataset(X, y, model=XGBRegressor()):\n",
        "    # Label encoding for categoricals\n",
        "    for colname in X.select_dtypes([\"category\", \"object\"]):\n",
        "        X[colname], _ = X[colname].factorize()\n",
        "    # Metric for Housing competition is RMSLE (Root Mean Squared Log Error)\n",
        "    score = cross_val_score(\n",
        "        model, X, y, cv=5, scoring=\"neg_mean_squared_log_error\",\n",
        "    )\n",
        "    score = -1 * score.mean()\n",
        "    score = np.sqrt(score)\n",
        "    return score\n",
        "\n",
        "\n",
        "df = pd.read_csv(\"../input/fe-course-data/ames.csv\")"
      ],
      "execution_count": null,
      "outputs": []
    },
    {
      "cell_type": "markdown",
      "metadata": {
        "id": "46HKO-UCxS6J"
      },
      "source": [
        "Let's choose a few features that are highly correlated with our target, `SalePrice`.\n"
      ]
    },
    {
      "cell_type": "code",
      "metadata": {
        "execution": {
          "iopub.status.busy": "2021-07-24T13:46:46.869426Z",
          "iopub.execute_input": "2021-07-24T13:46:46.869794Z",
          "iopub.status.idle": "2021-07-24T13:46:46.882759Z",
          "shell.execute_reply.started": "2021-07-24T13:46:46.869758Z",
          "shell.execute_reply": "2021-07-24T13:46:46.881614Z"
        },
        "trusted": true,
        "id": "uGl0KcJNxS6K",
        "outputId": "0c6f48ad-3f63-4714-9a09-5a43910b07fd"
      },
      "source": [
        "features = [\n",
        "    \"GarageArea\",\n",
        "    \"YearRemodAdd\",\n",
        "    \"TotalBsmtSF\",\n",
        "    \"GrLivArea\",\n",
        "]\n",
        "\n",
        "print(\"Correlation with SalePrice:\\n\")\n",
        "print(df[features].corrwith(df.SalePrice))"
      ],
      "execution_count": null,
      "outputs": [
        {
          "output_type": "stream",
          "text": [
            "Correlation with SalePrice:\n",
            "\n",
            "GarageArea      0.640138\n",
            "YearRemodAdd    0.532974\n",
            "TotalBsmtSF     0.632529\n",
            "GrLivArea       0.706780\n",
            "dtype: float64\n"
          ],
          "name": "stdout"
        }
      ]
    },
    {
      "cell_type": "markdown",
      "metadata": {
        "id": "Tsiq-DfzxS6L"
      },
      "source": [
        "We'll rely on PCA to untangle the correlational structure of these features and suggest relationships that might be usefully modeled with new features.\n",
        "\n",
        "Run this cell to apply PCA and extract the loadings."
      ]
    },
    {
      "cell_type": "code",
      "metadata": {
        "execution": {
          "iopub.status.busy": "2021-07-24T13:46:46.885664Z",
          "iopub.execute_input": "2021-07-24T13:46:46.886122Z",
          "iopub.status.idle": "2021-07-24T13:46:46.907380Z",
          "shell.execute_reply.started": "2021-07-24T13:46:46.886075Z",
          "shell.execute_reply": "2021-07-24T13:46:46.906102Z"
        },
        "trusted": true,
        "id": "BSwN2CsuxS6L",
        "outputId": "fc7dd45a-e28f-4ebb-a59b-5a3196d584af"
      },
      "source": [
        "X = df.copy()\n",
        "y = X.pop(\"SalePrice\")\n",
        "X = X.loc[:, features]\n",
        "\n",
        "# `apply_pca`, defined above, reproduces the code from the tutorial\n",
        "pca, X_pca, loadings = apply_pca(X)\n",
        "print(loadings)"
      ],
      "execution_count": null,
      "outputs": [
        {
          "output_type": "stream",
          "text": [
            "                   PC1       PC2       PC3       PC4\n",
            "GarageArea    0.541229  0.102375 -0.038470  0.833733\n",
            "YearRemodAdd  0.427077 -0.886612 -0.049062 -0.170639\n",
            "TotalBsmtSF   0.510076  0.360778 -0.666836 -0.406192\n",
            "GrLivArea     0.514294  0.270700  0.742592 -0.332837\n"
          ],
          "name": "stdout"
        }
      ]
    },
    {
      "cell_type": "markdown",
      "metadata": {
        "id": "GgiTUcdHxS6L"
      },
      "source": [
        "# 1) Interpret Component Loadings\n",
        "\n",
        "Look at the loadings for components `PC1` and `PC3`. Can you think of a description of what kind of contrast each component has captured? After you've thought about it, run the next cell for a solution."
      ]
    },
    {
      "cell_type": "code",
      "metadata": {
        "execution": {
          "iopub.status.busy": "2021-07-24T13:46:46.909301Z",
          "iopub.execute_input": "2021-07-24T13:46:46.909695Z",
          "iopub.status.idle": "2021-07-24T13:46:46.918722Z",
          "shell.execute_reply.started": "2021-07-24T13:46:46.909659Z",
          "shell.execute_reply": "2021-07-24T13:46:46.917499Z"
        },
        "trusted": true,
        "id": "VSgR-TE2xS6M",
        "outputId": "e359f626-be04-4433-e9cb-9c6e6f3dcd83"
      },
      "source": [
        "# View the solution (Run this cell to receive credit!)\n",
        "q_1.check()"
      ],
      "execution_count": null,
      "outputs": [
        {
          "output_type": "display_data",
          "data": {
            "text/plain": [
              "<IPython.core.display.Javascript object>"
            ],
            "application/javascript": [
              "parent.postMessage({\"jupyterEvent\": \"custom.exercise_interaction\", \"data\": {\"outcomeType\": 1, \"valueTowardsCompletion\": 0.3333333333333333, \"interactionType\": 1, \"questionType\": 4, \"questionId\": \"1_Q1\", \"learnToolsVersion\": \"0.3.4\", \"failureMessage\": \"\", \"exceptionClass\": \"\", \"trace\": \"\"}}, \"*\")"
            ]
          },
          "metadata": {
            "tags": []
          }
        },
        {
          "output_type": "display_data",
          "data": {
            "text/plain": [
              "Correct: \n",
              "\n",
              "The first component, `PC1`, seems to be a kind of \"size\" component, similar to what we saw in the tutorial: all of the features have the same sign (positive), indicating that this component is describing a contrast between houses having large values and houses having small values for these features.\n",
              "\n",
              "The interpretation of the third component `PC3` is a little trickier. The features `GarageArea` and `YearRemodAdd` both have near-zero loadings, so let's ignore those. This component is mostly about `TotalBsmtSF` and `GrLivArea`. It describes a contrast between houses with a lot of living area but small (or non-existant) basements, and the opposite: small houses with large basements."
            ],
            "text/markdown": "<span style=\"color:#33cc33\">Correct:</span> \n\nThe first component, `PC1`, seems to be a kind of \"size\" component, similar to what we saw in the tutorial: all of the features have the same sign (positive), indicating that this component is describing a contrast between houses having large values and houses having small values for these features.\n\nThe interpretation of the third component `PC3` is a little trickier. The features `GarageArea` and `YearRemodAdd` both have near-zero loadings, so let's ignore those. This component is mostly about `TotalBsmtSF` and `GrLivArea`. It describes a contrast between houses with a lot of living area but small (or non-existant) basements, and the opposite: small houses with large basements.\n"
          },
          "metadata": {
            "tags": []
          }
        }
      ]
    },
    {
      "cell_type": "markdown",
      "metadata": {
        "id": "dOXe_Gp-xS6M"
      },
      "source": [
        "-------------------------------------------------------------------------------\n",
        "\n",
        "Your goal in this question is to use the results of PCA to discover one or more new features that improve the performance of your model. One option is to create features inspired by the loadings, like we did in the tutorial. Another option is to use the components themselves as features (that is, add one or more columns of `X_pca` to `X`).\n",
        "\n",
        "# 2) Create New Features\n",
        "\n",
        "Add one or more new features to the dataset `X`. For a correct solution, get a validation score below 0.140 RMSLE. (If you get stuck, feel free to use the `hint` below!)"
      ]
    },
    {
      "cell_type": "code",
      "metadata": {
        "lines_to_next_cell": 0,
        "execution": {
          "iopub.status.busy": "2021-07-24T13:46:46.920211Z",
          "iopub.execute_input": "2021-07-24T13:46:46.920487Z",
          "iopub.status.idle": "2021-07-24T13:46:50.240594Z",
          "shell.execute_reply.started": "2021-07-24T13:46:46.920462Z",
          "shell.execute_reply": "2021-07-24T13:46:50.239620Z"
        },
        "trusted": true,
        "id": "SaCwr9ZHxS6N",
        "outputId": "c633e076-d0b0-443a-ae42-136c489d0d97"
      },
      "source": [
        "X = df.copy()\n",
        "y = X.pop(\"SalePrice\")\n",
        "\n",
        "X[\"Feature1\"] = X.GrLivArea + X.TotalBsmtSF\n",
        "X[\"Feature2\"] = X.YearRemodAdd * X.TotalBsmtSF\n",
        "\n",
        "score = score_dataset(X, y)\n",
        "print(f\"Your score: {score:.5f} RMSLE\")\n",
        "\n",
        "# Check your answer\n",
        "q_2.check()"
      ],
      "execution_count": null,
      "outputs": [
        {
          "output_type": "stream",
          "text": [
            "Your score: 0.13361 RMSLE\n"
          ],
          "name": "stdout"
        },
        {
          "output_type": "display_data",
          "data": {
            "text/plain": [
              "<IPython.core.display.Javascript object>"
            ],
            "application/javascript": [
              "parent.postMessage({\"jupyterEvent\": \"custom.exercise_interaction\", \"data\": {\"outcomeType\": 1, \"valueTowardsCompletion\": 0.3333333333333333, \"interactionType\": 1, \"questionType\": 2, \"questionId\": \"2_Q2\", \"learnToolsVersion\": \"0.3.4\", \"failureMessage\": \"\", \"exceptionClass\": \"\", \"trace\": \"\"}}, \"*\")"
            ]
          },
          "metadata": {
            "tags": []
          }
        },
        {
          "output_type": "display_data",
          "data": {
            "text/plain": [
              "Correct: \n",
              "\n",
              "Here are two possible solutions, though you might have been able to find others.\n",
              "```python\n",
              "# Solution 1: Inspired by loadings\n",
              "X = df.copy()\n",
              "y = X.pop(\"SalePrice\")\n",
              "\n",
              "X[\"Feature1\"] = X.GrLivArea + X.TotalBsmtSF\n",
              "X[\"Feature2\"] = X.YearRemodAdd * X.TotalBsmtSF\n",
              "\n",
              "score = score_dataset(X, y)\n",
              "print(f\"Your score: {score:.5f} RMSLE\")\n",
              "\n",
              "\n",
              "# Solution 2: Uses components\n",
              "X = df.copy()\n",
              "y = X.pop(\"SalePrice\")\n",
              "\n",
              "X = X.join(X_pca)\n",
              "score = score_dataset(X, y)\n",
              "print(f\"Your score: {score:.5f} RMSLE\")\n",
              "```"
            ],
            "text/markdown": "<span style=\"color:#33cc33\">Correct:</span> \n\nHere are two possible solutions, though you might have been able to find others.\n```python\n# Solution 1: Inspired by loadings\nX = df.copy()\ny = X.pop(\"SalePrice\")\n\nX[\"Feature1\"] = X.GrLivArea + X.TotalBsmtSF\nX[\"Feature2\"] = X.YearRemodAdd * X.TotalBsmtSF\n\nscore = score_dataset(X, y)\nprint(f\"Your score: {score:.5f} RMSLE\")\n\n\n# Solution 2: Uses components\nX = df.copy()\ny = X.pop(\"SalePrice\")\n\nX = X.join(X_pca)\nscore = score_dataset(X, y)\nprint(f\"Your score: {score:.5f} RMSLE\")\n```\n"
          },
          "metadata": {
            "tags": []
          }
        }
      ]
    },
    {
      "cell_type": "code",
      "metadata": {
        "lines_to_next_cell": 0,
        "execution": {
          "iopub.status.busy": "2021-07-24T13:46:50.241893Z",
          "iopub.execute_input": "2021-07-24T13:46:50.242230Z",
          "iopub.status.idle": "2021-07-24T13:46:50.245798Z",
          "shell.execute_reply.started": "2021-07-24T13:46:50.242198Z",
          "shell.execute_reply": "2021-07-24T13:46:50.244773Z"
        },
        "trusted": true,
        "id": "KdHfcB1uxS6N"
      },
      "source": [
        "# Lines below will give you a hint or solution code\n",
        "#q_2.hint()\n",
        "#q_2.solution()"
      ],
      "execution_count": null,
      "outputs": []
    },
    {
      "cell_type": "markdown",
      "metadata": {
        "id": "UzyQMV-txS6N"
      },
      "source": [
        "-------------------------------------------------------------------------------\n",
        "\n",
        "The next question explores a way you can use PCA to detect outliers in the dataset (meaning, data points that are unusually extreme in some way). Outliers can have a detrimental effect on model performance, so it's good to be aware of them in case you need to take corrective action. PCA in particular can show you anomalous *variation* which might not be apparent from the original features: neither small houses nor houses with large basements are unusual, but it is unusual for small houses to have large basements. That's the kind of thing a principal component can show you.\n",
        "\n",
        "Run the next cell to show distribution plots for each of the principal components you created above."
      ]
    },
    {
      "cell_type": "code",
      "metadata": {
        "execution": {
          "iopub.status.busy": "2021-07-24T13:46:50.247112Z",
          "iopub.execute_input": "2021-07-24T13:46:50.247413Z",
          "iopub.status.idle": "2021-07-24T13:46:51.024595Z",
          "shell.execute_reply.started": "2021-07-24T13:46:50.247383Z",
          "shell.execute_reply": "2021-07-24T13:46:51.023588Z"
        },
        "trusted": true,
        "id": "Vn9UjOfrxS6O",
        "outputId": "c33f7922-f741-42f5-aa33-9c861cd90f46"
      },
      "source": [
        "sns.catplot(\n",
        "    y=\"value\",\n",
        "    col=\"variable\",\n",
        "    data=X_pca.melt(),\n",
        "    kind='boxen',\n",
        "    sharey=False,\n",
        "    col_wrap=2,\n",
        ");"
      ],
      "execution_count": null,
      "outputs": [
        {
          "output_type": "display_data",
          "data": {
            "text/plain": [
              "<Figure size 720x720 with 4 Axes>"
            ],
            "image/png": "[encoded data removed]"
          },
          "metadata": {
            "tags": []
          }
        }
      ]
    },
    {
      "cell_type": "markdown",
      "metadata": {
        "id": "ImsXiGAKxS6O"
      },
      "source": [
        "As you can see, in each of the components there are several points lying at the extreme ends of the distributions -- outliers, that is.\n",
        "\n",
        "Now run the next cell to see those houses that sit at the extremes of a component:"
      ]
    },
    {
      "cell_type": "code",
      "metadata": {
        "execution": {
          "iopub.status.busy": "2021-07-24T13:46:51.026680Z",
          "iopub.execute_input": "2021-07-24T13:46:51.026973Z",
          "iopub.status.idle": "2021-07-24T13:46:51.053394Z",
          "shell.execute_reply.started": "2021-07-24T13:46:51.026943Z",
          "shell.execute_reply": "2021-07-24T13:46:51.052449Z"
        },
        "trusted": true,
        "id": "RathRRYlxS6O",
        "outputId": "7d569698-0167-4ede-b98e-127ff7aba92f"
      },
      "source": [
        "# You can change PC1 to PC2, PC3, or PC4\n",
        "component = \"PC1\"\n",
        "\n",
        "idx = X_pca[component].sort_values(ascending=False).index\n",
        "df.loc[idx, [\"SalePrice\", \"Neighborhood\", \"SaleCondition\"] + features]"
      ],
      "execution_count": null,
      "outputs": [
        {
          "output_type": "execute_result",
          "data": {
            "text/plain": [
              "      SalePrice            Neighborhood SaleCondition  GarageArea  \\\n",
              "1498     160000                 Edwards       Partial      1418.0   \n",
              "2180     183850                 Edwards       Partial      1154.0   \n",
              "2181     184750                 Edwards       Partial       884.0   \n",
              "1760     745000              Northridge       Abnorml       813.0   \n",
              "1767     755000              Northridge        Normal       832.0   \n",
              "...         ...                     ...           ...         ...   \n",
              "662       59000                Old_Town        Normal         0.0   \n",
              "2679      80500               Brookside        Normal         0.0   \n",
              "2879      51689  Iowa_DOT_and_Rail_Road       Abnorml         0.0   \n",
              "780       63900                  Sawyer        Normal         0.0   \n",
              "1901      39300               Brookside        Normal         0.0   \n",
              "\n",
              "      YearRemodAdd  TotalBsmtSF  GrLivArea  \n",
              "1498          2008       6110.0     5642.0  \n",
              "2180          2009       5095.0     5095.0  \n",
              "2181          2008       3138.0     4676.0  \n",
              "1760          1996       2396.0     4476.0  \n",
              "1767          1995       2444.0     4316.0  \n",
              "...            ...          ...        ...  \n",
              "662           1950        416.0      599.0  \n",
              "2679          1950          0.0      912.0  \n",
              "2879          1950          0.0      729.0  \n",
              "780           1950          0.0      660.0  \n",
              "1901          1950          0.0      334.0  \n",
              "\n",
              "[2930 rows x 7 columns]"
            ],
            "text/html": [
              "<div>\n",
              "<style scoped>\n",
              "    .dataframe tbody tr th:only-of-type {\n",
              "        vertical-align: middle;\n",
              "    }\n",
              "\n",
              "    .dataframe tbody tr th {\n",
              "        vertical-align: top;\n",
              "    }\n",
              "\n",
              "    .dataframe thead th {\n",
              "        text-align: right;\n",
              "    }\n",
              "</style>\n",
              "<table border=\"1\" class=\"dataframe\">\n",
              "  <thead>\n",
              "    <tr style=\"text-align: right;\">\n",
              "      <th></th>\n",
              "      <th>SalePrice</th>\n",
              "      <th>Neighborhood</th>\n",
              "      <th>SaleCondition</th>\n",
              "      <th>GarageArea</th>\n",
              "      <th>YearRemodAdd</th>\n",
              "      <th>TotalBsmtSF</th>\n",
              "      <th>GrLivArea</th>\n",
              "    </tr>\n",
              "  </thead>\n",
              "  <tbody>\n",
              "    <tr>\n",
              "      <th>1498</th>\n",
              "      <td>160000</td>\n",
              "      <td>Edwards</td>\n",
              "      <td>Partial</td>\n",
              "      <td>1418.0</td>\n",
              "      <td>2008</td>\n",
              "      <td>6110.0</td>\n",
              "      <td>5642.0</td>\n",
              "    </tr>\n",
              "    <tr>\n",
              "      <th>2180</th>\n",
              "      <td>183850</td>\n",
              "      <td>Edwards</td>\n",
              "      <td>Partial</td>\n",
              "      <td>1154.0</td>\n",
              "      <td>2009</td>\n",
              "      <td>5095.0</td>\n",
              "      <td>5095.0</td>\n",
              "    </tr>\n",
              "    <tr>\n",
              "      <th>2181</th>\n",
              "      <td>184750</td>\n",
              "      <td>Edwards</td>\n",
              "      <td>Partial</td>\n",
              "      <td>884.0</td>\n",
              "      <td>2008</td>\n",
              "      <td>3138.0</td>\n",
              "      <td>4676.0</td>\n",
              "    </tr>\n",
              "    <tr>\n",
              "      <th>1760</th>\n",
              "      <td>745000</td>\n",
              "      <td>Northridge</td>\n",
              "      <td>Abnorml</td>\n",
              "      <td>813.0</td>\n",
              "      <td>1996</td>\n",
              "      <td>2396.0</td>\n",
              "      <td>4476.0</td>\n",
              "    </tr>\n",
              "    <tr>\n",
              "      <th>1767</th>\n",
              "      <td>755000</td>\n",
              "      <td>Northridge</td>\n",
              "      <td>Normal</td>\n",
              "      <td>832.0</td>\n",
              "      <td>1995</td>\n",
              "      <td>2444.0</td>\n",
              "      <td>4316.0</td>\n",
              "    </tr>\n",
              "    <tr>\n",
              "      <th>...</th>\n",
              "      <td>...</td>\n",
              "      <td>...</td>\n",
              "      <td>...</td>\n",
              "      <td>...</td>\n",
              "      <td>...</td>\n",
              "      <td>...</td>\n",
              "      <td>...</td>\n",
              "    </tr>\n",
              "    <tr>\n",
              "      <th>662</th>\n",
              "      <td>59000</td>\n",
              "      <td>Old_Town</td>\n",
              "      <td>Normal</td>\n",
              "      <td>0.0</td>\n",
              "      <td>1950</td>\n",
              "      <td>416.0</td>\n",
              "      <td>599.0</td>\n",
              "    </tr>\n",
              "    <tr>\n",
              "      <th>2679</th>\n",
              "      <td>80500</td>\n",
              "      <td>Brookside</td>\n",
              "      <td>Normal</td>\n",
              "      <td>0.0</td>\n",
              "      <td>1950</td>\n",
              "      <td>0.0</td>\n",
              "      <td>912.0</td>\n",
              "    </tr>\n",
              "    <tr>\n",
              "      <th>2879</th>\n",
              "      <td>51689</td>\n",
              "      <td>Iowa_DOT_and_Rail_Road</td>\n",
              "      <td>Abnorml</td>\n",
              "      <td>0.0</td>\n",
              "      <td>1950</td>\n",
              "      <td>0.0</td>\n",
              "      <td>729.0</td>\n",
              "    </tr>\n",
              "    <tr>\n",
              "      <th>780</th>\n",
              "      <td>63900</td>\n",
              "      <td>Sawyer</td>\n",
              "      <td>Normal</td>\n",
              "      <td>0.0</td>\n",
              "      <td>1950</td>\n",
              "      <td>0.0</td>\n",
              "      <td>660.0</td>\n",
              "    </tr>\n",
              "    <tr>\n",
              "      <th>1901</th>\n",
              "      <td>39300</td>\n",
              "      <td>Brookside</td>\n",
              "      <td>Normal</td>\n",
              "      <td>0.0</td>\n",
              "      <td>1950</td>\n",
              "      <td>0.0</td>\n",
              "      <td>334.0</td>\n",
              "    </tr>\n",
              "  </tbody>\n",
              "</table>\n",
              "<p>2930 rows × 7 columns</p>\n",
              "</div>"
            ]
          },
          "metadata": {
            "tags": []
          },
          "execution_count": 18
        }
      ]
    },
    {
      "cell_type": "markdown",
      "metadata": {
        "id": "rPk8f-naxS6P"
      },
      "source": [
        "# 3) Outlier Detection\n",
        "\n",
        "Do you notice any patterns in the extreme values? Does it seem like the outliers are coming from some special subset of the data?\n",
        "\n",
        "After you've thought about your answer, run the next cell for the solution and some discussion."
      ]
    },
    {
      "cell_type": "code",
      "metadata": {
        "execution": {
          "iopub.status.busy": "2021-07-24T13:46:51.054915Z",
          "iopub.execute_input": "2021-07-24T13:46:51.055468Z",
          "iopub.status.idle": "2021-07-24T13:46:51.064147Z",
          "shell.execute_reply.started": "2021-07-24T13:46:51.055423Z",
          "shell.execute_reply": "2021-07-24T13:46:51.063031Z"
        },
        "trusted": true,
        "id": "p6plLrHBxS6P",
        "outputId": "5d01ce78-4440-4636-db0e-348a04533048"
      },
      "source": [
        "# View the solution (Run this cell to receive credit!)\n",
        "q_3.check()"
      ],
      "execution_count": null,
      "outputs": [
        {
          "output_type": "display_data",
          "data": {
            "text/plain": [
              "<IPython.core.display.Javascript object>"
            ],
            "application/javascript": [
              "parent.postMessage({\"jupyterEvent\": \"custom.exercise_interaction\", \"data\": {\"outcomeType\": 1, \"valueTowardsCompletion\": 0.3333333333333333, \"interactionType\": 1, \"questionType\": 4, \"questionId\": \"3_Q3\", \"learnToolsVersion\": \"0.3.4\", \"failureMessage\": \"\", \"exceptionClass\": \"\", \"trace\": \"\"}}, \"*\")"
            ]
          },
          "metadata": {
            "tags": []
          }
        },
        {
          "output_type": "display_data",
          "data": {
            "text/plain": [
              "Correct: \n",
              "\n",
              "Notice that there are several dwellings listed as `Partial` sales in the `Edwards` neighborhood that stand out. A partial sale is what occurs when there are multiple owners of a property and one or more of them sell their \"partial\" ownership of the property.\n",
              "\n",
              "These kinds of sales are often happen during the settlement of a family estate or the dissolution of a business and aren't advertised publicly. If you were trying to predict the value of a house on the open market, you would probably be justified in removing sales like these from your dataset -- they are truly outliers."
            ],
            "text/markdown": "<span style=\"color:#33cc33\">Correct:</span> \n\nNotice that there are several dwellings listed as `Partial` sales in the `Edwards` neighborhood that stand out. A partial sale is what occurs when there are multiple owners of a property and one or more of them sell their \"partial\" ownership of the property.\n\nThese kinds of sales are often happen during the settlement of a family estate or the dissolution of a business and aren't advertised publicly. If you were trying to predict the value of a house on the open market, you would probably be justified in removing sales like these from your dataset -- they are truly outliers.\n"
          },
          "metadata": {
            "tags": []
          }
        }
      ]
    },
    {
      "cell_type": "markdown",
      "metadata": {
        "id": "oZtTkHM4xS6P"
      },
      "source": [
        "# Keep Going #\n",
        "\n",
        "[**Apply target encoding**](https://www.kaggle.com/ryanholbrook/target-encoding) to give a boost to categorical features."
      ]
    },
    {
      "cell_type": "markdown",
      "metadata": {
        "id": "bF79d172xS6P"
      },
      "source": [
        "---\n",
        "\n",
        "\n",
        "\n",
        "\n",
        "*Have questions or comments? Visit the [Learn Discussion forum](https://www.kaggle.com/learn-forum/221677) to chat with other Learners.*"
      ]
    }
  ]
}