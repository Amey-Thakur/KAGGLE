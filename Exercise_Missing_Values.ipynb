{
  "nbformat": 4,
  "nbformat_minor": 0,
  "metadata": {
    "kernelspec": {
      "display_name": "Python 3",
      "language": "python",
      "name": "python3"
    },
    "language_info": {
      "name": "python",
      "version": "3.7.10",
      "mimetype": "text/x-python",
      "codemirror_mode": {
        "name": "ipython",
        "version": 3
      },
      "pygments_lexer": "ipython3",
      "nbconvert_exporter": "python",
      "file_extension": ".py"
    },
    "colab": {
      "name": "Exercise: Missing Values.ipynb",
      "provenance": [],
      "include_colab_link": true
    }
  },
  "cells": [
    {
      "cell_type": "markdown",
      "metadata": {
        "id": "view-in-github",
        "colab_type": "text"
      },
      "source": [
        "<a href=\"https://colab.research.google.com/github/Amey-Thakur/KAGGLE/blob/main/Exercise_Missing_Values.ipynb\" target=\"_parent\"><img src=\"https://colab.research.google.com/assets/colab-badge.svg\" alt=\"Open In Colab\"/></a>"
      ]
    },
    {
      "cell_type": "markdown",
      "metadata": {
        "id": "0gnUh8mhA-Lv"
      },
      "source": [
        "**This notebook is an exercise in the [Intermediate Machine Learning](https://www.kaggle.com/learn/intermediate-machine-learning) course.  You can reference the tutorial at [this link](https://www.kaggle.com/alexisbcook/missing-values).**\n",
        "\n",
        "---\n"
      ]
    },
    {
      "cell_type": "markdown",
      "metadata": {
        "id": "6odB1nULA-Ly"
      },
      "source": [
        "Now it's your turn to test your new knowledge of **missing values** handling. You'll probably find it makes a big difference.\n",
        "\n",
        "# Setup\n",
        "\n",
        "The questions will give you feedback on your work. Run the following cell to set up the feedback system."
      ]
    },
    {
      "cell_type": "code",
      "metadata": {
        "execution": {
          "iopub.status.busy": "2021-07-24T14:55:23.407889Z",
          "iopub.execute_input": "2021-07-24T14:55:23.408255Z",
          "iopub.status.idle": "2021-07-24T14:55:23.416407Z",
          "shell.execute_reply.started": "2021-07-24T14:55:23.408225Z",
          "shell.execute_reply": "2021-07-24T14:55:23.414882Z"
        },
        "trusted": true,
        "id": "NcQIQjW8A-Ly",
        "outputId": "b77dfd6c-ec53-4135-ef45-0251fb8bc1b9"
      },
      "source": [
        "# Set up code checking\n",
        "import os\n",
        "if not os.path.exists(\"../input/train.csv\"):\n",
        "    os.symlink(\"../input/home-data-for-ml-course/train.csv\", \"../input/train.csv\")  \n",
        "    os.symlink(\"../input/home-data-for-ml-course/test.csv\", \"../input/test.csv\") \n",
        "from learntools.core import binder\n",
        "binder.bind(globals())\n",
        "from learntools.ml_intermediate.ex2 import *\n",
        "print(\"Setup Complete\")"
      ],
      "execution_count": null,
      "outputs": [
        {
          "output_type": "stream",
          "text": [
            "Setup Complete\n"
          ],
          "name": "stdout"
        }
      ]
    },
    {
      "cell_type": "markdown",
      "metadata": {
        "id": "9XsRMuEJA-L0"
      },
      "source": [
        "In this exercise, you will work with data from the [Housing Prices Competition for Kaggle Learn Users](https://www.kaggle.com/c/home-data-for-ml-course). \n",
        "\n",
        "![Ames Housing dataset image](https://i.imgur.com/lTJVG4e.png)\n",
        "\n",
        "Run the next code cell without changes to load the training and validation sets in `X_train`, `X_valid`, `y_train`, and `y_valid`.  The test set is loaded in `X_test`."
      ]
    },
    {
      "cell_type": "code",
      "metadata": {
        "execution": {
          "iopub.status.busy": "2021-07-24T14:55:23.418246Z",
          "iopub.execute_input": "2021-07-24T14:55:23.418534Z",
          "iopub.status.idle": "2021-07-24T14:55:23.504640Z",
          "shell.execute_reply.started": "2021-07-24T14:55:23.418506Z",
          "shell.execute_reply": "2021-07-24T14:55:23.503507Z"
        },
        "trusted": true,
        "id": "6tRbDGCNA-L1"
      },
      "source": [
        "import pandas as pd\n",
        "from sklearn.model_selection import train_test_split\n",
        "\n",
        "# Read the data\n",
        "X_full = pd.read_csv('../input/train.csv', index_col='Id')\n",
        "X_test_full = pd.read_csv('../input/test.csv', index_col='Id')\n",
        "\n",
        "# Remove rows with missing target, separate target from predictors\n",
        "X_full.dropna(axis=0, subset=['SalePrice'], inplace=True)\n",
        "y = X_full.SalePrice\n",
        "X_full.drop(['SalePrice'], axis=1, inplace=True)\n",
        "\n",
        "# To keep things simple, we'll use only numerical predictors\n",
        "X = X_full.select_dtypes(exclude=['object'])\n",
        "X_test = X_test_full.select_dtypes(exclude=['object'])\n",
        "\n",
        "# Break off validation set from training data\n",
        "X_train, X_valid, y_train, y_valid = train_test_split(X, y, train_size=0.8, test_size=0.2,\n",
        "                                                      random_state=0)"
      ],
      "execution_count": null,
      "outputs": []
    },
    {
      "cell_type": "markdown",
      "metadata": {
        "id": "JrymoAyDA-L1"
      },
      "source": [
        "Use the next code cell to print the first five rows of the data."
      ]
    },
    {
      "cell_type": "code",
      "metadata": {
        "execution": {
          "iopub.status.busy": "2021-07-24T14:55:23.506761Z",
          "iopub.execute_input": "2021-07-24T14:55:23.507072Z",
          "iopub.status.idle": "2021-07-24T14:55:23.538591Z",
          "shell.execute_reply.started": "2021-07-24T14:55:23.507043Z",
          "shell.execute_reply": "2021-07-24T14:55:23.537135Z"
        },
        "trusted": true,
        "id": "5fDfPkabA-L2",
        "outputId": "5c876cfb-440d-4862-ac52-384548c6a6ce"
      },
      "source": [
        "X_train.head()"
      ],
      "execution_count": null,
      "outputs": [
        {
          "output_type": "execute_result",
          "data": {
            "text/plain": [
              "     MSSubClass  LotFrontage  LotArea  OverallQual  OverallCond  YearBuilt  \\\n",
              "Id                                                                           \n",
              "619          20         90.0    11694            9            5       2007   \n",
              "871          20         60.0     6600            5            5       1962   \n",
              "93           30         80.0    13360            5            7       1921   \n",
              "818          20          NaN    13265            8            5       2002   \n",
              "303          20        118.0    13704            7            5       2001   \n",
              "\n",
              "     YearRemodAdd  MasVnrArea  BsmtFinSF1  BsmtFinSF2  ...  GarageArea  \\\n",
              "Id                                                     ...               \n",
              "619          2007       452.0          48           0  ...         774   \n",
              "871          1962         0.0           0           0  ...         308   \n",
              "93           2006         0.0         713           0  ...         432   \n",
              "818          2002       148.0        1218           0  ...         857   \n",
              "303          2002       150.0           0           0  ...         843   \n",
              "\n",
              "     WoodDeckSF  OpenPorchSF  EnclosedPorch  3SsnPorch  ScreenPorch  PoolArea  \\\n",
              "Id                                                                              \n",
              "619           0          108              0          0          260         0   \n",
              "871           0            0              0          0            0         0   \n",
              "93            0            0             44          0            0         0   \n",
              "818         150           59              0          0            0         0   \n",
              "303         468           81              0          0            0         0   \n",
              "\n",
              "     MiscVal  MoSold  YrSold  \n",
              "Id                            \n",
              "619        0       7    2007  \n",
              "871        0       8    2009  \n",
              "93         0       8    2009  \n",
              "818        0       7    2008  \n",
              "303        0       1    2006  \n",
              "\n",
              "[5 rows x 36 columns]"
            ],
            "text/html": [
              "<div>\n",
              "<style scoped>\n",
              "    .dataframe tbody tr th:only-of-type {\n",
              "        vertical-align: middle;\n",
              "    }\n",
              "\n",
              "    .dataframe tbody tr th {\n",
              "        vertical-align: top;\n",
              "    }\n",
              "\n",
              "    .dataframe thead th {\n",
              "        text-align: right;\n",
              "    }\n",
              "</style>\n",
              "<table border=\"1\" class=\"dataframe\">\n",
              "  <thead>\n",
              "    <tr style=\"text-align: right;\">\n",
              "      <th></th>\n",
              "      <th>MSSubClass</th>\n",
              "      <th>LotFrontage</th>\n",
              "      <th>LotArea</th>\n",
              "      <th>OverallQual</th>\n",
              "      <th>OverallCond</th>\n",
              "      <th>YearBuilt</th>\n",
              "      <th>YearRemodAdd</th>\n",
              "      <th>MasVnrArea</th>\n",
              "      <th>BsmtFinSF1</th>\n",
              "      <th>BsmtFinSF2</th>\n",
              "      <th>...</th>\n",
              "      <th>GarageArea</th>\n",
              "      <th>WoodDeckSF</th>\n",
              "      <th>OpenPorchSF</th>\n",
              "      <th>EnclosedPorch</th>\n",
              "      <th>3SsnPorch</th>\n",
              "      <th>ScreenPorch</th>\n",
              "      <th>PoolArea</th>\n",
              "      <th>MiscVal</th>\n",
              "      <th>MoSold</th>\n",
              "      <th>YrSold</th>\n",
              "    </tr>\n",
              "    <tr>\n",
              "      <th>Id</th>\n",
              "      <th></th>\n",
              "      <th></th>\n",
              "      <th></th>\n",
              "      <th></th>\n",
              "      <th></th>\n",
              "      <th></th>\n",
              "      <th></th>\n",
              "      <th></th>\n",
              "      <th></th>\n",
              "      <th></th>\n",
              "      <th></th>\n",
              "      <th></th>\n",
              "      <th></th>\n",
              "      <th></th>\n",
              "      <th></th>\n",
              "      <th></th>\n",
              "      <th></th>\n",
              "      <th></th>\n",
              "      <th></th>\n",
              "      <th></th>\n",
              "      <th></th>\n",
              "    </tr>\n",
              "  </thead>\n",
              "  <tbody>\n",
              "    <tr>\n",
              "      <th>619</th>\n",
              "      <td>20</td>\n",
              "      <td>90.0</td>\n",
              "      <td>11694</td>\n",
              "      <td>9</td>\n",
              "      <td>5</td>\n",
              "      <td>2007</td>\n",
              "      <td>2007</td>\n",
              "      <td>452.0</td>\n",
              "      <td>48</td>\n",
              "      <td>0</td>\n",
              "      <td>...</td>\n",
              "      <td>774</td>\n",
              "      <td>0</td>\n",
              "      <td>108</td>\n",
              "      <td>0</td>\n",
              "      <td>0</td>\n",
              "      <td>260</td>\n",
              "      <td>0</td>\n",
              "      <td>0</td>\n",
              "      <td>7</td>\n",
              "      <td>2007</td>\n",
              "    </tr>\n",
              "    <tr>\n",
              "      <th>871</th>\n",
              "      <td>20</td>\n",
              "      <td>60.0</td>\n",
              "      <td>6600</td>\n",
              "      <td>5</td>\n",
              "      <td>5</td>\n",
              "      <td>1962</td>\n",
              "      <td>1962</td>\n",
              "      <td>0.0</td>\n",
              "      <td>0</td>\n",
              "      <td>0</td>\n",
              "      <td>...</td>\n",
              "      <td>308</td>\n",
              "      <td>0</td>\n",
              "      <td>0</td>\n",
              "      <td>0</td>\n",
              "      <td>0</td>\n",
              "      <td>0</td>\n",
              "      <td>0</td>\n",
              "      <td>0</td>\n",
              "      <td>8</td>\n",
              "      <td>2009</td>\n",
              "    </tr>\n",
              "    <tr>\n",
              "      <th>93</th>\n",
              "      <td>30</td>\n",
              "      <td>80.0</td>\n",
              "      <td>13360</td>\n",
              "      <td>5</td>\n",
              "      <td>7</td>\n",
              "      <td>1921</td>\n",
              "      <td>2006</td>\n",
              "      <td>0.0</td>\n",
              "      <td>713</td>\n",
              "      <td>0</td>\n",
              "      <td>...</td>\n",
              "      <td>432</td>\n",
              "      <td>0</td>\n",
              "      <td>0</td>\n",
              "      <td>44</td>\n",
              "      <td>0</td>\n",
              "      <td>0</td>\n",
              "      <td>0</td>\n",
              "      <td>0</td>\n",
              "      <td>8</td>\n",
              "      <td>2009</td>\n",
              "    </tr>\n",
              "    <tr>\n",
              "      <th>818</th>\n",
              "      <td>20</td>\n",
              "      <td>NaN</td>\n",
              "      <td>13265</td>\n",
              "      <td>8</td>\n",
              "      <td>5</td>\n",
              "      <td>2002</td>\n",
              "      <td>2002</td>\n",
              "      <td>148.0</td>\n",
              "      <td>1218</td>\n",
              "      <td>0</td>\n",
              "      <td>...</td>\n",
              "      <td>857</td>\n",
              "      <td>150</td>\n",
              "      <td>59</td>\n",
              "      <td>0</td>\n",
              "      <td>0</td>\n",
              "      <td>0</td>\n",
              "      <td>0</td>\n",
              "      <td>0</td>\n",
              "      <td>7</td>\n",
              "      <td>2008</td>\n",
              "    </tr>\n",
              "    <tr>\n",
              "      <th>303</th>\n",
              "      <td>20</td>\n",
              "      <td>118.0</td>\n",
              "      <td>13704</td>\n",
              "      <td>7</td>\n",
              "      <td>5</td>\n",
              "      <td>2001</td>\n",
              "      <td>2002</td>\n",
              "      <td>150.0</td>\n",
              "      <td>0</td>\n",
              "      <td>0</td>\n",
              "      <td>...</td>\n",
              "      <td>843</td>\n",
              "      <td>468</td>\n",
              "      <td>81</td>\n",
              "      <td>0</td>\n",
              "      <td>0</td>\n",
              "      <td>0</td>\n",
              "      <td>0</td>\n",
              "      <td>0</td>\n",
              "      <td>1</td>\n",
              "      <td>2006</td>\n",
              "    </tr>\n",
              "  </tbody>\n",
              "</table>\n",
              "<p>5 rows × 36 columns</p>\n",
              "</div>"
            ]
          },
          "metadata": {
            "tags": []
          },
          "execution_count": 60
        }
      ]
    },
    {
      "cell_type": "markdown",
      "metadata": {
        "id": "RyuycrKOA-L2"
      },
      "source": [
        "You can already see a few missing values in the first several rows.  In the next step, you'll obtain a more comprehensive understanding of the missing values in the dataset.\n",
        "\n",
        "# Step 1: Preliminary investigation\n",
        "\n",
        "Run the code cell below without changes."
      ]
    },
    {
      "cell_type": "code",
      "metadata": {
        "execution": {
          "iopub.status.busy": "2021-07-24T14:55:23.540944Z",
          "iopub.execute_input": "2021-07-24T14:55:23.541304Z",
          "iopub.status.idle": "2021-07-24T14:55:23.550231Z",
          "shell.execute_reply.started": "2021-07-24T14:55:23.541271Z",
          "shell.execute_reply": "2021-07-24T14:55:23.549255Z"
        },
        "trusted": true,
        "id": "qjRDZteOA-L3",
        "outputId": "d502f78e-b41b-41d6-f0a8-3702e291d75c"
      },
      "source": [
        "# Shape of training data (num_rows, num_columns)\n",
        "print(X_train.shape)\n",
        "\n",
        "# Number of missing values in each column of training data\n",
        "missing_val_count_by_column = (X_train.isnull().sum())\n",
        "print(missing_val_count_by_column[missing_val_count_by_column > 0])"
      ],
      "execution_count": null,
      "outputs": [
        {
          "output_type": "stream",
          "text": [
            "(1168, 36)\n",
            "LotFrontage    212\n",
            "MasVnrArea       6\n",
            "GarageYrBlt     58\n",
            "dtype: int64\n"
          ],
          "name": "stdout"
        }
      ]
    },
    {
      "cell_type": "markdown",
      "metadata": {
        "id": "rwqOYXQJA-L3"
      },
      "source": [
        "### Part A\n",
        "\n",
        "Use the above output to answer the questions below."
      ]
    },
    {
      "cell_type": "code",
      "metadata": {
        "execution": {
          "iopub.status.busy": "2021-07-24T14:55:23.551655Z",
          "iopub.execute_input": "2021-07-24T14:55:23.552020Z",
          "iopub.status.idle": "2021-07-24T14:55:23.567097Z",
          "shell.execute_reply.started": "2021-07-24T14:55:23.551986Z",
          "shell.execute_reply": "2021-07-24T14:55:23.566273Z"
        },
        "trusted": true,
        "id": "OZdUPY2bA-L4",
        "outputId": "49e1a643-51a0-4c17-f796-5cd7ed11f7c4"
      },
      "source": [
        "# Fill in the line below: How many rows are in the training data?\n",
        "num_rows = 1168\n",
        "\n",
        "# Fill in the line below: How many columns in the training data\n",
        "# have missing values?\n",
        "num_cols_with_missing = 3\n",
        "\n",
        "# Fill in the line below: How many missing entries are contained in \n",
        "# all of the training data?\n",
        "tot_missing = 212 + 6 + 58\n",
        "\n",
        "# Check your answers\n",
        "step_1.a.check()"
      ],
      "execution_count": null,
      "outputs": [
        {
          "output_type": "display_data",
          "data": {
            "text/plain": [
              "<IPython.core.display.Javascript object>"
            ],
            "application/javascript": [
              "parent.postMessage({\"jupyterEvent\": \"custom.exercise_interaction\", \"data\": {\"outcomeType\": 1, \"valueTowardsCompletion\": 1.0, \"interactionType\": 1, \"questionType\": 1, \"questionId\": \"1.1_InvestigateEquality\", \"learnToolsVersion\": \"0.3.4\", \"failureMessage\": \"\", \"exceptionClass\": \"\", \"trace\": \"\"}}, \"*\")"
            ]
          },
          "metadata": {
            "tags": []
          }
        },
        {
          "output_type": "display_data",
          "data": {
            "text/plain": [
              "Correct"
            ],
            "text/markdown": "<span style=\"color:#33cc33\">Correct</span>"
          },
          "metadata": {
            "tags": []
          }
        }
      ]
    },
    {
      "cell_type": "code",
      "metadata": {
        "execution": {
          "iopub.status.busy": "2021-07-24T14:55:23.568199Z",
          "iopub.execute_input": "2021-07-24T14:55:23.568487Z",
          "iopub.status.idle": "2021-07-24T14:55:23.580164Z",
          "shell.execute_reply.started": "2021-07-24T14:55:23.568460Z",
          "shell.execute_reply": "2021-07-24T14:55:23.579274Z"
        },
        "trusted": true,
        "id": "zIubhhgnA-L5"
      },
      "source": [
        "# Lines below will give you a hint or solution code\n",
        "#step_1.a.hint()\n",
        "#step_1.a.solution()"
      ],
      "execution_count": null,
      "outputs": []
    },
    {
      "cell_type": "markdown",
      "metadata": {
        "id": "vSAE9kUWA-L5"
      },
      "source": [
        "### Part B\n",
        "Considering your answers above, what do you think is likely the best approach to dealing with the missing values?"
      ]
    },
    {
      "cell_type": "code",
      "metadata": {
        "execution": {
          "iopub.status.busy": "2021-07-24T14:55:23.581093Z",
          "iopub.execute_input": "2021-07-24T14:55:23.581399Z",
          "iopub.status.idle": "2021-07-24T14:55:23.596016Z",
          "shell.execute_reply.started": "2021-07-24T14:55:23.581372Z",
          "shell.execute_reply": "2021-07-24T14:55:23.594762Z"
        },
        "trusted": true,
        "id": "coC8pTSgA-L5",
        "outputId": "5734509a-0881-436c-a0f6-8ffaf27d81ba"
      },
      "source": [
        "# Check your answer (Run this code cell to receive credit!)\n",
        "step_1.b.check()"
      ],
      "execution_count": null,
      "outputs": [
        {
          "output_type": "display_data",
          "data": {
            "text/plain": [
              "<IPython.core.display.Javascript object>"
            ],
            "application/javascript": [
              "parent.postMessage({\"jupyterEvent\": \"custom.exercise_interaction\", \"data\": {\"outcomeType\": 1, \"valueTowardsCompletion\": 1.0, \"interactionType\": 1, \"questionType\": 4, \"questionId\": \"1.2_InvestigateThought\", \"learnToolsVersion\": \"0.3.4\", \"failureMessage\": \"\", \"exceptionClass\": \"\", \"trace\": \"\"}}, \"*\")"
            ]
          },
          "metadata": {
            "tags": []
          }
        },
        {
          "output_type": "display_data",
          "data": {
            "text/plain": [
              "Correct: \n",
              "\n",
              "Since there are relatively few missing entries in the data (the column with the greatest percentage of missing values is missing less than 20% of its entries), we can expect that dropping columns is unlikely to yield good results.  This is because we'd be throwing away a lot of valuable data, and so imputation will likely perform better."
            ],
            "text/markdown": "<span style=\"color:#33cc33\">Correct:</span> \n\nSince there are relatively few missing entries in the data (the column with the greatest percentage of missing values is missing less than 20% of its entries), we can expect that dropping columns is unlikely to yield good results.  This is because we'd be throwing away a lot of valuable data, and so imputation will likely perform better."
          },
          "metadata": {
            "tags": []
          }
        }
      ]
    },
    {
      "cell_type": "code",
      "metadata": {
        "execution": {
          "iopub.status.busy": "2021-07-24T14:55:23.597774Z",
          "iopub.execute_input": "2021-07-24T14:55:23.598105Z",
          "iopub.status.idle": "2021-07-24T14:55:23.606047Z",
          "shell.execute_reply.started": "2021-07-24T14:55:23.598077Z",
          "shell.execute_reply": "2021-07-24T14:55:23.604946Z"
        },
        "trusted": true,
        "id": "K2Ku3jLmA-L6"
      },
      "source": [
        "#step_1.b.hint()"
      ],
      "execution_count": null,
      "outputs": []
    },
    {
      "cell_type": "markdown",
      "metadata": {
        "id": "wv34FrlQA-L6"
      },
      "source": [
        "To compare different approaches to dealing with missing values, you'll use the same `score_dataset()` function from the tutorial.  This function reports the [mean absolute error](https://en.wikipedia.org/wiki/Mean_absolute_error) (MAE) from a random forest model."
      ]
    },
    {
      "cell_type": "code",
      "metadata": {
        "execution": {
          "iopub.status.busy": "2021-07-24T14:55:23.608728Z",
          "iopub.execute_input": "2021-07-24T14:55:23.609032Z",
          "iopub.status.idle": "2021-07-24T14:55:23.617450Z",
          "shell.execute_reply.started": "2021-07-24T14:55:23.609003Z",
          "shell.execute_reply": "2021-07-24T14:55:23.616382Z"
        },
        "trusted": true,
        "id": "g2oxtxyKA-L6"
      },
      "source": [
        "from sklearn.ensemble import RandomForestRegressor\n",
        "from sklearn.metrics import mean_absolute_error\n",
        "\n",
        "# Function for comparing different approaches\n",
        "def score_dataset(X_train, X_valid, y_train, y_valid):\n",
        "    model = RandomForestRegressor(n_estimators=100, random_state=0)\n",
        "    model.fit(X_train, y_train)\n",
        "    preds = model.predict(X_valid)\n",
        "    return mean_absolute_error(y_valid, preds)"
      ],
      "execution_count": null,
      "outputs": []
    },
    {
      "cell_type": "markdown",
      "metadata": {
        "id": "bp2iOqiJA-L7"
      },
      "source": [
        "# Step 2: Drop columns with missing values\n",
        "\n",
        "In this step, you'll preprocess the data in `X_train` and `X_valid` to remove columns with missing values.  Set the preprocessed DataFrames to `reduced_X_train` and `reduced_X_valid`, respectively.  "
      ]
    },
    {
      "cell_type": "code",
      "metadata": {
        "execution": {
          "iopub.status.busy": "2021-07-24T14:55:23.619096Z",
          "iopub.execute_input": "2021-07-24T14:55:23.619418Z",
          "iopub.status.idle": "2021-07-24T14:55:23.655246Z",
          "shell.execute_reply.started": "2021-07-24T14:55:23.619391Z",
          "shell.execute_reply": "2021-07-24T14:55:23.654209Z"
        },
        "trusted": true,
        "id": "fp0yCQx8A-L7",
        "outputId": "566be499-c381-4a5b-8fa1-db9f107ea806"
      },
      "source": [
        "# Fill in the line below: get names of columns with missing values\n",
        "cols_with_missing = [col for col in X_train.columns\n",
        "                     if X_train[col].isnull().any()]\n",
        "\n",
        "reduced_X_train = X_train.drop(cols_with_missing, axis=1)\n",
        "reduced_X_valid = X_valid.drop(cols_with_missing, axis=1)\n",
        "\n",
        "# Check your answers\n",
        "step_2.check()"
      ],
      "execution_count": null,
      "outputs": [
        {
          "output_type": "display_data",
          "data": {
            "text/plain": [
              "<IPython.core.display.Javascript object>"
            ],
            "application/javascript": [
              "parent.postMessage({\"jupyterEvent\": \"custom.exercise_interaction\", \"data\": {\"outcomeType\": 1, \"valueTowardsCompletion\": 1.0, \"interactionType\": 1, \"questionType\": 2, \"questionId\": \"2_DropMissing\", \"learnToolsVersion\": \"0.3.4\", \"failureMessage\": \"\", \"exceptionClass\": \"\", \"trace\": \"\"}}, \"*\")"
            ]
          },
          "metadata": {
            "tags": []
          }
        },
        {
          "output_type": "display_data",
          "data": {
            "text/plain": [
              "Correct"
            ],
            "text/markdown": "<span style=\"color:#33cc33\">Correct</span>"
          },
          "metadata": {
            "tags": []
          }
        }
      ]
    },
    {
      "cell_type": "code",
      "metadata": {
        "execution": {
          "iopub.status.busy": "2021-07-24T14:55:23.656570Z",
          "iopub.execute_input": "2021-07-24T14:55:23.656862Z",
          "iopub.status.idle": "2021-07-24T14:55:23.660612Z",
          "shell.execute_reply.started": "2021-07-24T14:55:23.656835Z",
          "shell.execute_reply": "2021-07-24T14:55:23.659521Z"
        },
        "trusted": true,
        "id": "UZaO-8_3A-L8"
      },
      "source": [
        "# Lines below will give you a hint or solution code\n",
        "#step_2.hint()\n",
        "#step_2.solution()"
      ],
      "execution_count": null,
      "outputs": []
    },
    {
      "cell_type": "markdown",
      "metadata": {
        "id": "H6XiIXyaA-L8"
      },
      "source": [
        "Run the next code cell without changes to obtain the MAE for this approach."
      ]
    },
    {
      "cell_type": "code",
      "metadata": {
        "execution": {
          "iopub.status.busy": "2021-07-24T14:55:23.661809Z",
          "iopub.execute_input": "2021-07-24T14:55:23.662104Z",
          "iopub.status.idle": "2021-07-24T14:55:24.928077Z",
          "shell.execute_reply.started": "2021-07-24T14:55:23.662075Z",
          "shell.execute_reply": "2021-07-24T14:55:24.926896Z"
        },
        "trusted": true,
        "id": "MDhu72NYA-L8",
        "outputId": "ca67a4e9-1b4b-4b1e-a751-869be2df0c77"
      },
      "source": [
        "print(\"MAE (Drop columns with missing values):\")\n",
        "print(score_dataset(reduced_X_train, reduced_X_valid, y_train, y_valid))"
      ],
      "execution_count": null,
      "outputs": [
        {
          "output_type": "stream",
          "text": [
            "MAE (Drop columns with missing values):\n",
            "17837.82570776256\n"
          ],
          "name": "stdout"
        }
      ]
    },
    {
      "cell_type": "markdown",
      "metadata": {
        "id": "93pTqYymA-L9"
      },
      "source": [
        "# Step 3: Imputation\n",
        "\n",
        "### Part A\n",
        "\n",
        "Use the next code cell to impute missing values with the mean value along each column.  Set the preprocessed DataFrames to `imputed_X_train` and `imputed_X_valid`.  Make sure that the column names match those in `X_train` and `X_valid`."
      ]
    },
    {
      "cell_type": "code",
      "metadata": {
        "execution": {
          "iopub.status.busy": "2021-07-24T14:55:24.929403Z",
          "iopub.execute_input": "2021-07-24T14:55:24.929720Z",
          "iopub.status.idle": "2021-07-24T14:55:24.963897Z",
          "shell.execute_reply.started": "2021-07-24T14:55:24.929689Z",
          "shell.execute_reply": "2021-07-24T14:55:24.962790Z"
        },
        "trusted": true,
        "id": "qq57TNAMA-L9",
        "outputId": "19660690-f2cf-4623-eb26-5e4316893362"
      },
      "source": [
        "from sklearn.impute import SimpleImputer\n",
        "\n",
        "# Imputation\n",
        "my_imputer = SimpleImputer()\n",
        "imputed_X_train = pd.DataFrame(my_imputer.fit_transform(X_train))\n",
        "imputed_X_valid = pd.DataFrame(my_imputer.transform(X_valid))\n",
        "\n",
        "# Imputation removed column names; put them back\n",
        "imputed_X_train.columns = X_train.columns\n",
        "imputed_X_valid.columns = X_valid.columns\n",
        "\n",
        "# Check your answers\n",
        "step_3.a.check()"
      ],
      "execution_count": null,
      "outputs": [
        {
          "output_type": "display_data",
          "data": {
            "text/plain": [
              "<IPython.core.display.Javascript object>"
            ],
            "application/javascript": [
              "parent.postMessage({\"jupyterEvent\": \"custom.exercise_interaction\", \"data\": {\"outcomeType\": 1, \"valueTowardsCompletion\": 1.0, \"interactionType\": 1, \"questionType\": 2, \"questionId\": \"3.1_ImputeCode\", \"learnToolsVersion\": \"0.3.4\", \"failureMessage\": \"\", \"exceptionClass\": \"\", \"trace\": \"\"}}, \"*\")"
            ]
          },
          "metadata": {
            "tags": []
          }
        },
        {
          "output_type": "display_data",
          "data": {
            "text/plain": [
              "Correct"
            ],
            "text/markdown": "<span style=\"color:#33cc33\">Correct</span>"
          },
          "metadata": {
            "tags": []
          }
        }
      ]
    },
    {
      "cell_type": "code",
      "metadata": {
        "execution": {
          "iopub.status.busy": "2021-07-24T14:55:24.965609Z",
          "iopub.execute_input": "2021-07-24T14:55:24.966028Z",
          "iopub.status.idle": "2021-07-24T14:55:24.971412Z",
          "shell.execute_reply.started": "2021-07-24T14:55:24.965980Z",
          "shell.execute_reply": "2021-07-24T14:55:24.970228Z"
        },
        "trusted": true,
        "id": "Ro3OtTwLA-L9"
      },
      "source": [
        "# Lines below will give you a hint or solution code\n",
        "#step_3.a.hint()\n",
        "#step_3.a.solution()"
      ],
      "execution_count": null,
      "outputs": []
    },
    {
      "cell_type": "markdown",
      "metadata": {
        "id": "gvSfLE5NA-L-"
      },
      "source": [
        "Run the next code cell without changes to obtain the MAE for this approach."
      ]
    },
    {
      "cell_type": "code",
      "metadata": {
        "execution": {
          "iopub.status.busy": "2021-07-24T14:55:24.973028Z",
          "iopub.execute_input": "2021-07-24T14:55:24.973501Z",
          "iopub.status.idle": "2021-07-24T14:55:26.357310Z",
          "shell.execute_reply.started": "2021-07-24T14:55:24.973456Z",
          "shell.execute_reply": "2021-07-24T14:55:26.356104Z"
        },
        "trusted": true,
        "id": "I3mcPMSAA-L-",
        "outputId": "e0216a0f-c7a0-42ee-dfcf-a434084fdba8"
      },
      "source": [
        "print(\"MAE (Imputation):\")\n",
        "print(score_dataset(imputed_X_train, imputed_X_valid, y_train, y_valid))"
      ],
      "execution_count": null,
      "outputs": [
        {
          "output_type": "stream",
          "text": [
            "MAE (Imputation):\n",
            "18062.894611872147\n"
          ],
          "name": "stdout"
        }
      ]
    },
    {
      "cell_type": "markdown",
      "metadata": {
        "id": "1nq5bJarA-L-"
      },
      "source": [
        "### Part B\n",
        "\n",
        "Compare the MAE from each approach.  Does anything surprise you about the results?  Why do you think one approach performed better than the other?"
      ]
    },
    {
      "cell_type": "code",
      "metadata": {
        "execution": {
          "iopub.status.busy": "2021-07-24T14:55:26.359049Z",
          "iopub.execute_input": "2021-07-24T14:55:26.359514Z",
          "iopub.status.idle": "2021-07-24T14:55:26.368376Z",
          "shell.execute_reply.started": "2021-07-24T14:55:26.359468Z",
          "shell.execute_reply": "2021-07-24T14:55:26.367365Z"
        },
        "trusted": true,
        "id": "WZLWP8cvA-L-",
        "outputId": "841cf3c0-4026-4419-b4d1-371093cedf7f"
      },
      "source": [
        "# Check your answer (Run this code cell to receive credit!)\n",
        "step_3.b.check()"
      ],
      "execution_count": null,
      "outputs": [
        {
          "output_type": "display_data",
          "data": {
            "text/plain": [
              "<IPython.core.display.Javascript object>"
            ],
            "application/javascript": [
              "parent.postMessage({\"jupyterEvent\": \"custom.exercise_interaction\", \"data\": {\"outcomeType\": 1, \"valueTowardsCompletion\": 1.0, \"interactionType\": 1, \"questionType\": 4, \"questionId\": \"3.2_ImputeThought\", \"learnToolsVersion\": \"0.3.4\", \"failureMessage\": \"\", \"exceptionClass\": \"\", \"trace\": \"\"}}, \"*\")"
            ]
          },
          "metadata": {
            "tags": []
          }
        },
        {
          "output_type": "display_data",
          "data": {
            "text/plain": [
              "Correct: \n",
              "\n",
              "Given that thre are so few missing values in the dataset, we'd expect imputation to perform better than dropping columns entirely.  However, we see that dropping columns performs slightly better!  While this can probably partially be attributed to noise in the dataset, another potential explanation is that the imputation method is not a great match to this dataset.  That is, maybe instead of filling in the mean value, it makes more sense to set every missing value to a value of 0, to fill in the most frequently encountered value, or to use some other method.  For instance, consider the `GarageYrBlt` column (which indicates the year that the garage was built).  It's likely that in some cases, a missing value could indicate a house that does not have a garage.  Does it make more sense to fill in the median value along each column in this case?  Or could we get better results by filling in the minimum value along each column?  It's not quite clear what's best in this case, but perhaps we can rule out some options immediately - for instance, setting missing values in this column to 0 is likely to yield horrible results!"
            ],
            "text/markdown": "<span style=\"color:#33cc33\">Correct:</span> \n\nGiven that thre are so few missing values in the dataset, we'd expect imputation to perform better than dropping columns entirely.  However, we see that dropping columns performs slightly better!  While this can probably partially be attributed to noise in the dataset, another potential explanation is that the imputation method is not a great match to this dataset.  That is, maybe instead of filling in the mean value, it makes more sense to set every missing value to a value of 0, to fill in the most frequently encountered value, or to use some other method.  For instance, consider the `GarageYrBlt` column (which indicates the year that the garage was built).  It's likely that in some cases, a missing value could indicate a house that does not have a garage.  Does it make more sense to fill in the median value along each column in this case?  Or could we get better results by filling in the minimum value along each column?  It's not quite clear what's best in this case, but perhaps we can rule out some options immediately - for instance, setting missing values in this column to 0 is likely to yield horrible results!"
          },
          "metadata": {
            "tags": []
          }
        }
      ]
    },
    {
      "cell_type": "code",
      "metadata": {
        "execution": {
          "iopub.status.busy": "2021-07-24T14:55:26.369900Z",
          "iopub.execute_input": "2021-07-24T14:55:26.370507Z",
          "iopub.status.idle": "2021-07-24T14:55:26.376216Z",
          "shell.execute_reply.started": "2021-07-24T14:55:26.370463Z",
          "shell.execute_reply": "2021-07-24T14:55:26.375161Z"
        },
        "trusted": true,
        "id": "FKT04Y8wA-L_"
      },
      "source": [
        "#step_3.b.hint()"
      ],
      "execution_count": null,
      "outputs": []
    },
    {
      "cell_type": "markdown",
      "metadata": {
        "id": "GszU9vHnA-L_"
      },
      "source": [
        "# Step 4: Generate test predictions\n",
        "\n",
        "In this final step, you'll use any approach of your choosing to deal with missing values.  Once you've preprocessed the training and validation features, you'll train and evaluate a random forest model.  Then, you'll preprocess the test data before generating predictions that can be submitted to the competition!\n",
        "\n",
        "### Part A\n",
        "\n",
        "Use the next code cell to preprocess the training and validation data.  Set the preprocessed DataFrames to `final_X_train` and `final_X_valid`.  **You can use any approach of your choosing here!**  in order for this step to be marked as correct, you need only ensure:\n",
        "- the preprocessed DataFrames have the same number of columns,\n",
        "- the preprocessed DataFrames have no missing values, \n",
        "- `final_X_train` and `y_train` have the same number of rows, and\n",
        "- `final_X_valid` and `y_valid` have the same number of rows."
      ]
    },
    {
      "cell_type": "code",
      "metadata": {
        "execution": {
          "iopub.status.busy": "2021-07-24T14:55:26.377942Z",
          "iopub.execute_input": "2021-07-24T14:55:26.378296Z",
          "iopub.status.idle": "2021-07-24T14:55:26.419628Z",
          "shell.execute_reply.started": "2021-07-24T14:55:26.378266Z",
          "shell.execute_reply": "2021-07-24T14:55:26.418360Z"
        },
        "trusted": true,
        "id": "dCDlRAnAA-L_",
        "outputId": "367c3613-ed1e-4f52-8c10-350cfcf6793a"
      },
      "source": [
        "# Preprocessed training and validation features\n",
        "final_imputer = SimpleImputer(strategy='median')\n",
        "final_X_train = pd.DataFrame(final_imputer.fit_transform(X_train))\n",
        "final_X_valid = pd.DataFrame(final_imputer.transform(X_valid))\n",
        "\n",
        "# Check your answers\n",
        "step_4.a.check()"
      ],
      "execution_count": null,
      "outputs": [
        {
          "output_type": "display_data",
          "data": {
            "text/plain": [
              "<IPython.core.display.Javascript object>"
            ],
            "application/javascript": [
              "parent.postMessage({\"jupyterEvent\": \"custom.exercise_interaction\", \"data\": {\"outcomeType\": 1, \"valueTowardsCompletion\": 1.0, \"interactionType\": 1, \"questionType\": 2, \"questionId\": \"4.1_PredsCodeA\", \"learnToolsVersion\": \"0.3.4\", \"failureMessage\": \"\", \"exceptionClass\": \"\", \"trace\": \"\"}}, \"*\")"
            ]
          },
          "metadata": {
            "tags": []
          }
        },
        {
          "output_type": "display_data",
          "data": {
            "text/plain": [
              "Correct"
            ],
            "text/markdown": "<span style=\"color:#33cc33\">Correct</span>"
          },
          "metadata": {
            "tags": []
          }
        }
      ]
    },
    {
      "cell_type": "code",
      "metadata": {
        "execution": {
          "iopub.status.busy": "2021-07-24T14:55:26.421068Z",
          "iopub.execute_input": "2021-07-24T14:55:26.421414Z",
          "iopub.status.idle": "2021-07-24T14:55:26.426526Z",
          "shell.execute_reply.started": "2021-07-24T14:55:26.421382Z",
          "shell.execute_reply": "2021-07-24T14:55:26.424756Z"
        },
        "trusted": true,
        "id": "MxhxeDjIA-L_"
      },
      "source": [
        "# Lines below will give you a hint or solution code\n",
        "#step_4.a.hint()\n",
        "#step_4.a.solution()"
      ],
      "execution_count": null,
      "outputs": []
    },
    {
      "cell_type": "markdown",
      "metadata": {
        "id": "TOexBz4RA-L_"
      },
      "source": [
        "Run the next code cell to train and evaluate a random forest model.  (*Note that we don't use the `score_dataset()` function above, because we will soon use the trained model to generate test predictions!*)"
      ]
    },
    {
      "cell_type": "code",
      "metadata": {
        "execution": {
          "iopub.status.busy": "2021-07-24T14:55:26.428237Z",
          "iopub.execute_input": "2021-07-24T14:55:26.428540Z",
          "iopub.status.idle": "2021-07-24T14:55:27.830873Z",
          "shell.execute_reply.started": "2021-07-24T14:55:26.428511Z",
          "shell.execute_reply": "2021-07-24T14:55:27.829898Z"
        },
        "trusted": true,
        "id": "KgaC0-CfA-MA",
        "outputId": "2a01079f-bad7-4caf-8584-77123c11da97"
      },
      "source": [
        "# Define and fit model\n",
        "model = RandomForestRegressor(n_estimators=100, random_state=0)\n",
        "model.fit(final_X_train, y_train)\n",
        "\n",
        "# Get validation predictions and MAE\n",
        "preds_valid = model.predict(final_X_valid)\n",
        "print(\"MAE (Your approach):\")\n",
        "print(mean_absolute_error(y_valid, preds_valid))"
      ],
      "execution_count": null,
      "outputs": [
        {
          "output_type": "stream",
          "text": [
            "MAE (Your approach):\n",
            "17791.59899543379\n"
          ],
          "name": "stdout"
        }
      ]
    },
    {
      "cell_type": "markdown",
      "metadata": {
        "id": "9-XQaApwA-MA"
      },
      "source": [
        "### Part B\n",
        "\n",
        "Use the next code cell to preprocess your test data.  Make sure that you use a method that agrees with how you preprocessed the training and validation data, and set the preprocessed test features to `final_X_test`.\n",
        "\n",
        "Then, use the preprocessed test features and the trained model to generate test predictions in `preds_test`.\n",
        "\n",
        "In order for this step to be marked correct, you need only ensure:\n",
        "- the preprocessed test DataFrame has no missing values, and\n",
        "- `final_X_test` has the same number of rows as `X_test`."
      ]
    },
    {
      "cell_type": "code",
      "metadata": {
        "execution": {
          "iopub.status.busy": "2021-07-24T14:55:27.832245Z",
          "iopub.execute_input": "2021-07-24T14:55:27.832554Z",
          "iopub.status.idle": "2021-07-24T14:55:27.887943Z",
          "shell.execute_reply.started": "2021-07-24T14:55:27.832523Z",
          "shell.execute_reply": "2021-07-24T14:55:27.886672Z"
        },
        "trusted": true,
        "id": "Qx6mgHfIA-MA",
        "outputId": "f37ef070-f2a7-4be1-8343-0125ebefc299"
      },
      "source": [
        "# Fill in the line below: preprocess test data\n",
        "final_X_test = pd.DataFrame(final_imputer.transform(X_test))\n",
        "\n",
        "# Fill in the line below: get test predictions\n",
        "preds_test = model.predict(final_X_test)\n",
        "\n",
        "# Check your answers\n",
        "step_4.b.check()"
      ],
      "execution_count": null,
      "outputs": [
        {
          "output_type": "display_data",
          "data": {
            "text/plain": [
              "<IPython.core.display.Javascript object>"
            ],
            "application/javascript": [
              "parent.postMessage({\"jupyterEvent\": \"custom.exercise_interaction\", \"data\": {\"outcomeType\": 1, \"valueTowardsCompletion\": 1.0, \"interactionType\": 1, \"questionType\": 2, \"questionId\": \"4.2_PredsCodeB\", \"learnToolsVersion\": \"0.3.4\", \"failureMessage\": \"\", \"exceptionClass\": \"\", \"trace\": \"\"}}, \"*\")"
            ]
          },
          "metadata": {
            "tags": []
          }
        },
        {
          "output_type": "display_data",
          "data": {
            "text/plain": [
              "Correct"
            ],
            "text/markdown": "<span style=\"color:#33cc33\">Correct</span>"
          },
          "metadata": {
            "tags": []
          }
        }
      ]
    },
    {
      "cell_type": "code",
      "metadata": {
        "execution": {
          "iopub.status.busy": "2021-07-24T14:55:27.890056Z",
          "iopub.execute_input": "2021-07-24T14:55:27.890550Z",
          "iopub.status.idle": "2021-07-24T14:55:27.894797Z",
          "shell.execute_reply.started": "2021-07-24T14:55:27.890502Z",
          "shell.execute_reply": "2021-07-24T14:55:27.893928Z"
        },
        "trusted": true,
        "id": "7FkWEpttA-MA"
      },
      "source": [
        "# Lines below will give you a hint or solution code\n",
        "#step_4.b.hint()\n",
        "#step_4.b.solution()"
      ],
      "execution_count": null,
      "outputs": []
    },
    {
      "cell_type": "markdown",
      "metadata": {
        "id": "9Vkj3AFxA-MB"
      },
      "source": [
        "Run the next code cell without changes to save your results to a CSV file that can be submitted directly to the competition."
      ]
    },
    {
      "cell_type": "code",
      "metadata": {
        "execution": {
          "iopub.status.busy": "2021-07-24T14:55:27.895892Z",
          "iopub.execute_input": "2021-07-24T14:55:27.896455Z",
          "iopub.status.idle": "2021-07-24T14:55:27.917085Z",
          "shell.execute_reply.started": "2021-07-24T14:55:27.896408Z",
          "shell.execute_reply": "2021-07-24T14:55:27.915961Z"
        },
        "trusted": true,
        "id": "uFRV6TDwA-MB"
      },
      "source": [
        "# Save test predictions to file\n",
        "output = pd.DataFrame({'Id': X_test.index,\n",
        "                       'SalePrice': preds_test})\n",
        "output.to_csv('submission.csv', index=False)"
      ],
      "execution_count": null,
      "outputs": []
    },
    {
      "cell_type": "markdown",
      "metadata": {
        "id": "kbv27PuEA-MB"
      },
      "source": [
        "# Submit your results\n",
        "\n",
        "Once you have successfully completed Step 4, you're ready to submit your results to the leaderboard!  (_You also learned how to do this in the previous exercise.  If you need a reminder of how to do this, please use the instructions below._)  \n",
        "\n",
        "First, you'll need to join the competition if you haven't already.  So open a new window by clicking on [this link](https://www.kaggle.com/c/home-data-for-ml-course).  Then click on the **Join Competition** button.\n",
        "\n",
        "![join competition image](https://i.imgur.com/wLmFtH3.png)\n",
        "\n",
        "Next, follow the instructions below:\n",
        "1. Begin by clicking on the blue **Save Version** button in the top right corner of the window.  This will generate a pop-up window.  \n",
        "2. Ensure that the **Save and Run All** option is selected, and then click on the blue **Save** button.\n",
        "3. This generates a window in the bottom left corner of the notebook.  After it has finished running, click on the number to the right of the **Save Version** button.  This pulls up a list of versions on the right of the screen.  Click on the ellipsis **(...)** to the right of the most recent version, and select **Open in Viewer**.  This brings you into view mode of the same page. You will need to scroll down to get back to these instructions.\n",
        "4. Click on the **Output** tab on the right of the screen.  Then, click on the file you would like to submit, and click on the blue **Submit** button to submit your results to the leaderboard.\n",
        "\n",
        "You have now successfully submitted to the competition!\n",
        "\n",
        "If you want to keep working to improve your performance, select the blue **Edit** button in the top right of the screen. Then you can change your code and repeat the process. There's a lot of room to improve, and you will climb up the leaderboard as you work.\n",
        "\n",
        "\n",
        "# Keep going\n",
        "\n",
        "Move on to learn what **[categorical variables](https://www.kaggle.com/alexisbcook/categorical-variables)** are, along with how to incorporate them into your machine learning models.  Categorical variables are very common in real-world data, but you'll get an error if you try to plug them into your models without processing them first!"
      ]
    },
    {
      "cell_type": "markdown",
      "metadata": {
        "id": "R8zNXiv8A-MB"
      },
      "source": [
        "---\n",
        "\n",
        "\n",
        "\n",
        "\n",
        "*Have questions or comments? Visit the [Learn Discussion forum](https://www.kaggle.com/learn-forum/161289) to chat with other Learners.*"
      ]
    }
  ]
}