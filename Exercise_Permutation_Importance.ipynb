{
  "nbformat": 4,
  "nbformat_minor": 0,
  "metadata": {
    "kernelspec": {
      "display_name": "Python 3",
      "language": "python",
      "name": "python3"
    },
    "language_info": {
      "name": "python",
      "version": "3.7.10",
      "mimetype": "text/x-python",
      "codemirror_mode": {
        "name": "ipython",
        "version": 3
      },
      "pygments_lexer": "ipython3",
      "nbconvert_exporter": "python",
      "file_extension": ".py"
    },
    "colab": {
      "name": "Exercise: Permutation Importance.ipynb",
      "provenance": [],
      "include_colab_link": true
    }
  },
  "cells": [
    {
      "cell_type": "markdown",
      "metadata": {
        "id": "view-in-github",
        "colab_type": "text"
      },
      "source": [
        "<a href=\"https://colab.research.google.com/github/Amey-Thakur/KAGGLE/blob/main/Exercise_Permutation_Importance.ipynb\" target=\"_parent\"><img src=\"https://colab.research.google.com/assets/colab-badge.svg\" alt=\"Open In Colab\"/></a>"
      ]
    },
    {
      "cell_type": "markdown",
      "metadata": {
        "id": "3hG42JqH6yLs"
      },
      "source": [
        "**This notebook is an exercise in the [Machine Learning Explainability](https://www.kaggle.com/learn/machine-learning-explainability) course.  You can reference the tutorial at [this link](https://www.kaggle.com/dansbecker/permutation-importance).**\n",
        "\n",
        "---\n"
      ]
    },
    {
      "cell_type": "markdown",
      "metadata": {
        "id": "KmOgzlnD6yLs"
      },
      "source": [
        "## Intro\n",
        "\n",
        "You will think about and calculate permutation importance with a sample of data from the [Taxi Fare Prediction](https://www.kaggle.com/c/new-york-city-taxi-fare-prediction) competition.\n",
        "\n",
        "We won't focus on data exploration or model building for now. You can just run the cell below to \n",
        "- Load the data\n",
        "- Divide the data into training and validation\n",
        "- Build a model that predicts taxi fares\n",
        "- Print a few rows for you to review"
      ]
    },
    {
      "cell_type": "code",
      "metadata": {
        "execution": {
          "iopub.status.busy": "2021-07-25T13:45:56.325238Z",
          "iopub.execute_input": "2021-07-25T13:45:56.325734Z",
          "iopub.status.idle": "2021-07-25T13:46:04.084685Z",
          "shell.execute_reply.started": "2021-07-25T13:45:56.325701Z",
          "shell.execute_reply": "2021-07-25T13:46:04.083657Z"
        },
        "trusted": true,
        "id": "esAqDhVk6yLt",
        "outputId": "57d9d089-7a2d-4c68-eeff-e2358b2bfbf0"
      },
      "source": [
        "# Loading data, dividing, modeling and EDA below\n",
        "import pandas as pd\n",
        "from sklearn.ensemble import RandomForestRegressor\n",
        "from sklearn.linear_model import LinearRegression\n",
        "from sklearn.model_selection import train_test_split\n",
        "\n",
        "data = pd.read_csv('../input/new-york-city-taxi-fare-prediction/train.csv', nrows=50000)\n",
        "\n",
        "# Remove data with extreme outlier coordinates or negative fares\n",
        "data = data.query('pickup_latitude > 40.7 and pickup_latitude < 40.8 and ' +\n",
        "                  'dropoff_latitude > 40.7 and dropoff_latitude < 40.8 and ' +\n",
        "                  'pickup_longitude > -74 and pickup_longitude < -73.9 and ' +\n",
        "                  'dropoff_longitude > -74 and dropoff_longitude < -73.9 and ' +\n",
        "                  'fare_amount > 0'\n",
        "                  )\n",
        "\n",
        "y = data.fare_amount\n",
        "\n",
        "base_features = ['pickup_longitude',\n",
        "                 'pickup_latitude',\n",
        "                 'dropoff_longitude',\n",
        "                 'dropoff_latitude',\n",
        "                 'passenger_count']\n",
        "\n",
        "X = data[base_features]\n",
        "\n",
        "\n",
        "train_X, val_X, train_y, val_y = train_test_split(X, y, random_state=1)\n",
        "first_model = RandomForestRegressor(n_estimators=50, random_state=1).fit(train_X, train_y)\n",
        "\n",
        "# Environment Set-Up for feedback system.\n",
        "from learntools.core import binder\n",
        "binder.bind(globals())\n",
        "from learntools.ml_explainability.ex2 import *\n",
        "print(\"Setup Complete\")\n",
        "\n",
        "# show data\n",
        "print(\"Data sample:\")\n",
        "data.head()"
      ],
      "execution_count": null,
      "outputs": [
        {
          "output_type": "stream",
          "text": [
            "Setup Complete\n",
            "Data sample:\n"
          ],
          "name": "stdout"
        },
        {
          "output_type": "execute_result",
          "data": {
            "text/plain": [
              "                             key  fare_amount          pickup_datetime  \\\n",
              "2   2011-08-18 00:35:00.00000049          5.7  2011-08-18 00:35:00 UTC   \n",
              "3    2012-04-21 04:30:42.0000001          7.7  2012-04-21 04:30:42 UTC   \n",
              "4  2010-03-09 07:51:00.000000135          5.3  2010-03-09 07:51:00 UTC   \n",
              "6    2012-11-20 20:35:00.0000001          7.5  2012-11-20 20:35:00 UTC   \n",
              "7   2012-01-04 17:22:00.00000081         16.5  2012-01-04 17:22:00 UTC   \n",
              "\n",
              "   pickup_longitude  pickup_latitude  dropoff_longitude  dropoff_latitude  \\\n",
              "2        -73.982738        40.761270         -73.991242         40.750562   \n",
              "3        -73.987130        40.733143         -73.991567         40.758092   \n",
              "4        -73.968095        40.768008         -73.956655         40.783762   \n",
              "6        -73.980002        40.751662         -73.973802         40.764842   \n",
              "7        -73.951300        40.774138         -73.990095         40.751048   \n",
              "\n",
              "   passenger_count  \n",
              "2                2  \n",
              "3                1  \n",
              "4                1  \n",
              "6                1  \n",
              "7                1  "
            ],
            "text/html": [
              "<div>\n",
              "<style scoped>\n",
              "    .dataframe tbody tr th:only-of-type {\n",
              "        vertical-align: middle;\n",
              "    }\n",
              "\n",
              "    .dataframe tbody tr th {\n",
              "        vertical-align: top;\n",
              "    }\n",
              "\n",
              "    .dataframe thead th {\n",
              "        text-align: right;\n",
              "    }\n",
              "</style>\n",
              "<table border=\"1\" class=\"dataframe\">\n",
              "  <thead>\n",
              "    <tr style=\"text-align: right;\">\n",
              "      <th></th>\n",
              "      <th>key</th>\n",
              "      <th>fare_amount</th>\n",
              "      <th>pickup_datetime</th>\n",
              "      <th>pickup_longitude</th>\n",
              "      <th>pickup_latitude</th>\n",
              "      <th>dropoff_longitude</th>\n",
              "      <th>dropoff_latitude</th>\n",
              "      <th>passenger_count</th>\n",
              "    </tr>\n",
              "  </thead>\n",
              "  <tbody>\n",
              "    <tr>\n",
              "      <th>2</th>\n",
              "      <td>2011-08-18 00:35:00.00000049</td>\n",
              "      <td>5.7</td>\n",
              "      <td>2011-08-18 00:35:00 UTC</td>\n",
              "      <td>-73.982738</td>\n",
              "      <td>40.761270</td>\n",
              "      <td>-73.991242</td>\n",
              "      <td>40.750562</td>\n",
              "      <td>2</td>\n",
              "    </tr>\n",
              "    <tr>\n",
              "      <th>3</th>\n",
              "      <td>2012-04-21 04:30:42.0000001</td>\n",
              "      <td>7.7</td>\n",
              "      <td>2012-04-21 04:30:42 UTC</td>\n",
              "      <td>-73.987130</td>\n",
              "      <td>40.733143</td>\n",
              "      <td>-73.991567</td>\n",
              "      <td>40.758092</td>\n",
              "      <td>1</td>\n",
              "    </tr>\n",
              "    <tr>\n",
              "      <th>4</th>\n",
              "      <td>2010-03-09 07:51:00.000000135</td>\n",
              "      <td>5.3</td>\n",
              "      <td>2010-03-09 07:51:00 UTC</td>\n",
              "      <td>-73.968095</td>\n",
              "      <td>40.768008</td>\n",
              "      <td>-73.956655</td>\n",
              "      <td>40.783762</td>\n",
              "      <td>1</td>\n",
              "    </tr>\n",
              "    <tr>\n",
              "      <th>6</th>\n",
              "      <td>2012-11-20 20:35:00.0000001</td>\n",
              "      <td>7.5</td>\n",
              "      <td>2012-11-20 20:35:00 UTC</td>\n",
              "      <td>-73.980002</td>\n",
              "      <td>40.751662</td>\n",
              "      <td>-73.973802</td>\n",
              "      <td>40.764842</td>\n",
              "      <td>1</td>\n",
              "    </tr>\n",
              "    <tr>\n",
              "      <th>7</th>\n",
              "      <td>2012-01-04 17:22:00.00000081</td>\n",
              "      <td>16.5</td>\n",
              "      <td>2012-01-04 17:22:00 UTC</td>\n",
              "      <td>-73.951300</td>\n",
              "      <td>40.774138</td>\n",
              "      <td>-73.990095</td>\n",
              "      <td>40.751048</td>\n",
              "      <td>1</td>\n",
              "    </tr>\n",
              "  </tbody>\n",
              "</table>\n",
              "</div>"
            ]
          },
          "metadata": {
            "tags": []
          },
          "execution_count": 13
        }
      ]
    },
    {
      "cell_type": "markdown",
      "metadata": {
        "id": "S777bh3z6yLv"
      },
      "source": [
        "The following two cells may also be useful to understand the values in the training data:"
      ]
    },
    {
      "cell_type": "code",
      "metadata": {
        "execution": {
          "iopub.status.busy": "2021-07-25T13:46:04.086057Z",
          "iopub.execute_input": "2021-07-25T13:46:04.086361Z",
          "iopub.status.idle": "2021-07-25T13:46:04.119056Z",
          "shell.execute_reply.started": "2021-07-25T13:46:04.086331Z",
          "shell.execute_reply": "2021-07-25T13:46:04.118071Z"
        },
        "trusted": true,
        "id": "ACS8yQDg6yLv",
        "outputId": "274d446f-7e39-4c3f-859e-4106c187a3f8"
      },
      "source": [
        "train_X.describe()"
      ],
      "execution_count": null,
      "outputs": [
        {
          "output_type": "execute_result",
          "data": {
            "text/plain": [
              "       pickup_longitude  pickup_latitude  dropoff_longitude  dropoff_latitude  \\\n",
              "count      23466.000000     23466.000000       23466.000000      23466.000000   \n",
              "mean         -73.976827        40.756931         -73.975359         40.757434   \n",
              "std            0.014625         0.018206           0.015930          0.018659   \n",
              "min          -73.999999        40.700013         -73.999999         40.700020   \n",
              "25%          -73.987964        40.744901         -73.987143         40.745756   \n",
              "50%          -73.979629        40.758076         -73.978588         40.758542   \n",
              "75%          -73.967797        40.769602         -73.966459         40.770406   \n",
              "max          -73.900062        40.799952         -73.900062         40.799999   \n",
              "\n",
              "       passenger_count  \n",
              "count     23466.000000  \n",
              "mean          1.662320  \n",
              "std           1.290729  \n",
              "min           0.000000  \n",
              "25%           1.000000  \n",
              "50%           1.000000  \n",
              "75%           2.000000  \n",
              "max           6.000000  "
            ],
            "text/html": [
              "<div>\n",
              "<style scoped>\n",
              "    .dataframe tbody tr th:only-of-type {\n",
              "        vertical-align: middle;\n",
              "    }\n",
              "\n",
              "    .dataframe tbody tr th {\n",
              "        vertical-align: top;\n",
              "    }\n",
              "\n",
              "    .dataframe thead th {\n",
              "        text-align: right;\n",
              "    }\n",
              "</style>\n",
              "<table border=\"1\" class=\"dataframe\">\n",
              "  <thead>\n",
              "    <tr style=\"text-align: right;\">\n",
              "      <th></th>\n",
              "      <th>pickup_longitude</th>\n",
              "      <th>pickup_latitude</th>\n",
              "      <th>dropoff_longitude</th>\n",
              "      <th>dropoff_latitude</th>\n",
              "      <th>passenger_count</th>\n",
              "    </tr>\n",
              "  </thead>\n",
              "  <tbody>\n",
              "    <tr>\n",
              "      <th>count</th>\n",
              "      <td>23466.000000</td>\n",
              "      <td>23466.000000</td>\n",
              "      <td>23466.000000</td>\n",
              "      <td>23466.000000</td>\n",
              "      <td>23466.000000</td>\n",
              "    </tr>\n",
              "    <tr>\n",
              "      <th>mean</th>\n",
              "      <td>-73.976827</td>\n",
              "      <td>40.756931</td>\n",
              "      <td>-73.975359</td>\n",
              "      <td>40.757434</td>\n",
              "      <td>1.662320</td>\n",
              "    </tr>\n",
              "    <tr>\n",
              "      <th>std</th>\n",
              "      <td>0.014625</td>\n",
              "      <td>0.018206</td>\n",
              "      <td>0.015930</td>\n",
              "      <td>0.018659</td>\n",
              "      <td>1.290729</td>\n",
              "    </tr>\n",
              "    <tr>\n",
              "      <th>min</th>\n",
              "      <td>-73.999999</td>\n",
              "      <td>40.700013</td>\n",
              "      <td>-73.999999</td>\n",
              "      <td>40.700020</td>\n",
              "      <td>0.000000</td>\n",
              "    </tr>\n",
              "    <tr>\n",
              "      <th>25%</th>\n",
              "      <td>-73.987964</td>\n",
              "      <td>40.744901</td>\n",
              "      <td>-73.987143</td>\n",
              "      <td>40.745756</td>\n",
              "      <td>1.000000</td>\n",
              "    </tr>\n",
              "    <tr>\n",
              "      <th>50%</th>\n",
              "      <td>-73.979629</td>\n",
              "      <td>40.758076</td>\n",
              "      <td>-73.978588</td>\n",
              "      <td>40.758542</td>\n",
              "      <td>1.000000</td>\n",
              "    </tr>\n",
              "    <tr>\n",
              "      <th>75%</th>\n",
              "      <td>-73.967797</td>\n",
              "      <td>40.769602</td>\n",
              "      <td>-73.966459</td>\n",
              "      <td>40.770406</td>\n",
              "      <td>2.000000</td>\n",
              "    </tr>\n",
              "    <tr>\n",
              "      <th>max</th>\n",
              "      <td>-73.900062</td>\n",
              "      <td>40.799952</td>\n",
              "      <td>-73.900062</td>\n",
              "      <td>40.799999</td>\n",
              "      <td>6.000000</td>\n",
              "    </tr>\n",
              "  </tbody>\n",
              "</table>\n",
              "</div>"
            ]
          },
          "metadata": {
            "tags": []
          },
          "execution_count": 14
        }
      ]
    },
    {
      "cell_type": "code",
      "metadata": {
        "execution": {
          "iopub.status.busy": "2021-07-25T13:46:04.120482Z",
          "iopub.execute_input": "2021-07-25T13:46:04.120888Z",
          "iopub.status.idle": "2021-07-25T13:46:04.129068Z",
          "shell.execute_reply.started": "2021-07-25T13:46:04.120848Z",
          "shell.execute_reply": "2021-07-25T13:46:04.128421Z"
        },
        "trusted": true,
        "id": "z9HIfQns6yLw",
        "outputId": "b950d5bb-dfcd-4d46-cc31-64c8a759b504"
      },
      "source": [
        "train_y.describe()"
      ],
      "execution_count": null,
      "outputs": [
        {
          "output_type": "execute_result",
          "data": {
            "text/plain": [
              "count    23466.000000\n",
              "mean         8.472539\n",
              "std          4.609747\n",
              "min          0.010000\n",
              "25%          5.500000\n",
              "50%          7.500000\n",
              "75%         10.100000\n",
              "max        165.000000\n",
              "Name: fare_amount, dtype: float64"
            ]
          },
          "metadata": {
            "tags": []
          },
          "execution_count": 15
        }
      ]
    },
    {
      "cell_type": "markdown",
      "metadata": {
        "id": "Xf9IaANq6yLw"
      },
      "source": [
        "## Question 1\n",
        "\n",
        "The first model uses the following features\n",
        "- pickup_longitude\n",
        "- pickup_latitude\n",
        "- dropoff_longitude\n",
        "- dropoff_latitude\n",
        "- passenger_count\n",
        "\n",
        "Before running any code... which variables seem potentially useful for predicting taxi fares? Do you think permutation importance will necessarily identify these features as important?\n",
        "\n",
        "Once you've thought about it, run `q_1.solution()` below to see how you might think about this before running the code."
      ]
    },
    {
      "cell_type": "code",
      "metadata": {
        "execution": {
          "iopub.status.busy": "2021-07-25T13:46:04.130314Z",
          "iopub.execute_input": "2021-07-25T13:46:04.130749Z",
          "iopub.status.idle": "2021-07-25T13:46:04.140640Z",
          "shell.execute_reply.started": "2021-07-25T13:46:04.130706Z",
          "shell.execute_reply": "2021-07-25T13:46:04.139771Z"
        },
        "trusted": true,
        "id": "ayppNuw26yLw",
        "outputId": "5aafc877-ac5d-405e-9a10-d9da16af2f35"
      },
      "source": [
        "# Check your answer (Run this code cell to receive credit!)\n",
        "q_1.solution()"
      ],
      "execution_count": null,
      "outputs": [
        {
          "output_type": "display_data",
          "data": {
            "text/plain": [
              "<IPython.core.display.Javascript object>"
            ],
            "application/javascript": [
              "parent.postMessage({\"jupyterEvent\": \"custom.exercise_interaction\", \"data\": {\"interactionType\": 3, \"questionType\": 4, \"questionId\": \"1_WhichFeaturesAreUseful\", \"learnToolsVersion\": \"0.3.4\", \"valueTowardsCompletion\": 0.0, \"failureMessage\": \"\", \"exceptionClass\": \"\", \"trace\": \"\", \"outcomeType\": 4}}, \"*\")"
            ]
          },
          "metadata": {
            "tags": []
          }
        },
        {
          "output_type": "display_data",
          "data": {
            "text/plain": [
              "Solution: It would be helpful to know whether New York City taxis\n",
              "    vary prices based on how many passengers they have. Most places do not\n",
              "    change fares based on numbers of passengers.\n",
              "    If you assume New York City is the same, then only the top 4 features listed should matter. At first glance, it seems all of those should matter equally.\n",
              "    "
            ],
            "text/markdown": "<span style=\"color:#33cc99\">Solution:</span> It would be helpful to know whether New York City taxis\n    vary prices based on how many passengers they have. Most places do not\n    change fares based on numbers of passengers.\n    If you assume New York City is the same, then only the top 4 features listed should matter. At first glance, it seems all of those should matter equally.\n    "
          },
          "metadata": {
            "tags": []
          }
        }
      ]
    },
    {
      "cell_type": "markdown",
      "metadata": {
        "id": "AoFR9q6w6yLx"
      },
      "source": [
        "## Question 2\n",
        "\n",
        "Create a `PermutationImportance` object called `perm` to show the importances from `first_model`.  Fit it with the appropriate data and show the weights.\n",
        "\n",
        "For your convenience, the code from the tutorial has been copied into a comment in this code cell."
      ]
    },
    {
      "cell_type": "code",
      "metadata": {
        "execution": {
          "iopub.status.busy": "2021-07-25T13:46:04.141906Z",
          "iopub.execute_input": "2021-07-25T13:46:04.142209Z",
          "iopub.status.idle": "2021-07-25T13:46:07.473540Z",
          "shell.execute_reply.started": "2021-07-25T13:46:04.142157Z",
          "shell.execute_reply": "2021-07-25T13:46:07.472474Z"
        },
        "trusted": true,
        "id": "IrursA9p6yLx",
        "outputId": "7c80cdba-a875-42c6-dca1-b2b72dd19a03"
      },
      "source": [
        "import eli5\n",
        "from eli5.sklearn import PermutationImportance\n",
        "\n",
        "perm = PermutationImportance(first_model, random_state=1).fit(val_X, val_y)\n",
        "eli5.show_weights(perm, feature_names = base_features)\n",
        "\n",
        "# Check your answer\n",
        "q_2.check()\n",
        "\n",
        "# uncomment the following line to visualize your results\n",
        "# eli5.show_weights(perm, feature_names = val_X.columns.tolist())"
      ],
      "execution_count": null,
      "outputs": [
        {
          "output_type": "display_data",
          "data": {
            "text/plain": [
              "<IPython.core.display.Javascript object>"
            ],
            "application/javascript": [
              "parent.postMessage({\"jupyterEvent\": \"custom.exercise_interaction\", \"data\": {\"outcomeType\": 1, \"valueTowardsCompletion\": 0.16666666666666666, \"interactionType\": 1, \"questionType\": 2, \"questionId\": \"2_FirstPermImportance\", \"learnToolsVersion\": \"0.3.4\", \"failureMessage\": \"\", \"exceptionClass\": \"\", \"trace\": \"\"}}, \"*\")"
            ]
          },
          "metadata": {
            "tags": []
          }
        },
        {
          "output_type": "display_data",
          "data": {
            "text/plain": [
              "Nice job!: Note that these scores can vary slightly from one run to the next.\n",
              "                      But the big picture findings will stay the same each time.\n",
              "                      "
            ],
            "text/markdown": "<span style=\"color:#33cc33\">Nice job!:</span> Note that these scores can vary slightly from one run to the next.\n                      But the big picture findings will stay the same each time.\n                      "
          },
          "metadata": {
            "tags": []
          }
        }
      ]
    },
    {
      "cell_type": "markdown",
      "metadata": {
        "id": "YH7Y01G46yLy"
      },
      "source": [
        "Uncomment the lines below for a hint or to see the solution."
      ]
    },
    {
      "cell_type": "code",
      "metadata": {
        "execution": {
          "iopub.status.busy": "2021-07-25T13:46:07.474732Z",
          "iopub.execute_input": "2021-07-25T13:46:07.475014Z",
          "iopub.status.idle": "2021-07-25T13:46:07.478723Z",
          "shell.execute_reply.started": "2021-07-25T13:46:07.474987Z",
          "shell.execute_reply": "2021-07-25T13:46:07.477665Z"
        },
        "trusted": true,
        "id": "-bQ8Wn666yLy"
      },
      "source": [
        "# q_2.hint()\n",
        "# q_2.solution()"
      ],
      "execution_count": null,
      "outputs": []
    },
    {
      "cell_type": "markdown",
      "metadata": {
        "id": "YLP682Hb6yLy"
      },
      "source": [
        "## Question 3\n",
        "Before seeing these results, we might have expected each of the 4 directional features to be equally important.\n",
        "\n",
        "But, on average, the latitude features matter more than the longititude features. Can you come up with any hypotheses for this?\n",
        "\n",
        "After you've thought about it, check here for some possible explanations:"
      ]
    },
    {
      "cell_type": "code",
      "metadata": {
        "execution": {
          "iopub.status.busy": "2021-07-25T13:46:07.479741Z",
          "iopub.execute_input": "2021-07-25T13:46:07.480030Z",
          "iopub.status.idle": "2021-07-25T13:46:07.493708Z",
          "shell.execute_reply.started": "2021-07-25T13:46:07.479994Z",
          "shell.execute_reply": "2021-07-25T13:46:07.492861Z"
        },
        "trusted": true,
        "id": "L0DS7J8C6yLy",
        "outputId": "818de9a2-e357-46bd-948a-c7ee5c84a8c9"
      },
      "source": [
        "# Check your answer (Run this code cell to receive credit!)\n",
        "q_3.solution()"
      ],
      "execution_count": null,
      "outputs": [
        {
          "output_type": "display_data",
          "data": {
            "text/plain": [
              "<IPython.core.display.Javascript object>"
            ],
            "application/javascript": [
              "parent.postMessage({\"jupyterEvent\": \"custom.exercise_interaction\", \"data\": {\"interactionType\": 3, \"questionType\": 4, \"questionId\": \"3_WhyLatitude\", \"learnToolsVersion\": \"0.3.4\", \"valueTowardsCompletion\": 0.0, \"failureMessage\": \"\", \"exceptionClass\": \"\", \"trace\": \"\", \"outcomeType\": 4}}, \"*\")"
            ]
          },
          "metadata": {
            "tags": []
          }
        },
        {
          "output_type": "display_data",
          "data": {
            "text/plain": [
              "Solution: \n",
              "    1. Travel might tend to have greater latitude distances than longitude distances. If the longitudes values were generally closer together, shuffling them wouldn't matter as much.\n",
              "    2. Different parts of the city might have different pricing rules (e.g. price per mile), and pricing rules could vary more by latitude than longitude.\n",
              "    3. Tolls might be greater on roads going North<->South (changing latitude) than on roads going East <-> West (changing longitude).  Thus latitude would have a larger effect on the prediction because it captures the amount of the tolls.\n",
              "    "
            ],
            "text/markdown": "<span style=\"color:#33cc99\">Solution:</span> \n    1. Travel might tend to have greater latitude distances than longitude distances. If the longitudes values were generally closer together, shuffling them wouldn't matter as much.\n    2. Different parts of the city might have different pricing rules (e.g. price per mile), and pricing rules could vary more by latitude than longitude.\n    3. Tolls might be greater on roads going North<->South (changing latitude) than on roads going East <-> West (changing longitude).  Thus latitude would have a larger effect on the prediction because it captures the amount of the tolls.\n    "
          },
          "metadata": {
            "tags": []
          }
        }
      ]
    },
    {
      "cell_type": "markdown",
      "metadata": {
        "id": "F1p4eQQG6yLz"
      },
      "source": [
        "## Question 4\n",
        "\n",
        "Without detailed knowledge of New York City, it's difficult to rule out most hypotheses about why latitude features matter more than longitude.\n",
        "\n",
        "A good next step is to disentangle the effect of being in certain parts of the city from the effect of total distance traveled.  \n",
        "\n",
        "The code below creates new features for longitudinal and latitudinal distance. It then builds a model that adds these new features to those you already had.\n",
        "\n",
        "Fill in two lines of code to calculate and show the importance weights with this new set of features. As usual, you can uncomment lines below to check your code, see a hint or get the solution."
      ]
    },
    {
      "cell_type": "code",
      "metadata": {
        "execution": {
          "iopub.status.busy": "2021-07-25T13:46:07.495394Z",
          "iopub.execute_input": "2021-07-25T13:46:07.495760Z",
          "iopub.status.idle": "2021-07-25T13:46:14.935986Z",
          "shell.execute_reply.started": "2021-07-25T13:46:07.495733Z",
          "shell.execute_reply": "2021-07-25T13:46:14.935022Z"
        },
        "trusted": true,
        "id": "XQXod-W06yLz",
        "outputId": "2d619c9b-b3d8-40be-f514-baa2dbc85c7b"
      },
      "source": [
        "# create new features\n",
        "data['abs_lon_change'] = abs(data.dropoff_longitude - data.pickup_longitude)\n",
        "data['abs_lat_change'] = abs(data.dropoff_latitude - data.pickup_latitude)\n",
        "\n",
        "features_2  = ['pickup_longitude',\n",
        "               'pickup_latitude',\n",
        "               'dropoff_longitude',\n",
        "               'dropoff_latitude',\n",
        "               'abs_lat_change',\n",
        "               'abs_lon_change']\n",
        "\n",
        "X = data[features_2]\n",
        "new_train_X, new_val_X, new_train_y, new_val_y = train_test_split(X, y, random_state=1)\n",
        "second_model = RandomForestRegressor(n_estimators=30, random_state=1).fit(new_train_X, new_train_y)\n",
        "\n",
        "# Create a PermutationImportance object on second_model and fit it to new_val_X and new_val_y\n",
        "perm2 = PermutationImportance(second_model, random_state=1).fit(new_val_X, new_val_y)\n",
        "\n",
        "# show the weights for the permutation importance you just calculated\n",
        "eli5.show_weights(perm2, feature_names = features_2)\n",
        "\n",
        "# Check your answer\n",
        "q_4.check()"
      ],
      "execution_count": null,
      "outputs": [
        {
          "output_type": "display_data",
          "data": {
            "text/plain": [
              "<IPython.core.display.Javascript object>"
            ],
            "application/javascript": [
              "parent.postMessage({\"jupyterEvent\": \"custom.exercise_interaction\", \"data\": {\"outcomeType\": 1, \"valueTowardsCompletion\": 0.16666666666666666, \"interactionType\": 1, \"questionType\": 2, \"questionId\": \"4_ImportanceWithAbsFeatures\", \"learnToolsVersion\": \"0.3.4\", \"failureMessage\": \"\", \"exceptionClass\": \"\", \"trace\": \"\"}}, \"*\")"
            ]
          },
          "metadata": {
            "tags": []
          }
        },
        {
          "output_type": "display_data",
          "data": {
            "text/plain": [
              "Correct"
            ],
            "text/markdown": "<span style=\"color:#33cc33\">Correct</span>"
          },
          "metadata": {
            "tags": []
          }
        }
      ]
    },
    {
      "cell_type": "markdown",
      "metadata": {
        "id": "7yjOxkZ_6yL0"
      },
      "source": [
        "How would you interpret these importance scores? Distance traveled seems far more important than any location effects. \n",
        "\n",
        "But the location still affects model predictions, and dropoff location now matters slightly more than pickup location. Do you have any hypotheses for why this might be? The techniques in the next lessons will help you` dive into this more."
      ]
    },
    {
      "cell_type": "code",
      "metadata": {
        "execution": {
          "iopub.status.busy": "2021-07-25T13:46:14.937365Z",
          "iopub.execute_input": "2021-07-25T13:46:14.937681Z",
          "iopub.status.idle": "2021-07-25T13:46:14.940771Z",
          "shell.execute_reply.started": "2021-07-25T13:46:14.937651Z",
          "shell.execute_reply": "2021-07-25T13:46:14.940131Z"
        },
        "trusted": true,
        "id": "qXJUsj_v6yL0"
      },
      "source": [
        "# Check your answer (Run this code cell to receive credit!)\n",
        "# q_4.solution()"
      ],
      "execution_count": null,
      "outputs": []
    },
    {
      "cell_type": "markdown",
      "metadata": {
        "id": "2DYUPAoF6yL0"
      },
      "source": [
        "## Question 5\n",
        "\n",
        "A colleague observes that the values for `abs_lon_change` and `abs_lat_change` are pretty small (all values are between -0.1 and 0.1), whereas other variables have larger values.  Do you think this could explain why those coordinates had larger permutation importance values in this case?  \n",
        "\n",
        "Consider an alternative where you created and used a feature that was 100X as large for these features, and used that larger feature for training and importance calculations. Would this change the outputted permutaiton importance values?\n",
        "\n",
        "Why or why not?\n",
        "\n",
        "After you have thought about your answer, either try this experiment or look up the answer in the cell below."
      ]
    },
    {
      "cell_type": "code",
      "metadata": {
        "execution": {
          "iopub.status.busy": "2021-07-25T13:46:14.941856Z",
          "iopub.execute_input": "2021-07-25T13:46:14.942297Z",
          "iopub.status.idle": "2021-07-25T13:46:14.958695Z",
          "shell.execute_reply.started": "2021-07-25T13:46:14.942262Z",
          "shell.execute_reply": "2021-07-25T13:46:14.957683Z"
        },
        "trusted": true,
        "id": "JlujKtCu6yL1",
        "outputId": "ca72a8f3-db75-4de5-f33f-50912d83309f"
      },
      "source": [
        "# Check your answer (Run this code cell to receive credit!)\n",
        "q_5.solution()"
      ],
      "execution_count": null,
      "outputs": [
        {
          "output_type": "display_data",
          "data": {
            "text/plain": [
              "<IPython.core.display.Javascript object>"
            ],
            "application/javascript": [
              "parent.postMessage({\"jupyterEvent\": \"custom.exercise_interaction\", \"data\": {\"interactionType\": 3, \"questionType\": 4, \"questionId\": \"5_ScaleUpFeatureMagnitude\", \"learnToolsVersion\": \"0.3.4\", \"valueTowardsCompletion\": 0.0, \"failureMessage\": \"\", \"exceptionClass\": \"\", \"trace\": \"\", \"outcomeType\": 4}}, \"*\")"
            ]
          },
          "metadata": {
            "tags": []
          }
        },
        {
          "output_type": "display_data",
          "data": {
            "text/plain": [
              "Solution: \n",
              "    The scale of features does not affect permutation importance per se. The only reason that rescaling a feature would affect PI is indirectly, if rescaling helped or hurt the ability of the particular learning method we're using to make use of that feature.\n",
              "    That won't happen with tree based models, like the Random Forest used here.\n",
              "    If you are familiar with Ridge Regression, you might be able to think of how that would be affected.\n",
              "    That said, the absolute change features are have high importance because they capture total distance traveled, which is the primary determinant of taxi fares...It is not an artifact of the feature magnitude.\n",
              "    "
            ],
            "text/markdown": "<span style=\"color:#33cc99\">Solution:</span> \n    The scale of features does not affect permutation importance per se. The only reason that rescaling a feature would affect PI is indirectly, if rescaling helped or hurt the ability of the particular learning method we're using to make use of that feature.\n    That won't happen with tree based models, like the Random Forest used here.\n    If you are familiar with Ridge Regression, you might be able to think of how that would be affected.\n    That said, the absolute change features are have high importance because they capture total distance traveled, which is the primary determinant of taxi fares...It is not an artifact of the feature magnitude.\n    "
          },
          "metadata": {
            "tags": []
          }
        }
      ]
    },
    {
      "cell_type": "markdown",
      "metadata": {
        "id": "xdqZOxEx6yL1"
      },
      "source": [
        "## Question 6\n",
        "\n",
        "You've seen that the feature importance for latitudinal distance is greater than the importance of longitudinal distance. From this, can we conclude whether travelling a fixed latitudinal distance tends to be more expensive than traveling the same longitudinal distance?\n",
        "\n",
        "Why or why not? Check your answer below."
      ]
    },
    {
      "cell_type": "code",
      "metadata": {
        "execution": {
          "iopub.status.busy": "2021-07-25T13:46:14.960342Z",
          "iopub.execute_input": "2021-07-25T13:46:14.960784Z",
          "iopub.status.idle": "2021-07-25T13:46:14.971945Z",
          "shell.execute_reply.started": "2021-07-25T13:46:14.960738Z",
          "shell.execute_reply": "2021-07-25T13:46:14.970979Z"
        },
        "trusted": true,
        "id": "Ilrs5rmM6yL1",
        "outputId": "c8778ad8-48bd-48f3-c1e0-c62466894db9"
      },
      "source": [
        "# Check your answer (Run this code cell to receive credit!)\n",
        "q_6.solution()"
      ],
      "execution_count": null,
      "outputs": [
        {
          "output_type": "display_data",
          "data": {
            "text/plain": [
              "<IPython.core.display.Javascript object>"
            ],
            "application/javascript": [
              "parent.postMessage({\"jupyterEvent\": \"custom.exercise_interaction\", \"data\": {\"interactionType\": 3, \"questionType\": 4, \"questionId\": \"6_FromPermImportanceToMarginalEffect\", \"learnToolsVersion\": \"0.3.4\", \"valueTowardsCompletion\": 0.0, \"failureMessage\": \"\", \"exceptionClass\": \"\", \"trace\": \"\", \"outcomeType\": 4}}, \"*\")"
            ]
          },
          "metadata": {
            "tags": []
          }
        },
        {
          "output_type": "display_data",
          "data": {
            "text/plain": [
              "Solution: \n",
              "    We cannot tell from the permutation importance results whether traveling a fixed latitudinal distance is more or less expensive than traveling the same longitudinal distance.\n",
              "    Possible reasons latitude feature are more important than longitude features\n",
              "    1. latitudinal distances in the dataset tend to be larger\n",
              "    2. it is more expensive to travel a fixed latitudinal distance\n",
              "    3. Both of the above\n",
              "    If abs_lon_change values were very small, longitues could be less important to the model even if the cost per mile of travel in that direction were high.\n",
              "    "
            ],
            "text/markdown": "<span style=\"color:#33cc99\">Solution:</span> \n    We cannot tell from the permutation importance results whether traveling a fixed latitudinal distance is more or less expensive than traveling the same longitudinal distance.\n    Possible reasons latitude feature are more important than longitude features\n    1. latitudinal distances in the dataset tend to be larger\n    2. it is more expensive to travel a fixed latitudinal distance\n    3. Both of the above\n    If abs_lon_change values were very small, longitues could be less important to the model even if the cost per mile of travel in that direction were high.\n    "
          },
          "metadata": {
            "tags": []
          }
        }
      ]
    },
    {
      "cell_type": "markdown",
      "metadata": {
        "id": "LrEKWgDR6yL1"
      },
      "source": [
        "## Keep Going\n",
        "\n",
        "Permutation importance is useful useful for debugging, understanding your model, and communicating a high-level overview from your model.  \n",
        "\n",
        "Next, learn about **[partial dependence plots](https://www.kaggle.com/dansbecker/partial-plots)** to see **how** each feature affects predictions.\n"
      ]
    },
    {
      "cell_type": "markdown",
      "metadata": {
        "id": "q8MipNJc6yL2"
      },
      "source": [
        "---\n",
        "\n",
        "\n",
        "\n",
        "\n",
        "*Have questions or comments? Visit the [Learn Discussion forum](https://www.kaggle.com/learn-forum/161307) to chat with other Learners.*"
      ]
    }
  ]
}