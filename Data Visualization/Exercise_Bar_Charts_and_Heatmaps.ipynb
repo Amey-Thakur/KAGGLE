{
  "nbformat": 4,
  "nbformat_minor": 0,
  "metadata": {
    "kernelspec": {
      "display_name": "Python 3",
      "language": "python",
      "name": "python3"
    },
    "language_info": {
      "name": "python",
      "version": "3.7.10",
      "mimetype": "text/x-python",
      "codemirror_mode": {
        "name": "ipython",
        "version": 3
      },
      "pygments_lexer": "ipython3",
      "nbconvert_exporter": "python",
      "file_extension": ".py"
    },
    "colab": {
      "name": "Exercise: Bar Charts and Heatmaps.ipynb",
      "provenance": [],
      "include_colab_link": true
    }
  },
  "cells": [
    {
      "cell_type": "markdown",
      "metadata": {
        "id": "view-in-github",
        "colab_type": "text"
      },
      "source": [
        "<a href=\"https://colab.research.google.com/github/Amey-Thakur/KAGGLE/blob/main/Exercise_Bar_Charts_and_Heatmaps.ipynb\" target=\"_parent\"><img src=\"https://colab.research.google.com/assets/colab-badge.svg\" alt=\"Open In Colab\"/></a>"
      ]
    },
    {
      "cell_type": "markdown",
      "metadata": {
        "id": "s8EmdF6Lq0J1"
      },
      "source": [
        "**This notebook is an exercise in the [Data Visualization](https://www.kaggle.com/learn/data-visualization) course.  You can reference the tutorial at [this link](https://www.kaggle.com/alexisbcook/bar-charts-and-heatmaps).**\n",
        "\n",
        "---\n"
      ]
    },
    {
      "cell_type": "markdown",
      "metadata": {
        "id": "N-CUAsdeq0J4"
      },
      "source": [
        "In this exercise, you will use your new knowledge to propose a solution to a real-world scenario.  To succeed, you will need to import data into Python, answer questions using the data, and generate **bar charts** and **heatmaps** to understand patterns in the data.\n",
        "\n",
        "## Scenario\n",
        "\n",
        "You've recently decided to create your very own video game!  As an avid reader of [IGN Game Reviews](https://www.ign.com/reviews/games), you hear about all of the most recent game releases, along with the ranking they've received from experts, ranging from 0 (_Disaster_) to 10 (_Masterpiece_).\n",
        "\n",
        "![ex2_ign](https://i.imgur.com/Oh06Fu1.png)\n",
        "\n",
        "You're interested in using [IGN reviews](https://www.ign.com/reviews/games) to guide the design of your upcoming game.  Thankfully, someone has summarized the rankings in a really useful CSV file that you can use to guide your analysis.\n",
        "\n",
        "## Setup\n",
        "\n",
        "Run the next cell to import and configure the Python libraries that you need to complete the exercise."
      ]
    },
    {
      "cell_type": "code",
      "metadata": {
        "execution": {
          "iopub.status.busy": "2021-07-23T14:00:23.212244Z",
          "iopub.execute_input": "2021-07-23T14:00:23.212827Z",
          "iopub.status.idle": "2021-07-23T14:00:23.219902Z",
          "shell.execute_reply.started": "2021-07-23T14:00:23.212791Z",
          "shell.execute_reply": "2021-07-23T14:00:23.218745Z"
        },
        "trusted": true,
        "id": "NN-DLkXgq0J5",
        "outputId": "0cab6c8a-e90d-42e9-cbeb-fb39b5014d15"
      },
      "source": [
        "import pandas as pd\n",
        "pd.plotting.register_matplotlib_converters()\n",
        "import matplotlib.pyplot as plt\n",
        "%matplotlib inline\n",
        "import seaborn as sns\n",
        "print(\"Setup Complete\")"
      ],
      "execution_count": null,
      "outputs": [
        {
          "output_type": "stream",
          "text": [
            "Setup Complete\n"
          ],
          "name": "stdout"
        }
      ]
    },
    {
      "cell_type": "markdown",
      "metadata": {
        "id": "iE2pHBtpq0J6"
      },
      "source": [
        "The questions below will give you feedback on your work. Run the following cell to set up our feedback system."
      ]
    },
    {
      "cell_type": "code",
      "metadata": {
        "execution": {
          "iopub.status.busy": "2021-07-23T14:00:23.221471Z",
          "iopub.execute_input": "2021-07-23T14:00:23.221779Z",
          "iopub.status.idle": "2021-07-23T14:00:23.234981Z",
          "shell.execute_reply.started": "2021-07-23T14:00:23.221751Z",
          "shell.execute_reply": "2021-07-23T14:00:23.233849Z"
        },
        "trusted": true,
        "id": "fmnU1xGLq0J7",
        "outputId": "c8621139-4264-4aa3-c724-766b22c495d2"
      },
      "source": [
        "# Set up code checking\n",
        "import os\n",
        "if not os.path.exists(\"../input/ign_scores.csv\"):\n",
        "    os.symlink(\"../input/data-for-datavis/ign_scores.csv\", \"../input/ign_scores.csv\") \n",
        "from learntools.core import binder\n",
        "binder.bind(globals())\n",
        "from learntools.data_viz_to_coder.ex3 import *\n",
        "print(\"Setup Complete\")"
      ],
      "execution_count": null,
      "outputs": [
        {
          "output_type": "stream",
          "text": [
            "Setup Complete\n"
          ],
          "name": "stdout"
        }
      ]
    },
    {
      "cell_type": "markdown",
      "metadata": {
        "id": "3Q5cd_UBq0J7"
      },
      "source": [
        "## Step 1: Load the data\n",
        "\n",
        "Read the IGN data file into `ign_data`.  Use the `\"Platform\"` column to label the rows."
      ]
    },
    {
      "cell_type": "code",
      "metadata": {
        "execution": {
          "iopub.status.busy": "2021-07-23T14:00:23.236738Z",
          "iopub.execute_input": "2021-07-23T14:00:23.237088Z",
          "iopub.status.idle": "2021-07-23T14:00:23.253735Z",
          "shell.execute_reply.started": "2021-07-23T14:00:23.237052Z",
          "shell.execute_reply": "2021-07-23T14:00:23.252792Z"
        },
        "trusted": true,
        "id": "S5EPDqFiq0J8",
        "outputId": "316fcc69-3dd9-4421-a115-db68a4d2c1b0"
      },
      "source": [
        "# Path of the file to read\n",
        "ign_filepath = \"../input/ign_scores.csv\"\n",
        "\n",
        "# Fill in the line below to read the file into a variable ign_data\n",
        "ign_data = pd.read_csv(ign_filepath, index_col=\"Platform\")\n",
        "\n",
        "# Run the line below with no changes to check that you've loaded the data correctly\n",
        "step_1.check()"
      ],
      "execution_count": null,
      "outputs": [
        {
          "output_type": "display_data",
          "data": {
            "text/plain": [
              "<IPython.core.display.Javascript object>"
            ],
            "application/javascript": [
              "parent.postMessage({\"jupyterEvent\": \"custom.exercise_interaction\", \"data\": {\"outcomeType\": 1, \"valueTowardsCompletion\": 0.5, \"interactionType\": 1, \"questionType\": 1, \"questionId\": \"1_LoadIGNData\", \"learnToolsVersion\": \"0.3.4\", \"failureMessage\": \"\", \"exceptionClass\": \"\", \"trace\": \"\"}}, \"*\")"
            ]
          },
          "metadata": {
            "tags": []
          }
        },
        {
          "output_type": "display_data",
          "data": {
            "text/plain": [
              "Correct"
            ],
            "text/markdown": "<span style=\"color:#33cc33\">Correct</span>"
          },
          "metadata": {
            "tags": []
          }
        }
      ]
    },
    {
      "cell_type": "code",
      "metadata": {
        "execution": {
          "iopub.status.busy": "2021-07-23T14:00:23.255483Z",
          "iopub.execute_input": "2021-07-23T14:00:23.255801Z",
          "iopub.status.idle": "2021-07-23T14:00:23.259089Z",
          "shell.execute_reply.started": "2021-07-23T14:00:23.255768Z",
          "shell.execute_reply": "2021-07-23T14:00:23.258366Z"
        },
        "trusted": true,
        "id": "gJ-HxXHKq0J8"
      },
      "source": [
        "# Lines below will give you a hint or solution code\n",
        "#step_1.hint()\n",
        "#step_1.solution()"
      ],
      "execution_count": null,
      "outputs": []
    },
    {
      "cell_type": "markdown",
      "metadata": {
        "id": "i9pBF1veq0J9"
      },
      "source": [
        "## Step 2: Review the data\n",
        "\n",
        "Use a Python command to print the entire dataset."
      ]
    },
    {
      "cell_type": "code",
      "metadata": {
        "execution": {
          "iopub.status.busy": "2021-07-23T14:00:23.260007Z",
          "iopub.execute_input": "2021-07-23T14:00:23.260300Z",
          "iopub.status.idle": "2021-07-23T14:00:23.302065Z",
          "shell.execute_reply.started": "2021-07-23T14:00:23.260268Z",
          "shell.execute_reply": "2021-07-23T14:00:23.300989Z"
        },
        "trusted": true,
        "id": "y4ss7T11q0J9",
        "outputId": "c319c5e7-ff01-4c70-bf4f-f31a3c37daa0"
      },
      "source": [
        "# Print the data\n",
        "ign_data"
      ],
      "execution_count": null,
      "outputs": [
        {
          "output_type": "execute_result",
          "data": {
            "text/plain": [
              "                        Action  Action, Adventure  Adventure  Fighting  \\\n",
              "Platform                                                                 \n",
              "Dreamcast             6.882857           7.511111   6.281818  8.200000   \n",
              "Game Boy Advance      6.373077           7.507692   6.057143  6.226316   \n",
              "Game Boy Color        6.272727           8.166667   5.307692  4.500000   \n",
              "GameCube              6.532584           7.608333   6.753846  7.422222   \n",
              "Nintendo 3DS          6.670833           7.481818   7.414286  6.614286   \n",
              "Nintendo 64           6.649057           8.250000   7.000000  5.681250   \n",
              "Nintendo DS           5.903608           7.240000   6.259804  6.320000   \n",
              "Nintendo DSi          6.827027           8.500000   6.090909  7.500000   \n",
              "PC                    6.805791           7.334746   7.136798  7.166667   \n",
              "PlayStation           6.016406           7.933333   6.313725  6.553731   \n",
              "PlayStation 2         6.467361           7.250000   6.315152  7.306349   \n",
              "PlayStation 3         6.853819           7.306154   6.820988  7.710938   \n",
              "PlayStation 4         7.550000           7.835294   7.388571  7.280000   \n",
              "PlayStation Portable  6.467797           7.000000   6.938095  6.822222   \n",
              "PlayStation Vita      7.173077           6.133333   8.057143  7.527273   \n",
              "Wii                   6.262718           7.294643   6.234043  6.733333   \n",
              "Wireless              7.041699           7.312500   6.972414  6.740000   \n",
              "Xbox                  6.819512           7.479032   6.821429  7.029630   \n",
              "Xbox 360              6.719048           7.137838   6.857353  7.552239   \n",
              "Xbox One              7.702857           7.566667   7.254545  7.171429   \n",
              "iPhone                6.865445           7.764286   7.745833  6.087500   \n",
              "\n",
              "                      Platformer    Puzzle       RPG    Racing   Shooter  \\\n",
              "Platform                                                                   \n",
              "Dreamcast               8.340000  8.088889  7.700000  7.042500  7.616667   \n",
              "Game Boy Advance        6.970588  6.532143  7.542857  6.657143  6.444444   \n",
              "Game Boy Color          6.352941  6.583333  7.285714  5.897436  4.500000   \n",
              "GameCube                6.665714  6.133333  7.890909  6.852632  6.981818   \n",
              "Nintendo 3DS            7.503448  8.000000  7.719231  6.900000  7.033333   \n",
              "Nintendo 64             6.889655  7.461538  6.050000  6.939623  8.042857   \n",
              "Nintendo DS             6.840000  6.604615  7.222619  6.038636  6.965217   \n",
              "Nintendo DSi            7.250000  6.810526  7.166667  6.563636  6.500000   \n",
              "PC                      7.410938  6.924706  7.759930  7.032418  7.084878   \n",
              "PlayStation             6.579070  6.757895  7.910000  6.773387  6.424000   \n",
              "PlayStation 2           7.068421  6.354545  7.473077  6.585065  6.641667   \n",
              "PlayStation 3           7.735714  7.350000  7.436111  6.978571  7.219553   \n",
              "PlayStation 4           8.390909  7.400000  7.944000  7.590000  7.804444   \n",
              "PlayStation Portable    7.194737  6.726667  6.817778  6.401961  7.071053   \n",
              "PlayStation Vita        8.568750  8.250000  7.337500  6.300000  7.660000   \n",
              "Wii                     7.054255  6.426984  7.410345  5.011667  6.479798   \n",
              "Wireless                7.509091  7.360550  8.260000  6.898305  6.906780   \n",
              "Xbox                    7.303448  5.125000  8.277778  7.021591  7.485417   \n",
              "Xbox 360                7.559574  7.141026  7.650000  6.996154  7.338153   \n",
              "Xbox One                6.733333  8.100000  8.291667  8.163636  8.020000   \n",
              "iPhone                  7.471930  7.810784  7.185185  7.315789  6.995588   \n",
              "\n",
              "                      Simulation    Sports  Strategy  \n",
              "Platform                                              \n",
              "Dreamcast               7.628571  7.272222  6.433333  \n",
              "Game Boy Advance        6.928571  6.694444  7.175000  \n",
              "Game Boy Color          5.900000  5.790698  7.400000  \n",
              "GameCube                8.028571  7.481319  7.116667  \n",
              "Nintendo 3DS            7.700000  6.388889  7.900000  \n",
              "Nintendo 64             5.675000  6.967857  6.900000  \n",
              "Nintendo DS             5.874359  5.936667  6.644737  \n",
              "Nintendo DSi            5.195652  5.644444  6.566667  \n",
              "PC                      7.104889  6.902424  7.310207  \n",
              "PlayStation             6.918182  6.751220  6.496875  \n",
              "PlayStation 2           7.152632  7.197826  7.238889  \n",
              "PlayStation 3           7.142857  7.485816  7.355172  \n",
              "PlayStation 4           9.250000  7.430000  6.566667  \n",
              "PlayStation Portable    6.761538  6.956790  6.550000  \n",
              "PlayStation Vita        5.725000  7.130000  8.900000  \n",
              "Wii                     6.327027  5.966901  6.975000  \n",
              "Wireless                7.802857  7.417699  7.542857  \n",
              "Xbox                    7.155556  7.884397  7.313333  \n",
              "Xbox 360                7.325000  7.317857  7.112245  \n",
              "Xbox One                7.733333  7.331818  8.500000  \n",
              "iPhone                  7.328571  7.152174  7.534921  "
            ],
            "text/html": [
              "<div>\n",
              "<style scoped>\n",
              "    .dataframe tbody tr th:only-of-type {\n",
              "        vertical-align: middle;\n",
              "    }\n",
              "\n",
              "    .dataframe tbody tr th {\n",
              "        vertical-align: top;\n",
              "    }\n",
              "\n",
              "    .dataframe thead th {\n",
              "        text-align: right;\n",
              "    }\n",
              "</style>\n",
              "<table border=\"1\" class=\"dataframe\">\n",
              "  <thead>\n",
              "    <tr style=\"text-align: right;\">\n",
              "      <th></th>\n",
              "      <th>Action</th>\n",
              "      <th>Action, Adventure</th>\n",
              "      <th>Adventure</th>\n",
              "      <th>Fighting</th>\n",
              "      <th>Platformer</th>\n",
              "      <th>Puzzle</th>\n",
              "      <th>RPG</th>\n",
              "      <th>Racing</th>\n",
              "      <th>Shooter</th>\n",
              "      <th>Simulation</th>\n",
              "      <th>Sports</th>\n",
              "      <th>Strategy</th>\n",
              "    </tr>\n",
              "    <tr>\n",
              "      <th>Platform</th>\n",
              "      <th></th>\n",
              "      <th></th>\n",
              "      <th></th>\n",
              "      <th></th>\n",
              "      <th></th>\n",
              "      <th></th>\n",
              "      <th></th>\n",
              "      <th></th>\n",
              "      <th></th>\n",
              "      <th></th>\n",
              "      <th></th>\n",
              "      <th></th>\n",
              "    </tr>\n",
              "  </thead>\n",
              "  <tbody>\n",
              "    <tr>\n",
              "      <th>Dreamcast</th>\n",
              "      <td>6.882857</td>\n",
              "      <td>7.511111</td>\n",
              "      <td>6.281818</td>\n",
              "      <td>8.200000</td>\n",
              "      <td>8.340000</td>\n",
              "      <td>8.088889</td>\n",
              "      <td>7.700000</td>\n",
              "      <td>7.042500</td>\n",
              "      <td>7.616667</td>\n",
              "      <td>7.628571</td>\n",
              "      <td>7.272222</td>\n",
              "      <td>6.433333</td>\n",
              "    </tr>\n",
              "    <tr>\n",
              "      <th>Game Boy Advance</th>\n",
              "      <td>6.373077</td>\n",
              "      <td>7.507692</td>\n",
              "      <td>6.057143</td>\n",
              "      <td>6.226316</td>\n",
              "      <td>6.970588</td>\n",
              "      <td>6.532143</td>\n",
              "      <td>7.542857</td>\n",
              "      <td>6.657143</td>\n",
              "      <td>6.444444</td>\n",
              "      <td>6.928571</td>\n",
              "      <td>6.694444</td>\n",
              "      <td>7.175000</td>\n",
              "    </tr>\n",
              "    <tr>\n",
              "      <th>Game Boy Color</th>\n",
              "      <td>6.272727</td>\n",
              "      <td>8.166667</td>\n",
              "      <td>5.307692</td>\n",
              "      <td>4.500000</td>\n",
              "      <td>6.352941</td>\n",
              "      <td>6.583333</td>\n",
              "      <td>7.285714</td>\n",
              "      <td>5.897436</td>\n",
              "      <td>4.500000</td>\n",
              "      <td>5.900000</td>\n",
              "      <td>5.790698</td>\n",
              "      <td>7.400000</td>\n",
              "    </tr>\n",
              "    <tr>\n",
              "      <th>GameCube</th>\n",
              "      <td>6.532584</td>\n",
              "      <td>7.608333</td>\n",
              "      <td>6.753846</td>\n",
              "      <td>7.422222</td>\n",
              "      <td>6.665714</td>\n",
              "      <td>6.133333</td>\n",
              "      <td>7.890909</td>\n",
              "      <td>6.852632</td>\n",
              "      <td>6.981818</td>\n",
              "      <td>8.028571</td>\n",
              "      <td>7.481319</td>\n",
              "      <td>7.116667</td>\n",
              "    </tr>\n",
              "    <tr>\n",
              "      <th>Nintendo 3DS</th>\n",
              "      <td>6.670833</td>\n",
              "      <td>7.481818</td>\n",
              "      <td>7.414286</td>\n",
              "      <td>6.614286</td>\n",
              "      <td>7.503448</td>\n",
              "      <td>8.000000</td>\n",
              "      <td>7.719231</td>\n",
              "      <td>6.900000</td>\n",
              "      <td>7.033333</td>\n",
              "      <td>7.700000</td>\n",
              "      <td>6.388889</td>\n",
              "      <td>7.900000</td>\n",
              "    </tr>\n",
              "    <tr>\n",
              "      <th>Nintendo 64</th>\n",
              "      <td>6.649057</td>\n",
              "      <td>8.250000</td>\n",
              "      <td>7.000000</td>\n",
              "      <td>5.681250</td>\n",
              "      <td>6.889655</td>\n",
              "      <td>7.461538</td>\n",
              "      <td>6.050000</td>\n",
              "      <td>6.939623</td>\n",
              "      <td>8.042857</td>\n",
              "      <td>5.675000</td>\n",
              "      <td>6.967857</td>\n",
              "      <td>6.900000</td>\n",
              "    </tr>\n",
              "    <tr>\n",
              "      <th>Nintendo DS</th>\n",
              "      <td>5.903608</td>\n",
              "      <td>7.240000</td>\n",
              "      <td>6.259804</td>\n",
              "      <td>6.320000</td>\n",
              "      <td>6.840000</td>\n",
              "      <td>6.604615</td>\n",
              "      <td>7.222619</td>\n",
              "      <td>6.038636</td>\n",
              "      <td>6.965217</td>\n",
              "      <td>5.874359</td>\n",
              "      <td>5.936667</td>\n",
              "      <td>6.644737</td>\n",
              "    </tr>\n",
              "    <tr>\n",
              "      <th>Nintendo DSi</th>\n",
              "      <td>6.827027</td>\n",
              "      <td>8.500000</td>\n",
              "      <td>6.090909</td>\n",
              "      <td>7.500000</td>\n",
              "      <td>7.250000</td>\n",
              "      <td>6.810526</td>\n",
              "      <td>7.166667</td>\n",
              "      <td>6.563636</td>\n",
              "      <td>6.500000</td>\n",
              "      <td>5.195652</td>\n",
              "      <td>5.644444</td>\n",
              "      <td>6.566667</td>\n",
              "    </tr>\n",
              "    <tr>\n",
              "      <th>PC</th>\n",
              "      <td>6.805791</td>\n",
              "      <td>7.334746</td>\n",
              "      <td>7.136798</td>\n",
              "      <td>7.166667</td>\n",
              "      <td>7.410938</td>\n",
              "      <td>6.924706</td>\n",
              "      <td>7.759930</td>\n",
              "      <td>7.032418</td>\n",
              "      <td>7.084878</td>\n",
              "      <td>7.104889</td>\n",
              "      <td>6.902424</td>\n",
              "      <td>7.310207</td>\n",
              "    </tr>\n",
              "    <tr>\n",
              "      <th>PlayStation</th>\n",
              "      <td>6.016406</td>\n",
              "      <td>7.933333</td>\n",
              "      <td>6.313725</td>\n",
              "      <td>6.553731</td>\n",
              "      <td>6.579070</td>\n",
              "      <td>6.757895</td>\n",
              "      <td>7.910000</td>\n",
              "      <td>6.773387</td>\n",
              "      <td>6.424000</td>\n",
              "      <td>6.918182</td>\n",
              "      <td>6.751220</td>\n",
              "      <td>6.496875</td>\n",
              "    </tr>\n",
              "    <tr>\n",
              "      <th>PlayStation 2</th>\n",
              "      <td>6.467361</td>\n",
              "      <td>7.250000</td>\n",
              "      <td>6.315152</td>\n",
              "      <td>7.306349</td>\n",
              "      <td>7.068421</td>\n",
              "      <td>6.354545</td>\n",
              "      <td>7.473077</td>\n",
              "      <td>6.585065</td>\n",
              "      <td>6.641667</td>\n",
              "      <td>7.152632</td>\n",
              "      <td>7.197826</td>\n",
              "      <td>7.238889</td>\n",
              "    </tr>\n",
              "    <tr>\n",
              "      <th>PlayStation 3</th>\n",
              "      <td>6.853819</td>\n",
              "      <td>7.306154</td>\n",
              "      <td>6.820988</td>\n",
              "      <td>7.710938</td>\n",
              "      <td>7.735714</td>\n",
              "      <td>7.350000</td>\n",
              "      <td>7.436111</td>\n",
              "      <td>6.978571</td>\n",
              "      <td>7.219553</td>\n",
              "      <td>7.142857</td>\n",
              "      <td>7.485816</td>\n",
              "      <td>7.355172</td>\n",
              "    </tr>\n",
              "    <tr>\n",
              "      <th>PlayStation 4</th>\n",
              "      <td>7.550000</td>\n",
              "      <td>7.835294</td>\n",
              "      <td>7.388571</td>\n",
              "      <td>7.280000</td>\n",
              "      <td>8.390909</td>\n",
              "      <td>7.400000</td>\n",
              "      <td>7.944000</td>\n",
              "      <td>7.590000</td>\n",
              "      <td>7.804444</td>\n",
              "      <td>9.250000</td>\n",
              "      <td>7.430000</td>\n",
              "      <td>6.566667</td>\n",
              "    </tr>\n",
              "    <tr>\n",
              "      <th>PlayStation Portable</th>\n",
              "      <td>6.467797</td>\n",
              "      <td>7.000000</td>\n",
              "      <td>6.938095</td>\n",
              "      <td>6.822222</td>\n",
              "      <td>7.194737</td>\n",
              "      <td>6.726667</td>\n",
              "      <td>6.817778</td>\n",
              "      <td>6.401961</td>\n",
              "      <td>7.071053</td>\n",
              "      <td>6.761538</td>\n",
              "      <td>6.956790</td>\n",
              "      <td>6.550000</td>\n",
              "    </tr>\n",
              "    <tr>\n",
              "      <th>PlayStation Vita</th>\n",
              "      <td>7.173077</td>\n",
              "      <td>6.133333</td>\n",
              "      <td>8.057143</td>\n",
              "      <td>7.527273</td>\n",
              "      <td>8.568750</td>\n",
              "      <td>8.250000</td>\n",
              "      <td>7.337500</td>\n",
              "      <td>6.300000</td>\n",
              "      <td>7.660000</td>\n",
              "      <td>5.725000</td>\n",
              "      <td>7.130000</td>\n",
              "      <td>8.900000</td>\n",
              "    </tr>\n",
              "    <tr>\n",
              "      <th>Wii</th>\n",
              "      <td>6.262718</td>\n",
              "      <td>7.294643</td>\n",
              "      <td>6.234043</td>\n",
              "      <td>6.733333</td>\n",
              "      <td>7.054255</td>\n",
              "      <td>6.426984</td>\n",
              "      <td>7.410345</td>\n",
              "      <td>5.011667</td>\n",
              "      <td>6.479798</td>\n",
              "      <td>6.327027</td>\n",
              "      <td>5.966901</td>\n",
              "      <td>6.975000</td>\n",
              "    </tr>\n",
              "    <tr>\n",
              "      <th>Wireless</th>\n",
              "      <td>7.041699</td>\n",
              "      <td>7.312500</td>\n",
              "      <td>6.972414</td>\n",
              "      <td>6.740000</td>\n",
              "      <td>7.509091</td>\n",
              "      <td>7.360550</td>\n",
              "      <td>8.260000</td>\n",
              "      <td>6.898305</td>\n",
              "      <td>6.906780</td>\n",
              "      <td>7.802857</td>\n",
              "      <td>7.417699</td>\n",
              "      <td>7.542857</td>\n",
              "    </tr>\n",
              "    <tr>\n",
              "      <th>Xbox</th>\n",
              "      <td>6.819512</td>\n",
              "      <td>7.479032</td>\n",
              "      <td>6.821429</td>\n",
              "      <td>7.029630</td>\n",
              "      <td>7.303448</td>\n",
              "      <td>5.125000</td>\n",
              "      <td>8.277778</td>\n",
              "      <td>7.021591</td>\n",
              "      <td>7.485417</td>\n",
              "      <td>7.155556</td>\n",
              "      <td>7.884397</td>\n",
              "      <td>7.313333</td>\n",
              "    </tr>\n",
              "    <tr>\n",
              "      <th>Xbox 360</th>\n",
              "      <td>6.719048</td>\n",
              "      <td>7.137838</td>\n",
              "      <td>6.857353</td>\n",
              "      <td>7.552239</td>\n",
              "      <td>7.559574</td>\n",
              "      <td>7.141026</td>\n",
              "      <td>7.650000</td>\n",
              "      <td>6.996154</td>\n",
              "      <td>7.338153</td>\n",
              "      <td>7.325000</td>\n",
              "      <td>7.317857</td>\n",
              "      <td>7.112245</td>\n",
              "    </tr>\n",
              "    <tr>\n",
              "      <th>Xbox One</th>\n",
              "      <td>7.702857</td>\n",
              "      <td>7.566667</td>\n",
              "      <td>7.254545</td>\n",
              "      <td>7.171429</td>\n",
              "      <td>6.733333</td>\n",
              "      <td>8.100000</td>\n",
              "      <td>8.291667</td>\n",
              "      <td>8.163636</td>\n",
              "      <td>8.020000</td>\n",
              "      <td>7.733333</td>\n",
              "      <td>7.331818</td>\n",
              "      <td>8.500000</td>\n",
              "    </tr>\n",
              "    <tr>\n",
              "      <th>iPhone</th>\n",
              "      <td>6.865445</td>\n",
              "      <td>7.764286</td>\n",
              "      <td>7.745833</td>\n",
              "      <td>6.087500</td>\n",
              "      <td>7.471930</td>\n",
              "      <td>7.810784</td>\n",
              "      <td>7.185185</td>\n",
              "      <td>7.315789</td>\n",
              "      <td>6.995588</td>\n",
              "      <td>7.328571</td>\n",
              "      <td>7.152174</td>\n",
              "      <td>7.534921</td>\n",
              "    </tr>\n",
              "  </tbody>\n",
              "</table>\n",
              "</div>"
            ]
          },
          "metadata": {
            "tags": []
          },
          "execution_count": 24
        }
      ]
    },
    {
      "cell_type": "markdown",
      "metadata": {
        "id": "lM0mwx6Fq0J9"
      },
      "source": [
        "The dataset that you've just printed shows the average score, by platform and genre.  Use the data to answer the questions below."
      ]
    },
    {
      "cell_type": "code",
      "metadata": {
        "execution": {
          "iopub.status.busy": "2021-07-23T14:00:23.304250Z",
          "iopub.execute_input": "2021-07-23T14:00:23.304558Z",
          "iopub.status.idle": "2021-07-23T14:00:23.314756Z",
          "shell.execute_reply.started": "2021-07-23T14:00:23.304526Z",
          "shell.execute_reply": "2021-07-23T14:00:23.313755Z"
        },
        "trusted": true,
        "id": "3xie2BwTq0J-",
        "outputId": "d654e77c-e175-45e3-fc66-a11f9d75daa5"
      },
      "source": [
        "# Fill in the line below: What is the highest average score received by PC games,\n",
        "# for any genre?\n",
        "high_score = 7.759930\n",
        "\n",
        "# Fill in the line below: On the Playstation Vita platform, which genre has the \n",
        "# lowest average score? Please provide the name of the column, and put your answer \n",
        "# in single quotes (e.g., 'Action', 'Adventure', 'Fighting', etc.)\n",
        "worst_genre = 'Simulation'\n",
        "\n",
        "# Check your answers\n",
        "step_2.check()"
      ],
      "execution_count": null,
      "outputs": [
        {
          "output_type": "display_data",
          "data": {
            "text/plain": [
              "<IPython.core.display.Javascript object>"
            ],
            "application/javascript": [
              "parent.postMessage({\"jupyterEvent\": \"custom.exercise_interaction\", \"data\": {\"outcomeType\": 1, \"valueTowardsCompletion\": 0.5, \"interactionType\": 1, \"questionType\": 1, \"questionId\": \"2_ReviewData\", \"learnToolsVersion\": \"0.3.4\", \"failureMessage\": \"\", \"exceptionClass\": \"\", \"trace\": \"\"}}, \"*\")"
            ]
          },
          "metadata": {
            "tags": []
          }
        },
        {
          "output_type": "display_data",
          "data": {
            "text/plain": [
              "Correct"
            ],
            "text/markdown": "<span style=\"color:#33cc33\">Correct</span>"
          },
          "metadata": {
            "tags": []
          }
        }
      ]
    },
    {
      "cell_type": "code",
      "metadata": {
        "execution": {
          "iopub.status.busy": "2021-07-23T14:00:23.316520Z",
          "iopub.execute_input": "2021-07-23T14:00:23.316924Z",
          "iopub.status.idle": "2021-07-23T14:00:23.321652Z",
          "shell.execute_reply.started": "2021-07-23T14:00:23.316890Z",
          "shell.execute_reply": "2021-07-23T14:00:23.320508Z"
        },
        "trusted": true,
        "id": "YBZPSE_Kq0J-"
      },
      "source": [
        "# Lines below will give you a hint or solution code\n",
        "#step_2.hint()\n",
        "#step_2.solution()"
      ],
      "execution_count": null,
      "outputs": []
    },
    {
      "cell_type": "markdown",
      "metadata": {
        "id": "Wfw0RAjOq0J-"
      },
      "source": [
        "## Step 3: Which platform is best?\n",
        "\n",
        "Since you can remember, your favorite video game has been [**Mario Kart Wii**](https://www.ign.com/games/mario-kart-wii), a racing game released for the Wii platform in 2008.  And, IGN agrees with you that it is a great game -- their rating for this game is a whopping 8.9!  Inspired by the success of this game, you're considering creating your very own racing game for the Wii platform.\n",
        "\n",
        "#### Part A\n",
        "\n",
        "Create a bar chart that shows the average score for **racing** games, for each platform.  Your chart should have one bar for each platform. "
      ]
    },
    {
      "cell_type": "code",
      "metadata": {
        "execution": {
          "iopub.status.busy": "2021-07-23T14:00:23.323138Z",
          "iopub.execute_input": "2021-07-23T14:00:23.323423Z",
          "iopub.status.idle": "2021-07-23T14:00:23.700643Z",
          "shell.execute_reply.started": "2021-07-23T14:00:23.323396Z",
          "shell.execute_reply": "2021-07-23T14:00:23.699601Z"
        },
        "trusted": true,
        "id": "XJ5P0tMfq0J_",
        "outputId": "64e50ac6-76b5-46d0-94d0-e3634b5ffe75"
      },
      "source": [
        "# Bar chart showing average score for racing games by platform\n",
        "# Set the width and height of the figure\n",
        "plt.figure(figsize=(8, 6))\n",
        "# Bar chart showing average score for racing games by platform\n",
        "sns.barplot(x=ign_data['Racing'], y=ign_data.index)\n",
        "# Add label for horizontal axis\n",
        "plt.xlabel(\"\")\n",
        "# Add label for vertical axis\n",
        "plt.title(\"Average Score for Racing Games, by Platform\")\n",
        "\n",
        "# Check your answer\n",
        "step_3.a.check()"
      ],
      "execution_count": null,
      "outputs": [
        {
          "output_type": "display_data",
          "data": {
            "text/plain": [
              "<IPython.core.display.Javascript object>"
            ],
            "application/javascript": [
              "parent.postMessage({\"jupyterEvent\": \"custom.exercise_interaction\", \"data\": {\"outcomeType\": 1, \"valueTowardsCompletion\": 0.5, \"interactionType\": 1, \"questionType\": 2, \"questionId\": \"3.1_PlotRacing\", \"learnToolsVersion\": \"0.3.4\", \"failureMessage\": \"\", \"exceptionClass\": \"\", \"trace\": \"\"}}, \"*\")"
            ]
          },
          "metadata": {
            "tags": []
          }
        },
        {
          "output_type": "display_data",
          "data": {
            "text/plain": [
              "Correct"
            ],
            "text/markdown": "<span style=\"color:#33cc33\">Correct</span>"
          },
          "metadata": {
            "tags": []
          }
        },
        {
          "output_type": "display_data",
          "data": {
            "text/plain": [
              "<Figure size 576x432 with 1 Axes>"
            ],
            "image/png": "[encoded data removed]"
          },
          "metadata": {
            "tags": [],
            "needs_background": "light"
          }
        }
      ]
    },
    {
      "cell_type": "code",
      "metadata": {
        "execution": {
          "iopub.status.busy": "2021-07-23T14:00:23.702023Z",
          "iopub.execute_input": "2021-07-23T14:00:23.702338Z",
          "iopub.status.idle": "2021-07-23T14:00:23.705917Z",
          "shell.execute_reply.started": "2021-07-23T14:00:23.702307Z",
          "shell.execute_reply": "2021-07-23T14:00:23.704857Z"
        },
        "trusted": true,
        "id": "xtoB90C_q0J_"
      },
      "source": [
        "# Lines below will give you a hint or solution code\n",
        "#step_3.a.hint()\n",
        "#step_3.a.solution_plot()"
      ],
      "execution_count": null,
      "outputs": []
    },
    {
      "cell_type": "markdown",
      "metadata": {
        "id": "vbW5mmY9q0J_"
      },
      "source": [
        "#### Part B\n",
        "\n",
        "Based on the bar chart, do you expect a racing game for the **Wii** platform to receive a high rating?  If not, what gaming platform seems to be the best alternative?"
      ]
    },
    {
      "cell_type": "code",
      "metadata": {
        "execution": {
          "iopub.status.busy": "2021-07-23T14:00:23.707485Z",
          "iopub.execute_input": "2021-07-23T14:00:23.707910Z",
          "iopub.status.idle": "2021-07-23T14:00:23.717919Z",
          "shell.execute_reply.started": "2021-07-23T14:00:23.707868Z",
          "shell.execute_reply": "2021-07-23T14:00:23.716954Z"
        },
        "trusted": true,
        "id": "MnikpBOzq0J_"
      },
      "source": [
        "#step_3.b.hint()"
      ],
      "execution_count": null,
      "outputs": []
    },
    {
      "cell_type": "code",
      "metadata": {
        "execution": {
          "iopub.status.busy": "2021-07-23T14:00:23.720039Z",
          "iopub.execute_input": "2021-07-23T14:00:23.720328Z",
          "iopub.status.idle": "2021-07-23T14:00:23.732745Z",
          "shell.execute_reply.started": "2021-07-23T14:00:23.720296Z",
          "shell.execute_reply": "2021-07-23T14:00:23.731988Z"
        },
        "trusted": true,
        "id": "fp4trR5qq0KA",
        "outputId": "73d5229e-39c0-4dab-c08b-b772d0d8da3c"
      },
      "source": [
        "# Check your answer (Run this code cell to receive credit!)\n",
        "step_3.b.solution()"
      ],
      "execution_count": null,
      "outputs": [
        {
          "output_type": "display_data",
          "data": {
            "text/plain": [
              "<IPython.core.display.Javascript object>"
            ],
            "application/javascript": [
              "parent.postMessage({\"jupyterEvent\": \"custom.exercise_interaction\", \"data\": {\"interactionType\": 3, \"questionType\": 4, \"questionId\": \"3.2_ThinkRacing\", \"learnToolsVersion\": \"0.3.4\", \"valueTowardsCompletion\": 0.0, \"failureMessage\": \"\", \"exceptionClass\": \"\", \"trace\": \"\", \"outcomeType\": 4}}, \"*\")"
            ]
          },
          "metadata": {
            "tags": []
          }
        },
        {
          "output_type": "display_data",
          "data": {
            "text/plain": [
              "Solution: Based on the data, we should not expect a racing game for the Wii platform to receive a high rating.  In fact, on average, racing games for Wii score lower than any other platform.  Xbox One seems to be the best alternative, since it has the highest average ratings."
            ],
            "text/markdown": "<span style=\"color:#33cc99\">Solution:</span> Based on the data, we should not expect a racing game for the Wii platform to receive a high rating.  In fact, on average, racing games for Wii score lower than any other platform.  Xbox One seems to be the best alternative, since it has the highest average ratings."
          },
          "metadata": {
            "tags": []
          }
        }
      ]
    },
    {
      "cell_type": "markdown",
      "metadata": {
        "id": "Q8g8MD_Vq0KA"
      },
      "source": [
        "## Step 4: All possible combinations!\n",
        "\n",
        "Eventually, you decide against creating a racing game for Wii, but you're still committed to creating your own video game!  Since your gaming interests are pretty broad (_... you generally love most video games_), you decide to use the IGN data to inform your new choice of genre and platform.\n",
        "\n",
        "#### Part A\n",
        "\n",
        "Use the data to create a heatmap of average score by genre and platform.  "
      ]
    },
    {
      "cell_type": "code",
      "metadata": {
        "execution": {
          "iopub.status.busy": "2021-07-23T14:00:23.734115Z",
          "iopub.execute_input": "2021-07-23T14:00:23.734559Z",
          "iopub.status.idle": "2021-07-23T14:00:25.266657Z",
          "shell.execute_reply.started": "2021-07-23T14:00:23.734516Z",
          "shell.execute_reply": "2021-07-23T14:00:25.265559Z"
        },
        "trusted": true,
        "id": "sLFp8d9-q0KA",
        "outputId": "7b564de6-7ff4-4cbb-dae9-89d79a87ba40"
      },
      "source": [
        "# Heatmap showing average game score by platform and genre\n",
        "# Set the width and height of the figure\n",
        "plt.figure(figsize=(10,10))\n",
        "# Heatmap showing average game score by platform and genre\n",
        "sns.heatmap(ign_data, annot=True)\n",
        "# Add label for horizontal axis\n",
        "plt.xlabel(\"Genre\")\n",
        "# Add label for vertical axis\n",
        "plt.title(\"Average Game Score, by Platform and Genre\")\n",
        "\n",
        "# Check your answer\n",
        "step_4.a.check()"
      ],
      "execution_count": null,
      "outputs": [
        {
          "output_type": "display_data",
          "data": {
            "text/plain": [
              "<IPython.core.display.Javascript object>"
            ],
            "application/javascript": [
              "parent.postMessage({\"jupyterEvent\": \"custom.exercise_interaction\", \"data\": {\"outcomeType\": 1, \"valueTowardsCompletion\": 0.5, \"interactionType\": 1, \"questionType\": 2, \"questionId\": \"4.1_PlotHeat\", \"learnToolsVersion\": \"0.3.4\", \"failureMessage\": \"\", \"exceptionClass\": \"\", \"trace\": \"\"}}, \"*\")"
            ]
          },
          "metadata": {
            "tags": []
          }
        },
        {
          "output_type": "display_data",
          "data": {
            "text/plain": [
              "Correct"
            ],
            "text/markdown": "<span style=\"color:#33cc33\">Correct</span>"
          },
          "metadata": {
            "tags": []
          }
        },
        {
          "output_type": "display_data",
          "data": {
            "text/plain": [
              "<Figure size 720x720 with 2 Axes>"
            ],
            "image/png": "[encoded data removed]"
          },
          "metadata": {
            "tags": [],
            "needs_background": "light"
          }
        }
      ]
    },
    {
      "cell_type": "code",
      "metadata": {
        "execution": {
          "iopub.status.busy": "2021-07-23T14:00:25.267928Z",
          "iopub.execute_input": "2021-07-23T14:00:25.268218Z",
          "iopub.status.idle": "2021-07-23T14:00:25.271453Z",
          "shell.execute_reply.started": "2021-07-23T14:00:25.268189Z",
          "shell.execute_reply": "2021-07-23T14:00:25.270745Z"
        },
        "trusted": true,
        "id": "wMzP3jzRq0KB"
      },
      "source": [
        "# Lines below will give you a hint or solution code\n",
        "#step_4.a.hint()\n",
        "#step_4.a.solution_plot()"
      ],
      "execution_count": null,
      "outputs": []
    },
    {
      "cell_type": "markdown",
      "metadata": {
        "id": "qWRfhqk-q0KB"
      },
      "source": [
        "#### Part B\n",
        "\n",
        "Which combination of genre and platform receives the highest average ratings?  Which combination receives the lowest average rankings?"
      ]
    },
    {
      "cell_type": "code",
      "metadata": {
        "execution": {
          "iopub.status.busy": "2021-07-23T14:00:25.272585Z",
          "iopub.execute_input": "2021-07-23T14:00:25.272867Z",
          "iopub.status.idle": "2021-07-23T14:00:25.283581Z",
          "shell.execute_reply.started": "2021-07-23T14:00:25.272840Z",
          "shell.execute_reply": "2021-07-23T14:00:25.282549Z"
        },
        "trusted": true,
        "id": "nzWWlLfdq0KB"
      },
      "source": [
        "#step_4.b.hint()"
      ],
      "execution_count": null,
      "outputs": []
    },
    {
      "cell_type": "code",
      "metadata": {
        "execution": {
          "iopub.status.busy": "2021-07-23T14:00:25.284989Z",
          "iopub.execute_input": "2021-07-23T14:00:25.285438Z",
          "iopub.status.idle": "2021-07-23T14:00:25.296465Z",
          "shell.execute_reply.started": "2021-07-23T14:00:25.285398Z",
          "shell.execute_reply": "2021-07-23T14:00:25.295768Z"
        },
        "trusted": true,
        "id": "5rpwsxVnq0KC",
        "outputId": "c067e3df-d0a0-42ed-e3ff-264c6c70a746"
      },
      "source": [
        "# Check your answer (Run this code cell to receive credit!)\n",
        "step_4.b.solution()"
      ],
      "execution_count": null,
      "outputs": [
        {
          "output_type": "display_data",
          "data": {
            "text/plain": [
              "<IPython.core.display.Javascript object>"
            ],
            "application/javascript": [
              "parent.postMessage({\"jupyterEvent\": \"custom.exercise_interaction\", \"data\": {\"interactionType\": 3, \"questionType\": 4, \"questionId\": \"4.2_ThinkHeat\", \"learnToolsVersion\": \"0.3.4\", \"valueTowardsCompletion\": 0.0, \"failureMessage\": \"\", \"exceptionClass\": \"\", \"trace\": \"\", \"outcomeType\": 4}}, \"*\")"
            ]
          },
          "metadata": {
            "tags": []
          }
        },
        {
          "output_type": "display_data",
          "data": {
            "text/plain": [
              "Solution: **Simulation** games for **Playstation 4** receive the highest average ratings (9.2). **Shooting** and **Fighting** games for **Game Boy Color** receive the lowest average rankings (4.5)."
            ],
            "text/markdown": "<span style=\"color:#33cc99\">Solution:</span> **Simulation** games for **Playstation 4** receive the highest average ratings (9.2). **Shooting** and **Fighting** games for **Game Boy Color** receive the lowest average rankings (4.5)."
          },
          "metadata": {
            "tags": []
          }
        }
      ]
    },
    {
      "cell_type": "markdown",
      "metadata": {
        "id": "s4f7aLU1q0KC"
      },
      "source": [
        "# Keep going\n",
        "\n",
        "Move on to learn all about **[scatter plots](https://www.kaggle.com/alexisbcook/scatter-plots)**!"
      ]
    },
    {
      "cell_type": "markdown",
      "metadata": {
        "id": "KN4Mq_Dhq0KC"
      },
      "source": [
        "---\n",
        "\n",
        "\n",
        "\n",
        "\n",
        "*Have questions or comments? Visit the [Learn Discussion forum](https://www.kaggle.com/learn-forum/161291) to chat with other Learners.*"
      ]
    }
  ]
}