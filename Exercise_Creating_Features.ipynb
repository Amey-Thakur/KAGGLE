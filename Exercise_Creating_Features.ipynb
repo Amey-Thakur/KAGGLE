{
  "nbformat": 4,
  "nbformat_minor": 0,
  "metadata": {
    "jupytext": {
      "cell_metadata_filter": "-all",
      "formats": "ipynb"
    },
    "kernelspec": {
      "display_name": "Python 3",
      "language": "python",
      "name": "python3"
    },
    "language_info": {
      "name": "python",
      "version": "3.7.10",
      "mimetype": "text/x-python",
      "codemirror_mode": {
        "name": "ipython",
        "version": 3
      },
      "pygments_lexer": "ipython3",
      "nbconvert_exporter": "python",
      "file_extension": ".py"
    },
    "colab": {
      "name": "Exercise: Creating Features.ipynb",
      "provenance": [],
      "include_colab_link": true
    }
  },
  "cells": [
    {
      "cell_type": "markdown",
      "metadata": {
        "id": "view-in-github",
        "colab_type": "text"
      },
      "source": [
        "<a href=\"https://colab.research.google.com/github/Amey-Thakur/KAGGLE/blob/main/Exercise_Creating_Features.ipynb\" target=\"_parent\"><img src=\"https://colab.research.google.com/assets/colab-badge.svg\" alt=\"Open In Colab\"/></a>"
      ]
    },
    {
      "cell_type": "markdown",
      "metadata": {
        "id": "5CTbpxYjwYJ0"
      },
      "source": [
        "**This notebook is an exercise in the [Feature Engineering](https://www.kaggle.com/learn/feature-engineering) course.  You can reference the tutorial at [this link](https://www.kaggle.com/ryanholbrook/creating-features).**\n",
        "\n",
        "---\n"
      ]
    },
    {
      "cell_type": "markdown",
      "metadata": {
        "id": "hmuo3BUFwYJ2"
      },
      "source": [
        "# Introduction #\n",
        "\n",
        "In this exercise you'll start developing the features you identified in Exercise 2 as having the most potential. As you work through this exercise, you might take a moment to look at the data documentation again and consider whether the features we're creating make sense from a real-world perspective, and whether there are any useful combinations that stand out to you.\n",
        "\n",
        "Run this cell to set everything up!"
      ]
    },
    {
      "cell_type": "code",
      "metadata": {
        "execution": {
          "iopub.status.busy": "2021-07-24T13:42:54.279557Z",
          "iopub.execute_input": "2021-07-24T13:42:54.279918Z",
          "iopub.status.idle": "2021-07-24T13:42:54.350811Z",
          "shell.execute_reply.started": "2021-07-24T13:42:54.279889Z",
          "shell.execute_reply": "2021-07-24T13:42:54.349956Z"
        },
        "trusted": true,
        "id": "dA2DrvN7wYJ2"
      },
      "source": [
        "# Setup feedback system\n",
        "from learntools.core import binder\n",
        "binder.bind(globals())\n",
        "from learntools.feature_engineering_new.ex3 import *\n",
        "\n",
        "import numpy as np\n",
        "import pandas as pd\n",
        "from sklearn.model_selection import cross_val_score\n",
        "from xgboost import XGBRegressor\n",
        "\n",
        "\n",
        "def score_dataset(X, y, model=XGBRegressor()):\n",
        "    # Label encoding for categoricals\n",
        "    for colname in X.select_dtypes([\"category\", \"object\"]):\n",
        "        X[colname], _ = X[colname].factorize()\n",
        "    # Metric for Housing competition is RMSLE (Root Mean Squared Log Error)\n",
        "    score = cross_val_score(\n",
        "        model, X, y, cv=5, scoring=\"neg_mean_squared_log_error\",\n",
        "    )\n",
        "    score = -1 * score.mean()\n",
        "    score = np.sqrt(score)\n",
        "    return score\n",
        "\n",
        "\n",
        "# Prepare data\n",
        "df = pd.read_csv(\"../input/fe-course-data/ames.csv\")\n",
        "X = df.copy()\n",
        "y = X.pop(\"SalePrice\")"
      ],
      "execution_count": null,
      "outputs": []
    },
    {
      "cell_type": "markdown",
      "metadata": {
        "id": "BB5w1EeawYJ4"
      },
      "source": [
        "-------------------------------------------------------------------------------\n",
        "\n",
        "Let's start with a few mathematical combinations. We'll focus on features describing areas -- having the same units (square-feet) makes it easy to combine them in sensible ways. Since we're using XGBoost (a tree-based model), we'll focus on ratios and sums.\n",
        "\n",
        "# 1) Create Mathematical Transforms\n",
        "\n",
        "Create the following features:\n",
        "\n",
        "- `LivLotRatio`: the ratio of `GrLivArea` to `LotArea`\n",
        "- `Spaciousness`: the sum of `FirstFlrSF` and `SecondFlrSF` divided by `TotRmsAbvGrd`\n",
        "- `TotalOutsideSF`: the sum of `WoodDeckSF`, `OpenPorchSF`, `EnclosedPorch`, `Threeseasonporch`, and `ScreenPorch`"
      ]
    },
    {
      "cell_type": "code",
      "metadata": {
        "lines_to_next_cell": 0,
        "execution": {
          "iopub.status.busy": "2021-07-24T13:42:54.352092Z",
          "iopub.execute_input": "2021-07-24T13:42:54.352499Z",
          "iopub.status.idle": "2021-07-24T13:42:54.374194Z",
          "shell.execute_reply.started": "2021-07-24T13:42:54.352471Z",
          "shell.execute_reply": "2021-07-24T13:42:54.373059Z"
        },
        "trusted": true,
        "id": "9YBKpQnMwYJ5",
        "outputId": "b5a3b402-fe0e-42e8-caca-9a2e2e4c8ec2"
      },
      "source": [
        "# YOUR CODE HERE\n",
        "X_1 = pd.DataFrame()  # dataframe to hold new features\n",
        "\n",
        "X_1[\"LivLotRatio\"] = df.GrLivArea / df.LotArea\n",
        "X_1[\"Spaciousness\"] = (df.FirstFlrSF + df.SecondFlrSF) / df.TotRmsAbvGrd\n",
        "X_1[\"TotalOutsideSF\"] = df.WoodDeckSF + df.OpenPorchSF + df.EnclosedPorch + df.Threeseasonporch + df.ScreenPorch\n",
        "\n",
        "# Check your answer\n",
        "q_1.check()"
      ],
      "execution_count": null,
      "outputs": [
        {
          "output_type": "display_data",
          "data": {
            "text/plain": [
              "<IPython.core.display.Javascript object>"
            ],
            "application/javascript": [
              "parent.postMessage({\"jupyterEvent\": \"custom.exercise_interaction\", \"data\": {\"outcomeType\": 1, \"valueTowardsCompletion\": 0.2, \"interactionType\": 1, \"questionType\": 2, \"questionId\": \"1_Q1\", \"learnToolsVersion\": \"0.3.4\", \"failureMessage\": \"\", \"exceptionClass\": \"\", \"trace\": \"\"}}, \"*\")"
            ]
          },
          "metadata": {
            "tags": []
          }
        },
        {
          "output_type": "display_data",
          "data": {
            "text/plain": [
              "Correct"
            ],
            "text/markdown": "<span style=\"color:#33cc33\">Correct</span>"
          },
          "metadata": {
            "tags": []
          }
        }
      ]
    },
    {
      "cell_type": "code",
      "metadata": {
        "lines_to_next_cell": 0,
        "execution": {
          "iopub.status.busy": "2021-07-24T13:42:54.376063Z",
          "iopub.execute_input": "2021-07-24T13:42:54.376419Z",
          "iopub.status.idle": "2021-07-24T13:42:54.383556Z",
          "shell.execute_reply.started": "2021-07-24T13:42:54.376384Z",
          "shell.execute_reply": "2021-07-24T13:42:54.382796Z"
        },
        "trusted": true,
        "id": "k-FsSqNrwYJ7"
      },
      "source": [
        "# Lines below will give you a hint or solution code\n",
        "#q_1.hint()\n",
        "#q_1.solution()"
      ],
      "execution_count": null,
      "outputs": []
    },
    {
      "cell_type": "markdown",
      "metadata": {
        "id": "HVs6hCOEwYJ7"
      },
      "source": [
        "-------------------------------------------------------------------------------\n",
        "\n",
        "If you've discovered an interaction effect between a numeric feature and a categorical feature, you might want to model it explicitly using a one-hot encoding, like so:\n",
        "\n",
        "```\n",
        "# One-hot encode Categorical feature, adding a column prefix \"Cat\"\n",
        "X_new = pd.get_dummies(df.Categorical, prefix=\"Cat\")\n",
        "\n",
        "# Multiply row-by-row\n",
        "X_new = X_new.mul(df.Continuous, axis=0)\n",
        "\n",
        "# Join the new features to the feature set\n",
        "X = X.join(X_new)\n",
        "```\n",
        "\n",
        "# 2) Interaction with a Categorical\n",
        "\n",
        "We discovered an interaction between `BldgType` and `GrLivArea` in Exercise 2. Now create their interaction features."
      ]
    },
    {
      "cell_type": "code",
      "metadata": {
        "lines_to_next_cell": 0,
        "execution": {
          "iopub.status.busy": "2021-07-24T13:42:54.385397Z",
          "iopub.execute_input": "2021-07-24T13:42:54.385996Z",
          "iopub.status.idle": "2021-07-24T13:42:54.415285Z",
          "shell.execute_reply.started": "2021-07-24T13:42:54.385934Z",
          "shell.execute_reply": "2021-07-24T13:42:54.414120Z"
        },
        "trusted": true,
        "id": "T9OK3PlQwYJ8",
        "outputId": "faae86cf-a934-4480-b348-3ac2824d4e8a"
      },
      "source": [
        "# YOUR CODE HERE\n",
        "# One-hot encode BldgType. Use `prefix=\"Bldg\"` in `get_dummies`\n",
        "X_2 = pd.get_dummies(df.BldgType, prefix=\"Bldg\")\n",
        "# Multiply\n",
        "X_2 = X_2.mul(df.GrLivArea, axis=0)\n",
        "\n",
        "\n",
        "# Check your answer\n",
        "q_2.check()"
      ],
      "execution_count": null,
      "outputs": [
        {
          "output_type": "display_data",
          "data": {
            "text/plain": [
              "<IPython.core.display.Javascript object>"
            ],
            "application/javascript": [
              "parent.postMessage({\"jupyterEvent\": \"custom.exercise_interaction\", \"data\": {\"outcomeType\": 1, \"valueTowardsCompletion\": 0.2, \"interactionType\": 1, \"questionType\": 2, \"questionId\": \"2_Q2\", \"learnToolsVersion\": \"0.3.4\", \"failureMessage\": \"\", \"exceptionClass\": \"\", \"trace\": \"\"}}, \"*\")"
            ]
          },
          "metadata": {
            "tags": []
          }
        },
        {
          "output_type": "display_data",
          "data": {
            "text/plain": [
              "Correct"
            ],
            "text/markdown": "<span style=\"color:#33cc33\">Correct</span>"
          },
          "metadata": {
            "tags": []
          }
        }
      ]
    },
    {
      "cell_type": "code",
      "metadata": {
        "lines_to_next_cell": 0,
        "execution": {
          "iopub.status.busy": "2021-07-24T13:42:54.416628Z",
          "iopub.execute_input": "2021-07-24T13:42:54.416912Z",
          "iopub.status.idle": "2021-07-24T13:42:54.420810Z",
          "shell.execute_reply.started": "2021-07-24T13:42:54.416884Z",
          "shell.execute_reply": "2021-07-24T13:42:54.419688Z"
        },
        "trusted": true,
        "id": "hT25A-okwYJ9"
      },
      "source": [
        "# Lines below will give you a hint or solution code\n",
        "#q_2.hint()\n",
        "#q_2.solution()"
      ],
      "execution_count": null,
      "outputs": []
    },
    {
      "cell_type": "markdown",
      "metadata": {
        "lines_to_next_cell": 0,
        "id": "1DsdAt2RwYJ9"
      },
      "source": [
        "# 3) Count Feature\n",
        "\n",
        "Let's try creating a feature that describes how many kinds of outdoor areas a dwelling has. Create a feature `PorchTypes` that counts how many of the following are greater than 0.0:\n",
        "\n",
        "```\n",
        "WoodDeckSF\n",
        "OpenPorchSF\n",
        "EnclosedPorch\n",
        "Threeseasonporch\n",
        "ScreenPorch\n",
        "```"
      ]
    },
    {
      "cell_type": "code",
      "metadata": {
        "lines_to_next_cell": 0,
        "execution": {
          "iopub.status.busy": "2021-07-24T13:42:54.422401Z",
          "iopub.execute_input": "2021-07-24T13:42:54.422815Z",
          "iopub.status.idle": "2021-07-24T13:42:54.447725Z",
          "shell.execute_reply.started": "2021-07-24T13:42:54.422774Z",
          "shell.execute_reply": "2021-07-24T13:42:54.446549Z"
        },
        "trusted": true,
        "id": "jX-LAOtiwYJ-",
        "outputId": "9cc1f3f7-9bac-4ddd-85fa-93881cf9ea13"
      },
      "source": [
        "X_3 = pd.DataFrame()\n",
        "\n",
        "# YOUR CODE HERE\n",
        "X_3[\"PorchTypes\"] = df[[\"WoodDeckSF\",\"OpenPorchSF\",\"EnclosedPorch\",\"Threeseasonporch\",\"ScreenPorch\",]].gt(0.0).sum(axis=1)\n",
        "\n",
        "# Check your answer\n",
        "q_3.check()"
      ],
      "execution_count": null,
      "outputs": [
        {
          "output_type": "display_data",
          "data": {
            "text/plain": [
              "<IPython.core.display.Javascript object>"
            ],
            "application/javascript": [
              "parent.postMessage({\"jupyterEvent\": \"custom.exercise_interaction\", \"data\": {\"outcomeType\": 1, \"valueTowardsCompletion\": 0.2, \"interactionType\": 1, \"questionType\": 2, \"questionId\": \"3_Q3\", \"learnToolsVersion\": \"0.3.4\", \"failureMessage\": \"\", \"exceptionClass\": \"\", \"trace\": \"\"}}, \"*\")"
            ]
          },
          "metadata": {
            "tags": []
          }
        },
        {
          "output_type": "display_data",
          "data": {
            "text/plain": [
              "Correct"
            ],
            "text/markdown": "<span style=\"color:#33cc33\">Correct</span>"
          },
          "metadata": {
            "tags": []
          }
        }
      ]
    },
    {
      "cell_type": "code",
      "metadata": {
        "lines_to_next_cell": 0,
        "execution": {
          "iopub.status.busy": "2021-07-24T13:42:54.449255Z",
          "iopub.execute_input": "2021-07-24T13:42:54.449694Z",
          "iopub.status.idle": "2021-07-24T13:42:54.455444Z",
          "shell.execute_reply.started": "2021-07-24T13:42:54.449652Z",
          "shell.execute_reply": "2021-07-24T13:42:54.454455Z"
        },
        "trusted": true,
        "id": "1vRU8NKwwYJ-"
      },
      "source": [
        "# Lines below will give you a hint or solution code\n",
        "#q_3.hint()\n",
        "#q_3.solution()"
      ],
      "execution_count": null,
      "outputs": []
    },
    {
      "cell_type": "markdown",
      "metadata": {
        "id": "DymcwESTwYKA"
      },
      "source": [
        "# 4) Break Down a Categorical Feature\n",
        "\n",
        "`MSSubClass` describes the type of a dwelling:"
      ]
    },
    {
      "cell_type": "code",
      "metadata": {
        "execution": {
          "iopub.status.busy": "2021-07-24T13:42:54.457405Z",
          "iopub.execute_input": "2021-07-24T13:42:54.457676Z",
          "iopub.status.idle": "2021-07-24T13:42:54.470458Z",
          "shell.execute_reply.started": "2021-07-24T13:42:54.457651Z",
          "shell.execute_reply": "2021-07-24T13:42:54.469414Z"
        },
        "trusted": true,
        "id": "YaG93k_6wYKA",
        "outputId": "25077128-9d82-4b54-81db-a7b1b4664f58"
      },
      "source": [
        "df.MSSubClass.unique()"
      ],
      "execution_count": null,
      "outputs": [
        {
          "output_type": "execute_result",
          "data": {
            "text/plain": [
              "array(['One_Story_1946_and_Newer_All_Styles', 'Two_Story_1946_and_Newer',\n",
              "       'One_Story_PUD_1946_and_Newer',\n",
              "       'One_and_Half_Story_Finished_All_Ages', 'Split_Foyer',\n",
              "       'Two_Story_PUD_1946_and_Newer', 'Split_or_Multilevel',\n",
              "       'One_Story_1945_and_Older', 'Duplex_All_Styles_and_Ages',\n",
              "       'Two_Family_conversion_All_Styles_and_Ages',\n",
              "       'One_and_Half_Story_Unfinished_All_Ages',\n",
              "       'Two_Story_1945_and_Older', 'Two_and_Half_Story_All_Ages',\n",
              "       'One_Story_with_Finished_Attic_All_Ages',\n",
              "       'PUD_Multilevel_Split_Level_Foyer',\n",
              "       'One_and_Half_Story_PUD_All_Ages'], dtype=object)"
            ]
          },
          "metadata": {
            "tags": []
          },
          "execution_count": 15
        }
      ]
    },
    {
      "cell_type": "markdown",
      "metadata": {
        "id": "6QrCTc0zwYKB"
      },
      "source": [
        "You can see that there is a more general categorization described (roughly) by the first word of each category. Create a feature containing only these first words by splitting `MSSubClass` at the first underscore `_`. (Hint: In the `split` method use an argument `n=1`.)"
      ]
    },
    {
      "cell_type": "code",
      "metadata": {
        "lines_to_next_cell": 0,
        "execution": {
          "iopub.status.busy": "2021-07-24T13:42:54.472542Z",
          "iopub.execute_input": "2021-07-24T13:42:54.473224Z",
          "iopub.status.idle": "2021-07-24T13:42:54.505418Z",
          "shell.execute_reply.started": "2021-07-24T13:42:54.473175Z",
          "shell.execute_reply": "2021-07-24T13:42:54.504095Z"
        },
        "trusted": true,
        "id": "EL37BpdxwYKB",
        "outputId": "2d1312c0-d64a-4d90-ef79-e357afda61a5"
      },
      "source": [
        "X_4 = pd.DataFrame()\n",
        "\n",
        "# YOUR CODE HERE\n",
        "X_4[\"MSClass\"] = df.MSSubClass.str.split(\"_\", n=1, expand=True)[0]\n",
        "\n",
        "# Check your answer\n",
        "q_4.check()"
      ],
      "execution_count": null,
      "outputs": [
        {
          "output_type": "display_data",
          "data": {
            "text/plain": [
              "<IPython.core.display.Javascript object>"
            ],
            "application/javascript": [
              "parent.postMessage({\"jupyterEvent\": \"custom.exercise_interaction\", \"data\": {\"outcomeType\": 1, \"valueTowardsCompletion\": 0.2, \"interactionType\": 1, \"questionType\": 2, \"questionId\": \"4_Q4\", \"learnToolsVersion\": \"0.3.4\", \"failureMessage\": \"\", \"exceptionClass\": \"\", \"trace\": \"\"}}, \"*\")"
            ]
          },
          "metadata": {
            "tags": []
          }
        },
        {
          "output_type": "display_data",
          "data": {
            "text/plain": [
              "Correct"
            ],
            "text/markdown": "<span style=\"color:#33cc33\">Correct</span>"
          },
          "metadata": {
            "tags": []
          }
        }
      ]
    },
    {
      "cell_type": "code",
      "metadata": {
        "lines_to_next_cell": 0,
        "execution": {
          "iopub.status.busy": "2021-07-24T13:42:54.506896Z",
          "iopub.execute_input": "2021-07-24T13:42:54.507213Z",
          "iopub.status.idle": "2021-07-24T13:42:54.516637Z",
          "shell.execute_reply.started": "2021-07-24T13:42:54.507183Z",
          "shell.execute_reply": "2021-07-24T13:42:54.515569Z"
        },
        "trusted": true,
        "id": "quF98nevwYKC"
      },
      "source": [
        "# Lines below will give you a hint or solution code\n",
        "#q_4.hint()\n",
        "#q_4.solution()"
      ],
      "execution_count": null,
      "outputs": []
    },
    {
      "cell_type": "markdown",
      "metadata": {
        "id": "YOWVdbf_wYKC"
      },
      "source": [
        "# 5) Use a Grouped Transform\n",
        "\n",
        "The value of a home often depends on how it compares to typical homes in its neighborhood. Create a feature `MedNhbdArea` that describes the *median* of `GrLivArea` grouped on `Neighborhood`."
      ]
    },
    {
      "cell_type": "code",
      "metadata": {
        "lines_to_next_cell": 0,
        "execution": {
          "iopub.status.busy": "2021-07-24T13:42:54.518243Z",
          "iopub.execute_input": "2021-07-24T13:42:54.518681Z",
          "iopub.status.idle": "2021-07-24T13:42:54.549151Z",
          "shell.execute_reply.started": "2021-07-24T13:42:54.518636Z",
          "shell.execute_reply": "2021-07-24T13:42:54.548026Z"
        },
        "trusted": true,
        "id": "4QoPBVA8wYKD",
        "outputId": "c20667ec-dcaf-42aa-9948-7cda5a9010b6"
      },
      "source": [
        "X_5 = pd.DataFrame()\n",
        "\n",
        "# YOUR CODE HERE\n",
        "X_5[\"MedNhbdArea\"] = df.groupby(\"Neighborhood\")[\"GrLivArea\"].transform(\"median\")\n",
        "\n",
        "# Check your answer\n",
        "q_5.check()"
      ],
      "execution_count": null,
      "outputs": [
        {
          "output_type": "display_data",
          "data": {
            "text/plain": [
              "<IPython.core.display.Javascript object>"
            ],
            "application/javascript": [
              "parent.postMessage({\"jupyterEvent\": \"custom.exercise_interaction\", \"data\": {\"outcomeType\": 1, \"valueTowardsCompletion\": 0.2, \"interactionType\": 1, \"questionType\": 2, \"questionId\": \"5_Q5\", \"learnToolsVersion\": \"0.3.4\", \"failureMessage\": \"\", \"exceptionClass\": \"\", \"trace\": \"\"}}, \"*\")"
            ]
          },
          "metadata": {
            "tags": []
          }
        },
        {
          "output_type": "display_data",
          "data": {
            "text/plain": [
              "Correct"
            ],
            "text/markdown": "<span style=\"color:#33cc33\">Correct</span>"
          },
          "metadata": {
            "tags": []
          }
        }
      ]
    },
    {
      "cell_type": "code",
      "metadata": {
        "lines_to_next_cell": 0,
        "execution": {
          "iopub.status.busy": "2021-07-24T13:42:54.550465Z",
          "iopub.execute_input": "2021-07-24T13:42:54.550769Z",
          "iopub.status.idle": "2021-07-24T13:42:54.554837Z",
          "shell.execute_reply.started": "2021-07-24T13:42:54.550738Z",
          "shell.execute_reply": "2021-07-24T13:42:54.553642Z"
        },
        "trusted": true,
        "id": "FcRLTEamwYKD"
      },
      "source": [
        "# Lines below will give you a hint or solution code\n",
        "#q_5.hint()\n",
        "#q_5.solution()"
      ],
      "execution_count": null,
      "outputs": []
    },
    {
      "cell_type": "markdown",
      "metadata": {
        "id": "hvxTjSDWwYKD"
      },
      "source": [
        "Now you've made your first new feature set! If you like, you can run the cell below to score the model with all of your new features added:"
      ]
    },
    {
      "cell_type": "code",
      "metadata": {
        "execution": {
          "iopub.status.busy": "2021-07-24T13:42:54.556280Z",
          "iopub.execute_input": "2021-07-24T13:42:54.556575Z",
          "iopub.status.idle": "2021-07-24T13:42:58.311663Z",
          "shell.execute_reply.started": "2021-07-24T13:42:54.556547Z",
          "shell.execute_reply": "2021-07-24T13:42:58.310573Z"
        },
        "trusted": true,
        "id": "fM0uN9GIwYKE",
        "outputId": "f7175ba3-3390-4efa-e753-d1c11a89eab1"
      },
      "source": [
        "X_new = X.join([X_1, X_2, X_3, X_4, X_5])\n",
        "score_dataset(X_new, y)"
      ],
      "execution_count": null,
      "outputs": [
        {
          "output_type": "execute_result",
          "data": {
            "text/plain": [
              "0.13847331710099203"
            ]
          },
          "metadata": {
            "tags": []
          },
          "execution_count": 20
        }
      ]
    },
    {
      "cell_type": "markdown",
      "metadata": {
        "id": "Gz3QbN2NwYKE"
      },
      "source": [
        "# Keep Going #\n",
        "\n",
        "[**Untangle spatial relationships**](https://www.kaggle.com/ryanholbrook/clustering-with-k-means) by adding cluster labels to your dataset."
      ]
    },
    {
      "cell_type": "markdown",
      "metadata": {
        "id": "ssigSJ7fwYKE"
      },
      "source": [
        "---\n",
        "\n",
        "\n",
        "\n",
        "\n",
        "*Have questions or comments? Visit the [Learn Discussion forum](https://www.kaggle.com/learn-forum/221677) to chat with other Learners.*"
      ]
    }
  ]
}