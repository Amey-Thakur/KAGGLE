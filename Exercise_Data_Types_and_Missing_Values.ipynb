{
  "nbformat": 4,
  "nbformat_minor": 0,
  "metadata": {
    "kernelspec": {
      "display_name": "Python 3",
      "language": "python",
      "name": "python3"
    },
    "language_info": {
      "name": "python",
      "version": "3.7.10",
      "mimetype": "text/x-python",
      "codemirror_mode": {
        "name": "ipython",
        "version": 3
      },
      "pygments_lexer": "ipython3",
      "nbconvert_exporter": "python",
      "file_extension": ".py"
    },
    "colab": {
      "name": "Exercise: Data Types and Missing Values.ipynb",
      "provenance": [],
      "include_colab_link": true
    }
  },
  "cells": [
    {
      "cell_type": "markdown",
      "metadata": {
        "id": "view-in-github",
        "colab_type": "text"
      },
      "source": [
        "<a href=\"https://colab.research.google.com/github/Amey-Thakur/KAGGLE/blob/main/Exercise_Data_Types_and_Missing_Values.ipynb\" target=\"_parent\"><img src=\"https://colab.research.google.com/assets/colab-badge.svg\" alt=\"Open In Colab\"/></a>"
      ]
    },
    {
      "cell_type": "markdown",
      "metadata": {
        "id": "llNHCrwb4NWG"
      },
      "source": [
        "**This notebook is an exercise in the [Pandas](https://www.kaggle.com/learn/pandas) course.  You can reference the tutorial at [this link](https://www.kaggle.com/residentmario/data-types-and-missing-values).**\n",
        "\n",
        "---\n"
      ]
    },
    {
      "cell_type": "markdown",
      "metadata": {
        "id": "7fmV60WY4NWJ"
      },
      "source": [
        "# Introduction\n",
        "\n",
        "Run the following cell to load your data and some utility functions."
      ]
    },
    {
      "cell_type": "code",
      "metadata": {
        "execution": {
          "iopub.status.busy": "2021-07-23T14:58:59.405261Z",
          "iopub.execute_input": "2021-07-23T14:58:59.405930Z",
          "iopub.status.idle": "2021-07-23T14:59:00.584603Z",
          "shell.execute_reply.started": "2021-07-23T14:58:59.405886Z",
          "shell.execute_reply": "2021-07-23T14:59:00.582749Z"
        },
        "trusted": true,
        "id": "hTmed7tU4NWJ",
        "outputId": "9e6ccffb-bae5-4f73-b49d-f577bcec8d2f"
      },
      "source": [
        "import pandas as pd\n",
        "\n",
        "reviews = pd.read_csv(\"../input/wine-reviews/winemag-data-130k-v2.csv\", index_col=0)\n",
        "\n",
        "from learntools.core import binder; binder.bind(globals())\n",
        "from learntools.pandas.data_types_and_missing_data import *\n",
        "print(\"Setup complete.\")"
      ],
      "execution_count": null,
      "outputs": [
        {
          "output_type": "stream",
          "text": [
            "Setup complete.\n"
          ],
          "name": "stdout"
        }
      ]
    },
    {
      "cell_type": "markdown",
      "metadata": {
        "id": "Fz_JX02I4NWL"
      },
      "source": [
        "# Exercises"
      ]
    },
    {
      "cell_type": "markdown",
      "metadata": {
        "id": "0WAC0Mfk4NWL"
      },
      "source": [
        "## 1. \n",
        "What is the data type of the `points` column in the dataset?"
      ]
    },
    {
      "cell_type": "code",
      "metadata": {
        "execution": {
          "iopub.status.busy": "2021-07-23T14:59:00.586055Z",
          "iopub.execute_input": "2021-07-23T14:59:00.586403Z",
          "iopub.status.idle": "2021-07-23T14:59:00.596244Z",
          "shell.execute_reply.started": "2021-07-23T14:59:00.586371Z",
          "shell.execute_reply": "2021-07-23T14:59:00.594994Z"
        },
        "trusted": true,
        "id": "GXFBxPQQ4NWL",
        "outputId": "346f8740-3f14-4354-aded-479b5d8876ba"
      },
      "source": [
        "# Your code here\n",
        "dtype = reviews.points.dtype\n",
        "\n",
        "# Check your answer\n",
        "q1.check()"
      ],
      "execution_count": null,
      "outputs": [
        {
          "output_type": "display_data",
          "data": {
            "text/plain": [
              "<IPython.core.display.Javascript object>"
            ],
            "application/javascript": [
              "parent.postMessage({\"jupyterEvent\": \"custom.exercise_interaction\", \"data\": {\"outcomeType\": 1, \"valueTowardsCompletion\": 0.25, \"interactionType\": 1, \"questionType\": 1, \"questionId\": \"1_PointsDtype\", \"learnToolsVersion\": \"0.3.4\", \"failureMessage\": \"\", \"exceptionClass\": \"\", \"trace\": \"\"}}, \"*\")"
            ]
          },
          "metadata": {
            "tags": []
          }
        },
        {
          "output_type": "display_data",
          "data": {
            "text/plain": [
              "Correct"
            ],
            "text/markdown": "<span style=\"color:#33cc33\">Correct</span>"
          },
          "metadata": {
            "tags": []
          }
        }
      ]
    },
    {
      "cell_type": "code",
      "metadata": {
        "execution": {
          "iopub.status.busy": "2021-07-23T14:59:00.598428Z",
          "iopub.execute_input": "2021-07-23T14:59:00.598739Z",
          "iopub.status.idle": "2021-07-23T14:59:00.605549Z",
          "shell.execute_reply.started": "2021-07-23T14:59:00.598708Z",
          "shell.execute_reply": "2021-07-23T14:59:00.604403Z"
        },
        "trusted": true,
        "id": "LTkFTLdF4NWM"
      },
      "source": [
        "#q1.hint()\n",
        "#q1.solution()"
      ],
      "execution_count": null,
      "outputs": []
    },
    {
      "cell_type": "markdown",
      "metadata": {
        "id": "pTYjLHC44NWM"
      },
      "source": [
        "## 2. \n",
        "Create a Series from entries in the `points` column, but convert the entries to strings. Hint: strings are `str` in native Python."
      ]
    },
    {
      "cell_type": "code",
      "metadata": {
        "execution": {
          "iopub.status.busy": "2021-07-23T14:59:00.607298Z",
          "iopub.execute_input": "2021-07-23T14:59:00.607696Z",
          "iopub.status.idle": "2021-07-23T14:59:00.782518Z",
          "shell.execute_reply.started": "2021-07-23T14:59:00.607655Z",
          "shell.execute_reply": "2021-07-23T14:59:00.781340Z"
        },
        "trusted": true,
        "id": "ajD7Y0Q14NWN",
        "outputId": "cc33b445-ab65-4bc8-8bee-1219f6cb9746"
      },
      "source": [
        "point_strings = reviews.points.astype(str)\n",
        "\n",
        "# Check your answer\n",
        "q2.check()"
      ],
      "execution_count": null,
      "outputs": [
        {
          "output_type": "display_data",
          "data": {
            "text/plain": [
              "<IPython.core.display.Javascript object>"
            ],
            "application/javascript": [
              "parent.postMessage({\"jupyterEvent\": \"custom.exercise_interaction\", \"data\": {\"outcomeType\": 1, \"valueTowardsCompletion\": 0.25, \"interactionType\": 1, \"questionType\": 1, \"questionId\": \"2_StrPoints\", \"learnToolsVersion\": \"0.3.4\", \"failureMessage\": \"\", \"exceptionClass\": \"\", \"trace\": \"\"}}, \"*\")"
            ]
          },
          "metadata": {
            "tags": []
          }
        },
        {
          "output_type": "display_data",
          "data": {
            "text/plain": [
              "Correct"
            ],
            "text/markdown": "<span style=\"color:#33cc33\">Correct</span>"
          },
          "metadata": {
            "tags": []
          }
        }
      ]
    },
    {
      "cell_type": "code",
      "metadata": {
        "execution": {
          "iopub.status.busy": "2021-07-23T14:59:00.784061Z",
          "iopub.execute_input": "2021-07-23T14:59:00.784476Z",
          "iopub.status.idle": "2021-07-23T14:59:00.788409Z",
          "shell.execute_reply.started": "2021-07-23T14:59:00.784444Z",
          "shell.execute_reply": "2021-07-23T14:59:00.787304Z"
        },
        "trusted": true,
        "id": "90J3QMH_4NWN"
      },
      "source": [
        "#q2.hint()\n",
        "#q2.solution()"
      ],
      "execution_count": null,
      "outputs": []
    },
    {
      "cell_type": "markdown",
      "metadata": {
        "id": "-ToaLvyH4NWN"
      },
      "source": [
        "## 3.\n",
        "Sometimes the price column is null. How many reviews in the dataset are missing a price?"
      ]
    },
    {
      "cell_type": "code",
      "metadata": {
        "execution": {
          "iopub.status.busy": "2021-07-23T14:59:00.789547Z",
          "iopub.execute_input": "2021-07-23T14:59:00.789829Z",
          "iopub.status.idle": "2021-07-23T14:59:00.812229Z",
          "shell.execute_reply.started": "2021-07-23T14:59:00.789801Z",
          "shell.execute_reply": "2021-07-23T14:59:00.811255Z"
        },
        "trusted": true,
        "id": "6iQvX8hH4NWO",
        "outputId": "5d888785-ab91-469a-ee56-1e4cc74ee88f"
      },
      "source": [
        "missing_price_reviews = reviews[reviews.price.isnull()]\n",
        "n_missing_prices = len(missing_price_reviews)\n",
        "# Cute alternative solution: if we sum a boolean series, True is treated as 1 and False as 0\n",
        "n_missing_prices = reviews.price.isnull().sum()\n",
        "# or equivalently:\n",
        "n_missing_prices = pd.isnull(reviews.price).sum()\n",
        "\n",
        "# Check your answer\n",
        "q3.check()"
      ],
      "execution_count": null,
      "outputs": [
        {
          "output_type": "display_data",
          "data": {
            "text/plain": [
              "<IPython.core.display.Javascript object>"
            ],
            "application/javascript": [
              "parent.postMessage({\"jupyterEvent\": \"custom.exercise_interaction\", \"data\": {\"outcomeType\": 1, \"valueTowardsCompletion\": 0.25, \"interactionType\": 1, \"questionType\": 1, \"questionId\": \"3_CountMissingPrices\", \"learnToolsVersion\": \"0.3.4\", \"failureMessage\": \"\", \"exceptionClass\": \"\", \"trace\": \"\"}}, \"*\")"
            ]
          },
          "metadata": {
            "tags": []
          }
        },
        {
          "output_type": "display_data",
          "data": {
            "text/plain": [
              "Correct"
            ],
            "text/markdown": "<span style=\"color:#33cc33\">Correct</span>"
          },
          "metadata": {
            "tags": []
          }
        }
      ]
    },
    {
      "cell_type": "code",
      "metadata": {
        "execution": {
          "iopub.status.busy": "2021-07-23T14:59:00.813442Z",
          "iopub.execute_input": "2021-07-23T14:59:00.813739Z",
          "iopub.status.idle": "2021-07-23T14:59:00.817362Z",
          "shell.execute_reply.started": "2021-07-23T14:59:00.813701Z",
          "shell.execute_reply": "2021-07-23T14:59:00.816485Z"
        },
        "trusted": true,
        "id": "nLl5Q6vU4NWO"
      },
      "source": [
        "#q3.hint()\n",
        "#q3.solution()"
      ],
      "execution_count": null,
      "outputs": []
    },
    {
      "cell_type": "markdown",
      "metadata": {
        "id": "iilF5bkF4NWO"
      },
      "source": [
        "## 4.\n",
        "What are the most common wine-producing regions? Create a Series counting the number of times each value occurs in the `region_1` field. This field is often missing data, so replace missing values with `Unknown`. Sort in descending order.  Your output should look something like this:\n",
        "\n",
        "```\n",
        "Unknown                    21247\n",
        "Napa Valley                 4480\n",
        "                           ...  \n",
        "Bardolino Superiore            1\n",
        "Primitivo del Tarantino        1\n",
        "Name: region_1, Length: 1230, dtype: int64\n",
        "```"
      ]
    },
    {
      "cell_type": "code",
      "metadata": {
        "execution": {
          "iopub.status.busy": "2021-07-23T14:59:00.819145Z",
          "iopub.execute_input": "2021-07-23T14:59:00.819439Z",
          "iopub.status.idle": "2021-07-23T14:59:00.931373Z",
          "shell.execute_reply.started": "2021-07-23T14:59:00.819410Z",
          "shell.execute_reply": "2021-07-23T14:59:00.930317Z"
        },
        "trusted": true,
        "id": "LBBNxSP04NWP",
        "outputId": "cbb2fa8d-0f8a-4dd7-d886-81b79d5e0efe"
      },
      "source": [
        "reviews_per_region = reviews.region_1.fillna('Unknown').value_counts().sort_values(ascending=False)\n",
        "\n",
        "# Check your answer\n",
        "q4.check()"
      ],
      "execution_count": null,
      "outputs": [
        {
          "output_type": "display_data",
          "data": {
            "text/plain": [
              "<IPython.core.display.Javascript object>"
            ],
            "application/javascript": [
              "parent.postMessage({\"jupyterEvent\": \"custom.exercise_interaction\", \"data\": {\"outcomeType\": 1, \"valueTowardsCompletion\": 0.25, \"interactionType\": 1, \"questionType\": 2, \"questionId\": \"4_ReviewsPerRegion\", \"learnToolsVersion\": \"0.3.4\", \"failureMessage\": \"\", \"exceptionClass\": \"\", \"trace\": \"\"}}, \"*\")"
            ]
          },
          "metadata": {
            "tags": []
          }
        },
        {
          "output_type": "display_data",
          "data": {
            "text/plain": [
              "Correct"
            ],
            "text/markdown": "<span style=\"color:#33cc33\">Correct</span>"
          },
          "metadata": {
            "tags": []
          }
        }
      ]
    },
    {
      "cell_type": "code",
      "metadata": {
        "execution": {
          "iopub.status.busy": "2021-07-23T14:59:00.934982Z",
          "iopub.execute_input": "2021-07-23T14:59:00.935301Z",
          "iopub.status.idle": "2021-07-23T14:59:00.938963Z",
          "shell.execute_reply.started": "2021-07-23T14:59:00.935273Z",
          "shell.execute_reply": "2021-07-23T14:59:00.937904Z"
        },
        "trusted": true,
        "id": "duBnWV8Q4NWP"
      },
      "source": [
        "#q4.hint()\n",
        "#q4.solution()"
      ],
      "execution_count": null,
      "outputs": []
    },
    {
      "cell_type": "markdown",
      "metadata": {
        "id": "-ti9zDWJ4NWR"
      },
      "source": [
        "# Keep going\n",
        "\n",
        "Move on to **[renaming and combining](https://www.kaggle.com/residentmario/renaming-and-combining)**."
      ]
    },
    {
      "cell_type": "markdown",
      "metadata": {
        "id": "pJFldbgY4NWR"
      },
      "source": [
        "---\n",
        "\n",
        "\n",
        "\n",
        "\n",
        "*Have questions or comments? Visit the [Learn Discussion forum](https://www.kaggle.com/learn-forum/161299) to chat with other Learners.*"
      ]
    }
  ]
}