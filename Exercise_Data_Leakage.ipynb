{
  "nbformat": 4,
  "nbformat_minor": 0,
  "metadata": {
    "kernelspec": {
      "display_name": "Python 3",
      "language": "python",
      "name": "python3"
    },
    "language_info": {
      "name": "python",
      "version": "3.7.10",
      "mimetype": "text/x-python",
      "codemirror_mode": {
        "name": "ipython",
        "version": 3
      },
      "pygments_lexer": "ipython3",
      "nbconvert_exporter": "python",
      "file_extension": ".py"
    },
    "colab": {
      "name": "Exercise: Data Leakage.ipynb",
      "provenance": [],
      "include_colab_link": true
    }
  },
  "cells": [
    {
      "cell_type": "markdown",
      "metadata": {
        "id": "view-in-github",
        "colab_type": "text"
      },
      "source": [
        "<a href=\"https://colab.research.google.com/github/Amey-Thakur/KAGGLE/blob/main/Exercise_Data_Leakage.ipynb\" target=\"_parent\"><img src=\"https://colab.research.google.com/assets/colab-badge.svg\" alt=\"Open In Colab\"/></a>"
      ]
    },
    {
      "cell_type": "markdown",
      "metadata": {
        "id": "qiVDk2pSDDAk"
      },
      "source": [
        "**This notebook is an exercise in the [Intermediate Machine Learning](https://www.kaggle.com/learn/intermediate-machine-learning) course.  You can reference the tutorial at [this link](https://www.kaggle.com/alexisbcook/data-leakage).**\n",
        "\n",
        "---\n"
      ]
    },
    {
      "cell_type": "markdown",
      "metadata": {
        "id": "L9jKH58sDDAl"
      },
      "source": [
        "Most people find target leakage very tricky until they've thought about it for a long time.\n",
        "\n",
        "So, before trying to think about leakage in the housing price example, we'll go through a few examples in other applications. Things will feel more familiar once you come back to a question about house prices.\n",
        "\n",
        "# Setup\n",
        "\n",
        "The questions below will give you feedback on your answers. Run the following cell to set up the feedback system."
      ]
    },
    {
      "cell_type": "code",
      "metadata": {
        "execution": {
          "iopub.status.busy": "2021-07-24T15:03:49.094268Z",
          "iopub.execute_input": "2021-07-24T15:03:49.094610Z",
          "iopub.status.idle": "2021-07-24T15:03:49.100829Z",
          "shell.execute_reply.started": "2021-07-24T15:03:49.094578Z",
          "shell.execute_reply": "2021-07-24T15:03:49.099709Z"
        },
        "trusted": true,
        "id": "YUyV3JPEDDAl",
        "outputId": "1d5a1037-5b4c-45f2-8a45-d0a946ad4b39"
      },
      "source": [
        "# Set up code checking\n",
        "from learntools.core import binder\n",
        "binder.bind(globals())\n",
        "from learntools.ml_intermediate.ex7 import *\n",
        "print(\"Setup Complete\")"
      ],
      "execution_count": null,
      "outputs": [
        {
          "output_type": "stream",
          "text": [
            "Setup Complete\n"
          ],
          "name": "stdout"
        }
      ]
    },
    {
      "cell_type": "markdown",
      "metadata": {
        "id": "gWcAxymkDDAn"
      },
      "source": [
        "# Step 1: The Data Science of Shoelaces\n",
        "\n",
        "Nike has hired you as a data science consultant to help them save money on shoe materials. Your first assignment is to review a model one of their employees built to predict how many shoelaces they'll need each month. The features going into the machine learning model include:\n",
        "- The current month (January, February, etc)\n",
        "- Advertising expenditures in the previous month\n",
        "- Various macroeconomic features (like the unemployment rate) as of the beginning of the current month\n",
        "- The amount of leather they ended up using in the current month\n",
        "\n",
        "The results show the model is almost perfectly accurate if you include the feature about how much leather they used. But it is only moderately accurate if you leave that feature out. You realize this is because the amount of leather they use is a perfect indicator of how many shoes they produce, which in turn tells you how many shoelaces they need.\n",
        "\n",
        "Do you think the _leather used_ feature constitutes a source of data leakage? If your answer is \"it depends,\" what does it depend on?\n",
        "\n",
        "After you have thought about your answer, check it against the solution below."
      ]
    },
    {
      "cell_type": "code",
      "metadata": {
        "execution": {
          "iopub.status.busy": "2021-07-24T15:03:49.102294Z",
          "iopub.execute_input": "2021-07-24T15:03:49.102590Z",
          "iopub.status.idle": "2021-07-24T15:03:49.117077Z",
          "shell.execute_reply.started": "2021-07-24T15:03:49.102558Z",
          "shell.execute_reply": "2021-07-24T15:03:49.116146Z"
        },
        "trusted": true,
        "id": "oA8d8cV3DDAn",
        "outputId": "4c36c56f-c351-4743-f070-0aefa39d19eb"
      },
      "source": [
        "# Check your answer (Run this code cell to receive credit!)\n",
        "q_1.check()"
      ],
      "execution_count": null,
      "outputs": [
        {
          "output_type": "display_data",
          "data": {
            "text/plain": [
              "<IPython.core.display.Javascript object>"
            ],
            "application/javascript": [
              "parent.postMessage({\"jupyterEvent\": \"custom.exercise_interaction\", \"data\": {\"outcomeType\": 1, \"valueTowardsCompletion\": 0.2, \"interactionType\": 1, \"questionType\": 4, \"questionId\": \"1_DataScienceOfShoelaces\", \"learnToolsVersion\": \"0.3.4\", \"failureMessage\": \"\", \"exceptionClass\": \"\", \"trace\": \"\"}}, \"*\")"
            ]
          },
          "metadata": {
            "tags": []
          }
        },
        {
          "output_type": "display_data",
          "data": {
            "text/plain": [
              "Correct: \n",
              "\n",
              "This is tricky, and it depends on details of how data is collected (which is common when thinking about leakage). Would you at the beginning of the month decide how much leather will be used that month? If so, this is ok. But if that is determined during the month, you would not have access to it when you make the prediction. If you have a guess at the beginning of the month, and it is subsequently changed during the month, the actual amount used during the month cannot be used as a feature (because it causes leakage)."
            ],
            "text/markdown": "<span style=\"color:#33cc33\">Correct:</span> \n\nThis is tricky, and it depends on details of how data is collected (which is common when thinking about leakage). Would you at the beginning of the month decide how much leather will be used that month? If so, this is ok. But if that is determined during the month, you would not have access to it when you make the prediction. If you have a guess at the beginning of the month, and it is subsequently changed during the month, the actual amount used during the month cannot be used as a feature (because it causes leakage)."
          },
          "metadata": {
            "tags": []
          }
        }
      ]
    },
    {
      "cell_type": "markdown",
      "metadata": {
        "id": "qL5mBCLkDDAn"
      },
      "source": [
        "# Step 2: Return of the Shoelaces\n",
        "\n",
        "You have a new idea. You could use the amount of leather Nike ordered (rather than the amount they actually used) leading up to a given month as a predictor in your shoelace model.\n",
        "\n",
        "Does this change your answer about whether there is a leakage problem? If you answer \"it depends,\" what does it depend on?"
      ]
    },
    {
      "cell_type": "code",
      "metadata": {
        "execution": {
          "iopub.status.busy": "2021-07-24T15:03:49.118606Z",
          "iopub.execute_input": "2021-07-24T15:03:49.118913Z",
          "iopub.status.idle": "2021-07-24T15:03:49.128666Z",
          "shell.execute_reply.started": "2021-07-24T15:03:49.118878Z",
          "shell.execute_reply": "2021-07-24T15:03:49.127864Z"
        },
        "trusted": true,
        "id": "fAAAlhOZDDAo",
        "outputId": "1e30c005-5d06-4f68-c496-0140ef288a49"
      },
      "source": [
        "# Check your answer (Run this code cell to receive credit!)\n",
        "q_2.check()"
      ],
      "execution_count": null,
      "outputs": [
        {
          "output_type": "display_data",
          "data": {
            "text/plain": [
              "<IPython.core.display.Javascript object>"
            ],
            "application/javascript": [
              "parent.postMessage({\"jupyterEvent\": \"custom.exercise_interaction\", \"data\": {\"outcomeType\": 1, \"valueTowardsCompletion\": 0.2, \"interactionType\": 1, \"questionType\": 4, \"questionId\": \"2_RevengeOfShoelaces\", \"learnToolsVersion\": \"0.3.4\", \"failureMessage\": \"\", \"exceptionClass\": \"\", \"trace\": \"\"}}, \"*\")"
            ]
          },
          "metadata": {
            "tags": []
          }
        },
        {
          "output_type": "display_data",
          "data": {
            "text/plain": [
              "Correct: \n",
              "\n",
              "This could be fine, but it depends on whether they order shoelaces first or leather first. If they order shoelaces first, you won't know how much leather they've ordered when you predict their shoelace needs. If they order leather first, then you'll have that number available when you place your shoelace order, and you should be ok."
            ],
            "text/markdown": "<span style=\"color:#33cc33\">Correct:</span> \n\nThis could be fine, but it depends on whether they order shoelaces first or leather first. If they order shoelaces first, you won't know how much leather they've ordered when you predict their shoelace needs. If they order leather first, then you'll have that number available when you place your shoelace order, and you should be ok."
          },
          "metadata": {
            "tags": []
          }
        }
      ]
    },
    {
      "cell_type": "markdown",
      "metadata": {
        "id": "2oHGswZnDDAo"
      },
      "source": [
        "# Step 3: Getting Rich With Cryptocurrencies?\n",
        "\n",
        "You saved Nike so much money that they gave you a bonus. Congratulations.\n",
        "\n",
        "Your friend, who is also a data scientist, says he has built a model that will let you turn your bonus into millions of dollars. Specifically, his model predicts the price of a new cryptocurrency (like Bitcoin, but a newer one) one day ahead of the moment of prediction. His plan is to purchase the cryptocurrency whenever the model says the price of the currency (in dollars) is about to go up.\n",
        "\n",
        "The most important features in his model are:\n",
        "- Current price of the currency\n",
        "- Amount of the currency sold in the last 24 hours\n",
        "- Change in the currency price in the last 24 hours\n",
        "- Change in the currency price in the last 1 hour\n",
        "- Number of new tweets in the last 24 hours that mention the currency\n",
        "\n",
        "The value of the cryptocurrency in dollars has fluctuated up and down by over \\$100 in the last year, and yet his model's average error is less than \\$1. He says this is proof his model is accurate, and you should invest with him, buying the currency whenever the model says it is about to go up.\n",
        "\n",
        "Is he right? If there is a problem with his model, what is it?"
      ]
    },
    {
      "cell_type": "code",
      "metadata": {
        "execution": {
          "iopub.status.busy": "2021-07-24T15:03:49.131214Z",
          "iopub.execute_input": "2021-07-24T15:03:49.131479Z",
          "iopub.status.idle": "2021-07-24T15:03:49.144270Z",
          "shell.execute_reply.started": "2021-07-24T15:03:49.131454Z",
          "shell.execute_reply": "2021-07-24T15:03:49.143338Z"
        },
        "trusted": true,
        "id": "LidM9b06DDAp",
        "outputId": "893eb589-b9a2-4c0c-acea-3a9f0582e261"
      },
      "source": [
        "# Check your answer (Run this code cell to receive credit!)\n",
        "q_3.check()"
      ],
      "execution_count": null,
      "outputs": [
        {
          "output_type": "display_data",
          "data": {
            "text/plain": [
              "<IPython.core.display.Javascript object>"
            ],
            "application/javascript": [
              "parent.postMessage({\"jupyterEvent\": \"custom.exercise_interaction\", \"data\": {\"outcomeType\": 1, \"valueTowardsCompletion\": 0.2, \"interactionType\": 1, \"questionType\": 4, \"questionId\": \"3_CryptoWealthJK\", \"learnToolsVersion\": \"0.3.4\", \"failureMessage\": \"\", \"exceptionClass\": \"\", \"trace\": \"\"}}, \"*\")"
            ]
          },
          "metadata": {
            "tags": []
          }
        },
        {
          "output_type": "display_data",
          "data": {
            "text/plain": [
              "Correct: \n",
              "\n",
              "There is no source of leakage here. These features should be available at the moment you want to make a predition, and they're unlikely to be changed in the training data after the prediction target is determined. But, the way he describes accuracy could be misleading if you aren't careful. If the price moves gradually, today's price will be an accurate predictor of tomorrow's price, but it may not tell you whether it's a good time to invest. For instance, if it is $100 today, a model predicting a price of $100 tomorrow may seem accurate, even if it can't tell you whether the price is going up or down from the current price. A better prediction target would be the change in price over the next day. If you can consistently predict whether the price is about to go up or down (and by how much), you may have a winning investment opportunity."
            ],
            "text/markdown": "<span style=\"color:#33cc33\">Correct:</span> \n\nThere is no source of leakage here. These features should be available at the moment you want to make a predition, and they're unlikely to be changed in the training data after the prediction target is determined. But, the way he describes accuracy could be misleading if you aren't careful. If the price moves gradually, today's price will be an accurate predictor of tomorrow's price, but it may not tell you whether it's a good time to invest. For instance, if it is $100 today, a model predicting a price of $100 tomorrow may seem accurate, even if it can't tell you whether the price is going up or down from the current price. A better prediction target would be the change in price over the next day. If you can consistently predict whether the price is about to go up or down (and by how much), you may have a winning investment opportunity."
          },
          "metadata": {
            "tags": []
          }
        }
      ]
    },
    {
      "cell_type": "markdown",
      "metadata": {
        "id": "4w0-_yS8DDAp"
      },
      "source": [
        "# Step 4: Preventing Infections\n",
        "\n",
        "An agency that provides healthcare wants to predict which patients from a rare surgery are at risk of infection, so it can alert the nurses to be especially careful when following up with those patients.\n",
        "\n",
        "You want to build a model. Each row in the modeling dataset will be a single patient who received the surgery, and the prediction target will be whether they got an infection.\n",
        "\n",
        "Some surgeons may do the procedure in a manner that raises or lowers the risk of infection. But how can you best incorporate the surgeon information into the model?\n",
        "\n",
        "You have a clever idea. \n",
        "1. Take all surgeries by each surgeon and calculate the infection rate among those surgeons.\n",
        "2. For each patient in the data, find out who the surgeon was and plug in that surgeon's average infection rate as a feature.\n",
        "\n",
        "Does this pose any target leakage issues?\n",
        "Does it pose any train-test contamination issues?"
      ]
    },
    {
      "cell_type": "code",
      "metadata": {
        "execution": {
          "iopub.status.busy": "2021-07-24T15:03:49.145766Z",
          "iopub.execute_input": "2021-07-24T15:03:49.146193Z",
          "iopub.status.idle": "2021-07-24T15:03:49.155915Z",
          "shell.execute_reply.started": "2021-07-24T15:03:49.146151Z",
          "shell.execute_reply": "2021-07-24T15:03:49.154737Z"
        },
        "trusted": true,
        "id": "FsLJ9Jh5DDAp",
        "outputId": "dce93f76-5ecd-45cc-af95-079169d980d4"
      },
      "source": [
        "# Check your answer (Run this code cell to receive credit!)\n",
        "q_4.check()"
      ],
      "execution_count": null,
      "outputs": [
        {
          "output_type": "display_data",
          "data": {
            "text/plain": [
              "<IPython.core.display.Javascript object>"
            ],
            "application/javascript": [
              "parent.postMessage({\"jupyterEvent\": \"custom.exercise_interaction\", \"data\": {\"outcomeType\": 1, \"valueTowardsCompletion\": 0.2, \"interactionType\": 1, \"questionType\": 4, \"questionId\": \"4_PreventingInfections\", \"learnToolsVersion\": \"0.3.4\", \"failureMessage\": \"\", \"exceptionClass\": \"\", \"trace\": \"\"}}, \"*\")"
            ]
          },
          "metadata": {
            "tags": []
          }
        },
        {
          "output_type": "display_data",
          "data": {
            "text/plain": [
              "Correct: \n",
              "\n",
              "This poses a risk of both target leakage and train-test contamination (though you may be able to avoid both if you are careful).\n",
              "\n",
              "You have target leakage if a given patient's outcome contributes to the infection rate for his surgeon, which is then plugged back into the prediction model for whether that patient becomes infected. You can avoid target leakage if you calculate the surgeon's infection rate by using only the surgeries before the patient we are predicting for. Calculating this for each surgery in your training data may be a little tricky.\n",
              "\n",
              "You also have a train-test contamination problem if you calculate this using all surgeries a surgeon performed, including those from the test-set. The result would be that your model could look very accurate on the test set, even if it wouldn't generalize well to new patients after the model is deployed. This would happen because the surgeon-risk feature accounts for data in the test set. Test sets exist to estimate how the model will do when seeing new data. So this contamination defeats the purpose of the test set."
            ],
            "text/markdown": "<span style=\"color:#33cc33\">Correct:</span> \n\nThis poses a risk of both target leakage and train-test contamination (though you may be able to avoid both if you are careful).\n\nYou have target leakage if a given patient's outcome contributes to the infection rate for his surgeon, which is then plugged back into the prediction model for whether that patient becomes infected. You can avoid target leakage if you calculate the surgeon's infection rate by using only the surgeries before the patient we are predicting for. Calculating this for each surgery in your training data may be a little tricky.\n\nYou also have a train-test contamination problem if you calculate this using all surgeries a surgeon performed, including those from the test-set. The result would be that your model could look very accurate on the test set, even if it wouldn't generalize well to new patients after the model is deployed. This would happen because the surgeon-risk feature accounts for data in the test set. Test sets exist to estimate how the model will do when seeing new data. So this contamination defeats the purpose of the test set."
          },
          "metadata": {
            "tags": []
          }
        }
      ]
    },
    {
      "cell_type": "markdown",
      "metadata": {
        "id": "2otV6aN9DDAq"
      },
      "source": [
        "# Step 5: Housing Prices\n",
        "\n",
        "You will build a model to predict housing prices.  The model will be deployed on an ongoing basis, to predict the price of a new house when a description is added to a website.  Here are four features that could be used as predictors.\n",
        "1. Size of the house (in square meters)\n",
        "2. Average sales price of homes in the same neighborhood\n",
        "3. Latitude and longitude of the house\n",
        "4. Whether the house has a basement\n",
        "\n",
        "You have historic data to train and validate the model.\n",
        "\n",
        "Which of the features is most likely to be a source of leakage?"
      ]
    },
    {
      "cell_type": "code",
      "metadata": {
        "execution": {
          "iopub.status.busy": "2021-07-24T15:03:49.157464Z",
          "iopub.execute_input": "2021-07-24T15:03:49.158260Z",
          "iopub.status.idle": "2021-07-24T15:03:49.168677Z",
          "shell.execute_reply.started": "2021-07-24T15:03:49.158224Z",
          "shell.execute_reply": "2021-07-24T15:03:49.167974Z"
        },
        "trusted": true,
        "id": "YHVL0inxDDAq",
        "outputId": "3b42c547-b6c2-4aa1-e1c2-b3a086928761"
      },
      "source": [
        "# Fill in the line below with one of 1, 2, 3 or 4.\n",
        "potential_leakage_feature = 2\n",
        "\n",
        "# Check your answer\n",
        "q_5.check()"
      ],
      "execution_count": null,
      "outputs": [
        {
          "output_type": "display_data",
          "data": {
            "text/plain": [
              "<IPython.core.display.Javascript object>"
            ],
            "application/javascript": [
              "parent.postMessage({\"jupyterEvent\": \"custom.exercise_interaction\", \"data\": {\"outcomeType\": 1, \"valueTowardsCompletion\": 0.2, \"interactionType\": 1, \"questionType\": 2, \"questionId\": \"5_HomeAgainLeakage\", \"learnToolsVersion\": \"0.3.4\", \"failureMessage\": \"\", \"exceptionClass\": \"\", \"trace\": \"\"}}, \"*\")"
            ]
          },
          "metadata": {
            "tags": []
          }
        },
        {
          "output_type": "display_data",
          "data": {
            "text/plain": [
              "Correct: \n",
              "\n",
              "2 is the source of target leakage. Here is an analysis for each feature: \n",
              "\n",
              "1. The size of a house is unlikely to be changed after it is sold (though technically it's possible). But typically this will be available when we need to make a prediction, and the data won't be modified after the home is sold. So it is pretty safe. \n",
              "\n",
              "2. We don't know the rules for when this is updated. If the field is updated in the raw data after a home was sold, and the home's sale is used to calculate the average, this constitutes a case of target leakage. At an extreme, if only one home is sold in the neighborhood, and it is the home we are trying to predict, then the average will be exactly equal to the value we are trying to predict.  In general, for neighborhoods with few sales, the model will perform very well on the training data.  But when you apply the model, the home you are predicting won't have been sold yet, so this feature won't work the same as it did in the training data. \n",
              "\n",
              "3. These don't change, and will be available at the time we want to make a prediction. So there's no risk of target leakage here. \n",
              "\n",
              "4. This also doesn't change, and it is available at the time we want to make a prediction. So there's no risk of target leakage here."
            ],
            "text/markdown": "<span style=\"color:#33cc33\">Correct:</span> \n\n2 is the source of target leakage. Here is an analysis for each feature: \n\n1. The size of a house is unlikely to be changed after it is sold (though technically it's possible). But typically this will be available when we need to make a prediction, and the data won't be modified after the home is sold. So it is pretty safe. \n\n2. We don't know the rules for when this is updated. If the field is updated in the raw data after a home was sold, and the home's sale is used to calculate the average, this constitutes a case of target leakage. At an extreme, if only one home is sold in the neighborhood, and it is the home we are trying to predict, then the average will be exactly equal to the value we are trying to predict.  In general, for neighborhoods with few sales, the model will perform very well on the training data.  But when you apply the model, the home you are predicting won't have been sold yet, so this feature won't work the same as it did in the training data. \n\n3. These don't change, and will be available at the time we want to make a prediction. So there's no risk of target leakage here. \n\n4. This also doesn't change, and it is available at the time we want to make a prediction. So there's no risk of target leakage here."
          },
          "metadata": {
            "tags": []
          }
        }
      ]
    },
    {
      "cell_type": "code",
      "metadata": {
        "execution": {
          "iopub.status.busy": "2021-07-24T15:03:49.170544Z",
          "iopub.execute_input": "2021-07-24T15:03:49.171112Z",
          "iopub.status.idle": "2021-07-24T15:03:49.177072Z",
          "shell.execute_reply.started": "2021-07-24T15:03:49.171080Z",
          "shell.execute_reply": "2021-07-24T15:03:49.176010Z"
        },
        "trusted": true,
        "id": "a6nW9TAGDDAq"
      },
      "source": [
        "#q_5.hint()\n",
        "#q_5.solution()"
      ],
      "execution_count": null,
      "outputs": []
    },
    {
      "cell_type": "markdown",
      "metadata": {
        "id": "Vcwf3tgADDAr"
      },
      "source": [
        "# Conclusion\n",
        "Leakage is a hard and subtle issue. You should be proud if you picked up on the issues in these examples.\n",
        "\n",
        "Now you have the tools to make highly accurate models, and pick up on the most difficult practical problems that arise with applying these models to solve real problems.\n",
        "\n",
        "There is still a lot of room to build knowledge and experience. Try out a [Competition](https://www.kaggle.com/competitions) or look through our [Datasets](https://kaggle.com/datasets) to practice your new skills.\n",
        "\n",
        "Again, Congratulations!"
      ]
    },
    {
      "cell_type": "markdown",
      "metadata": {
        "id": "4ibbqOh3DDAr"
      },
      "source": [
        "---\n",
        "\n",
        "\n",
        "\n",
        "\n",
        "*Have questions or comments? Visit the [Learn Discussion forum](https://www.kaggle.com/learn-forum/161289) to chat with other Learners.*"
      ]
    }
  ]
}